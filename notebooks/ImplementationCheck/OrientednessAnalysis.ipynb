{
 "cells": [
  {
   "cell_type": "markdown",
   "id": "labeled-boost",
   "metadata": {},
   "source": [
    "#### includes"
   ]
  },
  {
   "cell_type": "code",
   "execution_count": 1,
   "id": "lucky-afghanistan",
   "metadata": {},
   "outputs": [],
   "source": [
    "%load_ext autoreload\n",
    "%autoreload 2"
   ]
  },
  {
   "cell_type": "code",
   "execution_count": 2,
   "id": "further-input",
   "metadata": {},
   "outputs": [],
   "source": [
    "import numpy as np\n",
    "import pandas as pd\n",
    "from matplotlib import pyplot as plt\n",
    "import mlflow\n",
    "import pytorch_lightning as pl\n",
    "from pytorch_lightning.utilities.cloud_io import load as pl_load\n",
    "import torch\n",
    "import sys\n",
    "\n",
    "plt.rcParams[\"figure.figsize\"] = (18, 6)"
   ]
  },
  {
   "cell_type": "code",
   "execution_count": 3,
   "id": "tribal-conspiracy",
   "metadata": {},
   "outputs": [],
   "source": [
    "import sources\n",
    "from steered_cnn.utils.rotequivariance_toolbox import *\n",
    "from steered_cnn.steered_conv.steerable_filters import radial_steerable_filter, plot_filter\n",
    "from steered_cnn.utils.clip_pad import clip_pad_center\n",
    "from steered_cnn.steered_conv import SteerableKernelBase\n",
    "from src.trainer import BinaryClassifierNet\n",
    "from sources import load_dataset, parse_config, setup_model, default_config"
   ]
  },
  {
   "cell_type": "markdown",
   "id": "sorted-warrant",
   "metadata": {},
   "source": [
    "## Constantes"
   ]
  },
  {
   "cell_type": "code",
   "execution_count": 4,
   "id": "excited-legislature",
   "metadata": {},
   "outputs": [],
   "source": [
    "EXPERIMENT_ID = 5\n",
    "RUN_ID = '917994c5f11549968652b3939d636894'\n",
    "OLD = False\n",
    "\n",
    "EXP = f'/home/gaby/mlflow/mlruns/{EXPERIMENT_ID}/{RUN_ID}/artifacts/'\n",
    "cfg = parse_config(EXP+'cfg_extended.yaml')\n",
    "#cfg.training['dataset-file'] = '/home/gaby/These/src/Fundus/RotInvariance/3-Git/vessels.h5'\n",
    "trainD, validD, testD = load_dataset(cfg)\n",
    "cfg['script-arguments']['gpus']='0'\n",
    "model = setup_model(cfg.model, old=OLD)"
   ]
  },
  {
   "cell_type": "markdown",
   "id": "empty-condition",
   "metadata": {},
   "source": [
    "## Initialisation"
   ]
  },
  {
   "cell_type": "code",
   "execution_count": 5,
   "id": "correct-medium",
   "metadata": {},
   "outputs": [],
   "source": [
    "net = BinaryClassifierNet(model=model)\n",
    "state_dict = pl_load(EXP+'best-val-roc.ckpt'.format(25), map_location='cuda:0')['state_dict']\n",
    "net.load_state_dict(state_dict)\n",
    "net.eval().cuda()\n",
    "None"
   ]
  },
  {
   "cell_type": "code",
   "execution_count": 6,
   "id": "surgical-neighbor",
   "metadata": {},
   "outputs": [],
   "source": [
    "for d in testD['MESSIDOR']:\n",
    "    break"
   ]
  },
  {
   "cell_type": "code",
   "execution_count": 7,
   "id": "intellectual-fighter",
   "metadata": {},
   "outputs": [],
   "source": [
    "THETA = 24\n",
    "x = torch.from_numpy(rotate(d['x'][0].numpy(), THETA)).cuda()"
   ]
  },
  {
   "cell_type": "code",
   "execution_count": 8,
   "id": "solar-graham",
   "metadata": {},
   "outputs": [],
   "source": [
    "features = {}\n",
    "def log_f(name):\n",
    "    def hook(self, inputs, outputs):\n",
    "        features[name] = outputs.detach().cpu().numpy()\n",
    "    return hook\n",
    "if OLD:\n",
    "    net.model.conv2.relu.register_forward_hook(log_f('conv1'))\n",
    "    net.model.conv4.relu.register_forward_hook(log_f('conv2'))\n",
    "    net.model.conv6.relu.register_forward_hook(log_f('conv3'))\n",
    "    net.model.conv8.relu.register_forward_hook(log_f('conv4'))\n",
    "    net.model.conv10.relu.register_forward_hook(log_f('conv5'))\n",
    "else:\n",
    "    net.model.conv1[-1].relu.register_forward_hook(log_f('conv1'))\n",
    "    net.model.conv2[-1].relu.register_forward_hook(log_f('conv2'))\n",
    "    net.model.conv3[-1].relu.register_forward_hook(log_f('conv3'))\n",
    "    net.model.conv4[-1].relu.register_forward_hook(log_f('conv4'))\n",
    "    net.model.conv5[-1].relu.register_forward_hook(log_f('conv5'))\n",
    "\n",
    "None"
   ]
  },
  {
   "cell_type": "code",
   "execution_count": 9,
   "id": "outer-teens",
   "metadata": {},
   "outputs": [
    {
     "ename": "RuntimeError",
     "evalue": "CUDA out of memory. Tried to allocate 316.00 MiB (GPU 0; 10.92 GiB total capacity; 8.60 GiB already allocated; 282.44 MiB free; 8.94 GiB reserved in total by PyTorch)",
     "output_type": "error",
     "traceback": [
      "\u001b[0;31m---------------------------------------------------------------------------\u001b[0m",
      "\u001b[0;31mRuntimeError\u001b[0m                              Traceback (most recent call last)",
      "\u001b[0;32m<ipython-input-9-25c4fa421265>\u001b[0m in \u001b[0;36m<module>\u001b[0;34m\u001b[0m\n\u001b[0;32m----> 1\u001b[0;31m \u001b[0myhat\u001b[0m \u001b[0;34m=\u001b[0m \u001b[0mnet\u001b[0m\u001b[0;34m(\u001b[0m\u001b[0mx\u001b[0m\u001b[0;34m)\u001b[0m\u001b[0;34m\u001b[0m\u001b[0;34m\u001b[0m\u001b[0m\n\u001b[0m\u001b[1;32m      2\u001b[0m \u001b[0myhat\u001b[0m \u001b[0;34m=\u001b[0m \u001b[0myhat\u001b[0m\u001b[0;34m.\u001b[0m\u001b[0mdetach\u001b[0m\u001b[0;34m(\u001b[0m\u001b[0;34m)\u001b[0m\u001b[0;34m.\u001b[0m\u001b[0mcpu\u001b[0m\u001b[0;34m(\u001b[0m\u001b[0;34m)\u001b[0m\u001b[0;34m.\u001b[0m\u001b[0mnumpy\u001b[0m\u001b[0;34m(\u001b[0m\u001b[0;34m)\u001b[0m\u001b[0;34m\u001b[0m\u001b[0;34m\u001b[0m\u001b[0m\n\u001b[1;32m      3\u001b[0m \u001b[0myhat\u001b[0m \u001b[0;34m=\u001b[0m \u001b[0munrotate\u001b[0m\u001b[0;34m(\u001b[0m\u001b[0myhat\u001b[0m\u001b[0;34m,\u001b[0m \u001b[0mTHETA\u001b[0m\u001b[0;34m)\u001b[0m\u001b[0;34m\u001b[0m\u001b[0;34m\u001b[0m\u001b[0m\n",
      "\u001b[0;32m~/.conda/envs/nnet/lib/python3.7/site-packages/torch/nn/modules/module.py\u001b[0m in \u001b[0;36m_call_impl\u001b[0;34m(self, *input, **kwargs)\u001b[0m\n\u001b[1;32m    725\u001b[0m             \u001b[0mresult\u001b[0m \u001b[0;34m=\u001b[0m \u001b[0mself\u001b[0m\u001b[0;34m.\u001b[0m\u001b[0m_slow_forward\u001b[0m\u001b[0;34m(\u001b[0m\u001b[0;34m*\u001b[0m\u001b[0minput\u001b[0m\u001b[0;34m,\u001b[0m \u001b[0;34m**\u001b[0m\u001b[0mkwargs\u001b[0m\u001b[0;34m)\u001b[0m\u001b[0;34m\u001b[0m\u001b[0;34m\u001b[0m\u001b[0m\n\u001b[1;32m    726\u001b[0m         \u001b[0;32melse\u001b[0m\u001b[0;34m:\u001b[0m\u001b[0;34m\u001b[0m\u001b[0;34m\u001b[0m\u001b[0m\n\u001b[0;32m--> 727\u001b[0;31m             \u001b[0mresult\u001b[0m \u001b[0;34m=\u001b[0m \u001b[0mself\u001b[0m\u001b[0;34m.\u001b[0m\u001b[0mforward\u001b[0m\u001b[0;34m(\u001b[0m\u001b[0;34m*\u001b[0m\u001b[0minput\u001b[0m\u001b[0;34m,\u001b[0m \u001b[0;34m**\u001b[0m\u001b[0mkwargs\u001b[0m\u001b[0;34m)\u001b[0m\u001b[0;34m\u001b[0m\u001b[0;34m\u001b[0m\u001b[0m\n\u001b[0m\u001b[1;32m    728\u001b[0m         for hook in itertools.chain(\n\u001b[1;32m    729\u001b[0m                 \u001b[0m_global_forward_hooks\u001b[0m\u001b[0;34m.\u001b[0m\u001b[0mvalues\u001b[0m\u001b[0;34m(\u001b[0m\u001b[0;34m)\u001b[0m\u001b[0;34m,\u001b[0m\u001b[0;34m\u001b[0m\u001b[0;34m\u001b[0m\u001b[0m\n",
      "\u001b[0;32m~/These/src/Fundus/SteeredCNN/3-Git/experimentations/src/trainer/classifier_net.py\u001b[0m in \u001b[0;36mforward\u001b[0;34m(self, *args, **kwargs)\u001b[0m\n\u001b[1;32m    121\u001b[0m \u001b[0;34m\u001b[0m\u001b[0m\n\u001b[1;32m    122\u001b[0m     \u001b[0;32mdef\u001b[0m \u001b[0mforward\u001b[0m\u001b[0;34m(\u001b[0m\u001b[0mself\u001b[0m\u001b[0;34m,\u001b[0m \u001b[0;34m*\u001b[0m\u001b[0margs\u001b[0m\u001b[0;34m,\u001b[0m \u001b[0;34m**\u001b[0m\u001b[0mkwargs\u001b[0m\u001b[0;34m)\u001b[0m\u001b[0;34m:\u001b[0m\u001b[0;34m\u001b[0m\u001b[0;34m\u001b[0m\u001b[0m\n\u001b[0;32m--> 123\u001b[0;31m         \u001b[0;32mreturn\u001b[0m \u001b[0mtorch\u001b[0m\u001b[0;34m.\u001b[0m\u001b[0msigmoid\u001b[0m\u001b[0;34m(\u001b[0m\u001b[0mself\u001b[0m\u001b[0;34m.\u001b[0m\u001b[0mmodel\u001b[0m\u001b[0;34m(\u001b[0m\u001b[0;34m*\u001b[0m\u001b[0margs\u001b[0m\u001b[0;34m,\u001b[0m \u001b[0;34m**\u001b[0m\u001b[0mkwargs\u001b[0m\u001b[0;34m)\u001b[0m\u001b[0;34m)\u001b[0m\u001b[0;34m\u001b[0m\u001b[0;34m\u001b[0m\u001b[0m\n\u001b[0m\u001b[1;32m    124\u001b[0m \u001b[0;34m\u001b[0m\u001b[0m\n\u001b[1;32m    125\u001b[0m     \u001b[0;32mdef\u001b[0m \u001b[0mtest\u001b[0m\u001b[0;34m(\u001b[0m\u001b[0mself\u001b[0m\u001b[0;34m,\u001b[0m \u001b[0mdatasets\u001b[0m\u001b[0;34m)\u001b[0m\u001b[0;34m:\u001b[0m\u001b[0;34m\u001b[0m\u001b[0;34m\u001b[0m\u001b[0m\n",
      "\u001b[0;32m~/.conda/envs/nnet/lib/python3.7/site-packages/torch/nn/modules/module.py\u001b[0m in \u001b[0;36m_call_impl\u001b[0;34m(self, *input, **kwargs)\u001b[0m\n\u001b[1;32m    725\u001b[0m             \u001b[0mresult\u001b[0m \u001b[0;34m=\u001b[0m \u001b[0mself\u001b[0m\u001b[0;34m.\u001b[0m\u001b[0m_slow_forward\u001b[0m\u001b[0;34m(\u001b[0m\u001b[0;34m*\u001b[0m\u001b[0minput\u001b[0m\u001b[0;34m,\u001b[0m \u001b[0;34m**\u001b[0m\u001b[0mkwargs\u001b[0m\u001b[0;34m)\u001b[0m\u001b[0;34m\u001b[0m\u001b[0;34m\u001b[0m\u001b[0m\n\u001b[1;32m    726\u001b[0m         \u001b[0;32melse\u001b[0m\u001b[0;34m:\u001b[0m\u001b[0;34m\u001b[0m\u001b[0;34m\u001b[0m\u001b[0m\n\u001b[0;32m--> 727\u001b[0;31m             \u001b[0mresult\u001b[0m \u001b[0;34m=\u001b[0m \u001b[0mself\u001b[0m\u001b[0;34m.\u001b[0m\u001b[0mforward\u001b[0m\u001b[0;34m(\u001b[0m\u001b[0;34m*\u001b[0m\u001b[0minput\u001b[0m\u001b[0;34m,\u001b[0m \u001b[0;34m**\u001b[0m\u001b[0mkwargs\u001b[0m\u001b[0;34m)\u001b[0m\u001b[0;34m\u001b[0m\u001b[0;34m\u001b[0m\u001b[0m\n\u001b[0m\u001b[1;32m    728\u001b[0m         for hook in itertools.chain(\n\u001b[1;32m    729\u001b[0m                 \u001b[0m_global_forward_hooks\u001b[0m\u001b[0;34m.\u001b[0m\u001b[0mvalues\u001b[0m\u001b[0;34m(\u001b[0m\u001b[0;34m)\u001b[0m\u001b[0;34m,\u001b[0m\u001b[0;34m\u001b[0m\u001b[0;34m\u001b[0m\u001b[0m\n",
      "\u001b[0;32m~/These/src/Fundus/SteeredCNN/3-Git/lib/steered_cnn/models/hemeling.py\u001b[0m in \u001b[0;36mforward\u001b[0;34m(self, x, **kwargs)\u001b[0m\n\u001b[1;32m    115\u001b[0m         \u001b[0mx1\u001b[0m \u001b[0;34m=\u001b[0m \u001b[0mcat_crop\u001b[0m\u001b[0;34m(\u001b[0m\u001b[0mx1\u001b[0m\u001b[0;34m,\u001b[0m \u001b[0mself\u001b[0m\u001b[0;34m.\u001b[0m\u001b[0mupsample4\u001b[0m\u001b[0;34m(\u001b[0m\u001b[0mx2\u001b[0m\u001b[0;34m)\u001b[0m\u001b[0;34m)\u001b[0m\u001b[0;34m\u001b[0m\u001b[0;34m\u001b[0m\u001b[0m\n\u001b[1;32m    116\u001b[0m         \u001b[0;32mdel\u001b[0m \u001b[0mx2\u001b[0m\u001b[0;34m\u001b[0m\u001b[0;34m\u001b[0m\u001b[0m\n\u001b[0;32m--> 117\u001b[0;31m         \u001b[0mx1\u001b[0m \u001b[0;34m=\u001b[0m \u001b[0mreduce\u001b[0m\u001b[0;34m(\u001b[0m\u001b[0;32mlambda\u001b[0m \u001b[0mX\u001b[0m\u001b[0;34m,\u001b[0m \u001b[0mconv\u001b[0m\u001b[0;34m:\u001b[0m \u001b[0mconv\u001b[0m\u001b[0;34m(\u001b[0m\u001b[0mX\u001b[0m\u001b[0;34m)\u001b[0m\u001b[0;34m,\u001b[0m \u001b[0mself\u001b[0m\u001b[0;34m.\u001b[0m\u001b[0mconv9\u001b[0m\u001b[0;34m,\u001b[0m \u001b[0mx1\u001b[0m\u001b[0;34m)\u001b[0m\u001b[0;34m\u001b[0m\u001b[0;34m\u001b[0m\u001b[0m\n\u001b[0m\u001b[1;32m    118\u001b[0m \u001b[0;34m\u001b[0m\u001b[0m\n\u001b[1;32m    119\u001b[0m         \u001b[0;31m# End\u001b[0m\u001b[0;34m\u001b[0m\u001b[0;34m\u001b[0m\u001b[0;34m\u001b[0m\u001b[0m\n",
      "\u001b[0;32m~/These/src/Fundus/SteeredCNN/3-Git/lib/steered_cnn/models/hemeling.py\u001b[0m in \u001b[0;36m<lambda>\u001b[0;34m(X, conv)\u001b[0m\n\u001b[1;32m    115\u001b[0m         \u001b[0mx1\u001b[0m \u001b[0;34m=\u001b[0m \u001b[0mcat_crop\u001b[0m\u001b[0;34m(\u001b[0m\u001b[0mx1\u001b[0m\u001b[0;34m,\u001b[0m \u001b[0mself\u001b[0m\u001b[0;34m.\u001b[0m\u001b[0mupsample4\u001b[0m\u001b[0;34m(\u001b[0m\u001b[0mx2\u001b[0m\u001b[0;34m)\u001b[0m\u001b[0;34m)\u001b[0m\u001b[0;34m\u001b[0m\u001b[0;34m\u001b[0m\u001b[0m\n\u001b[1;32m    116\u001b[0m         \u001b[0;32mdel\u001b[0m \u001b[0mx2\u001b[0m\u001b[0;34m\u001b[0m\u001b[0;34m\u001b[0m\u001b[0m\n\u001b[0;32m--> 117\u001b[0;31m         \u001b[0mx1\u001b[0m \u001b[0;34m=\u001b[0m \u001b[0mreduce\u001b[0m\u001b[0;34m(\u001b[0m\u001b[0;32mlambda\u001b[0m \u001b[0mX\u001b[0m\u001b[0;34m,\u001b[0m \u001b[0mconv\u001b[0m\u001b[0;34m:\u001b[0m \u001b[0mconv\u001b[0m\u001b[0;34m(\u001b[0m\u001b[0mX\u001b[0m\u001b[0;34m)\u001b[0m\u001b[0;34m,\u001b[0m \u001b[0mself\u001b[0m\u001b[0;34m.\u001b[0m\u001b[0mconv9\u001b[0m\u001b[0;34m,\u001b[0m \u001b[0mx1\u001b[0m\u001b[0;34m)\u001b[0m\u001b[0;34m\u001b[0m\u001b[0;34m\u001b[0m\u001b[0m\n\u001b[0m\u001b[1;32m    118\u001b[0m \u001b[0;34m\u001b[0m\u001b[0m\n\u001b[1;32m    119\u001b[0m         \u001b[0;31m# End\u001b[0m\u001b[0;34m\u001b[0m\u001b[0;34m\u001b[0m\u001b[0;34m\u001b[0m\u001b[0m\n",
      "\u001b[0;32m~/.conda/envs/nnet/lib/python3.7/site-packages/torch/nn/modules/module.py\u001b[0m in \u001b[0;36m_call_impl\u001b[0;34m(self, *input, **kwargs)\u001b[0m\n\u001b[1;32m    725\u001b[0m             \u001b[0mresult\u001b[0m \u001b[0;34m=\u001b[0m \u001b[0mself\u001b[0m\u001b[0;34m.\u001b[0m\u001b[0m_slow_forward\u001b[0m\u001b[0;34m(\u001b[0m\u001b[0;34m*\u001b[0m\u001b[0minput\u001b[0m\u001b[0;34m,\u001b[0m \u001b[0;34m**\u001b[0m\u001b[0mkwargs\u001b[0m\u001b[0;34m)\u001b[0m\u001b[0;34m\u001b[0m\u001b[0;34m\u001b[0m\u001b[0m\n\u001b[1;32m    726\u001b[0m         \u001b[0;32melse\u001b[0m\u001b[0;34m:\u001b[0m\u001b[0;34m\u001b[0m\u001b[0;34m\u001b[0m\u001b[0m\n\u001b[0;32m--> 727\u001b[0;31m             \u001b[0mresult\u001b[0m \u001b[0;34m=\u001b[0m \u001b[0mself\u001b[0m\u001b[0;34m.\u001b[0m\u001b[0mforward\u001b[0m\u001b[0;34m(\u001b[0m\u001b[0;34m*\u001b[0m\u001b[0minput\u001b[0m\u001b[0;34m,\u001b[0m \u001b[0;34m**\u001b[0m\u001b[0mkwargs\u001b[0m\u001b[0;34m)\u001b[0m\u001b[0;34m\u001b[0m\u001b[0;34m\u001b[0m\u001b[0m\n\u001b[0m\u001b[1;32m    728\u001b[0m         for hook in itertools.chain(\n\u001b[1;32m    729\u001b[0m                 \u001b[0m_global_forward_hooks\u001b[0m\u001b[0;34m.\u001b[0m\u001b[0mvalues\u001b[0m\u001b[0;34m(\u001b[0m\u001b[0;34m)\u001b[0m\u001b[0;34m,\u001b[0m\u001b[0;34m\u001b[0m\u001b[0;34m\u001b[0m\u001b[0m\n",
      "\u001b[0;32m~/These/src/Fundus/SteeredCNN/3-Git/lib/steered_cnn/utils/convbn.py\u001b[0m in \u001b[0;36mforward\u001b[0;34m(self, x)\u001b[0m\n\u001b[1;32m     31\u001b[0m \u001b[0;34m\u001b[0m\u001b[0m\n\u001b[1;32m     32\u001b[0m     \u001b[0;32mdef\u001b[0m \u001b[0mforward\u001b[0m\u001b[0;34m(\u001b[0m\u001b[0mself\u001b[0m\u001b[0;34m,\u001b[0m \u001b[0mx\u001b[0m\u001b[0;34m)\u001b[0m\u001b[0;34m:\u001b[0m\u001b[0;34m\u001b[0m\u001b[0;34m\u001b[0m\u001b[0m\n\u001b[0;32m---> 33\u001b[0;31m         \u001b[0;32mreturn\u001b[0m \u001b[0mself\u001b[0m\u001b[0;34m.\u001b[0m\u001b[0mmodel\u001b[0m\u001b[0;34m(\u001b[0m\u001b[0mx\u001b[0m\u001b[0;34m)\u001b[0m\u001b[0;34m\u001b[0m\u001b[0;34m\u001b[0m\u001b[0m\n\u001b[0m\u001b[1;32m     34\u001b[0m \u001b[0;34m\u001b[0m\u001b[0m\n\u001b[1;32m     35\u001b[0m     \u001b[0;34m@\u001b[0m\u001b[0mproperty\u001b[0m\u001b[0;34m\u001b[0m\u001b[0;34m\u001b[0m\u001b[0m\n",
      "\u001b[0;32m~/.conda/envs/nnet/lib/python3.7/site-packages/torch/nn/modules/module.py\u001b[0m in \u001b[0;36m_call_impl\u001b[0;34m(self, *input, **kwargs)\u001b[0m\n\u001b[1;32m    725\u001b[0m             \u001b[0mresult\u001b[0m \u001b[0;34m=\u001b[0m \u001b[0mself\u001b[0m\u001b[0;34m.\u001b[0m\u001b[0m_slow_forward\u001b[0m\u001b[0;34m(\u001b[0m\u001b[0;34m*\u001b[0m\u001b[0minput\u001b[0m\u001b[0;34m,\u001b[0m \u001b[0;34m**\u001b[0m\u001b[0mkwargs\u001b[0m\u001b[0;34m)\u001b[0m\u001b[0;34m\u001b[0m\u001b[0;34m\u001b[0m\u001b[0m\n\u001b[1;32m    726\u001b[0m         \u001b[0;32melse\u001b[0m\u001b[0;34m:\u001b[0m\u001b[0;34m\u001b[0m\u001b[0;34m\u001b[0m\u001b[0m\n\u001b[0;32m--> 727\u001b[0;31m             \u001b[0mresult\u001b[0m \u001b[0;34m=\u001b[0m \u001b[0mself\u001b[0m\u001b[0;34m.\u001b[0m\u001b[0mforward\u001b[0m\u001b[0;34m(\u001b[0m\u001b[0;34m*\u001b[0m\u001b[0minput\u001b[0m\u001b[0;34m,\u001b[0m \u001b[0;34m**\u001b[0m\u001b[0mkwargs\u001b[0m\u001b[0;34m)\u001b[0m\u001b[0;34m\u001b[0m\u001b[0;34m\u001b[0m\u001b[0m\n\u001b[0m\u001b[1;32m    728\u001b[0m         for hook in itertools.chain(\n\u001b[1;32m    729\u001b[0m                 \u001b[0m_global_forward_hooks\u001b[0m\u001b[0;34m.\u001b[0m\u001b[0mvalues\u001b[0m\u001b[0;34m(\u001b[0m\u001b[0;34m)\u001b[0m\u001b[0;34m,\u001b[0m\u001b[0;34m\u001b[0m\u001b[0;34m\u001b[0m\u001b[0m\n",
      "\u001b[0;32m~/.conda/envs/nnet/lib/python3.7/site-packages/torch/nn/modules/container.py\u001b[0m in \u001b[0;36mforward\u001b[0;34m(self, input)\u001b[0m\n\u001b[1;32m    115\u001b[0m     \u001b[0;32mdef\u001b[0m \u001b[0mforward\u001b[0m\u001b[0;34m(\u001b[0m\u001b[0mself\u001b[0m\u001b[0;34m,\u001b[0m \u001b[0minput\u001b[0m\u001b[0;34m)\u001b[0m\u001b[0;34m:\u001b[0m\u001b[0;34m\u001b[0m\u001b[0;34m\u001b[0m\u001b[0m\n\u001b[1;32m    116\u001b[0m         \u001b[0;32mfor\u001b[0m \u001b[0mmodule\u001b[0m \u001b[0;32min\u001b[0m \u001b[0mself\u001b[0m\u001b[0;34m:\u001b[0m\u001b[0;34m\u001b[0m\u001b[0;34m\u001b[0m\u001b[0m\n\u001b[0;32m--> 117\u001b[0;31m             \u001b[0minput\u001b[0m \u001b[0;34m=\u001b[0m \u001b[0mmodule\u001b[0m\u001b[0;34m(\u001b[0m\u001b[0minput\u001b[0m\u001b[0;34m)\u001b[0m\u001b[0;34m\u001b[0m\u001b[0;34m\u001b[0m\u001b[0m\n\u001b[0m\u001b[1;32m    118\u001b[0m         \u001b[0;32mreturn\u001b[0m \u001b[0minput\u001b[0m\u001b[0;34m\u001b[0m\u001b[0;34m\u001b[0m\u001b[0m\n\u001b[1;32m    119\u001b[0m \u001b[0;34m\u001b[0m\u001b[0m\n",
      "\u001b[0;32m~/.conda/envs/nnet/lib/python3.7/site-packages/torch/nn/modules/module.py\u001b[0m in \u001b[0;36m_call_impl\u001b[0;34m(self, *input, **kwargs)\u001b[0m\n\u001b[1;32m    725\u001b[0m             \u001b[0mresult\u001b[0m \u001b[0;34m=\u001b[0m \u001b[0mself\u001b[0m\u001b[0;34m.\u001b[0m\u001b[0m_slow_forward\u001b[0m\u001b[0;34m(\u001b[0m\u001b[0;34m*\u001b[0m\u001b[0minput\u001b[0m\u001b[0;34m,\u001b[0m \u001b[0;34m**\u001b[0m\u001b[0mkwargs\u001b[0m\u001b[0;34m)\u001b[0m\u001b[0;34m\u001b[0m\u001b[0;34m\u001b[0m\u001b[0m\n\u001b[1;32m    726\u001b[0m         \u001b[0;32melse\u001b[0m\u001b[0;34m:\u001b[0m\u001b[0;34m\u001b[0m\u001b[0;34m\u001b[0m\u001b[0m\n\u001b[0;32m--> 727\u001b[0;31m             \u001b[0mresult\u001b[0m \u001b[0;34m=\u001b[0m \u001b[0mself\u001b[0m\u001b[0;34m.\u001b[0m\u001b[0mforward\u001b[0m\u001b[0;34m(\u001b[0m\u001b[0;34m*\u001b[0m\u001b[0minput\u001b[0m\u001b[0;34m,\u001b[0m \u001b[0;34m**\u001b[0m\u001b[0mkwargs\u001b[0m\u001b[0;34m)\u001b[0m\u001b[0;34m\u001b[0m\u001b[0;34m\u001b[0m\u001b[0m\n\u001b[0m\u001b[1;32m    728\u001b[0m         for hook in itertools.chain(\n\u001b[1;32m    729\u001b[0m                 \u001b[0m_global_forward_hooks\u001b[0m\u001b[0;34m.\u001b[0m\u001b[0mvalues\u001b[0m\u001b[0;34m(\u001b[0m\u001b[0;34m)\u001b[0m\u001b[0;34m,\u001b[0m\u001b[0;34m\u001b[0m\u001b[0;34m\u001b[0m\u001b[0m\n",
      "\u001b[0;32m~/.conda/envs/nnet/lib/python3.7/site-packages/torch/nn/modules/activation.py\u001b[0m in \u001b[0;36mforward\u001b[0;34m(self, input)\u001b[0m\n\u001b[1;32m    100\u001b[0m \u001b[0;34m\u001b[0m\u001b[0m\n\u001b[1;32m    101\u001b[0m     \u001b[0;32mdef\u001b[0m \u001b[0mforward\u001b[0m\u001b[0;34m(\u001b[0m\u001b[0mself\u001b[0m\u001b[0;34m,\u001b[0m \u001b[0minput\u001b[0m\u001b[0;34m:\u001b[0m \u001b[0mTensor\u001b[0m\u001b[0;34m)\u001b[0m \u001b[0;34m->\u001b[0m \u001b[0mTensor\u001b[0m\u001b[0;34m:\u001b[0m\u001b[0;34m\u001b[0m\u001b[0;34m\u001b[0m\u001b[0m\n\u001b[0;32m--> 102\u001b[0;31m         \u001b[0;32mreturn\u001b[0m \u001b[0mF\u001b[0m\u001b[0;34m.\u001b[0m\u001b[0mrelu\u001b[0m\u001b[0;34m(\u001b[0m\u001b[0minput\u001b[0m\u001b[0;34m,\u001b[0m \u001b[0minplace\u001b[0m\u001b[0;34m=\u001b[0m\u001b[0mself\u001b[0m\u001b[0;34m.\u001b[0m\u001b[0minplace\u001b[0m\u001b[0;34m)\u001b[0m\u001b[0;34m\u001b[0m\u001b[0;34m\u001b[0m\u001b[0m\n\u001b[0m\u001b[1;32m    103\u001b[0m \u001b[0;34m\u001b[0m\u001b[0m\n\u001b[1;32m    104\u001b[0m     \u001b[0;32mdef\u001b[0m \u001b[0mextra_repr\u001b[0m\u001b[0;34m(\u001b[0m\u001b[0mself\u001b[0m\u001b[0;34m)\u001b[0m \u001b[0;34m->\u001b[0m \u001b[0mstr\u001b[0m\u001b[0;34m:\u001b[0m\u001b[0;34m\u001b[0m\u001b[0;34m\u001b[0m\u001b[0m\n",
      "\u001b[0;32m~/.conda/envs/nnet/lib/python3.7/site-packages/torch/nn/functional.py\u001b[0m in \u001b[0;36mrelu\u001b[0;34m(input, inplace)\u001b[0m\n\u001b[1;32m   1134\u001b[0m         \u001b[0mresult\u001b[0m \u001b[0;34m=\u001b[0m \u001b[0mtorch\u001b[0m\u001b[0;34m.\u001b[0m\u001b[0mrelu_\u001b[0m\u001b[0;34m(\u001b[0m\u001b[0minput\u001b[0m\u001b[0;34m)\u001b[0m\u001b[0;34m\u001b[0m\u001b[0;34m\u001b[0m\u001b[0m\n\u001b[1;32m   1135\u001b[0m     \u001b[0;32melse\u001b[0m\u001b[0;34m:\u001b[0m\u001b[0;34m\u001b[0m\u001b[0;34m\u001b[0m\u001b[0m\n\u001b[0;32m-> 1136\u001b[0;31m         \u001b[0mresult\u001b[0m \u001b[0;34m=\u001b[0m \u001b[0mtorch\u001b[0m\u001b[0;34m.\u001b[0m\u001b[0mrelu\u001b[0m\u001b[0;34m(\u001b[0m\u001b[0minput\u001b[0m\u001b[0;34m)\u001b[0m\u001b[0;34m\u001b[0m\u001b[0;34m\u001b[0m\u001b[0m\n\u001b[0m\u001b[1;32m   1137\u001b[0m     \u001b[0;32mreturn\u001b[0m \u001b[0mresult\u001b[0m\u001b[0;34m\u001b[0m\u001b[0;34m\u001b[0m\u001b[0m\n\u001b[1;32m   1138\u001b[0m \u001b[0;34m\u001b[0m\u001b[0m\n",
      "\u001b[0;31mRuntimeError\u001b[0m: CUDA out of memory. Tried to allocate 316.00 MiB (GPU 0; 10.92 GiB total capacity; 8.60 GiB already allocated; 282.44 MiB free; 8.94 GiB reserved in total by PyTorch)"
     ]
    }
   ],
   "source": [
    "yhat = net(x)\n",
    "yhat = yhat.detach().cpu().numpy()\n",
    "yhat = unrotate(yhat, THETA)"
   ]
  },
  {
   "cell_type": "markdown",
   "id": "integral-chorus",
   "metadata": {
    "heading_collapsed": "true"
   },
   "source": [
    "## Polar Spectral Power Density"
   ]
  },
  {
   "cell_type": "code",
   "execution_count": null,
   "id": "minus-weekly",
   "metadata": {},
   "outputs": [],
   "source": [
    "_ = spectral_power(yhat, plot=True)"
   ]
  },
  {
   "cell_type": "code",
   "execution_count": null,
   "id": "religious-emerald",
   "metadata": {},
   "outputs": [],
   "source": [
    "features = {k: unrotate(v, THETA) for k,v in features.items()}"
   ]
  },
  {
   "cell_type": "code",
   "execution_count": null,
   "id": "outstanding-combat",
   "metadata": {},
   "outputs": [],
   "source": [
    "spe = spectral_power(features['conv1'], plot=True, split='normed')\n",
    "\n",
    "fig, axs = plt.subplots(2,4)\n",
    "for i in range(8):\n",
    "    y = spe[:, i]\n",
    "    y = y/y.sum()\n",
    "    x = np.arange(len(spe))\n",
    "    ax = axs[i//4,i%4]\n",
    "    ax.bar(x,y)\n",
    "    ax.set_yscale('sqr')"
   ]
  },
  {
   "cell_type": "code",
   "execution_count": null,
   "id": "lightweight-bedroom",
   "metadata": {},
   "outputs": [],
   "source": [
    "if OLD:\n",
    "    W = net.model.conv2.conv.weight.detach().cpu().numpy()\n",
    "else:\n",
    "    W = net.model.conv1[-1].conv.weight.detach().cpu().numpy()\n",
    "spe = polar_spectral_power(W, theta=24, plot='sqr', split='normed')\n",
    "\n",
    "fig, axs = plt.subplots(2,4)\n",
    "for i in range(8):\n",
    "    y = spe[:, i]\n",
    "    y = y/y.sum()\n",
    "    x = np.arange(len(spe))\n",
    "    ax = axs[i//4,i%4]\n",
    "    ax.bar(x,y)\n",
    "    ax.set_yscale('sqr')"
   ]
  },
  {
   "cell_type": "code",
   "execution_count": null,
   "id": "piano-emergency",
   "metadata": {},
   "outputs": [],
   "source": [
    "spe = spectral_power(features['conv2'], plot=True, split='normed')\n",
    "\n",
    "fig, axs = plt.subplots(2,4)\n",
    "for i in range(8):\n",
    "    y = spe[0:len(spe)//2+1,i]\n",
    "    y = y/y.sum()\n",
    "    x = np.arange(0,len(spe)//2+1)\n",
    "    ax = axs[i//4,i%4]\n",
    "    ax.bar(x,y)\n",
    "    ax.set_yscale('sqr')"
   ]
  },
  {
   "cell_type": "code",
   "execution_count": null,
   "id": "colonial-worker",
   "metadata": {},
   "outputs": [],
   "source": [
    "if OLD:\n",
    "    W = net.model.conv4.conv.weight.detach().cpu().numpy()\n",
    "else:\n",
    "    W = net.model.conv2[-1].conv.weight.detach().cpu().numpy()\n",
    "spe = polar_spectral_power(W, theta=24, plot='sqr', split='normed')\n",
    "\n",
    "fig, axs = plt.subplots(2,4)\n",
    "for i in range(8):\n",
    "    y = spe[:, i]\n",
    "    y = y/y.sum()\n",
    "    x = np.arange(len(spe))\n",
    "    ax = axs[i//4,i%4]\n",
    "    ax.bar(x,y)\n",
    "    ax.set_yscale('sqr')"
   ]
  },
  {
   "cell_type": "code",
   "execution_count": null,
   "id": "unlike-hawaii",
   "metadata": {},
   "outputs": [],
   "source": [
    "spe = spectral_power(features['conv3'], plot=True, split='normed')\n",
    "\n",
    "fig, axs = plt.subplots(2,4)\n",
    "for i in range(8):\n",
    "    y = spe[:, i]\n",
    "    y = y/y.sum()\n",
    "    x = np.arange(len(spe))\n",
    "    ax = axs[i//4,i%4]\n",
    "    ax.bar(x,y)\n",
    "    ax.set_yscale('sqr')"
   ]
  },
  {
   "cell_type": "code",
   "execution_count": null,
   "id": "reflected-holocaust",
   "metadata": {},
   "outputs": [],
   "source": [
    "spe = spectral_power(features['conv4'], plot=True, split='normed')\n",
    "\n",
    "fig, axs = plt.subplots(2,4)\n",
    "for i in range(8):\n",
    "    y = spe[:, i]\n",
    "    y = y/y.sum()\n",
    "    x = np.arange(len(spe))\n",
    "    ax = axs[i//4,i%4]\n",
    "    ax.bar(x,y)\n",
    "    ax.set_yscale('sqr')"
   ]
  },
  {
   "cell_type": "code",
   "execution_count": null,
   "id": "surgical-japan",
   "metadata": {},
   "outputs": [],
   "source": [
    "from scipy.signal import convolve2d\n",
    "from scipy.ndimage import gaussian_filter\n",
    "\n",
    "grad = np.matmul(np.linspace(-1,1,3)[:,None],np.ones((1,3)))\n",
    "noise = np.random.uniform(0,1,size=(100,100))\n",
    "noise = gaussian_filter(noise, 3)\n",
    "noise = rotate(noise, 24)\n",
    "r = np.stack([convolve2d(_, grad) for _ in noise])\n",
    "r = unrotate(r, 24)\n",
    "spe = spectral_power(r, plot='sqr')"
   ]
  },
  {
   "cell_type": "code",
   "execution_count": null,
   "id": "designed-result",
   "metadata": {},
   "outputs": [],
   "source": [
    "spe = spectral_power(features['conv5'], plot=True, split='normed')\n",
    "spe = spe / spe.sum(axis=0)\n",
    "print(f\"Conv5 | Equivariant features: {(spe[0]>=.5).sum()}/{spe.shape[1]} ({(spe[0]>=.5).sum()/spe.shape[1]}%)\")"
   ]
  },
  {
   "cell_type": "markdown",
   "id": "canadian-tobacco",
   "metadata": {},
   "source": [
    "## Steerable Check"
   ]
  },
  {
   "cell_type": "code",
   "execution_count": 4,
   "id": "collected-cartoon",
   "metadata": {},
   "outputs": [],
   "source": [
    "cfg = default_config()\n",
    "cfg.model['steered'] = 'all'\n",
    "cfg.model['padding'] = 'same'\n",
    "cfg.model['upsample'] = 'nearest'\n",
    "cfg.training['dataset-file'] = 'av.h5'\n",
    "\n",
    "trainD, validD, testD = load_dataset(cfg)\n",
    "cfg['script-arguments']['gpus']='0'"
   ]
  },
  {
   "cell_type": "code",
   "execution_count": 13,
   "id": "solved-account",
   "metadata": {},
   "outputs": [],
   "source": [
    "THETA = 12\n",
    "np_thetas = np.linspace(0, 360, THETA, endpoint=False)\n",
    "thetas = -torch.from_numpy(np_thetas)[:,None,None].cuda().float()*np.pi/180\n",
    "cos_sin_thetas = torch.stack((torch.cos(thetas), torch.sin(thetas)), dim=1)\n",
    "np_thetas = np_thetas[1:]\n",
    "\n",
    "for d in trainD:\n",
    "    break\n",
    "x = torch.from_numpy(rotate(d['x'][0].numpy(), np_thetas)).cuda()\n",
    "mask = d['mask'][0].numpy()"
   ]
  },
  {
   "cell_type": "code",
   "execution_count": 14,
   "id": "instant-desire",
   "metadata": {},
   "outputs": [],
   "source": [
    "net = setup_model(cfg.model).cuda().eval()"
   ]
  },
  {
   "cell_type": "markdown",
   "id": "prime-gather",
   "metadata": {},
   "source": [
    "**Absolute Alpha**"
   ]
  },
  {
   "cell_type": "code",
   "execution_count": 15,
   "id": "contained-priority",
   "metadata": {},
   "outputs": [
    {
     "data": {
      "image/png": "[encoded data removed]",
      "text/plain": [
       "<Figure size 1296x432 with 1 Axes>"
      ]
     },
     "metadata": {
      "needs_background": "light"
     },
     "output_type": "display_data"
    }
   ],
   "source": [
    "with torch.no_grad():\n",
    "    yhat = net(x, thetas)\n",
    "    yhat = clip_pad_center(yhat.detach().cpu(), mask.shape).numpy()\n",
    "    yhat_unrotated = unrotate(yhat, np_thetas)\n",
    "_ = spectral_power(yhat_unrotated, plot=True)"
   ]
  },
  {
   "cell_type": "markdown",
   "id": "chief-karma",
   "metadata": {},
   "source": [
    "**Angle**"
   ]
  },
  {
   "cell_type": "code",
   "execution_count": 24,
   "id": "sustained-linux",
   "metadata": {},
   "outputs": [
    {
     "data": {
      "image/png": "[encoded data removed]",
      "text/plain": [
       "<Figure size 1296x432 with 1 Axes>"
      ]
     },
     "metadata": {
      "needs_background": "light"
     },
     "output_type": "display_data"
    }
   ],
   "source": [
    "alphas = torch.from_numpy(rotate(d['angle'][0].numpy(), np_thetas)).cuda() + thetas\n",
    "with torch.no_grad():\n",
    "    yhat = net(x, alphas)\n",
    "    yhat = clip_pad_center(yhat.detach().cpu(), mask.shape).numpy()\n",
    "    yhat_unrotated = unrotate(yhat, np_thetas)\n",
    "_ = spectral_power(yhat_unrotated, plot=True)"
   ]
  },
  {
   "cell_type": "markdown",
   "id": "interior-compatibility",
   "metadata": {},
   "source": [
    "**Vectorial Normalized Field**"
   ]
  },
  {
   "cell_type": "code",
   "execution_count": 25,
   "id": "fixed-substitute",
   "metadata": {},
   "outputs": [
    {
     "data": {
      "image/png": "[encoded data removed]",
      "text/plain": [
       "<Figure size 1296x432 with 1 Axes>"
      ]
     },
     "metadata": {
      "needs_background": "light"
     },
     "output_type": "display_data"
    }
   ],
   "source": [
    "alphas_xy = torch.from_numpy(np.stack(rotate_vect(d['vec_norm'][0].numpy(), np_thetas),axis=1)).cuda().float()\n",
    "with torch.no_grad():\n",
    "    yhat = net(x, alphas_xy)\n",
    "    yhat = clip_pad_center(yhat.detach().cpu(), mask.shape).numpy()\n",
    "    yhat_unrotated = unrotate(yhat, np_thetas)\n",
    "_ = spectral_power(yhat_unrotated, plot=True)"
   ]
  },
  {
   "cell_type": "code",
   "execution_count": null,
   "id": "confidential-limitation",
   "metadata": {},
   "outputs": [],
   "source": []
  },
  {
   "cell_type": "markdown",
   "id": "binary-dependence",
   "metadata": {},
   "source": [
    "**Vectorial Field**"
   ]
  },
  {
   "cell_type": "code",
   "execution_count": 19,
   "id": "stretch-sound",
   "metadata": {},
   "outputs": [
    {
     "data": {
      "image/png": "[encoded data removed]",
      "text/plain": [
       "<Figure size 1296x432 with 1 Axes>"
      ]
     },
     "metadata": {
      "needs_background": "light"
     },
     "output_type": "display_data"
    }
   ],
   "source": [
    "alphas_xy = torch.from_numpy(np.stack(rotate_vect(d['vec'][0].numpy(), np_thetas),axis=1)).cuda().float()\n",
    "with torch.no_grad():\n",
    "    yhat = net(x, alphas_xy)\n",
    "    yhat = clip_pad_center(yhat.detach().cpu(), mask.shape).numpy()\n",
    "    yhat_unrotated = unrotate(yhat, np_thetas)\n",
    "_ = spectral_power(yhat_unrotated, plot=True)"
   ]
  },
  {
   "cell_type": "code",
   "execution_count": null,
   "id": "taken-narrow",
   "metadata": {},
   "outputs": [],
   "source": []
  },
  {
   "cell_type": "code",
   "execution_count": 11,
   "id": "chicken-syndrome",
   "metadata": {},
   "outputs": [],
   "source": [
    "diff = alphas-torch.atan2(alphas_xy[:,1],alphas_xy[:,0])\n"
   ]
  },
  {
   "cell_type": "code",
   "execution_count": null,
   "id": "lyric-aquarium",
   "metadata": {},
   "outputs": [],
   "source": []
  }
 ],
 "metadata": {
  "kernelspec": {
   "display_name": "Python 3",
   "language": "python",
   "name": "python3"
  },
  "language_info": {
   "codemirror_mode": {
    "name": "ipython",
    "version": 3
   },
   "file_extension": ".py",
   "mimetype": "text/x-python",
   "name": "python",
   "nbconvert_exporter": "python",
   "pygments_lexer": "ipython3",
   "version": "3.7.4"
  },
  "latex_envs": {
   "LaTeX_envs_menu_present": true,
   "autoclose": false,
   "autocomplete": true,
   "bibliofile": "biblio.bib",
   "cite_by": "apalike",
   "current_citInitial": 1,
   "eqLabelWithNumbers": true,
   "eqNumInitial": 1,
   "hotkeys": {
    "equation": "Ctrl-E",
    "itemize": "Ctrl-I"
   },
   "labels_anchors": false,
   "latex_user_defs": false,
   "report_style_numbering": false,
   "user_envs_cfg": false
  },
  "varInspector": {
   "cols": {
    "lenName": 16,
    "lenType": 16,
    "lenVar": 40
   },
   "kernels_config": {
    "python": {
     "delete_cmd_postfix": "",
     "delete_cmd_prefix": "del ",
     "library": "var_list.py",
     "varRefreshCmd": "print(var_dic_list())"
    },
    "r": {
     "delete_cmd_postfix": ") ",
     "delete_cmd_prefix": "rm(",
     "library": "var_list.r",
     "varRefreshCmd": "cat(var_dic_list()) "
    }
   },
   "types_to_exclude": [
    "module",
    "function",
    "builtin_function_or_method",
    "instance",
    "_Feature"
   ],
   "window_display": false
  }
 },
 "nbformat": 4,
 "nbformat_minor": 5
}
