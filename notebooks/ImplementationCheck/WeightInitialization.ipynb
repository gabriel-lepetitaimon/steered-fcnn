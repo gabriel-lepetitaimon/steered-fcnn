{
 "cells": [
  {
   "cell_type": "markdown",
   "id": "analyzed-roads",
   "metadata": {},
   "source": [
    "#### Includes"
   ]
  },
  {
   "cell_type": "code",
   "execution_count": 1,
   "id": "subjective-cardiff",
   "metadata": {},
   "outputs": [],
   "source": [
    "%load_ext autoreload\n",
    "%autoreload 2"
   ]
  },
  {
   "cell_type": "code",
   "execution_count": 2,
   "id": "independent-vitamin",
   "metadata": {},
   "outputs": [],
   "source": [
    "import numpy as np\n",
    "import torch\n",
    "import torch.nn.functional as F\n",
    "from torch import nn\n",
    "import altair as alt\n",
    "from altair import datum\n",
    "import pandas as pd\n",
    "import time\n"
   ]
  },
  {
   "cell_type": "code",
   "execution_count": 3,
   "id": "nervous-elements",
   "metadata": {},
   "outputs": [],
   "source": [
    "import sources\n",
    "from steered_cnn.utils.rotequivariance_toolbox import *\n",
    "from steered_cnn.steered_conv.steerable_filters import radial_steerable_filter, plot_filter\n",
    "from steered_cnn.steered_conv import SteerableKernelBase, SteeredConv2d, SteeredConvBN\n",
    "from steered_cnn.utils.convbn import ConvBN\n",
    "from steered_cnn.models import SteeredUNet"
   ]
  },
  {
   "cell_type": "markdown",
   "id": "equal-relative",
   "metadata": {},
   "source": [
    "## Weight Variability"
   ]
  },
  {
   "cell_type": "markdown",
   "id": "identified-bicycle",
   "metadata": {},
   "source": [
    "### Kernel normalization"
   ]
  },
  {
   "cell_type": "code",
   "execution_count": 24,
   "id": "occupied-picking",
   "metadata": {},
   "outputs": [
    {
     "name": "stdout",
     "output_type": "stream",
     "text": [
      "Base equi square sum to 1: True\n",
      "Base complex square sum to 1: True\n"
     ]
    }
   ],
   "source": [
    "base = SteerableKernelBase.create_radial(5)\n",
    "print('Base equi square sum to 1:', all((K**2).sum()-1<1e-8 for K in base.base_equi))\n",
    "print('Base complex square sum to 1:', all((torch.abs(K)**2).sum()-1<1e-8 for K in base.base_complex))"
   ]
  },
  {
   "cell_type": "markdown",
   "id": "cooked-amateur",
   "metadata": {},
   "source": [
    "### Forward Propagation Numerical Stability"
   ]
  },
  {
   "cell_type": "code",
   "execution_count": 5,
   "id": "angry-archives",
   "metadata": {},
   "outputs": [],
   "source": [
    "ratio = []\n",
    "def hook(i):\n",
    "    def print_std(module, inputs, output):\n",
    "        i_mean = torch.mean(inputs[0])\n",
    "        o_mean = torch.mean(output)\n",
    "        i_std = torch.std(inputs[0])\n",
    "        o_std = torch.std(output)\n",
    "        print(f\"Conv {i}:  in~{i_mean:.4f}±{i_std:.4f}; out~{o_mean:.4f}±{o_std:.4f} | ratio={o_std/i_std:.4f}\")\n",
    "        ratio.append(o_std/i_std)\n",
    "    return print_std"
   ]
  },
  {
   "cell_type": "code",
   "execution_count": 13,
   "id": "unauthorized-intellectual",
   "metadata": {},
   "outputs": [
    {
     "name": "stdout",
     "output_type": "stream",
     "text": [
      "Conv 0:  in~0.0004±1.0023; out~0.5423±0.9014 | ratio=0.8993\n",
      "Conv 1:  in~0.5423±0.9014; out~0.5746±0.9452 | ratio=1.0486\n",
      "Conv 2:  in~0.5746±0.9452; out~1.1176±1.4130 | ratio=1.4949\n",
      "Conv 3:  in~1.1176±1.4130; out~1.7984±2.4624 | ratio=1.7427\n",
      "Conv 4:  in~1.7984±2.4624; out~2.7591±3.6946 | ratio=1.5004\n",
      "Conv 5:  in~2.7591±3.6946; out~3.2651±5.9446 | ratio=1.6090\n",
      "Conv 6:  in~3.2651±5.9446; out~5.7545±8.0617 | ratio=1.3561\n",
      "Conv 7:  in~5.7545±8.0617; out~3.5780±7.9063 | ratio=0.9807\n",
      "Conv 8:  in~3.5780±7.9063; out~10.2685±16.9426 | ratio=2.1429\n",
      "Conv 9:  in~10.2685±16.9426; out~13.4305±15.8873 | ratio=0.9377\n",
      "Conv 10:  in~13.4305±15.8873; out~24.2476±34.9288 | ratio=2.1985\n",
      "Conv 11:  in~24.2476±34.9288; out~1.2898±5.9295 | ratio=0.1698\n",
      "____________________\n",
      "avg ratio: 1.3401±0.5725\n",
      "Conv :  in~-0.0059±1.0149; out~1.2898±5.9295 | ratio=5.8424\n"
     ]
    }
   ],
   "source": [
    "ratio = []\n",
    "opts = dict(bn=True, relu=True, steerable_base=base, attention_mode='shared', rho_nonlinearity='normalize')\n",
    "model = [SteeredConvBN(1,16, **opts)]+[SteeredConvBN(16,16, **opts) for _ in range(10)] + [SteeredConvBN(16, 1, **opts)]\n",
    "for i, m in enumerate(model):\n",
    "    m.register_forward_hook(hook(i))\n",
    "net = nn.Sequential(*model).to('cuda').eval()\n",
    "x = torch.randn((32,1,128,128), device='cuda')\n",
    "y = net(x)\n",
    "\n",
    "print('__'*10)\n",
    "print(f'avg ratio: {torch.mean(torch.Tensor(ratio)):.4f}±{torch.std(torch.Tensor(ratio)):.4f}')\n",
    "hook('')(None, x, y)\n",
    "\n",
    "del y\n",
    "del x\n",
    "del net\n",
    "del model"
   ]
  },
  {
   "cell_type": "code",
   "execution_count": 23,
   "id": "systematic-walter",
   "metadata": {},
   "outputs": [
    {
     "name": "stdout",
     "output_type": "stream",
     "text": [
      "Conv 0:  in~-0.0002±1.0005; out~-0.0000±0.2516 | ratio=0.2515\n",
      "Conv 1:  in~-0.0000±0.2516; out~-0.0000±0.2499 | ratio=0.9933\n",
      "Conv 2:  in~-0.0000±0.2499; out~-0.0000±0.2470 | ratio=0.9882\n",
      "Conv 3:  in~-0.0000±0.2470; out~-0.0000±0.2399 | ratio=0.9715\n",
      "Conv 4:  in~-0.0000±0.2399; out~0.0000±0.2425 | ratio=1.0107\n",
      "Conv 5:  in~0.0000±0.2425; out~0.0000±0.2471 | ratio=1.0188\n",
      "Conv 6:  in~0.0000±0.2471; out~0.0000±0.2470 | ratio=0.9997\n",
      "Conv 7:  in~0.0000±0.2470; out~0.0000±0.2420 | ratio=0.9797\n",
      "Conv 8:  in~0.0000±0.2420; out~0.0000±0.2460 | ratio=1.0164\n",
      "Conv 9:  in~0.0000±0.2460; out~0.0000±0.2501 | ratio=1.0167\n",
      "Conv 10:  in~0.0000±0.2501; out~0.0000±0.2524 | ratio=1.0092\n",
      "Conv 11:  in~0.0000±0.2524; out~-0.0004±0.9078 | ratio=3.5974\n",
      "____________________\n",
      "avg ratio: 1.1544±0.7990\n",
      "Conv :  in~-0.0026±0.9984; out~-0.0004±0.9078 | ratio=0.9093\n"
     ]
    }
   ],
   "source": [
    "ratio = []\n",
    "opts = dict(bn=True, relu=False)\n",
    "model = [ConvBN(5,1,16, **opts)]+[ConvBN(5,16,16, **opts) for _ in range(10)] + [ConvBN(5,16, 1, **opts)]\n",
    "for i, m in enumerate(model):\n",
    "    m.register_forward_hook(hook(i))\n",
    "net = nn.Sequential(*model).to('cuda').eval()\n",
    "x = torch.randn((64,1,256,256), device='cuda')\n",
    "y = net(x)\n",
    "\n",
    "print('__'*10)\n",
    "print(f'avg ratio: {torch.mean(torch.Tensor(ratio)):.4f}±{torch.std(torch.Tensor(ratio)):.4f}')\n",
    "hook('')(None, x, y)\n",
    "\n",
    "del y\n",
    "del x\n",
    "del net\n",
    "del model"
   ]
  },
  {
   "cell_type": "markdown",
   "id": "vertical-authority",
   "metadata": {},
   "source": [
    "## Preconvolve vs Composite Kernel"
   ]
  },
  {
   "cell_type": "markdown",
   "id": "helpful-festival",
   "metadata": {},
   "source": [
    "### Implementation Consistency"
   ]
  },
  {
   "cell_type": "code",
   "execution_count": null,
   "id": "swiss-filename",
   "metadata": {},
   "outputs": [],
   "source": [
    "base = SteerableKernelBase.create_radial(4, max_k=5)\n",
    "W = base.init_weights(3,3)\n",
    "\n",
    "X = torch.randn((100,3,200,200))\n",
    "alpha = torch.exp(torch.rand((100,3,200,200))*2j*np.pi)\n",
    "alpha = torch.stack([alpha.real, alpha.imag])\n",
    "\n",
    "Y1 = base.composite_kernels_conv2d(X, W, alpha=alpha)\n",
    "Y2 = base.preconvolved_base_conv2d(X, W, alpha=alpha)\n",
    "\n",
    "diff = torch.abs(Y1-Y2)\n",
    "print(f\"Mean diff: {diff.mean()}, Quantile diff: {torch.quantile(diff, torch.Tensor([.5,.75,.9,.99]))}\")\n",
    "diff = torch.abs((Y1-Y2)/(Y1+1e-8))\n",
    "print(f\"Mean normed diff: {diff.mean()}, Quantile normed diff: {torch.quantile(diff, torch.Tensor([.25,.5,.75,.9,.99]))}\")\n"
   ]
  },
  {
   "cell_type": "markdown",
   "id": "administrative-movie",
   "metadata": {},
   "source": [
    "### Speed Comparison"
   ]
  },
  {
   "cell_type": "code",
   "execution_count": null,
   "id": "apart-branch",
   "metadata": {},
   "outputs": [],
   "source": [
    "\n",
    "def speed_test(X=200, M=32, N=32, R=4, K=5, batchsize=50, iterations=10):\n",
    "    base = SteerableKernelBase.create_radial(R, max_k=K)\n",
    "    x = torch.randn((batchsize,M,X,X), requires_grad=True).cuda()\n",
    "    W = base.init_weights(M,N).cuda()\n",
    "    alpha = torch.exp(torch.rand((batchsize,N,X,X))*2j*np.pi).cuda()\n",
    "    alpha = torch.stack([alpha.real, alpha.imag])\n",
    "    \n",
    "    tf_comp, tf_pre = 0, 0\n",
    "    tb_comp, tb_pre = 0, 0\n",
    "    tn_comp, tn_pre = 0, 0\n",
    "    for i in range(iterations):\n",
    "        x = torch.randn((batchsize,M,X,X), requires_grad=True).cuda()\n",
    "        \n",
    "        t0 = time.perf_counter()\n",
    "        Y = base.composite_kernels_conv2d(x, W, alpha=alpha)\n",
    "        t1 = time.perf_counter()\n",
    "        tf_comp += t1-t0\n",
    "        Y = Y.sum()\n",
    "        \n",
    "        t0 = time.perf_counter()\n",
    "        Y.backward()\n",
    "        t1 = time.perf_counter()\n",
    "        tb_comp += t1-t0\n",
    "        del Y\n",
    "        \n",
    "        with torch.no_grad():\n",
    "            t0 = time.perf_counter()\n",
    "            Y = base.composite_kernels_conv2d(x, W, alpha=alpha)\n",
    "            t1 = time.perf_counter()\n",
    "            tn_comp += t1-t0\n",
    "            del Y\n",
    "        \n",
    "        t0 = time.perf_counter()\n",
    "        Y = base.preconvolved_base_conv2d(x, W, alpha=alpha)\n",
    "        t1 = time.perf_counter()\n",
    "        tf_pre += t1-t0\n",
    "        Y = Y.sum()\n",
    "        \n",
    "        t0 = time.perf_counter()\n",
    "        Y.backward()\n",
    "        t1 = time.perf_counter()\n",
    "        tb_pre += t1-t0\n",
    "        del Y\n",
    "        \n",
    "        with torch.no_grad():\n",
    "            t0 = time.perf_counter()\n",
    "            Y = base.preconvolved_base_conv2d(x, W, alpha=alpha)\n",
    "            t1 = time.perf_counter()\n",
    "            tn_pre += t1-t0\n",
    "            del Y\n",
    "        \n",
    "    return pd.DataFrame(\n",
    "            {'Composite':{'forward': tf_comp, 'backward': tb_comp, 'no grad': tn_comp},\n",
    "             'Preconv':{'forward': tf_pre, 'backward': tb_pre, 'no grad': tn_pre}})"
   ]
  },
  {
   "cell_type": "code",
   "execution_count": null,
   "id": "tamil-yesterday",
   "metadata": {},
   "outputs": [],
   "source": [
    "speed_test(X=32, M=256, N=500, batchsize=4)\n"
   ]
  },
  {
   "cell_type": "code",
   "execution_count": null,
   "id": "dominican-wellington",
   "metadata": {},
   "outputs": [],
   "source": []
  }
 ],
 "metadata": {
  "kernelspec": {
   "display_name": "Python 3",
   "language": "python",
   "name": "python3"
  },
  "language_info": {
   "codemirror_mode": {
    "name": "ipython",
    "version": 3
   },
   "file_extension": ".py",
   "mimetype": "text/x-python",
   "name": "python",
   "nbconvert_exporter": "python",
   "pygments_lexer": "ipython3",
   "version": "3.7.11"
  }
 },
 "nbformat": 4,
 "nbformat_minor": 5
}
