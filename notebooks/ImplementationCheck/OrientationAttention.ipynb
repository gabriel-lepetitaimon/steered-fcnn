{
 "cells": [
  {
   "cell_type": "markdown",
   "id": "helpful-arlington",
   "metadata": {},
   "source": [
    "#### Includes"
   ]
  },
  {
   "cell_type": "code",
   "execution_count": 1,
   "id": "random-emperor",
   "metadata": {},
   "outputs": [],
   "source": [
    "%load_ext autoreload\n",
    "%autoreload 2"
   ]
  },
  {
   "cell_type": "code",
   "execution_count": 2,
   "id": "geological-sword",
   "metadata": {},
   "outputs": [],
   "source": [
    "import numpy as np\n",
    "import torch\n",
    "import torch.nn.functional as F\n",
    "import altair as alt\n",
    "from altair import datum\n",
    "import time\n",
    "import pandas as pd\n",
    "import matplotlib.pyplot as plt\n",
    "plt.rcParams[\"figure.figsize\"] = (18, 5)"
   ]
  },
  {
   "cell_type": "code",
   "execution_count": 3,
   "id": "significant-exposure",
   "metadata": {},
   "outputs": [],
   "source": [
    "from sources import load_dataset, parse_config, setup_model\n",
    "from steered_cnn.utils.rotequivariance_toolbox import *\n",
    "from steered_cnn.steered_conv.steerable_filters import radial_steerable_filter, plot_filter\n",
    "from steered_cnn.utils import clip_pad_center\n",
    "from steered_cnn.steered_conv import SteerableKernelBase, OrthoKernelBase\n",
    "from steered_cnn.models import SteeredHemelingNet, HemelingNet\n",
    "from src.trainer import BinaryClassifierNet"
   ]
  },
  {
   "cell_type": "code",
   "execution_count": 163,
   "id": "pacific-breath",
   "metadata": {},
   "outputs": [],
   "source": [
    "torch.set_printoptions(precision=3, sci_mode=False)"
   ]
  },
  {
   "cell_type": "markdown",
   "id": "adequate-science",
   "metadata": {},
   "source": [
    "## Orientation Detection"
   ]
  },
  {
   "cell_type": "markdown",
   "id": "robust-apache",
   "metadata": {},
   "source": [
    "#### Generating a Directional Map"
   ]
  },
  {
   "cell_type": "code",
   "execution_count": 154,
   "id": "characteristic-hudson",
   "metadata": {
    "tags": []
   },
   "outputs": [],
   "source": [
    "base = SteerableKernelBase.from_steerable(4, oversample=4)"
   ]
  },
  {
   "cell_type": "code",
   "execution_count": 155,
   "id": "accredited-refrigerator",
   "metadata": {
    "tags": []
   },
   "outputs": [
    {
     "data": {
      "image/png": "[encoded data removed]",
      "text/plain": [
       "<Figure size 1296x360 with 9 Axes>"
      ]
     },
     "metadata": {
      "needs_background": "light"
     },
     "output_type": "display_data"
    }
   ],
   "source": [
    "x = torch.linspace(-2,2,5)\n",
    "x,y = torch.meshgrid(x,x)\n",
    "K = (x+y)/4\n",
    "K = K.reshape(1,1,5,5)\n",
    "K = clip_pad_center(K, base.base.shape)\n",
    "\n",
    "info = {}\n",
    "Wdiamond = base.approximate_weights(K, info)\n",
    "\n",
    "I = torch.zeros((1,1,9,9))\n",
    "I[:,:,4,4] = 1\n",
    "N = 8\n",
    "fig, axs = plt.subplots(1,N+1)\n",
    "alphas = np.linspace(0, np.pi, N+1, endpoint=True)\n",
    "diamond_rot = []\n",
    "rotations_label = []\n",
    "for i in range(N+1):\n",
    "    r = base.conv2d(I,Wdiamond, alpha=alphas[i])[0,0]\n",
    "    plot_filter(r, plot=axs[i], vmax=1)\n",
    "    axs[i].set_title(f'$\\\\alpha = {repr_pi_fraction(i,N)}$')\n",
    "    diamond_rot += [r]\n",
    "    rotations_label += [repr_pi_fraction(i,N)]\n",
    "diamond_rot = torch.stack(diamond_rot)"
   ]
  },
  {
   "cell_type": "code",
   "execution_count": 156,
   "id": "closing-closure",
   "metadata": {},
   "outputs": [
    {
     "data": {
      "image/png": "[encoded data removed]",
      "text/plain": [
       "<Figure size 1296x360 with 9 Axes>"
      ]
     },
     "metadata": {
      "needs_background": "light"
     },
     "output_type": "display_data"
    }
   ],
   "source": [
    "Wnoise = torch.randn(W.shape)\n",
    "\n",
    "fig, axs = plt.subplots(1,N+1)\n",
    "noise_rot = []\n",
    "for i in range(N+1):\n",
    "    r = base.conv2d(I,Wnoise, alpha=alphas[i])[0,0]\n",
    "    plot_filter(r, plot=axs[i], vmax=1)\n",
    "    axs[i].set_title(f'$\\\\alpha = {repr_pi_fraction(i,N)}$')\n",
    "    noise_rot += [r]\n",
    "noise_rot = torch.stack(noise_rot)"
   ]
  },
  {
   "cell_type": "markdown",
   "id": "fitting-society",
   "metadata": {},
   "source": [
    "### Vectorial Attention "
   ]
  },
  {
   "cell_type": "code",
   "execution_count": 119,
   "id": "million-third",
   "metadata": {},
   "outputs": [],
   "source": [
    "ortho_base = OrthoKernelBase.from_steerable(4, oversample=100)"
   ]
  },
  {
   "cell_type": "code",
   "execution_count": 164,
   "id": "contrary-amount",
   "metadata": {},
   "outputs": [
    {
     "name": "stdout",
     "output_type": "stream",
     "text": [
      "alpha (rad): tensor([0.000, 0.392, 0.785, 1.179, 1.571, 1.963, 2.356, 2.749, 3.142])\n",
      "alpha diff (deg): tensor([    0.000,     0.032,     0.000,     0.032,     0.000,     0.032,\n",
      "            0.000,     0.032,     0.000])\n",
      "rho: tensor([6.595, 6.527, 6.423, 6.527, 6.595, 6.527, 6.423, 6.527, 6.595])\n",
      "max alpha diff (deg): 0.03, rho std: 0.0666\n"
     ]
    },
    {
     "data": {
      "application/vnd.vegalite.v3+json": {
       "$schema": "https://vega.github.io/schema/vega-lite/v3.4.0.json",
       "config": {
        "mark": {
         "tooltip": null
        },
        "view": {
         "height": 300,
         "width": 400
        }
       },
       "data": {
        "name": "data-bb81a4f60f00a19089294f1158acd805"
       },
       "datasets": {
        "data-bb81a4f60f00a19089294f1158acd805": [
         {
          "label": "r1R",
          "w": 1
         },
         {
          "label": "r2R",
          "w": 1
         },
         {
          "label": "r3R",
          "w": 1
         },
         {
          "label": "r4R",
          "w": 1
         },
         {
          "label": "r1I",
          "w": 1
         },
         {
          "label": "r2I",
          "w": 1
         },
         {
          "label": "r3I",
          "w": 1
         },
         {
          "label": "r4I",
          "w": 1
         }
        ]
       },
       "encoding": {
        "x": {
         "field": "label",
         "type": "nominal"
        },
        "y": {
         "field": "w",
         "type": "quantitative"
        }
       },
       "mark": "bar"
      },
      "image/png": "[encoded data removed]",
      "text/plain": [
       "<VegaLite 3 object>\n",
       "\n",
       "If you see this message, it means the renderer has not been properly enabled\n",
       "for the frontend that you are using. For more information, see\n",
       "https://altair-viz.github.io/user_guide/troubleshooting.html\n"
      ]
     },
     "execution_count": 164,
     "metadata": {},
     "output_type": "execute_result"
    }
   ],
   "source": [
    "w = torch.ones((1,1,8))#ortho_base.create_weights(1,1)\n",
    "v = ortho_base.ortho_conv2d(diamond_rot[:,None], w, padding='valid').squeeze()\n",
    "alpha = torch.atan2(v[1], v[0])\n",
    "rho = torch.linalg.norm(v, dim=0)\n",
    "alpha_diff = abs(((alpha-alpha[0])%(2*np.pi))-torch.Tensor(alphas))*180/np.pi\n",
    "\n",
    "print('alpha (rad):', (alpha-alpha[0])%(2*np.pi))\n",
    "print('alpha diff (deg):', alpha_diff)\n",
    "print('rho:', rho)\n",
    "\n",
    "print(f'max alpha diff (deg): {alpha_diff.max():.2f}, rho std: {rho.std():.4f}')\n",
    "weights = pd.DataFrame(data=dict(w=w[0,0], label=ortho_base.kernels_label))\n",
    "alt.Chart(weights).mark_bar().encode(x='label:N', y='w:Q')"
   ]
  },
  {
   "cell_type": "code",
   "execution_count": 165,
   "id": "cognitive-minister",
   "metadata": {},
   "outputs": [
    {
     "name": "stdout",
     "output_type": "stream",
     "text": [
      "alpha (rad): tensor([0.000, 0.332, 0.848, 1.294, 1.571, 1.902, 2.419, 2.865, 3.142])\n",
      "alpha diff (deg): tensor([    0.000,     3.505,     3.610,     6.648,     0.000,     3.505,\n",
      "            3.610,     6.648,     0.000])\n",
      "rho: tensor([1.849, 1.810, 2.000, 1.993, 1.849, 1.810, 2.000, 1.993, 1.849])\n",
      "max alpha diff (deg): 6.65, rho std: 0.0874\n"
     ]
    },
    {
     "data": {
      "application/vnd.vegalite.v3+json": {
       "$schema": "https://vega.github.io/schema/vega-lite/v3.4.0.json",
       "config": {
        "mark": {
         "tooltip": null
        },
        "view": {
         "height": 300,
         "width": 400
        }
       },
       "data": {
        "name": "data-bb81a4f60f00a19089294f1158acd805"
       },
       "datasets": {
        "data-bb81a4f60f00a19089294f1158acd805": [
         {
          "label": "r1R",
          "w": 1
         },
         {
          "label": "r2R",
          "w": 1
         },
         {
          "label": "r3R",
          "w": 1
         },
         {
          "label": "r4R",
          "w": 1
         },
         {
          "label": "r1I",
          "w": 1
         },
         {
          "label": "r2I",
          "w": 1
         },
         {
          "label": "r3I",
          "w": 1
         },
         {
          "label": "r4I",
          "w": 1
         }
        ]
       },
       "encoding": {
        "x": {
         "field": "label",
         "type": "nominal"
        },
        "y": {
         "field": "w",
         "type": "quantitative"
        }
       },
       "mark": "bar"
      },
      "image/png": "[encoded data removed]",
      "text/plain": [
       "<VegaLite 3 object>\n",
       "\n",
       "If you see this message, it means the renderer has not been properly enabled\n",
       "for the frontend that you are using. For more information, see\n",
       "https://altair-viz.github.io/user_guide/troubleshooting.html\n"
      ]
     },
     "execution_count": 165,
     "metadata": {},
     "output_type": "execute_result"
    }
   ],
   "source": [
    "w = torch.ones((1,1,8))#ortho_base.create_weights(1,1)\n",
    "v = ortho_base.ortho_conv2d(noise_rot[:,None], w, padding='valid').squeeze()\n",
    "alpha = torch.atan2(v[1], v[0])\n",
    "rho = torch.linalg.norm(v, dim=0)\n",
    "alpha_diff = abs(((alpha-alpha[0])%(2*np.pi))-torch.Tensor(alphas))*180/np.pi\n",
    "\n",
    "print('alpha (rad):', (alpha-alpha[0])%(2*np.pi))\n",
    "print('alpha diff (deg):', alpha_diff)\n",
    "print('rho:', rho)\n",
    "\n",
    "print(f'max alpha diff (deg): {alpha_diff.max():.2f}, rho std: {rho.std():.4f}')\n",
    "alt.Chart(weights).mark_bar().encode(x='label:N', y='w:Q')"
   ]
  },
  {
   "cell_type": "code",
   "execution_count": null,
   "id": "wanted-vampire",
   "metadata": {},
   "outputs": [],
   "source": []
  },
  {
   "cell_type": "code",
   "execution_count": null,
   "id": "unknown-montgomery",
   "metadata": {},
   "outputs": [],
   "source": []
  }
 ],
 "metadata": {
  "kernelspec": {
   "display_name": "Python 3",
   "language": "python",
   "name": "python3"
  },
  "language_info": {
   "codemirror_mode": {
    "name": "ipython",
    "version": 3
   },
   "file_extension": ".py",
   "mimetype": "text/x-python",
   "name": "python",
   "nbconvert_exporter": "python",
   "pygments_lexer": "ipython3",
   "version": "3.7.4"
  }
 },
 "nbformat": 4,
 "nbformat_minor": 5
}
