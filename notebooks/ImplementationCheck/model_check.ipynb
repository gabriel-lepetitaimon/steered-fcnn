{
 "cells": [
  {
   "cell_type": "markdown",
   "id": "theoretical-ticket",
   "metadata": {},
   "source": [
    "#### Includes"
   ]
  },
  {
   "cell_type": "code",
   "execution_count": 1,
   "id": "military-federal",
   "metadata": {},
   "outputs": [],
   "source": [
    "%load_ext autoreload\n",
    "%autoreload 2"
   ]
  },
  {
   "cell_type": "code",
   "execution_count": 2,
   "id": "adjustable-precipitation",
   "metadata": {},
   "outputs": [],
   "source": [
    "import numpy as np\n",
    "import torch\n",
    "import torch.nn.functional as F\n",
    "import altair as alt\n",
    "from altair import datum\n",
    "import pandas as pd\n",
    "import time"
   ]
  },
  {
   "cell_type": "code",
   "execution_count": 3,
   "id": "black-argument",
   "metadata": {},
   "outputs": [],
   "source": [
    "import sources\n",
    "from src.config.attribute_dict import AttributeDict\n",
    "from src.config import parse_config\n",
    "from steered_cnn.models import *\n",
    "from steered_cnn.steered_conv import SteeredConvBN\n",
    "from steered_cnn.utils import ConvBN"
   ]
  },
  {
   "cell_type": "markdown",
   "id": "appreciated-mattress",
   "metadata": {},
   "source": [
    "## Init"
   ]
  },
  {
   "cell_type": "code",
   "execution_count": 4,
   "id": "headed-thong",
   "metadata": {},
   "outputs": [],
   "source": [
    "cfg = \"\"\"\n",
    "experiment:\n",
    "    name: 'test'\n",
    "    sub-experiment: 'test'\n",
    "\n",
    "model:\n",
    "    backbone: 'hemeling'\n",
    "    steered:\n",
    "        steering: 'angle'\n",
    "    nfeatures: 11\n",
    "    nscale: 5\n",
    "    depth: 2\n",
    "    kernel: 5\n",
    "\n",
    "hyper-parameters:\n",
    "    batch-size: 4\n",
    "\"\"\"\n",
    "\n",
    "\n",
    "cfg = parse_config(cfg)"
   ]
  },
  {
   "cell_type": "code",
   "execution_count": 5,
   "id": "explicit-newman",
   "metadata": {},
   "outputs": [],
   "source": [
    "train, val, test = sources.load_dataset(cfg)"
   ]
  },
  {
   "cell_type": "code",
   "execution_count": 6,
   "id": "worst-flood",
   "metadata": {},
   "outputs": [
    {
     "data": {
      "text/plain": [
       "SteeredHemelingNet(\n",
       "  (downconv0-0): SteeredConvBN(\n",
       "    (conv): SteeredConv2d()\n",
       "    (bn_relu): Sequential(\n",
       "      (0): BatchNorm2d(11, eps=1e-05, momentum=0.1, affine=True, track_running_stats=True)\n",
       "      (1): ReLU()\n",
       "    )\n",
       "  )\n",
       "  (downconv0-1): SteeredConvBN(\n",
       "    (conv): SteeredConv2d()\n",
       "    (bn_relu): Sequential(\n",
       "      (0): BatchNorm2d(11, eps=1e-05, momentum=0.1, affine=True, track_running_stats=True)\n",
       "      (1): ReLU()\n",
       "    )\n",
       "  )\n",
       "  (downsample0): MaxPool2d(kernel_size=2, stride=2, padding=0, dilation=1, ceil_mode=False)\n",
       "  (downconv1-0): SteeredConvBN(\n",
       "    (conv): SteeredConv2d()\n",
       "    (bn_relu): Sequential(\n",
       "      (0): BatchNorm2d(22, eps=1e-05, momentum=0.1, affine=True, track_running_stats=True)\n",
       "      (1): ReLU()\n",
       "    )\n",
       "  )\n",
       "  (downconv1-1): SteeredConvBN(\n",
       "    (conv): SteeredConv2d()\n",
       "    (bn_relu): Sequential(\n",
       "      (0): BatchNorm2d(22, eps=1e-05, momentum=0.1, affine=True, track_running_stats=True)\n",
       "      (1): ReLU()\n",
       "    )\n",
       "  )\n",
       "  (downsample1): MaxPool2d(kernel_size=2, stride=2, padding=0, dilation=1, ceil_mode=False)\n",
       "  (downconv2-0): SteeredConvBN(\n",
       "    (conv): SteeredConv2d()\n",
       "    (bn_relu): Sequential(\n",
       "      (0): BatchNorm2d(44, eps=1e-05, momentum=0.1, affine=True, track_running_stats=True)\n",
       "      (1): ReLU()\n",
       "    )\n",
       "  )\n",
       "  (downconv2-1): SteeredConvBN(\n",
       "    (conv): SteeredConv2d()\n",
       "    (bn_relu): Sequential(\n",
       "      (0): BatchNorm2d(44, eps=1e-05, momentum=0.1, affine=True, track_running_stats=True)\n",
       "      (1): ReLU()\n",
       "    )\n",
       "  )\n",
       "  (downsample2): MaxPool2d(kernel_size=2, stride=2, padding=0, dilation=1, ceil_mode=False)\n",
       "  (downconv3-0): SteeredConvBN(\n",
       "    (conv): SteeredConv2d()\n",
       "    (bn_relu): Sequential(\n",
       "      (0): BatchNorm2d(88, eps=1e-05, momentum=0.1, affine=True, track_running_stats=True)\n",
       "      (1): ReLU()\n",
       "    )\n",
       "  )\n",
       "  (downconv3-1): SteeredConvBN(\n",
       "    (conv): SteeredConv2d()\n",
       "    (bn_relu): Sequential(\n",
       "      (0): BatchNorm2d(88, eps=1e-05, momentum=0.1, affine=True, track_running_stats=True)\n",
       "      (1): ReLU()\n",
       "    )\n",
       "  )\n",
       "  (downsample3): MaxPool2d(kernel_size=2, stride=2, padding=0, dilation=1, ceil_mode=False)\n",
       "  (downconv4-0): SteeredConvBN(\n",
       "    (conv): SteeredConv2d()\n",
       "    (bn_relu): Sequential(\n",
       "      (0): BatchNorm2d(176, eps=1e-05, momentum=0.1, affine=True, track_running_stats=True)\n",
       "      (1): ReLU()\n",
       "    )\n",
       "  )\n",
       "  (downconv4-1): SteeredConvBN(\n",
       "    (conv): SteeredConv2d()\n",
       "    (bn_relu): Sequential(\n",
       "      (0): BatchNorm2d(176, eps=1e-05, momentum=0.1, affine=True, track_running_stats=True)\n",
       "      (1): ReLU()\n",
       "    )\n",
       "  )\n",
       "  (upsample5): SteeredConvTranspose2d()\n",
       "  (upconv5-0): SteeredConvBN(\n",
       "    (conv): SteeredConv2d()\n",
       "    (bn_relu): Sequential(\n",
       "      (0): BatchNorm2d(88, eps=1e-05, momentum=0.1, affine=True, track_running_stats=True)\n",
       "      (1): ReLU()\n",
       "    )\n",
       "  )\n",
       "  (upconv5-1): SteeredConvBN(\n",
       "    (conv): SteeredConv2d()\n",
       "    (bn_relu): Sequential(\n",
       "      (0): BatchNorm2d(88, eps=1e-05, momentum=0.1, affine=True, track_running_stats=True)\n",
       "      (1): ReLU()\n",
       "    )\n",
       "  )\n",
       "  (upsample6): SteeredConvTranspose2d()\n",
       "  (upconv6-0): SteeredConvBN(\n",
       "    (conv): SteeredConv2d()\n",
       "    (bn_relu): Sequential(\n",
       "      (0): BatchNorm2d(44, eps=1e-05, momentum=0.1, affine=True, track_running_stats=True)\n",
       "      (1): ReLU()\n",
       "    )\n",
       "  )\n",
       "  (upconv6-1): SteeredConvBN(\n",
       "    (conv): SteeredConv2d()\n",
       "    (bn_relu): Sequential(\n",
       "      (0): BatchNorm2d(44, eps=1e-05, momentum=0.1, affine=True, track_running_stats=True)\n",
       "      (1): ReLU()\n",
       "    )\n",
       "  )\n",
       "  (upsample7): SteeredConvTranspose2d()\n",
       "  (upconv7-0): SteeredConvBN(\n",
       "    (conv): SteeredConv2d()\n",
       "    (bn_relu): Sequential(\n",
       "      (0): BatchNorm2d(22, eps=1e-05, momentum=0.1, affine=True, track_running_stats=True)\n",
       "      (1): ReLU()\n",
       "    )\n",
       "  )\n",
       "  (upconv7-1): SteeredConvBN(\n",
       "    (conv): SteeredConv2d()\n",
       "    (bn_relu): Sequential(\n",
       "      (0): BatchNorm2d(22, eps=1e-05, momentum=0.1, affine=True, track_running_stats=True)\n",
       "      (1): ReLU()\n",
       "    )\n",
       "  )\n",
       "  (upsample8): SteeredConvTranspose2d()\n",
       "  (upconv8-0): SteeredConvBN(\n",
       "    (conv): SteeredConv2d()\n",
       "    (bn_relu): Sequential(\n",
       "      (0): BatchNorm2d(11, eps=1e-05, momentum=0.1, affine=True, track_running_stats=True)\n",
       "      (1): ReLU()\n",
       "    )\n",
       "  )\n",
       "  (upconv8-1): SteeredConvBN(\n",
       "    (conv): SteeredConv2d()\n",
       "    (bn_relu): Sequential(\n",
       "      (0): BatchNorm2d(11, eps=1e-05, momentum=0.1, affine=True, track_running_stats=True)\n",
       "      (1): ReLU()\n",
       "    )\n",
       "  )\n",
       "  (final_conv): ConvBN(\n",
       "    (model): Sequential(\n",
       "      (0): Conv2d(11, 1, kernel_size=(1, 1), stride=1)\n",
       "    )\n",
       "  )\n",
       ")"
      ]
     },
     "execution_count": 6,
     "metadata": {},
     "output_type": "execute_result"
    }
   ],
   "source": [
    "net = setup_model(cfg.model, 6, 1).cuda()\n",
    "net"
   ]
  },
  {
   "cell_type": "code",
   "execution_count": null,
   "id": "transsexual-money",
   "metadata": {},
   "outputs": [],
   "source": []
  },
  {
   "cell_type": "markdown",
   "id": "nominated-insertion",
   "metadata": {},
   "source": [
    "## Run Model"
   ]
  },
  {
   "cell_type": "code",
   "execution_count": 7,
   "id": "macro-aluminum",
   "metadata": {},
   "outputs": [],
   "source": [
    "for data in train:\n",
    "    break"
   ]
  },
  {
   "cell_type": "markdown",
   "id": "minute-warning",
   "metadata": {},
   "source": [
    "### Monitor Shapes"
   ]
  },
  {
   "cell_type": "code",
   "execution_count": 8,
   "id": "double-victim",
   "metadata": {},
   "outputs": [],
   "source": [
    "def hook(name):\n",
    "    def print_shape(mod, inputs, outputs):\n",
    "        print(name, ': ', [_.shape for _ in inputs], ' -> ' , outputs.shape)\n",
    "    return print_shape\n",
    "for name, mod in net.named_modules():\n",
    "    if isinstance(mod, (SteeredConvBN, ConvBN)):\n",
    "        mod.register_forward_hook(hook(name))"
   ]
  },
  {
   "cell_type": "code",
   "execution_count": 9,
   "id": "wooden-rates",
   "metadata": {},
   "outputs": [
    {
     "name": "stdout",
     "output_type": "stream",
     "text": [
      "downconv0-0 :  [torch.Size([4, 6, 565, 565])]  ->  torch.Size([4, 11, 565, 565])\n",
      "downconv0-1 :  [torch.Size([4, 11, 565, 565])]  ->  torch.Size([4, 11, 565, 565])\n",
      "downconv1-0 :  [torch.Size([4, 11, 282, 282])]  ->  torch.Size([4, 22, 282, 282])\n",
      "downconv1-1 :  [torch.Size([4, 22, 282, 282])]  ->  torch.Size([4, 22, 282, 282])\n",
      "downconv2-0 :  [torch.Size([4, 22, 141, 141])]  ->  torch.Size([4, 44, 141, 141])\n",
      "downconv2-1 :  [torch.Size([4, 44, 141, 141])]  ->  torch.Size([4, 44, 141, 141])\n",
      "downconv3-0 :  [torch.Size([4, 44, 70, 70])]  ->  torch.Size([4, 88, 70, 70])\n",
      "downconv3-1 :  [torch.Size([4, 88, 70, 70])]  ->  torch.Size([4, 88, 70, 70])\n",
      "downconv4-0 :  [torch.Size([4, 88, 35, 35])]  ->  torch.Size([4, 176, 35, 35])\n",
      "downconv4-1 :  [torch.Size([4, 176, 35, 35])]  ->  torch.Size([4, 176, 35, 35])\n",
      "upconv5-0 :  [torch.Size([4, 176, 68, 68])]  ->  torch.Size([4, 88, 68, 68])\n",
      "upconv5-1 :  [torch.Size([4, 88, 68, 68])]  ->  torch.Size([4, 88, 68, 68])\n",
      "upconv6-0 :  [torch.Size([4, 88, 134, 134])]  ->  torch.Size([4, 44, 134, 134])\n",
      "upconv6-1 :  [torch.Size([4, 44, 134, 134])]  ->  torch.Size([4, 44, 134, 134])\n",
      "upconv7-0 :  [torch.Size([4, 44, 266, 266])]  ->  torch.Size([4, 22, 266, 266])\n",
      "upconv7-1 :  [torch.Size([4, 22, 266, 266])]  ->  torch.Size([4, 22, 266, 266])\n",
      "upconv8-0 :  [torch.Size([4, 22, 530, 530])]  ->  torch.Size([4, 11, 530, 530])\n",
      "upconv8-1 :  [torch.Size([4, 11, 530, 530])]  ->  torch.Size([4, 11, 530, 530])\n",
      "final_conv :  [torch.Size([4, 11, 530, 530])]  ->  torch.Size([4, 1, 530, 530])\n",
      "torch.Size([4, 6, 565, 565])  ->  torch.Size([4, 1, 530, 530])\n"
     ]
    }
   ],
   "source": [
    "args = {'x': data['x'].cuda()}\n",
    "if 'alpha' in data:\n",
    "    args['alpha'] = data['alpha'].cuda()\n",
    "\n",
    "r = net(**args)\n",
    "print(data['x'].shape, ' -> ' ,r.shape)"
   ]
  },
  {
   "cell_type": "code",
   "execution_count": null,
   "id": "entire-union",
   "metadata": {},
   "outputs": [],
   "source": []
  }
 ],
 "metadata": {
  "kernelspec": {
   "display_name": "Python 3",
   "language": "python",
   "name": "python3"
  },
  "language_info": {
   "codemirror_mode": {
    "name": "ipython",
    "version": 3
   },
   "file_extension": ".py",
   "mimetype": "text/x-python",
   "name": "python",
   "nbconvert_exporter": "python",
   "pygments_lexer": "ipython3",
   "version": "3.7.11"
  },
  "latex_envs": {
   "LaTeX_envs_menu_present": true,
   "autoclose": false,
   "autocomplete": true,
   "bibliofile": "biblio.bib",
   "cite_by": "apalike",
   "current_citInitial": 1,
   "eqLabelWithNumbers": true,
   "eqNumInitial": 1,
   "hotkeys": {
    "equation": "Ctrl-E",
    "itemize": "Ctrl-I"
   },
   "labels_anchors": false,
   "latex_user_defs": false,
   "report_style_numbering": false,
   "user_envs_cfg": false
  },
  "varInspector": {
   "cols": {
    "lenName": 16,
    "lenType": 16,
    "lenVar": 40
   },
   "kernels_config": {
    "python": {
     "delete_cmd_postfix": "",
     "delete_cmd_prefix": "del ",
     "library": "var_list.py",
     "varRefreshCmd": "print(var_dic_list())"
    },
    "r": {
     "delete_cmd_postfix": ") ",
     "delete_cmd_prefix": "rm(",
     "library": "var_list.r",
     "varRefreshCmd": "cat(var_dic_list()) "
    }
   },
   "types_to_exclude": [
    "module",
    "function",
    "builtin_function_or_method",
    "instance",
    "_Feature"
   ],
   "window_display": false
  }
 },
 "nbformat": 4,
 "nbformat_minor": 5
}
