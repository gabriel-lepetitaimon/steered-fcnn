{
 "cells": [
  {
   "cell_type": "markdown",
   "id": "grateful-elimination",
   "metadata": {},
   "source": [
    "#### Includes"
   ]
  },
  {
   "cell_type": "code",
   "execution_count": 1,
   "id": "effective-advocate",
   "metadata": {},
   "outputs": [],
   "source": [
    "%load_ext autoreload\n",
    "%autoreload 2"
   ]
  },
  {
   "cell_type": "code",
   "execution_count": 2,
   "id": "sized-kazakhstan",
   "metadata": {},
   "outputs": [],
   "source": [
    "import numpy as np\n",
    "import torch\n",
    "import torch.nn.functional as F\n",
    "import altair as alt\n",
    "from altair import datum\n",
    "import pandas as pd\n",
    "import time"
   ]
  },
  {
   "cell_type": "code",
   "execution_count": 3,
   "id": "behavioral-identity",
   "metadata": {},
   "outputs": [],
   "source": [
    "import sources\n",
    "from steered_cnn.utils import AttributeDict\n",
    "from src.config import parse_config\n",
    "from steered_cnn.models import *\n",
    "from steered_cnn.steered_conv import SteeredConvBN, SteerableKernelBase\n",
    "from steered_cnn.utils import ConvBN"
   ]
  },
  {
   "cell_type": "markdown",
   "id": "revolutionary-blank",
   "metadata": {},
   "source": [
    "## Init"
   ]
  },
  {
   "cell_type": "code",
   "execution_count": 4,
   "id": "expired-choir",
   "metadata": {},
   "outputs": [],
   "source": [
    "cfg = \"\"\"\n",
    "experiment:\n",
    "    name: 'test'\n",
    "    sub-experiment: 'test'\n",
    "\n",
    "model:\n",
    "    steered: \n",
    "       steering: 'angle'\n",
    "       base: {'kr': 5, 'max_k': 5}\n",
    "    depth: 2\n",
    "    nscale: 5\n",
    "    nfeatures: 11\n",
    "    padding: 'auto'\n",
    "    upsampling: 'bilinear'\n",
    "    downsampling: 'conv'\n",
    "    batchnorm: True\n",
    "\n",
    "hyper-parameters:\n",
    "    batch-size: 4\n",
    "\"\"\"\n",
    "\n",
    "\n",
    "cfg = parse_config(cfg)"
   ]
  },
  {
   "cell_type": "code",
   "execution_count": 5,
   "id": "welcome-johns",
   "metadata": {},
   "outputs": [],
   "source": [
    "train, val, test = sources.load_dataset(cfg)"
   ]
  },
  {
   "cell_type": "code",
   "execution_count": 6,
   "id": "regulation-potter",
   "metadata": {},
   "outputs": [
    {
     "data": {
      "text/plain": [
       "SteeredUNet(\n",
       "  (downconv0-0): SteeredConvBN(\n",
       "    (conv): SteeredConv2d()\n",
       "    (bn_relu): Sequential(\n",
       "      (0): BatchNorm2d(11, eps=1e-05, momentum=0.1, affine=True, track_running_stats=True)\n",
       "      (1): ReLU()\n",
       "    )\n",
       "  )\n",
       "  (downconv0-1): SteeredConvBN(\n",
       "    (conv): SteeredConv2d()\n",
       "    (bn_relu): Sequential(\n",
       "      (0): BatchNorm2d(11, eps=1e-05, momentum=0.1, affine=True, track_running_stats=True)\n",
       "      (1): ReLU()\n",
       "    )\n",
       "  )\n",
       "  (downsample0): SteeredConvBN(\n",
       "    (conv): SteeredConv2d()\n",
       "    (bn_relu): Sequential(\n",
       "      (0): BatchNorm2d(11, eps=1e-05, momentum=0.1, affine=True, track_running_stats=True)\n",
       "      (1): ReLU()\n",
       "    )\n",
       "  )\n",
       "  (downconv1-0): SteeredConvBN(\n",
       "    (conv): SteeredConv2d()\n",
       "    (bn_relu): Sequential(\n",
       "      (0): BatchNorm2d(22, eps=1e-05, momentum=0.1, affine=True, track_running_stats=True)\n",
       "      (1): ReLU()\n",
       "    )\n",
       "  )\n",
       "  (downconv1-1): SteeredConvBN(\n",
       "    (conv): SteeredConv2d()\n",
       "    (bn_relu): Sequential(\n",
       "      (0): BatchNorm2d(22, eps=1e-05, momentum=0.1, affine=True, track_running_stats=True)\n",
       "      (1): ReLU()\n",
       "    )\n",
       "  )\n",
       "  (downsample1): SteeredConvBN(\n",
       "    (conv): SteeredConv2d()\n",
       "    (bn_relu): Sequential(\n",
       "      (0): BatchNorm2d(22, eps=1e-05, momentum=0.1, affine=True, track_running_stats=True)\n",
       "      (1): ReLU()\n",
       "    )\n",
       "  )\n",
       "  (downconv2-0): SteeredConvBN(\n",
       "    (conv): SteeredConv2d()\n",
       "    (bn_relu): Sequential(\n",
       "      (0): BatchNorm2d(44, eps=1e-05, momentum=0.1, affine=True, track_running_stats=True)\n",
       "      (1): ReLU()\n",
       "    )\n",
       "  )\n",
       "  (downconv2-1): SteeredConvBN(\n",
       "    (conv): SteeredConv2d()\n",
       "    (bn_relu): Sequential(\n",
       "      (0): BatchNorm2d(44, eps=1e-05, momentum=0.1, affine=True, track_running_stats=True)\n",
       "      (1): ReLU()\n",
       "    )\n",
       "  )\n",
       "  (downsample2): SteeredConvBN(\n",
       "    (conv): SteeredConv2d()\n",
       "    (bn_relu): Sequential(\n",
       "      (0): BatchNorm2d(44, eps=1e-05, momentum=0.1, affine=True, track_running_stats=True)\n",
       "      (1): ReLU()\n",
       "    )\n",
       "  )\n",
       "  (downconv3-0): SteeredConvBN(\n",
       "    (conv): SteeredConv2d()\n",
       "    (bn_relu): Sequential(\n",
       "      (0): BatchNorm2d(88, eps=1e-05, momentum=0.1, affine=True, track_running_stats=True)\n",
       "      (1): ReLU()\n",
       "    )\n",
       "  )\n",
       "  (downconv3-1): SteeredConvBN(\n",
       "    (conv): SteeredConv2d()\n",
       "    (bn_relu): Sequential(\n",
       "      (0): BatchNorm2d(88, eps=1e-05, momentum=0.1, affine=True, track_running_stats=True)\n",
       "      (1): ReLU()\n",
       "    )\n",
       "  )\n",
       "  (downsample3): SteeredConvBN(\n",
       "    (conv): SteeredConv2d()\n",
       "    (bn_relu): Sequential(\n",
       "      (0): BatchNorm2d(88, eps=1e-05, momentum=0.1, affine=True, track_running_stats=True)\n",
       "      (1): ReLU()\n",
       "    )\n",
       "  )\n",
       "  (downconv4-0): SteeredConvBN(\n",
       "    (conv): SteeredConv2d()\n",
       "    (bn_relu): Sequential(\n",
       "      (0): BatchNorm2d(176, eps=1e-05, momentum=0.1, affine=True, track_running_stats=True)\n",
       "      (1): ReLU()\n",
       "    )\n",
       "  )\n",
       "  (downconv4-1): SteeredConvBN(\n",
       "    (conv): SteeredConv2d()\n",
       "    (bn_relu): Sequential(\n",
       "      (0): BatchNorm2d(176, eps=1e-05, momentum=0.1, affine=True, track_running_stats=True)\n",
       "      (1): ReLU()\n",
       "    )\n",
       "  )\n",
       "  (upconv5-0): SteeredConvBN(\n",
       "    (conv): SteeredConv2d()\n",
       "    (bn_relu): Sequential(\n",
       "      (0): BatchNorm2d(264, eps=1e-05, momentum=0.1, affine=True, track_running_stats=True)\n",
       "      (1): ReLU()\n",
       "    )\n",
       "  )\n",
       "  (upconv5-1): SteeredConvBN(\n",
       "    (conv): SteeredConv2d()\n",
       "    (bn_relu): Sequential(\n",
       "      (0): BatchNorm2d(88, eps=1e-05, momentum=0.1, affine=True, track_running_stats=True)\n",
       "      (1): ReLU()\n",
       "    )\n",
       "  )\n",
       "  (upconv6-0): SteeredConvBN(\n",
       "    (conv): SteeredConv2d()\n",
       "    (bn_relu): Sequential(\n",
       "      (0): BatchNorm2d(132, eps=1e-05, momentum=0.1, affine=True, track_running_stats=True)\n",
       "      (1): ReLU()\n",
       "    )\n",
       "  )\n",
       "  (upconv6-1): SteeredConvBN(\n",
       "    (conv): SteeredConv2d()\n",
       "    (bn_relu): Sequential(\n",
       "      (0): BatchNorm2d(44, eps=1e-05, momentum=0.1, affine=True, track_running_stats=True)\n",
       "      (1): ReLU()\n",
       "    )\n",
       "  )\n",
       "  (upconv7-0): SteeredConvBN(\n",
       "    (conv): SteeredConv2d()\n",
       "    (bn_relu): Sequential(\n",
       "      (0): BatchNorm2d(66, eps=1e-05, momentum=0.1, affine=True, track_running_stats=True)\n",
       "      (1): ReLU()\n",
       "    )\n",
       "  )\n",
       "  (upconv7-1): SteeredConvBN(\n",
       "    (conv): SteeredConv2d()\n",
       "    (bn_relu): Sequential(\n",
       "      (0): BatchNorm2d(22, eps=1e-05, momentum=0.1, affine=True, track_running_stats=True)\n",
       "      (1): ReLU()\n",
       "    )\n",
       "  )\n",
       "  (upconv8-0): SteeredConvBN(\n",
       "    (conv): SteeredConv2d()\n",
       "    (bn_relu): Sequential(\n",
       "      (0): BatchNorm2d(33, eps=1e-05, momentum=0.1, affine=True, track_running_stats=True)\n",
       "      (1): ReLU()\n",
       "    )\n",
       "  )\n",
       "  (upconv8-1): SteeredConvBN(\n",
       "    (conv): SteeredConv2d()\n",
       "    (bn_relu): Sequential(\n",
       "      (0): BatchNorm2d(11, eps=1e-05, momentum=0.1, affine=True, track_running_stats=True)\n",
       "      (1): ReLU()\n",
       "    )\n",
       "  )\n",
       "  (final_conv): ConvBN(\n",
       "    (model): Sequential(\n",
       "      (0): Conv2d(11, 1, kernel_size=(1, 1), stride=1)\n",
       "    )\n",
       "  )\n",
       "  (upsample): Upsample(scale_factor=2.0, mode=bilinear)\n",
       ")"
      ]
     },
     "execution_count": 6,
     "metadata": {},
     "output_type": "execute_result"
    }
   ],
   "source": [
    "net = setup_model(cfg.model, 6, 1).cuda()\n",
    "net"
   ]
  },
  {
   "cell_type": "code",
   "execution_count": null,
   "id": "victorian-street",
   "metadata": {},
   "outputs": [],
   "source": []
  },
  {
   "cell_type": "markdown",
   "id": "prescription-juvenile",
   "metadata": {},
   "source": [
    "## Run Model"
   ]
  },
  {
   "cell_type": "code",
   "execution_count": 7,
   "id": "equipped-smell",
   "metadata": {},
   "outputs": [],
   "source": [
    "for data in train:\n",
    "    break"
   ]
  },
  {
   "cell_type": "markdown",
   "id": "above-dietary",
   "metadata": {},
   "source": [
    "### Monitor Shapes"
   ]
  },
  {
   "cell_type": "code",
   "execution_count": 8,
   "id": "strategic-strengthening",
   "metadata": {},
   "outputs": [],
   "source": [
    "def hook(name):\n",
    "    def print_shape(mod, inputs, outputs):\n",
    "        print(name, ': ', [_.shape for _ in inputs], ' -> ' , outputs.shape)\n",
    "    return print_shape\n",
    "for name, mod in net.named_modules():\n",
    "    if isinstance(mod, (SteeredConvBN, ConvBN)):\n",
    "        mod.register_forward_hook(hook(name))"
   ]
  },
  {
   "cell_type": "code",
   "execution_count": 9,
   "id": "induced-yahoo",
   "metadata": {},
   "outputs": [
    {
     "name": "stdout",
     "output_type": "stream",
     "text": [
      "downconv0-0 :  [torch.Size([4, 6, 565, 565])]  ->  torch.Size([4, 11, 565, 565])\n",
      "downconv0-1 :  [torch.Size([4, 11, 565, 565])]  ->  torch.Size([4, 11, 565, 565])\n",
      "downsample0 :  [torch.Size([4, 11, 565, 565])]  ->  torch.Size([4, 11, 283, 283])\n",
      "downconv1-0 :  [torch.Size([4, 11, 283, 283])]  ->  torch.Size([4, 22, 283, 283])\n",
      "downconv1-1 :  [torch.Size([4, 22, 283, 283])]  ->  torch.Size([4, 22, 283, 283])\n",
      "downsample1 :  [torch.Size([4, 22, 283, 283])]  ->  torch.Size([4, 22, 142, 142])\n",
      "downconv2-0 :  [torch.Size([4, 22, 142, 142])]  ->  torch.Size([4, 44, 142, 142])\n",
      "downconv2-1 :  [torch.Size([4, 44, 142, 142])]  ->  torch.Size([4, 44, 142, 142])\n",
      "downsample2 :  [torch.Size([4, 44, 142, 142])]  ->  torch.Size([4, 44, 72, 72])\n",
      "downconv3-0 :  [torch.Size([4, 44, 72, 72])]  ->  torch.Size([4, 88, 72, 72])\n",
      "downconv3-1 :  [torch.Size([4, 88, 72, 72])]  ->  torch.Size([4, 88, 72, 72])\n",
      "downsample3 :  [torch.Size([4, 88, 72, 72])]  ->  torch.Size([4, 88, 37, 37])\n",
      "downconv4-0 :  [torch.Size([4, 88, 37, 37])]  ->  torch.Size([4, 176, 37, 37])\n",
      "downconv4-1 :  [torch.Size([4, 176, 37, 37])]  ->  torch.Size([4, 176, 37, 37])\n",
      "upconv5-0 :  [torch.Size([4, 264, 72, 72])]  ->  torch.Size([4, 264, 72, 72])\n",
      "upconv5-1 :  [torch.Size([4, 264, 72, 72])]  ->  torch.Size([4, 88, 72, 72])\n",
      "upconv6-0 :  [torch.Size([4, 132, 142, 142])]  ->  torch.Size([4, 132, 142, 142])\n",
      "upconv6-1 :  [torch.Size([4, 132, 142, 142])]  ->  torch.Size([4, 44, 142, 142])\n",
      "upconv7-0 :  [torch.Size([4, 66, 283, 283])]  ->  torch.Size([4, 66, 283, 283])\n",
      "upconv7-1 :  [torch.Size([4, 66, 283, 283])]  ->  torch.Size([4, 22, 283, 283])\n",
      "upconv8-0 :  [torch.Size([4, 33, 565, 565])]  ->  torch.Size([4, 33, 565, 565])\n",
      "upconv8-1 :  [torch.Size([4, 33, 565, 565])]  ->  torch.Size([4, 11, 565, 565])\n",
      "final_conv :  [torch.Size([4, 11, 565, 565])]  ->  torch.Size([4, 1, 565, 565])\n",
      "torch.Size([4, 6, 565, 565])  ->  torch.Size([4, 1, 565, 565])\n"
     ]
    },
    {
     "name": "stderr",
     "output_type": "stream",
     "text": [
      "/home/gaby/.conda/envs/nnet/lib/python3.7/site-packages/torch/nn/functional.py:3458: UserWarning: Default upsampling behavior when mode=bilinear is changed to align_corners=False since 0.4.0. Please specify align_corners=True if the old behavior is desired. See the documentation of nn.Upsample for details.\n",
      "  \"See the documentation of nn.Upsample for details.\".format(mode)\n"
     ]
    }
   ],
   "source": [
    "args = {'x': data['x'].cuda()}\n",
    "if 'alpha' in data:\n",
    "    args['alpha'] = data['alpha'].cuda()\n",
    "\n",
    "r = net(**args)\n",
    "print(data['x'].shape, ' -> ' ,r.shape)"
   ]
  },
  {
   "cell_type": "code",
   "execution_count": 11,
   "id": "heavy-scale",
   "metadata": {},
   "outputs": [
    {
     "data": {
      "text/plain": [
       "{0: {0.0, 1.2071068, 2.325141, 3.3071315},\n",
       " 1: {1.2071068, 2.325141, 3.3071315},\n",
       " 2: {1.2071068, 2.325141, 3.3071315},\n",
       " 3: {1.2071068, 2.325141, 3.3071315},\n",
       " 4: {1.2071068, 2.325141, 3.3071315},\n",
       " 5: {2.325141, 3.3071315},\n",
       " 6: {2.325141, 3.3071315},\n",
       " 7: {2.325141, 3.3071315},\n",
       " 8: {2.325141, 3.3071315}}"
      ]
     },
     "execution_count": 11,
     "metadata": {},
     "output_type": "execute_result"
    }
   ],
   "source": [
    "kr = SteerableKernelBase.create_radial(5, cap_k=False, max_k=8).kernels_info\n",
    "KR = {}\n",
    "for _ in kr:\n",
    "    k = _['k']\n",
    "    r = _['r']\n",
    "    if k not in KR:\n",
    "        KR[k] = set()\n",
    "    KR[k].add(r)\n",
    "KR"
   ]
  }
 ],
 "metadata": {
  "kernelspec": {
   "display_name": "Python 3",
   "language": "python",
   "name": "python3"
  },
  "language_info": {
   "codemirror_mode": {
    "name": "ipython",
    "version": 3
   },
   "file_extension": ".py",
   "mimetype": "text/x-python",
   "name": "python",
   "nbconvert_exporter": "python",
   "pygments_lexer": "ipython3",
   "version": "3.7.11"
  },
  "latex_envs": {
   "LaTeX_envs_menu_present": true,
   "autoclose": false,
   "autocomplete": true,
   "bibliofile": "biblio.bib",
   "cite_by": "apalike",
   "current_citInitial": 1,
   "eqLabelWithNumbers": true,
   "eqNumInitial": 1,
   "hotkeys": {
    "equation": "Ctrl-E",
    "itemize": "Ctrl-I"
   },
   "labels_anchors": false,
   "latex_user_defs": false,
   "report_style_numbering": false,
   "user_envs_cfg": false
  },
  "varInspector": {
   "cols": {
    "lenName": 16,
    "lenType": 16,
    "lenVar": 40
   },
   "kernels_config": {
    "python": {
     "delete_cmd_postfix": "",
     "delete_cmd_prefix": "del ",
     "library": "var_list.py",
     "varRefreshCmd": "print(var_dic_list())"
    },
    "r": {
     "delete_cmd_postfix": ") ",
     "delete_cmd_prefix": "rm(",
     "library": "var_list.r",
     "varRefreshCmd": "cat(var_dic_list()) "
    }
   },
   "types_to_exclude": [
    "module",
    "function",
    "builtin_function_or_method",
    "instance",
    "_Feature"
   ],
   "window_display": false
  }
 },
 "nbformat": 4,
 "nbformat_minor": 5
}
