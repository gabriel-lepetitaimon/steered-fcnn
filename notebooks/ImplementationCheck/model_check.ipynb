{
 "cells": [
  {
   "cell_type": "markdown",
   "id": "alone-india",
   "metadata": {},
   "source": [
    "#### Includes"
   ]
  },
  {
   "cell_type": "code",
   "execution_count": 1,
   "id": "headed-notice",
   "metadata": {},
   "outputs": [],
   "source": [
    "%load_ext autoreload\n",
    "%autoreload 2"
   ]
  },
  {
   "cell_type": "code",
   "execution_count": 2,
   "id": "reported-logging",
   "metadata": {},
   "outputs": [],
   "source": [
    "import numpy as np\n",
    "import torch\n",
    "import torch.nn.functional as F\n",
    "import altair as alt\n",
    "from altair import datum\n",
    "import pandas as pd\n",
    "import time"
   ]
  },
  {
   "cell_type": "code",
   "execution_count": 3,
   "id": "regulation-wyoming",
   "metadata": {},
   "outputs": [],
   "source": [
    "import sources\n",
    "from src.config.attribute_dict import AttributeDict\n",
    "from src.config import parse_config\n",
    "from steered_cnn.models import *\n",
    "from steered_cnn.steered_conv import SteeredConvBN\n",
    "from steered_cnn.utils import ConvBN"
   ]
  },
  {
   "cell_type": "markdown",
   "id": "acknowledged-prison",
   "metadata": {},
   "source": [
    "## Init"
   ]
  },
  {
   "cell_type": "code",
   "execution_count": 4,
   "id": "constitutional-symphony",
   "metadata": {},
   "outputs": [],
   "source": [
    "cfg = \"\"\"\n",
    "experiment:\n",
    "    name: 'test'\n",
    "    sub-experiment: 'test'\n",
    "\n",
    "model:\n",
    "    steered: False\n",
    "       # steering: 'angle'\n",
    "       # base: {'kr': 5, 'max_k': 5}\n",
    "    depth: 2\n",
    "    nscale: 5\n",
    "    nfeatures: 11\n",
    "    padding: 'auto'\n",
    "    upsampling: 'bilinear'\n",
    "    downsampling: 'conv'\n",
    "    batchnorm: True\n",
    "\n",
    "hyper-parameters:\n",
    "    batch-size: 4\n",
    "\"\"\"\n",
    "\n",
    "\n",
    "cfg = parse_config(cfg)"
   ]
  },
  {
   "cell_type": "code",
   "execution_count": 5,
   "id": "peripheral-cornwall",
   "metadata": {},
   "outputs": [],
   "source": [
    "train, val, test = sources.load_dataset(cfg)"
   ]
  },
  {
   "cell_type": "code",
   "execution_count": 6,
   "id": "executive-southeast",
   "metadata": {},
   "outputs": [
    {
     "data": {
      "text/plain": [
       "UNet(\n",
       "  (downconv0-0): ConvBN(\n",
       "    (model): Sequential(\n",
       "      (0): Conv2d(6, 11, kernel_size=(5, 5), stride=1, padding=(2, 2), bias=False)\n",
       "      (1): BatchNorm2d(11, eps=1e-05, momentum=0.1, affine=True, track_running_stats=True)\n",
       "      (2): ReLU()\n",
       "    )\n",
       "  )\n",
       "  (downconv0-1): ConvBN(\n",
       "    (model): Sequential(\n",
       "      (0): Conv2d(11, 11, kernel_size=(5, 5), stride=1, padding=(2, 2), bias=False)\n",
       "      (1): BatchNorm2d(11, eps=1e-05, momentum=0.1, affine=True, track_running_stats=True)\n",
       "      (2): ReLU()\n",
       "    )\n",
       "  )\n",
       "  (downsample0): ConvBN(\n",
       "    (model): Sequential(\n",
       "      (0): Conv2d(11, 11, kernel_size=(2, 2), stride=2, padding=(1, 1), bias=False)\n",
       "      (1): BatchNorm2d(11, eps=1e-05, momentum=0.1, affine=True, track_running_stats=True)\n",
       "      (2): ReLU()\n",
       "    )\n",
       "  )\n",
       "  (downconv1-0): ConvBN(\n",
       "    (model): Sequential(\n",
       "      (0): Conv2d(11, 22, kernel_size=(5, 5), stride=1, padding=(2, 2), bias=False)\n",
       "      (1): BatchNorm2d(22, eps=1e-05, momentum=0.1, affine=True, track_running_stats=True)\n",
       "      (2): ReLU()\n",
       "    )\n",
       "  )\n",
       "  (downconv1-1): ConvBN(\n",
       "    (model): Sequential(\n",
       "      (0): Conv2d(22, 22, kernel_size=(5, 5), stride=1, padding=(2, 2), bias=False)\n",
       "      (1): BatchNorm2d(22, eps=1e-05, momentum=0.1, affine=True, track_running_stats=True)\n",
       "      (2): ReLU()\n",
       "    )\n",
       "  )\n",
       "  (downsample1): ConvBN(\n",
       "    (model): Sequential(\n",
       "      (0): Conv2d(22, 22, kernel_size=(2, 2), stride=2, padding=(1, 1), bias=False)\n",
       "      (1): BatchNorm2d(22, eps=1e-05, momentum=0.1, affine=True, track_running_stats=True)\n",
       "      (2): ReLU()\n",
       "    )\n",
       "  )\n",
       "  (downconv2-0): ConvBN(\n",
       "    (model): Sequential(\n",
       "      (0): Conv2d(22, 44, kernel_size=(5, 5), stride=1, padding=(2, 2), bias=False)\n",
       "      (1): BatchNorm2d(44, eps=1e-05, momentum=0.1, affine=True, track_running_stats=True)\n",
       "      (2): ReLU()\n",
       "    )\n",
       "  )\n",
       "  (downconv2-1): ConvBN(\n",
       "    (model): Sequential(\n",
       "      (0): Conv2d(44, 44, kernel_size=(5, 5), stride=1, padding=(2, 2), bias=False)\n",
       "      (1): BatchNorm2d(44, eps=1e-05, momentum=0.1, affine=True, track_running_stats=True)\n",
       "      (2): ReLU()\n",
       "    )\n",
       "  )\n",
       "  (downsample2): ConvBN(\n",
       "    (model): Sequential(\n",
       "      (0): Conv2d(44, 44, kernel_size=(2, 2), stride=2, padding=(1, 1), bias=False)\n",
       "      (1): BatchNorm2d(44, eps=1e-05, momentum=0.1, affine=True, track_running_stats=True)\n",
       "      (2): ReLU()\n",
       "    )\n",
       "  )\n",
       "  (downconv3-0): ConvBN(\n",
       "    (model): Sequential(\n",
       "      (0): Conv2d(44, 88, kernel_size=(5, 5), stride=1, padding=(2, 2), bias=False)\n",
       "      (1): BatchNorm2d(88, eps=1e-05, momentum=0.1, affine=True, track_running_stats=True)\n",
       "      (2): ReLU()\n",
       "    )\n",
       "  )\n",
       "  (downconv3-1): ConvBN(\n",
       "    (model): Sequential(\n",
       "      (0): Conv2d(88, 88, kernel_size=(5, 5), stride=1, padding=(2, 2), bias=False)\n",
       "      (1): BatchNorm2d(88, eps=1e-05, momentum=0.1, affine=True, track_running_stats=True)\n",
       "      (2): ReLU()\n",
       "    )\n",
       "  )\n",
       "  (downsample3): ConvBN(\n",
       "    (model): Sequential(\n",
       "      (0): Conv2d(88, 88, kernel_size=(2, 2), stride=2, padding=(1, 1), bias=False)\n",
       "      (1): BatchNorm2d(88, eps=1e-05, momentum=0.1, affine=True, track_running_stats=True)\n",
       "      (2): ReLU()\n",
       "    )\n",
       "  )\n",
       "  (downconv4-0): ConvBN(\n",
       "    (model): Sequential(\n",
       "      (0): Conv2d(88, 176, kernel_size=(5, 5), stride=1, padding=(2, 2), bias=False)\n",
       "      (1): BatchNorm2d(176, eps=1e-05, momentum=0.1, affine=True, track_running_stats=True)\n",
       "      (2): ReLU()\n",
       "    )\n",
       "  )\n",
       "  (downconv4-1): ConvBN(\n",
       "    (model): Sequential(\n",
       "      (0): Conv2d(176, 176, kernel_size=(5, 5), stride=1, padding=(2, 2), bias=False)\n",
       "      (1): BatchNorm2d(176, eps=1e-05, momentum=0.1, affine=True, track_running_stats=True)\n",
       "      (2): ReLU()\n",
       "    )\n",
       "  )\n",
       "  (upconv5-0): ConvBN(\n",
       "    (model): Sequential(\n",
       "      (0): Conv2d(264, 264, kernel_size=(5, 5), stride=1, padding=(2, 2), bias=False)\n",
       "      (1): BatchNorm2d(264, eps=1e-05, momentum=0.1, affine=True, track_running_stats=True)\n",
       "      (2): ReLU()\n",
       "    )\n",
       "  )\n",
       "  (upconv5-1): ConvBN(\n",
       "    (model): Sequential(\n",
       "      (0): Conv2d(264, 88, kernel_size=(5, 5), stride=1, padding=(2, 2), bias=False)\n",
       "      (1): BatchNorm2d(88, eps=1e-05, momentum=0.1, affine=True, track_running_stats=True)\n",
       "      (2): ReLU()\n",
       "    )\n",
       "  )\n",
       "  (upconv6-0): ConvBN(\n",
       "    (model): Sequential(\n",
       "      (0): Conv2d(132, 132, kernel_size=(5, 5), stride=1, padding=(2, 2), bias=False)\n",
       "      (1): BatchNorm2d(132, eps=1e-05, momentum=0.1, affine=True, track_running_stats=True)\n",
       "      (2): ReLU()\n",
       "    )\n",
       "  )\n",
       "  (upconv6-1): ConvBN(\n",
       "    (model): Sequential(\n",
       "      (0): Conv2d(132, 44, kernel_size=(5, 5), stride=1, padding=(2, 2), bias=False)\n",
       "      (1): BatchNorm2d(44, eps=1e-05, momentum=0.1, affine=True, track_running_stats=True)\n",
       "      (2): ReLU()\n",
       "    )\n",
       "  )\n",
       "  (upconv7-0): ConvBN(\n",
       "    (model): Sequential(\n",
       "      (0): Conv2d(66, 66, kernel_size=(5, 5), stride=1, padding=(2, 2), bias=False)\n",
       "      (1): BatchNorm2d(66, eps=1e-05, momentum=0.1, affine=True, track_running_stats=True)\n",
       "      (2): ReLU()\n",
       "    )\n",
       "  )\n",
       "  (upconv7-1): ConvBN(\n",
       "    (model): Sequential(\n",
       "      (0): Conv2d(66, 22, kernel_size=(5, 5), stride=1, padding=(2, 2), bias=False)\n",
       "      (1): BatchNorm2d(22, eps=1e-05, momentum=0.1, affine=True, track_running_stats=True)\n",
       "      (2): ReLU()\n",
       "    )\n",
       "  )\n",
       "  (upconv8-0): ConvBN(\n",
       "    (model): Sequential(\n",
       "      (0): Conv2d(33, 33, kernel_size=(5, 5), stride=1, padding=(2, 2), bias=False)\n",
       "      (1): BatchNorm2d(33, eps=1e-05, momentum=0.1, affine=True, track_running_stats=True)\n",
       "      (2): ReLU()\n",
       "    )\n",
       "  )\n",
       "  (upconv8-1): ConvBN(\n",
       "    (model): Sequential(\n",
       "      (0): Conv2d(33, 11, kernel_size=(5, 5), stride=1, padding=(2, 2), bias=False)\n",
       "      (1): BatchNorm2d(11, eps=1e-05, momentum=0.1, affine=True, track_running_stats=True)\n",
       "      (2): ReLU()\n",
       "    )\n",
       "  )\n",
       "  (final_conv): ConvBN(\n",
       "    (model): Sequential(\n",
       "      (0): Conv2d(11, 1, kernel_size=(1, 1), stride=1)\n",
       "    )\n",
       "  )\n",
       "  (upsample): Upsample(scale_factor=2.0, mode=bilinear)\n",
       ")"
      ]
     },
     "execution_count": 6,
     "metadata": {},
     "output_type": "execute_result"
    }
   ],
   "source": [
    "net = setup_model(cfg.model, 6, 1).cuda()\n",
    "net"
   ]
  },
  {
   "cell_type": "code",
   "execution_count": null,
   "id": "humanitarian-tuning",
   "metadata": {},
   "outputs": [],
   "source": []
  },
  {
   "cell_type": "markdown",
   "id": "affected-acquisition",
   "metadata": {},
   "source": [
    "## Run Model"
   ]
  },
  {
   "cell_type": "code",
   "execution_count": 7,
   "id": "smart-hampshire",
   "metadata": {},
   "outputs": [],
   "source": [
    "for data in train:\n",
    "    break"
   ]
  },
  {
   "cell_type": "markdown",
   "id": "accurate-myrtle",
   "metadata": {},
   "source": [
    "### Monitor Shapes"
   ]
  },
  {
   "cell_type": "code",
   "execution_count": 8,
   "id": "executive-proposal",
   "metadata": {},
   "outputs": [],
   "source": [
    "def hook(name):\n",
    "    def print_shape(mod, inputs, outputs):\n",
    "        print(name, ': ', [_.shape for _ in inputs], ' -> ' , outputs.shape)\n",
    "    return print_shape\n",
    "for name, mod in net.named_modules():\n",
    "    if isinstance(mod, (SteeredConvBN, ConvBN)):\n",
    "        mod.register_forward_hook(hook(name))"
   ]
  },
  {
   "cell_type": "code",
   "execution_count": 9,
   "id": "sufficient-equilibrium",
   "metadata": {},
   "outputs": [
    {
     "name": "stdout",
     "output_type": "stream",
     "text": [
      "downconv0-0 :  [torch.Size([4, 6, 565, 565])]  ->  torch.Size([4, 11, 565, 565])\n",
      "downconv0-1 :  [torch.Size([4, 11, 565, 565])]  ->  torch.Size([4, 11, 565, 565])\n",
      "downsample0 :  [torch.Size([4, 11, 565, 565])]  ->  torch.Size([4, 11, 283, 283])\n",
      "downconv1-0 :  [torch.Size([4, 11, 283, 283])]  ->  torch.Size([4, 22, 283, 283])\n",
      "downconv1-1 :  [torch.Size([4, 22, 283, 283])]  ->  torch.Size([4, 22, 283, 283])\n",
      "downsample1 :  [torch.Size([4, 22, 283, 283])]  ->  torch.Size([4, 22, 142, 142])\n",
      "downconv2-0 :  [torch.Size([4, 22, 142, 142])]  ->  torch.Size([4, 44, 142, 142])\n",
      "downconv2-1 :  [torch.Size([4, 44, 142, 142])]  ->  torch.Size([4, 44, 142, 142])\n",
      "downsample2 :  [torch.Size([4, 44, 142, 142])]  ->  torch.Size([4, 44, 72, 72])\n",
      "downconv3-0 :  [torch.Size([4, 44, 72, 72])]  ->  torch.Size([4, 88, 72, 72])\n",
      "downconv3-1 :  [torch.Size([4, 88, 72, 72])]  ->  torch.Size([4, 88, 72, 72])\n",
      "downsample3 :  [torch.Size([4, 88, 72, 72])]  ->  torch.Size([4, 88, 37, 37])\n",
      "downconv4-0 :  [torch.Size([4, 88, 37, 37])]  ->  torch.Size([4, 176, 37, 37])\n",
      "downconv4-1 :  [torch.Size([4, 176, 37, 37])]  ->  torch.Size([4, 176, 37, 37])\n",
      "upconv5-0 :  [torch.Size([4, 264, 72, 72])]  ->  torch.Size([4, 264, 72, 72])\n",
      "upconv5-1 :  [torch.Size([4, 264, 72, 72])]  ->  torch.Size([4, 88, 72, 72])\n",
      "upconv6-0 :  [torch.Size([4, 132, 142, 142])]  ->  torch.Size([4, 132, 142, 142])\n",
      "upconv6-1 :  [torch.Size([4, 132, 142, 142])]  ->  torch.Size([4, 44, 142, 142])\n",
      "upconv7-0 :  [torch.Size([4, 66, 283, 283])]  ->  torch.Size([4, 66, 283, 283])\n",
      "upconv7-1 :  [torch.Size([4, 66, 283, 283])]  ->  torch.Size([4, 22, 283, 283])\n",
      "upconv8-0 :  [torch.Size([4, 33, 565, 565])]  ->  torch.Size([4, 33, 565, 565])\n",
      "upconv8-1 :  [torch.Size([4, 33, 565, 565])]  ->  torch.Size([4, 11, 565, 565])\n",
      "final_conv :  [torch.Size([4, 11, 565, 565])]  ->  torch.Size([4, 1, 565, 565])\n",
      "torch.Size([4, 6, 565, 565])  ->  torch.Size([4, 1, 565, 565])\n"
     ]
    },
    {
     "name": "stderr",
     "output_type": "stream",
     "text": [
      "/home/gaby/.conda/envs/nnet/lib/python3.7/site-packages/torch/nn/functional.py:3458: UserWarning: Default upsampling behavior when mode=bilinear is changed to align_corners=False since 0.4.0. Please specify align_corners=True if the old behavior is desired. See the documentation of nn.Upsample for details.\n",
      "  \"See the documentation of nn.Upsample for details.\".format(mode)\n"
     ]
    }
   ],
   "source": [
    "args = {'x': data['x'].cuda()}\n",
    "if 'alpha' in data:\n",
    "    args['alpha'] = data['alpha'].cuda()\n",
    "\n",
    "r = net(**args)\n",
    "print(data['x'].shape, ' -> ' ,r.shape)"
   ]
  },
  {
   "cell_type": "code",
   "execution_count": null,
   "id": "guided-sheet",
   "metadata": {},
   "outputs": [],
   "source": []
  }
 ],
 "metadata": {
  "kernelspec": {
   "display_name": "Python 3",
   "language": "python",
   "name": "python3"
  },
  "language_info": {
   "codemirror_mode": {
    "name": "ipython",
    "version": 3
   },
   "file_extension": ".py",
   "mimetype": "text/x-python",
   "name": "python",
   "nbconvert_exporter": "python",
   "pygments_lexer": "ipython3",
   "version": "3.7.11"
  },
  "latex_envs": {
   "LaTeX_envs_menu_present": true,
   "autoclose": false,
   "autocomplete": true,
   "bibliofile": "biblio.bib",
   "cite_by": "apalike",
   "current_citInitial": 1,
   "eqLabelWithNumbers": true,
   "eqNumInitial": 1,
   "hotkeys": {
    "equation": "Ctrl-E",
    "itemize": "Ctrl-I"
   },
   "labels_anchors": false,
   "latex_user_defs": false,
   "report_style_numbering": false,
   "user_envs_cfg": false
  },
  "varInspector": {
   "cols": {
    "lenName": 16,
    "lenType": 16,
    "lenVar": 40
   },
   "kernels_config": {
    "python": {
     "delete_cmd_postfix": "",
     "delete_cmd_prefix": "del ",
     "library": "var_list.py",
     "varRefreshCmd": "print(var_dic_list())"
    },
    "r": {
     "delete_cmd_postfix": ") ",
     "delete_cmd_prefix": "rm(",
     "library": "var_list.r",
     "varRefreshCmd": "cat(var_dic_list()) "
    }
   },
   "types_to_exclude": [
    "module",
    "function",
    "builtin_function_or_method",
    "instance",
    "_Feature"
   ],
   "window_display": false
  }
 },
 "nbformat": 4,
 "nbformat_minor": 5
}
