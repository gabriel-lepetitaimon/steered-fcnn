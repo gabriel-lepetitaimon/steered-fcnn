{
 "cells": [
  {
   "cell_type": "markdown",
   "id": "stupid-grain",
   "metadata": {},
   "source": [
    "#### Includes"
   ]
  },
  {
   "cell_type": "code",
   "execution_count": 1,
   "id": "natural-shock",
   "metadata": {},
   "outputs": [],
   "source": [
    "%load_ext autoreload\n",
    "%autoreload 2"
   ]
  },
  {
   "cell_type": "code",
   "execution_count": 2,
   "id": "ignored-spray",
   "metadata": {},
   "outputs": [],
   "source": [
    "import numpy as np\n",
    "import torch\n",
    "import torch.nn.functional as F\n",
    "import altair as alt\n",
    "from altair import datum\n",
    "import pandas as pd\n",
    "import time\n",
    "import os.path as P\n",
    "from pytorch_lightning.utilities.cloud_io import load as pl_load\n",
    "import pandas as pd\n",
    "import altair as alt\n",
    "alt.data_transformers.disable_max_rows()\n",
    "None"
   ]
  },
  {
   "cell_type": "code",
   "execution_count": 3,
   "id": "sustained-istanbul",
   "metadata": {},
   "outputs": [],
   "source": [
    "from sources import load_dataset, default_config, parse_config\n",
    "from run_train import setup_model\n",
    "from src.trainer import Binary2DSegmentation"
   ]
  },
  {
   "cell_type": "code",
   "execution_count": 4,
   "id": "minus-mining",
   "metadata": {},
   "outputs": [],
   "source": [
    "from steered_cnn.utils.rotequivariance_toolbox import *\n",
    "from steered_cnn.steered_conv.steerable_filters import radial_steerable_filter, plot_filter\n",
    "from steered_cnn.steered_conv import SteerableKernelBase, SteeredConv2d"
   ]
  },
  {
   "cell_type": "markdown",
   "id": "authorized-yield",
   "metadata": {},
   "source": [
    "## Initialization"
   ]
  },
  {
   "cell_type": "code",
   "execution_count": 5,
   "id": "persistent-gothic",
   "metadata": {},
   "outputs": [],
   "source": [
    "RUN_ID = '14/5c19cfd8194b470dbc2d2a179f865365'"
   ]
  },
  {
   "cell_type": "code",
   "execution_count": 6,
   "id": "spoken-essay",
   "metadata": {},
   "outputs": [],
   "source": [
    "art_path = P.abspath(P.join('/home/gaby/mlflow/mlruns', RUN_ID, 'artifacts/'))\n",
    "cfg = parse_config(art_path+'/cfg_extended.yaml')\n",
    "cfg['script-arguments']['gpus']='0'"
   ]
  },
  {
   "cell_type": "code",
   "execution_count": 7,
   "id": "funky-chemical",
   "metadata": {},
   "outputs": [],
   "source": [
    "model = setup_model(cfg.model, 6, 1)\n",
    "net = Binary2DSegmentation(model=model)\n",
    "state_dict = pl_load(art_path+'/best-val-roc.ckpt'.format(25), map_location='cuda:0')['state_dict']\n",
    "net.load_state_dict(state_dict)\n",
    "net.eval().cuda()\n",
    "None"
   ]
  },
  {
   "cell_type": "markdown",
   "id": "plastic-internship",
   "metadata": {},
   "source": [
    "## Weight Value Analysis"
   ]
  },
  {
   "cell_type": "code",
   "execution_count": 8,
   "id": "nominated-advance",
   "metadata": {},
   "outputs": [
    {
     "data": {
      "text/html": [
       "\n",
       "<div id=\"altair-viz-72f4fd3f6c2d43aa971a573610221f02\"></div>\n",
       "<script type=\"text/javascript\">\n",
       "  (function(spec, embedOpt){\n",
       "    let outputDiv = document.currentScript.previousElementSibling;\n",
       "    if (outputDiv.id !== \"altair-viz-72f4fd3f6c2d43aa971a573610221f02\") {\n",
       "      outputDiv = document.getElementById(\"altair-viz-72f4fd3f6c2d43aa971a573610221f02\");\n",
       "    }\n",
       "    const paths = {\n",
       "      \"vega\": \"https://cdn.jsdelivr.net/npm//vega@5?noext\",\n",
       "      \"vega-lib\": \"https://cdn.jsdelivr.net/npm//vega-lib?noext\",\n",
       "      \"vega-lite\": \"https://cdn.jsdelivr.net/npm//vega-lite@4.8.1?noext\",\n",
       "      \"vega-embed\": \"https://cdn.jsdelivr.net/npm//vega-embed@6?noext\",\n",
       "    };\n",
       "\n",
       "    function loadScript(lib) {\n",
       "      return new Promise(function(resolve, reject) {\n",
       "        var s = document.createElement('script');\n",
       "        s.src = paths[lib];\n",
       "        s.async = true;\n",
       "        s.onload = () => resolve(paths[lib]);\n",
       "        s.onerror = () => reject(`Error loading script: ${paths[lib]}`);\n",
       "        document.getElementsByTagName(\"head\")[0].appendChild(s);\n",
       "      });\n",
       "    }\n",
       "\n",
       "    function showError(err) {\n",
       "      outputDiv.innerHTML = `<div class=\"error\" style=\"color:red;\">${err}</div>`;\n",
       "      throw err;\n",
       "    }\n",
       "\n",
       "    function displayChart(vegaEmbed) {\n",
       "      vegaEmbed(outputDiv, spec, embedOpt)\n",
       "        .catch(err => showError(`Javascript Error: ${err.message}<br>This usually means there's a typo in your chart specification. See the javascript console for the full traceback.`));\n",
       "    }\n",
       "\n",
       "    if(typeof define === \"function\" && define.amd) {\n",
       "      requirejs.config({paths});\n",
       "      require([\"vega-embed\"], displayChart, err => showError(`Error loading script: ${err.message}`));\n",
       "    } else if (typeof vegaEmbed === \"function\") {\n",
       "      displayChart(vegaEmbed);\n",
       "    } else {\n",
       "      loadScript(\"vega\")\n",
       "        .then(() => loadScript(\"vega-lite\"))\n",
       "        .then(() => loadScript(\"vega-embed\"))\n",
       "        .catch(showError)\n",
       "        .then(() => displayChart(vegaEmbed));\n",
       "    }\n",
       "  })({\"config\": {\"view\": {\"continuousWidth\": 400, \"continuousHeight\": 300}}, \"data\": {\"name\": \"data-06a9d39e7b14ebfb21621c8430ea2dd7\"}, \"facet\": {\"column\": {\"type\": \"quantitative\", \"field\": \"k\"}}, \"spec\": {\"layer\": [{\"mark\": {\"type\": \"tick\", \"thickness\": 2, \"width\": 10, \"xOffset\": 0}, \"encoding\": {\"x\": {\"type\": \"nominal\", \"field\": \"r_name\"}, \"y\": {\"type\": \"quantitative\", \"axis\": {\"format\": \"e\", \"values\": [1e-05, 0.0001, 0.001, 0.01, 0.1]}, \"field\": \"median\", \"scale\": {\"domain\": [1e-05, 1], \"type\": \"log\"}, \"title\": \"Weights norm\"}}, \"selection\": {\"selector001\": {\"type\": \"interval\", \"bind\": \"scales\", \"encodings\": [\"y\"]}}, \"width\": 70}, {\"mark\": {\"type\": \"bar\", \"opacity\": 0.2, \"width\": 10, \"xOffset\": 0}, \"encoding\": {\"x\": {\"type\": \"nominal\", \"field\": \"r_name\"}, \"y\": {\"type\": \"quantitative\", \"field\": \"-q0\", \"title\": \"\"}, \"y2\": {\"field\": \"q0\"}}, \"width\": 70}, {\"mark\": {\"type\": \"bar\", \"opacity\": 0.2, \"width\": 10, \"xOffset\": 0}, \"encoding\": {\"x\": {\"type\": \"nominal\", \"field\": \"r_name\"}, \"y\": {\"type\": \"quantitative\", \"field\": \"-q1\", \"title\": \"\"}, \"y2\": {\"field\": \"q1\"}}, \"width\": 70}, {\"mark\": {\"type\": \"bar\", \"opacity\": 0.2, \"width\": 10, \"xOffset\": 0}, \"encoding\": {\"x\": {\"type\": \"nominal\", \"field\": \"r_name\"}, \"y\": {\"type\": \"quantitative\", \"field\": \"-q2\", \"title\": \"\"}, \"y2\": {\"field\": \"q2\"}}, \"width\": 70}, {\"mark\": {\"type\": \"bar\", \"opacity\": 0.3, \"width\": 10, \"xOffset\": 0}, \"encoding\": {\"x\": {\"type\": \"nominal\", \"field\": \"r_name\"}, \"y\": {\"type\": \"quantitative\", \"field\": \"-q3\", \"title\": \"\"}, \"y2\": {\"field\": \"q3\"}}, \"width\": 70}, {\"mark\": {\"type\": \"bar\", \"opacity\": 0.3, \"width\": 10, \"xOffset\": 0}, \"encoding\": {\"x\": {\"type\": \"nominal\", \"field\": \"r_name\"}, \"y\": {\"type\": \"quantitative\", \"field\": \"-q4\", \"title\": \"\"}, \"y2\": {\"field\": \"q4\"}}, \"width\": 70}]}, \"resolve\": {\"scale\": {\"x\": \"independent\"}}, \"$schema\": \"https://vega.github.io/schema/vega-lite/v4.8.1.json\", \"datasets\": {\"data-06a9d39e7b14ebfb21621c8430ea2dd7\": [{\"r_name\": 0.0, \"k\": 0, \"r\": 0.0, \"name\": \"k=0 r=0.0\", \"median\": 0.03298009932041168, \"q0\": 0.08290768414735794, \"-q0\": 0.005210004048421977, \"q1\": 0.06579867750406265, \"-q1\": 0.010489570442587139, \"q2\": 0.05490618571639061, \"-q2\": 0.015810778364539146, \"q3\": 0.04652815684676164, \"-q3\": 0.02131462283432484, \"q4\": 0.03939090389758347, \"-q4\": 0.02696347329765559}, {\"r_name\": 1.2071068286895752, \"k\": 0, \"r\": 1.2071068286895752, \"name\": \"k=0 r=1.2071068286895752\", \"median\": 0.03273449465632439, \"q0\": 0.08189206011593342, \"-q0\": 0.0051646229112520805, \"q1\": 0.06529329717159271, \"-q1\": 0.010384629014879469, \"q2\": 0.05458496417850256, \"-q2\": 0.015695851296186447, \"q3\": 0.04627739265561104, \"-q3\": 0.021179459989070892, \"q4\": 0.03913366701453924, \"-q4\": 0.026731439866125587}, {\"r_name\": 2.325140953063965, \"k\": 0, \"r\": 2.325140953063965, \"name\": \"k=0 r=2.325140953063965\", \"median\": 0.03253876976668835, \"q0\": 0.08151813596487045, \"-q0\": 0.005262076039798557, \"q1\": 0.06479616835713387, \"-q1\": 0.010377169121056797, \"q2\": 0.05442814435809851, \"-q2\": 0.015507802367210388, \"q3\": 0.046019181609153734, \"-q3\": 0.020935801789164547, \"q4\": 0.03893723431974649, \"-q4\": 0.02662106137722731}, {\"r_name\": 1.2071068286895752, \"k\": 1, \"r\": 1.2071068286895752, \"name\": \"k=1 r=1.2071068286895752\", \"median\": 0.05683901906013489, \"q0\": 0.12595881894230843, \"-q0\": 0.022454529535025355, \"q1\": 0.09958160668611526, \"-q1\": 0.031352410092949874, \"q2\": 0.08455012924969196, \"-q2\": 0.03800494782626629, \"q3\": 0.07344342768192284, \"-q3\": 0.044080086052417755, \"q4\": 0.06451560370624065, \"-q4\": 0.05021991766989232}, {\"r_name\": 2.325140953063965, \"k\": 1, \"r\": 2.325140953063965, \"name\": \"k=1 r=2.325140953063965\", \"median\": 0.05647234804928303, \"q0\": 0.12340534292161465, \"-q0\": 0.02224201429635286, \"q1\": 0.09827212244272232, \"-q1\": 0.03116822615265847, \"q2\": 0.08351162448525429, \"-q2\": 0.03795021120458841, \"q3\": 0.07263784855604172, \"-q3\": 0.04396226257085801, \"q4\": 0.06388196162879467, \"-q4\": 0.04998290818184614}, {\"r_name\": 1.2071068286895752, \"k\": 2, \"r\": 1.2071068286895752, \"name\": \"k=2 r=1.2071068286895752\", \"median\": 0.05917256884276867, \"q0\": 0.13866515830159187, \"-q0\": 0.023127463180571774, \"q1\": 0.10706885904073715, \"-q1\": 0.03208393231034279, \"q2\": 0.08977495692670345, \"-q2\": 0.03892341069877148, \"q3\": 0.07733035087585444, \"-q3\": 0.04538917914032936, \"q4\": 0.06737582013010977, \"-q4\": 0.05200812127441168}, {\"r_name\": 2.325140953063965, \"k\": 2, \"r\": 2.325140953063965, \"name\": \"k=2 r=2.325140953063965\", \"median\": 0.05945650115609169, \"q0\": 0.1381285861134529, \"-q0\": 0.023255260661244382, \"q1\": 0.10730509459972382, \"-q1\": 0.032250458374619484, \"q2\": 0.0898985993117094, \"-q2\": 0.039202420972287655, \"q3\": 0.0773831456899643, \"-q3\": 0.045625925064086914, \"q4\": 0.06762465648353097, \"-q4\": 0.0523096052929759}, {\"r_name\": 1.2071068286895752, \"k\": 3, \"r\": 1.2071068286895752, \"name\": \"k=3 r=1.2071068286895752\", \"median\": 0.05838792957365513, \"q0\": 0.13187400251626968, \"-q0\": 0.022833915892988433, \"q1\": 0.1032283753156662, \"-q1\": 0.03181937709450722, \"q2\": 0.08712549693882465, \"-q2\": 0.03864066768437624, \"q3\": 0.07557395100593564, \"-q3\": 0.04492278024554253, \"q4\": 0.06624695099890232, \"-q4\": 0.05133212823420763}, {\"r_name\": 2.325140953063965, \"k\": 3, \"r\": 2.325140953063965, \"name\": \"k=3 r=2.325140953063965\", \"median\": 0.05863852985203266, \"q0\": 0.13193181157112122, \"-q0\": 0.02319075958803296, \"q1\": 0.10388945043087006, \"-q1\": 0.03202853538095951, \"q2\": 0.08776086755096912, \"-q2\": 0.038939012214541435, \"q3\": 0.07585473358631133, \"-q3\": 0.04518185555934906, \"q4\": 0.06668649427592754, \"-q4\": 0.05158235505223274}, {\"r_name\": 1.2071068286895752, \"k\": 4, \"r\": 1.2071068286895752, \"name\": \"k=4 r=1.2071068286895752\", \"median\": 0.05687073431909084, \"q0\": 0.12670746818184853, \"-q0\": 0.02233110181987285, \"q1\": 0.10024648159742355, \"-q1\": 0.031079360283911228, \"q2\": 0.08487137965857983, \"-q2\": 0.03778667561709881, \"q3\": 0.0736611261963844, \"-q3\": 0.043921686708927155, \"q4\": 0.06447658501565456, \"-q4\": 0.0500161098316312}, {\"r_name\": 2.325140953063965, \"k\": 4, \"r\": 2.325140953063965, \"name\": \"k=4 r=2.325140953063965\", \"median\": 0.05807338282465935, \"q0\": 0.13118406012654305, \"-q0\": 0.0227298242971301, \"q1\": 0.10347721353173256, \"-q1\": 0.031653452664613724, \"q2\": 0.08724172972142696, \"-q2\": 0.0383461844176054, \"q3\": 0.07540106028318405, \"-q3\": 0.04465030878782272, \"q4\": 0.06598255969583988, \"-q4\": 0.050994215533137335}, {\"r_name\": 2.325140953063965, \"k\": 5, \"r\": 2.325140953063965, \"name\": \"k=5 r=2.325140953063965\", \"median\": 0.057243140414357185, \"q0\": 0.12774677947163582, \"-q0\": 0.022434575948864218, \"q1\": 0.10108034312725067, \"-q1\": 0.031286800280213356, \"q2\": 0.08567147143185139, \"-q2\": 0.03807060793042183, \"q3\": 0.07405788451433178, \"-q3\": 0.044250208884477615, \"q4\": 0.06488786824047565, \"-q4\": 0.05048833042383194}, {\"r_name\": 2.325140953063965, \"k\": 6, \"r\": 2.325140953063965, \"name\": \"k=6 r=2.325140953063965\", \"median\": 0.05697205103933811, \"q0\": 0.12698768451809883, \"-q0\": 0.022445809561759233, \"q1\": 0.10090289637446404, \"-q1\": 0.03126535564661026, \"q2\": 0.08506728708744049, \"-q2\": 0.03789827041327953, \"q3\": 0.07369498908519743, \"-q3\": 0.043924033641815186, \"q4\": 0.06467841193079948, \"-q4\": 0.05013775266706944}, {\"r_name\": 2.325140953063965, \"k\": 7, \"r\": 2.325140953063965, \"name\": \"k=7 r=2.325140953063965\", \"median\": 0.05617627128958702, \"q0\": 0.12527617812156677, \"-q0\": 0.022007415536791076, \"q1\": 0.09921937808394432, \"-q1\": 0.030797386541962624, \"q2\": 0.08381416089832783, \"-q2\": 0.037497710436582565, \"q3\": 0.07279589772224423, \"-q3\": 0.04337530583143235, \"q4\": 0.06369664147496223, \"-q4\": 0.049430013634264476}, {\"r_name\": 2.325140953063965, \"k\": 8, \"r\": 2.325140953063965, \"name\": \"k=8 r=2.325140953063965\", \"median\": 0.0564577542245388, \"q0\": 0.12318224087357521, \"-q0\": 0.02243711892515421, \"q1\": 0.09826477244496346, \"-q1\": 0.031137799844145775, \"q2\": 0.08338178135454655, \"-q2\": 0.037741877138614655, \"q3\": 0.07259783148765561, \"-q3\": 0.04376675933599472, \"q4\": 0.06403040140867233, \"-q4\": 0.049865590408444405}]}}, {\"mode\": \"vega-lite\"});\n",
       "</script>"
      ],
      "text/plain": [
       "alt.FacetChart(...)"
      ]
     },
     "execution_count": 8,
     "metadata": {},
     "output_type": "execute_result"
    }
   ],
   "source": [
    "base = model.base\n",
    "W = [_ for _ in state_dict.values() if (_.ndim==3 and _.shape[-1]==len(base.kernels_label))]\n",
    "base.plot_weights_dist(W, scale_type='log', wrange=(1e-5,1))"
   ]
  },
  {
   "cell_type": "code",
   "execution_count": 9,
   "id": "former-leadership",
   "metadata": {},
   "outputs": [
    {
     "data": {
      "text/html": [
       "\n",
       "<div id=\"altair-viz-db93312830d84a489f2b9b359ff0f344\"></div>\n",
       "<script type=\"text/javascript\">\n",
       "  (function(spec, embedOpt){\n",
       "    let outputDiv = document.currentScript.previousElementSibling;\n",
       "    if (outputDiv.id !== \"altair-viz-db93312830d84a489f2b9b359ff0f344\") {\n",
       "      outputDiv = document.getElementById(\"altair-viz-db93312830d84a489f2b9b359ff0f344\");\n",
       "    }\n",
       "    const paths = {\n",
       "      \"vega\": \"https://cdn.jsdelivr.net/npm//vega@5?noext\",\n",
       "      \"vega-lib\": \"https://cdn.jsdelivr.net/npm//vega-lib?noext\",\n",
       "      \"vega-lite\": \"https://cdn.jsdelivr.net/npm//vega-lite@4.8.1?noext\",\n",
       "      \"vega-embed\": \"https://cdn.jsdelivr.net/npm//vega-embed@6?noext\",\n",
       "    };\n",
       "\n",
       "    function loadScript(lib) {\n",
       "      return new Promise(function(resolve, reject) {\n",
       "        var s = document.createElement('script');\n",
       "        s.src = paths[lib];\n",
       "        s.async = true;\n",
       "        s.onload = () => resolve(paths[lib]);\n",
       "        s.onerror = () => reject(`Error loading script: ${paths[lib]}`);\n",
       "        document.getElementsByTagName(\"head\")[0].appendChild(s);\n",
       "      });\n",
       "    }\n",
       "\n",
       "    function showError(err) {\n",
       "      outputDiv.innerHTML = `<div class=\"error\" style=\"color:red;\">${err}</div>`;\n",
       "      throw err;\n",
       "    }\n",
       "\n",
       "    function displayChart(vegaEmbed) {\n",
       "      vegaEmbed(outputDiv, spec, embedOpt)\n",
       "        .catch(err => showError(`Javascript Error: ${err.message}<br>This usually means there's a typo in your chart specification. See the javascript console for the full traceback.`));\n",
       "    }\n",
       "\n",
       "    if(typeof define === \"function\" && define.amd) {\n",
       "      requirejs.config({paths});\n",
       "      require([\"vega-embed\"], displayChart, err => showError(`Error loading script: ${err.message}`));\n",
       "    } else if (typeof vegaEmbed === \"function\") {\n",
       "      displayChart(vegaEmbed);\n",
       "    } else {\n",
       "      loadScript(\"vega\")\n",
       "        .then(() => loadScript(\"vega-lite\"))\n",
       "        .then(() => loadScript(\"vega-embed\"))\n",
       "        .catch(showError)\n",
       "        .then(() => displayChart(vegaEmbed));\n",
       "    }\n",
       "  })({\"config\": {\"view\": {\"continuousWidth\": 400, \"continuousHeight\": 300}}, \"data\": {\"name\": \"data-ca56d8d9fb9b75ecb44f2dccce3d4e3a\"}, \"facet\": {\"column\": {\"type\": \"quantitative\", \"field\": \"k\"}}, \"spec\": {\"layer\": [{\"mark\": {\"type\": \"tick\", \"thickness\": 2, \"width\": 10, \"xOffset\": 0}, \"encoding\": {\"x\": {\"type\": \"nominal\", \"field\": \"r_name\"}, \"y\": {\"type\": \"quantitative\", \"axis\": {\"format\": \"e\", \"values\": [0.001, 0.01]}, \"field\": \"median\", \"scale\": {\"domain\": [0.001, 0.1], \"type\": \"log\"}, \"title\": \"Weights norm\"}}, \"selection\": {\"selector002\": {\"type\": \"interval\", \"bind\": \"scales\", \"encodings\": [\"y\"]}}, \"width\": 70}, {\"mark\": {\"type\": \"bar\", \"opacity\": 0.2, \"width\": 10, \"xOffset\": 0}, \"encoding\": {\"x\": {\"type\": \"nominal\", \"field\": \"r_name\"}, \"y\": {\"type\": \"quantitative\", \"field\": \"-q0\", \"title\": \"\"}, \"y2\": {\"field\": \"q0\"}}, \"width\": 70}, {\"mark\": {\"type\": \"bar\", \"opacity\": 0.2, \"width\": 10, \"xOffset\": 0}, \"encoding\": {\"x\": {\"type\": \"nominal\", \"field\": \"r_name\"}, \"y\": {\"type\": \"quantitative\", \"field\": \"-q1\", \"title\": \"\"}, \"y2\": {\"field\": \"q1\"}}, \"width\": 70}, {\"mark\": {\"type\": \"bar\", \"opacity\": 0.2, \"width\": 10, \"xOffset\": 0}, \"encoding\": {\"x\": {\"type\": \"nominal\", \"field\": \"r_name\"}, \"y\": {\"type\": \"quantitative\", \"field\": \"-q2\", \"title\": \"\"}, \"y2\": {\"field\": \"q2\"}}, \"width\": 70}, {\"mark\": {\"type\": \"bar\", \"opacity\": 0.3, \"width\": 10, \"xOffset\": 0}, \"encoding\": {\"x\": {\"type\": \"nominal\", \"field\": \"r_name\"}, \"y\": {\"type\": \"quantitative\", \"field\": \"-q3\", \"title\": \"\"}, \"y2\": {\"field\": \"q3\"}}, \"width\": 70}, {\"mark\": {\"type\": \"bar\", \"opacity\": 0.3, \"width\": 10, \"xOffset\": 0}, \"encoding\": {\"x\": {\"type\": \"nominal\", \"field\": \"r_name\"}, \"y\": {\"type\": \"quantitative\", \"field\": \"-q4\", \"title\": \"\"}, \"y2\": {\"field\": \"q4\"}}, \"width\": 70}]}, \"resolve\": {\"scale\": {\"x\": \"independent\"}}, \"$schema\": \"https://vega.github.io/schema/vega-lite/v4.8.1.json\", \"datasets\": {\"data-ca56d8d9fb9b75ecb44f2dccce3d4e3a\": [{\"r_name\": 0.0, \"k\": 0, \"r\": 0.0, \"name\": \"k=0 r=0.0\", \"median\": 0.0247601717710495, \"q0\": 0.06331720513602099, \"-q0\": 0.0037269013701006766, \"q1\": 0.05061955253283182, \"-q1\": 0.007604871643707156, \"q2\": 0.04206643160432577, \"-q2\": 0.011626129038631916, \"q3\": 0.03530961647629736, \"-q3\": 0.01579347997903824, \"q4\": 0.029700654714057837, \"-q4\": 0.020236932983001076}, {\"r_name\": 1.2071068286895752, \"k\": 0, \"r\": 1.2071068286895752, \"name\": \"k=0 r=1.2071068286895752\", \"median\": 0.02471473626792431, \"q0\": 0.06330419766406219, \"-q0\": 0.003779754100833088, \"q1\": 0.05062205406526724, \"-q1\": 0.00769376886698107, \"q2\": 0.04219080228358507, \"-q2\": 0.011593668023124337, \"q3\": 0.03547380492091178, \"-q3\": 0.01572406788667044, \"q4\": 0.02968714650099476, \"-q4\": 0.02001336387669047}, {\"r_name\": 2.325140953063965, \"k\": 0, \"r\": 2.325140953063965, \"name\": \"k=0 r=2.325140953063965\", \"median\": 0.024493519216775894, \"q0\": 0.06295563280582428, \"-q0\": 0.0038623901588531783, \"q1\": 0.05046852305531502, \"-q1\": 0.007714605346942949, \"q2\": 0.04192577488720417, \"-q2\": 0.011590320616960526, \"q3\": 0.03509337330857912, \"-q3\": 0.015720851719379432, \"q4\": 0.029481620683024314, \"-q4\": 0.01995297226433953}, {\"r_name\": 1.2071068286895752, \"k\": 1, \"r\": 1.2071068286895752, \"name\": \"k=1 r=1.2071068286895752\", \"median\": 0.03471590392291546, \"q0\": 0.08918839941422145, \"-q0\": 0.005347501370124514, \"q1\": 0.07137788335482279, \"-q1\": 0.01082758652046323, \"q2\": 0.05921335145831108, \"-q2\": 0.016489111352711916, \"q3\": 0.049871344119310275, \"-q3\": 0.022181011115511264, \"q4\": 0.041886772339542695, \"-q4\": 0.028291576076298956}, {\"r_name\": 2.325140953063965, \"k\": 1, \"r\": 2.325140953063965, \"name\": \"k=1 r=2.325140953063965\", \"median\": 0.03493238985538483, \"q0\": 0.0898162480443716, \"-q0\": 0.0055746164871379724, \"q1\": 0.07153072580695151, \"-q1\": 0.010977949481457475, \"q2\": 0.05961246136575937, \"-q2\": 0.016513437498360872, \"q3\": 0.0500085912644863, \"-q3\": 0.022369761019945145, \"q4\": 0.04187520345052082, \"-q4\": 0.028429070177177593}, {\"r_name\": 1.2071068286895752, \"k\": 2, \"r\": 1.2071068286895752, \"name\": \"k=2 r=1.2071068286895752\", \"median\": 0.03468717262148857, \"q0\": 0.089315351098776, \"-q0\": 0.0054582572386910515, \"q1\": 0.07110134760538736, \"-q1\": 0.010797404063244673, \"q2\": 0.05910687241703272, \"-q2\": 0.016306813806295395, \"q3\": 0.049736982832352325, \"-q3\": 0.022086801628271743, \"q4\": 0.04168144365151722, \"-q4\": 0.02818691140661637}, {\"r_name\": 2.325140953063965, \"k\": 2, \"r\": 2.325140953063965, \"name\": \"k=2 r=2.325140953063965\", \"median\": 0.034568242728710175, \"q0\": 0.08905074497063956, \"-q0\": 0.005421112369125083, \"q1\": 0.07143066450953484, \"-q1\": 0.010680563127001129, \"q2\": 0.059303165413439274, \"-q2\": 0.016316368244588375, \"q3\": 0.04980503519376117, \"-q3\": 0.022141252333919212, \"q4\": 0.04185828287154436, \"-q4\": 0.028192555221418544}, {\"r_name\": 1.2071068286895752, \"k\": 3, \"r\": 1.2071068286895752, \"name\": \"k=3 r=1.2071068286895752\", \"median\": 0.034648412838578224, \"q0\": 0.08868508475522205, \"-q0\": 0.005425484501756727, \"q1\": 0.07097055142124492, \"-q1\": 0.010819229607780775, \"q2\": 0.059014011174440384, \"-q2\": 0.01633183704689145, \"q3\": 0.04981213063001632, \"-q3\": 0.022115127493937813, \"q4\": 0.041775486432015896, \"-q4\": 0.028194312627116844}, {\"r_name\": 2.325140953063965, \"k\": 3, \"r\": 2.325140953063965, \"name\": \"k=3 r=2.325140953063965\", \"median\": 0.03500695154070854, \"q0\": 0.08997485476235556, \"-q0\": 0.005417543579824257, \"q1\": 0.07205555339654286, \"-q1\": 0.0109523165350159, \"q2\": 0.0600785231217742, \"-q2\": 0.01652610069140792, \"q3\": 0.05053665985663731, \"-q3\": 0.022445569435755416, \"q4\": 0.04217544353256622, \"-q4\": 0.028405839422096825}, {\"r_name\": 1.2071068286895752, \"k\": 4, \"r\": 1.2071068286895752, \"name\": \"k=4 r=1.2071068286895752\", \"median\": 0.03518545627593994, \"q0\": 0.0900521520525217, \"-q0\": 0.0054806927219033215, \"q1\": 0.07173206036289533, \"-q1\": 0.010914844305564962, \"q2\": 0.059717304073274136, \"-q2\": 0.01650764513760805, \"q3\": 0.0502084791660308, \"-q3\": 0.02246237670381864, \"q4\": 0.04232256611188252, \"-q4\": 0.028597175764540843}, {\"r_name\": 2.325140953063965, \"k\": 4, \"r\": 2.325140953063965, \"name\": \"k=4 r=2.325140953063965\", \"median\": 0.03504154086112976, \"q0\": 0.08962969357768694, \"-q0\": 0.0053546956429878865, \"q1\": 0.07152215763926505, \"-q1\": 0.010876036869982878, \"q2\": 0.059356470592319965, \"-q2\": 0.016431855503469706, \"q3\": 0.05002686008810997, \"-q3\": 0.02239616463581721, \"q4\": 0.04221731207023064, \"-q4\": 0.028526732542862518}, {\"r_name\": 2.325140953063965, \"k\": 5, \"r\": 2.325140953063965, \"name\": \"k=5 r=2.325140953063965\", \"median\": 0.03509589470922947, \"q0\": 0.08947176672518255, \"-q0\": 0.005366576059410965, \"q1\": 0.07148224984606108, \"-q1\": 0.010927072415749237, \"q2\": 0.059601363725960255, \"-q2\": 0.016434875316917896, \"q3\": 0.050315541525681795, \"-q3\": 0.022382597749431927, \"q4\": 0.042330518675347165, \"-q4\": 0.028544204154362294}, {\"r_name\": 2.325140953063965, \"k\": 6, \"r\": 2.325140953063965, \"name\": \"k=6 r=2.325140953063965\", \"median\": 0.03504314832389355, \"q0\": 0.08999780813852948, \"-q0\": 0.005424719963533178, \"q1\": 0.07202398031949997, \"-q1\": 0.010819781571626663, \"q2\": 0.05979824624955654, \"-q2\": 0.016484260093420744, \"q3\": 0.05028145636121431, \"-q3\": 0.022264058391253155, \"q4\": 0.04218366462737321, \"-q4\": 0.028466267821689456}, {\"r_name\": 2.325140953063965, \"k\": 7, \"r\": 2.325140953063965, \"name\": \"k=7 r=2.325140953063965\", \"median\": 0.03479873389005661, \"q0\": 0.08932441286742698, \"-q0\": 0.005333018838427961, \"q1\": 0.07106012975176174, \"-q1\": 0.010774172842502606, \"q2\": 0.059137326665222645, \"-q2\": 0.016424900852143764, \"q3\": 0.049733079969882965, \"-q3\": 0.022229792550206188, \"q4\": 0.04184258418778576, \"-q4\": 0.028363336498538665}, {\"r_name\": 2.325140953063965, \"k\": 8, \"r\": 2.325140953063965, \"name\": \"k=8 r=2.325140953063965\", \"median\": 0.035074466839432716, \"q0\": 0.08898668736219412, \"-q0\": 0.00543098132281253, \"q1\": 0.07120691239833832, \"-q1\": 0.01087052080159386, \"q2\": 0.059368337504565716, \"-q2\": 0.016323345247656107, \"q3\": 0.050084219624598816, \"-q3\": 0.022428092857201896, \"q4\": 0.04217299818992614, \"-q4\": 0.028543068716923407}]}}, {\"mode\": \"vega-lite\"});\n",
       "</script>"
      ],
      "text/plain": [
       "alt.FacetChart(...)"
      ]
     },
     "execution_count": 9,
     "metadata": {},
     "output_type": "execute_result"
    }
   ],
   "source": [
    "base.plot_weights_dist(base.init_weights(100,500),  scale_type='log', wrange=(1e-3,1e-1))"
   ]
  },
  {
   "cell_type": "code",
   "execution_count": null,
   "id": "psychological-cookie",
   "metadata": {},
   "outputs": [],
   "source": []
  },
  {
   "cell_type": "code",
   "execution_count": null,
   "id": "aggressive-storm",
   "metadata": {},
   "outputs": [],
   "source": []
  },
  {
   "cell_type": "code",
   "execution_count": null,
   "id": "prospective-mileage",
   "metadata": {},
   "outputs": [],
   "source": []
  },
  {
   "cell_type": "markdown",
   "id": "original-wheat",
   "metadata": {},
   "source": [
    "## Gradient Analysis"
   ]
  },
  {
   "cell_type": "code",
   "execution_count": 10,
   "id": "optical-defensive",
   "metadata": {},
   "outputs": [],
   "source": [
    "trainD, validD, testD = load_dataset(cfg)"
   ]
  },
  {
   "cell_type": "code",
   "execution_count": 11,
   "id": "focused-volunteer",
   "metadata": {},
   "outputs": [
    {
     "name": "stderr",
     "output_type": "stream",
     "text": [
      "/home/gaby/.conda/envs/nnet/lib/python3.7/site-packages/torch/nn/functional.py:3458: UserWarning: Default upsampling behavior when mode=bilinear is changed to align_corners=False since 0.4.0. Please specify align_corners=True if the old behavior is desired. See the documentation of nn.Upsample for details.\n",
      "  \"See the documentation of nn.Upsample for details.\".format(mode)\n",
      "/home/gaby/.conda/envs/nnet/lib/python3.7/site-packages/pytorch_lightning/core/lightning.py:418: UserWarning: You are trying to `self.log()` but the `self.trainer` reference is not registered on the model yet. This is most likely because the model hasn't been passed to the `Trainer`\n",
      "  \"You are trying to `self.log()` but the `self.trainer` reference is not registered on the model yet.\"\n"
     ]
    }
   ],
   "source": [
    "net.train()\n",
    "net.zero_grad()\n",
    "for batch in trainD:\n",
    "    batch_cuda = {k: v.cuda() for k, v in batch.items()}\n",
    "    loss = net.training_step(batch_cuda, 0)\n",
    "    loss.backward()\n",
    "    break"
   ]
  },
  {
   "cell_type": "code",
   "execution_count": 13,
   "id": "judicial-telescope",
   "metadata": {},
   "outputs": [
    {
     "data": {
      "text/html": [
       "\n",
       "<div id=\"altair-viz-2236d4498a994b888b3ff45084e88d00\"></div>\n",
       "<script type=\"text/javascript\">\n",
       "  (function(spec, embedOpt){\n",
       "    let outputDiv = document.currentScript.previousElementSibling;\n",
       "    if (outputDiv.id !== \"altair-viz-2236d4498a994b888b3ff45084e88d00\") {\n",
       "      outputDiv = document.getElementById(\"altair-viz-2236d4498a994b888b3ff45084e88d00\");\n",
       "    }\n",
       "    const paths = {\n",
       "      \"vega\": \"https://cdn.jsdelivr.net/npm//vega@5?noext\",\n",
       "      \"vega-lib\": \"https://cdn.jsdelivr.net/npm//vega-lib?noext\",\n",
       "      \"vega-lite\": \"https://cdn.jsdelivr.net/npm//vega-lite@4.8.1?noext\",\n",
       "      \"vega-embed\": \"https://cdn.jsdelivr.net/npm//vega-embed@6?noext\",\n",
       "    };\n",
       "\n",
       "    function loadScript(lib) {\n",
       "      return new Promise(function(resolve, reject) {\n",
       "        var s = document.createElement('script');\n",
       "        s.src = paths[lib];\n",
       "        s.async = true;\n",
       "        s.onload = () => resolve(paths[lib]);\n",
       "        s.onerror = () => reject(`Error loading script: ${paths[lib]}`);\n",
       "        document.getElementsByTagName(\"head\")[0].appendChild(s);\n",
       "      });\n",
       "    }\n",
       "\n",
       "    function showError(err) {\n",
       "      outputDiv.innerHTML = `<div class=\"error\" style=\"color:red;\">${err}</div>`;\n",
       "      throw err;\n",
       "    }\n",
       "\n",
       "    function displayChart(vegaEmbed) {\n",
       "      vegaEmbed(outputDiv, spec, embedOpt)\n",
       "        .catch(err => showError(`Javascript Error: ${err.message}<br>This usually means there's a typo in your chart specification. See the javascript console for the full traceback.`));\n",
       "    }\n",
       "\n",
       "    if(typeof define === \"function\" && define.amd) {\n",
       "      requirejs.config({paths});\n",
       "      require([\"vega-embed\"], displayChart, err => showError(`Error loading script: ${err.message}`));\n",
       "    } else if (typeof vegaEmbed === \"function\") {\n",
       "      displayChart(vegaEmbed);\n",
       "    } else {\n",
       "      loadScript(\"vega\")\n",
       "        .then(() => loadScript(\"vega-lite\"))\n",
       "        .then(() => loadScript(\"vega-embed\"))\n",
       "        .catch(showError)\n",
       "        .then(() => displayChart(vegaEmbed));\n",
       "    }\n",
       "  })({\"config\": {\"view\": {\"continuousWidth\": 400, \"continuousHeight\": 300}}, \"data\": {\"name\": \"data-4a39babf2869ba52b495e425de998319\"}, \"facet\": {\"column\": {\"type\": \"quantitative\", \"field\": \"k\"}}, \"spec\": {\"layer\": [{\"mark\": {\"type\": \"tick\", \"thickness\": 2, \"width\": 10, \"xOffset\": 0}, \"encoding\": {\"x\": {\"type\": \"nominal\", \"field\": \"r_name\"}, \"y\": {\"type\": \"quantitative\", \"axis\": {}, \"field\": \"median\", \"scale\": {\"domain\": [1e-10, 0.0001], \"type\": \"linear\"}, \"title\": \"Weights norm\"}}, \"selection\": {\"selector004\": {\"type\": \"interval\", \"bind\": \"scales\", \"encodings\": [\"y\"]}}, \"width\": 70}, {\"mark\": {\"type\": \"bar\", \"opacity\": 0.2, \"width\": 10, \"xOffset\": 0}, \"encoding\": {\"x\": {\"type\": \"nominal\", \"field\": \"r_name\"}, \"y\": {\"type\": \"quantitative\", \"field\": \"-q0\", \"title\": \"\"}, \"y2\": {\"field\": \"q0\"}}, \"width\": 70}, {\"mark\": {\"type\": \"bar\", \"opacity\": 0.2, \"width\": 10, \"xOffset\": 0}, \"encoding\": {\"x\": {\"type\": \"nominal\", \"field\": \"r_name\"}, \"y\": {\"type\": \"quantitative\", \"field\": \"-q1\", \"title\": \"\"}, \"y2\": {\"field\": \"q1\"}}, \"width\": 70}, {\"mark\": {\"type\": \"bar\", \"opacity\": 0.2, \"width\": 10, \"xOffset\": 0}, \"encoding\": {\"x\": {\"type\": \"nominal\", \"field\": \"r_name\"}, \"y\": {\"type\": \"quantitative\", \"field\": \"-q2\", \"title\": \"\"}, \"y2\": {\"field\": \"q2\"}}, \"width\": 70}, {\"mark\": {\"type\": \"bar\", \"opacity\": 0.3, \"width\": 10, \"xOffset\": 0}, \"encoding\": {\"x\": {\"type\": \"nominal\", \"field\": \"r_name\"}, \"y\": {\"type\": \"quantitative\", \"field\": \"-q3\", \"title\": \"\"}, \"y2\": {\"field\": \"q3\"}}, \"width\": 70}, {\"mark\": {\"type\": \"bar\", \"opacity\": 0.3, \"width\": 10, \"xOffset\": 0}, \"encoding\": {\"x\": {\"type\": \"nominal\", \"field\": \"r_name\"}, \"y\": {\"type\": \"quantitative\", \"field\": \"-q4\", \"title\": \"\"}, \"y2\": {\"field\": \"q4\"}}, \"width\": 70}]}, \"resolve\": {\"scale\": {\"x\": \"independent\"}}, \"$schema\": \"https://vega.github.io/schema/vega-lite/v4.8.1.json\", \"datasets\": {\"data-4a39babf2869ba52b495e425de998319\": [{\"r_name\": 0.0, \"k\": 0, \"r\": 0.0, \"name\": \"k=0 r=0.0\", \"median\": 5.275961484585423e-05, \"q0\": 0.0005083453143015504, \"-q0\": 5.5393243201251565e-06, \"q1\": 0.000247213858528994, \"-q1\": 1.1544410881469958e-05, \"q2\": 0.00015154627908486873, \"-q2\": 1.8731361251411727e-05, \"q3\": 0.00010292005754308774, \"-q3\": 2.7437687094789002e-05, \"q4\": 7.304243445105384e-05, \"-q4\": 3.832495622191348e-05}, {\"r_name\": 1.2071, \"k\": 0, \"r\": 1.2071068286895752, \"name\": \"k=0 r=1.2071068286895752\", \"median\": 9.575703734299168e-05, \"q0\": 0.000976356866885908, \"-q0\": 9.747255944603232e-06, \"q1\": 0.0004674702067859471, \"-q1\": 2.0536796000669724e-05, \"q2\": 0.00028493665013229474, \"-q2\": 3.33687785314396e-05, \"q3\": 0.00019066761888097912, \"-q3\": 4.9194797611562535e-05, \"q4\": 0.0001334693151875399, \"-q4\": 6.883837522764226e-05}, {\"r_name\": 2.3251, \"k\": 0, \"r\": 2.325140953063965, \"name\": \"k=0 r=2.325140953063965\", \"median\": 0.00012183099534013309, \"q0\": 0.0012825547310058028, \"-q0\": 1.207316404361336e-05, \"q1\": 0.0006129424145910889, \"-q1\": 2.5743050173332452e-05, \"q2\": 0.0003742133194464259, \"-q2\": 4.1948812395276036e-05, \"q3\": 0.00024540515732951424, \"-q3\": 6.182959623401986e-05, \"q4\": 0.00017048906738637015, \"-q4\": 8.708396671863738e-05}, {\"r_name\": 1.2071, \"k\": 1, \"r\": 1.2071068286895752, \"name\": \"k=1 r=1.2071068286895752\", \"median\": 1.4772940630791709e-05, \"q0\": 0.00011014984193025157, \"-q0\": 2.112063441472855e-06, \"q1\": 5.684516509063542e-05, \"-q1\": 3.97249573325098e-06, \"q2\": 3.73062830476556e-05, \"-q2\": 5.962639875178866e-06, \"q3\": 2.6743458874989264e-05, \"-q3\": 8.29390137369046e-06, \"q4\": 1.967851312656421e-05, \"-q4\": 1.1151184480695526e-05}, {\"r_name\": 2.3251, \"k\": 1, \"r\": 2.325140953063965, \"name\": \"k=1 r=2.325140953063965\", \"median\": 2.5551511498633772e-05, \"q0\": 0.0001883356017060578, \"-q0\": 3.678236964788083e-06, \"q1\": 9.949976083589718e-05, \"-q1\": 6.794965429435251e-06, \"q2\": 6.519479939015582e-05, \"-q2\": 1.0113059033756144e-05, \"q3\": 4.6393815864575986e-05, \"-q3\": 1.4188111890689472e-05, \"q4\": 3.400029709155205e-05, \"-q4\": 1.91571293726156e-05}, {\"r_name\": 1.2071, \"k\": 2, \"r\": 1.2071068286895752, \"name\": \"k=2 r=1.2071068286895752\", \"median\": 6.936889121789136e-06, \"q0\": 5.3189718528301455e-05, \"-q0\": 1.0557072585015697e-06, \"q1\": 2.6978934329235926e-05, \"-q1\": 1.9353833522472996e-06, \"q2\": 1.7460125945945038e-05, \"-q2\": 2.8856293852186354e-06, \"q3\": 1.2321305803197897e-05, \"-q3\": 3.960969479521737e-06, \"q4\": 9.183731435769003e-06, \"-q4\": 5.267217147775228e-06}, {\"r_name\": 2.3251, \"k\": 2, \"r\": 2.325140953063965, \"name\": \"k=2 r=2.325140953063965\", \"median\": 1.399118491463014e-05, \"q0\": 0.00010048139847640414, \"-q0\": 2.2584926568924844e-06, \"q1\": 5.239134770818055e-05, \"-q1\": 4.0492006974091055e-06, \"q2\": 3.3835621252364945e-05, \"-q2\": 5.96788095208467e-06, \"q3\": 2.427848812658339e-05, \"-q3\": 8.146839718392586e-06, \"q4\": 1.8234199160360718e-05, \"-q4\": 1.0746995485533263e-05}, {\"r_name\": 1.2071, \"k\": 3, \"r\": 1.2071068286895752, \"name\": \"k=3 r=1.2071068286895752\", \"median\": 3.4432799793648883e-06, \"q0\": 2.7629411306406837e-05, \"-q0\": 4.876897463645946e-07, \"q1\": 1.3925960047345143e-05, \"-q1\": 9.191849130729681e-07, \"q2\": 8.94391087058466e-06, \"-q2\": 1.3829279907895398e-06, \"q3\": 6.245633358048506e-06, \"-q3\": 1.9169644929206697e-06, \"q4\": 4.581226448863163e-06, \"-q4\": 2.589195446489612e-06}, {\"r_name\": 2.3251, \"k\": 3, \"r\": 2.325140953063965, \"name\": \"k=3 r=2.325140953063965\", \"median\": 7.336610224228934e-06, \"q0\": 5.3016322453913745e-05, \"-q0\": 1.1344558572545783e-06, \"q1\": 2.735864200076321e-05, \"-q1\": 2.0732651364596677e-06, \"q2\": 1.8063934930978576e-05, \"-q2\": 3.0911153885426756e-06, \"q3\": 1.2944984518981068e-05, \"-q3\": 4.252196958987044e-06, \"q4\": 9.662693855716494e-06, \"-q4\": 5.610991820503841e-06}, {\"r_name\": 1.2071, \"k\": 4, \"r\": 1.2071068286895752, \"name\": \"k=4 r=1.2071068286895752\", \"median\": 2.3641282496100757e-06, \"q0\": 2.048517808361794e-05, \"-q0\": 3.122282734580038e-07, \"q1\": 1.0068355550174601e-05, \"-q1\": 5.94910289919426e-07, \"q2\": 6.337477429951832e-06, \"-q2\": 9.134821254974668e-07, \"q3\": 4.413589067553399e-06, \"-q3\": 1.2952189081261167e-06, \"q4\": 3.1978938181964614e-06, \"-q4\": 1.7676061929705613e-06}, {\"r_name\": 2.3251, \"k\": 4, \"r\": 2.325140953063965, \"name\": \"k=4 r=2.325140953063965\", \"median\": 4.682336339101312e-06, \"q0\": 3.6310486393631436e-05, \"-q0\": 6.945563910676353e-07, \"q1\": 1.8614372493175324e-05, \"-q1\": 1.2663091411013738e-06, \"q2\": 1.2026631566186552e-05, \"-q2\": 1.8997004360699066e-06, \"q3\": 8.45912745717214e-06, \"-q3\": 2.6200900720141367e-06, \"q4\": 6.276222961787424e-06, \"-q4\": 3.511464683469968e-06}, {\"r_name\": 2.3251, \"k\": 5, \"r\": 2.325140953063965, \"name\": \"k=5 r=2.325140953063965\", \"median\": 3.1265499274013564e-06, \"q0\": 2.413568290648982e-05, \"-q0\": 4.6789334362529157e-07, \"q1\": 1.235873287441791e-05, \"-q1\": 8.460688150080387e-07, \"q2\": 8.042680747166742e-06, \"-q2\": 1.262586039274538e-06, \"q3\": 5.660583610733726e-06, \"-q3\": 1.763756472428213e-06, \"q4\": 4.1674626345411525e-06, \"-q4\": 2.3546942884422606e-06}, {\"r_name\": 2.3251, \"k\": 6, \"r\": 2.325140953063965, \"name\": \"k=6 r=2.325140953063965\", \"median\": 2.393955469415232e-06, \"q0\": 1.9264263301010942e-05, \"-q0\": 3.1945301515179365e-07, \"q1\": 9.746306204760913e-06, \"-q1\": 6.023606715643837e-07, \"q2\": 6.258482585508318e-06, \"-q2\": 9.232555981952828e-07, \"q3\": 4.366648681752848e-06, \"-q3\": 1.3016193634030062e-06, \"q4\": 3.2089635624288344e-06, \"-q4\": 1.7789026571790605e-06}, {\"r_name\": 2.3251, \"k\": 7, \"r\": 2.325140953063965, \"name\": \"k=7 r=2.325140953063965\", \"median\": 1.8440190956425795e-06, \"q0\": 1.5746292319818167e-05, \"-q0\": 2.1070182754101525e-07, \"q1\": 7.790376912453212e-06, \"-q1\": 4.2435146951902425e-07, \"q2\": 4.916639682051027e-06, \"-q2\": 6.751856034270531e-07, \"q3\": 3.4233767109981264e-06, \"-q3\": 9.833186140895125e-07, \"q4\": 2.4945168206613744e-06, \"-q4\": 1.3559298395193768e-06}, {\"r_name\": 2.3251, \"k\": 8, \"r\": 2.325140953063965, \"name\": \"k=8 r=2.325140953063965\", \"median\": 1.926152549458493e-06, \"q0\": 1.5204214150799089e-05, \"-q0\": 2.7118932166558796e-07, \"q1\": 7.810919214534806e-06, \"-q1\": 4.996823292913177e-07, \"q2\": 5.041514782533341e-06, \"-q2\": 7.570974105419737e-07, \"q3\": 3.5293371638545055e-06, \"-q3\": 1.0656037829903653e-06, \"q4\": 2.581486739927641e-06, \"-q4\": 1.449598073577363e-06}]}}, {\"mode\": \"vega-lite\"});\n",
       "</script>"
      ],
      "text/plain": [
       "alt.FacetChart(...)"
      ]
     },
     "execution_count": 13,
     "metadata": {},
     "output_type": "execute_result"
    }
   ],
   "source": [
    "weights_grad = torch.cat([m.weights.grad.flatten(end_dim=1) for m in net.modules() if isinstance(m, SteeredConv2d) and m.weights.shape[-1]==27])\n",
    "base.plot_weights_dist(weights_grad, wrange=(1e-10, 1e-4))"
   ]
  },
  {
   "cell_type": "code",
   "execution_count": null,
   "id": "tracked-sector",
   "metadata": {},
   "outputs": [],
   "source": []
  }
 ],
 "metadata": {
  "kernelspec": {
   "display_name": "Python 3",
   "language": "python",
   "name": "python3"
  },
  "language_info": {
   "codemirror_mode": {
    "name": "ipython",
    "version": 3
   },
   "file_extension": ".py",
   "mimetype": "text/x-python",
   "name": "python",
   "nbconvert_exporter": "python",
   "pygments_lexer": "ipython3",
   "version": "3.7.11"
  }
 },
 "nbformat": 4,
 "nbformat_minor": 5
}
