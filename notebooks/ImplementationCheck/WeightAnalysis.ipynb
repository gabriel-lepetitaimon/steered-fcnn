{
 "cells": [
  {
   "cell_type": "markdown",
   "id": "numerical-welsh",
   "metadata": {},
   "source": [
    "#### Includes"
   ]
  },
  {
   "cell_type": "code",
   "execution_count": 1,
   "id": "international-rebound",
   "metadata": {},
   "outputs": [],
   "source": [
    "%load_ext autoreload\n",
    "%autoreload 2"
   ]
  },
  {
   "cell_type": "code",
   "execution_count": 2,
   "id": "pending-nevada",
   "metadata": {},
   "outputs": [],
   "source": [
    "import numpy as np\n",
    "import torch\n",
    "import torch.nn.functional as F\n",
    "import altair as alt\n",
    "from altair import datum\n",
    "import pandas as pd\n",
    "import time\n",
    "import os.path as P\n",
    "from pytorch_lightning.utilities.cloud_io import load as pl_load\n",
    "import pandas as pd\n",
    "import altair as alt\n",
    "alt.data_transformers.disable_max_rows()\n",
    "None"
   ]
  },
  {
   "cell_type": "code",
   "execution_count": 3,
   "id": "fifteen-resident",
   "metadata": {},
   "outputs": [],
   "source": [
    "from sources import load_dataset, default_config, parse_config\n",
    "from run_train import setup_model\n",
    "from src.trainer import Binary2DSegmentation"
   ]
  },
  {
   "cell_type": "code",
   "execution_count": 4,
   "id": "likely-optimum",
   "metadata": {},
   "outputs": [],
   "source": [
    "from steered_cnn.utils.rotequivariance_toolbox import *\n",
    "from steered_cnn.steered_conv.steerable_filters import radial_steerable_filter, plot_filter\n",
    "from steered_cnn.steered_conv import SteerableKernelBase"
   ]
  },
  {
   "cell_type": "markdown",
   "id": "progressive-patch",
   "metadata": {},
   "source": [
    "## Initialization"
   ]
  },
  {
   "cell_type": "code",
   "execution_count": 5,
   "id": "collectible-variety",
   "metadata": {},
   "outputs": [],
   "source": [
    "RUN_ID = '8/dd8fc55431b5441e811d33871cd9aca6'\n",
    "OLD = False"
   ]
  },
  {
   "cell_type": "code",
   "execution_count": 6,
   "id": "compliant-plaintiff",
   "metadata": {},
   "outputs": [],
   "source": [
    "art_path = P.abspath(P.join('/home/gaby/mlflow/mlruns', RUN_ID, 'artifacts/'))\n",
    "cfg = parse_config(art_path+'/cfg_extended.yaml')\n",
    "cfg['script-arguments']['gpus']='0'"
   ]
  },
  {
   "cell_type": "code",
   "execution_count": 8,
   "id": "minimal-firmware",
   "metadata": {},
   "outputs": [
    {
     "ename": "NotImplementedError",
     "evalue": "",
     "output_type": "error",
     "traceback": [
      "\u001b[0;31m---------------------------------------------------------------------------\u001b[0m",
      "\u001b[0;31mNotImplementedError\u001b[0m                       Traceback (most recent call last)",
      "\u001b[0;32m<ipython-input-8-6aaf35721f60>\u001b[0m in \u001b[0;36m<module>\u001b[0;34m\u001b[0m\n\u001b[0;32m----> 1\u001b[0;31m \u001b[0mmodel\u001b[0m \u001b[0;34m=\u001b[0m \u001b[0msetup_model\u001b[0m\u001b[0;34m(\u001b[0m\u001b[0mcfg\u001b[0m\u001b[0;34m.\u001b[0m\u001b[0mmodel\u001b[0m\u001b[0;34m)\u001b[0m\u001b[0;34m\u001b[0m\u001b[0;34m\u001b[0m\u001b[0m\n\u001b[0m\u001b[1;32m      2\u001b[0m \u001b[0mnet\u001b[0m \u001b[0;34m=\u001b[0m \u001b[0mBinary2DSegmentation\u001b[0m\u001b[0;34m(\u001b[0m\u001b[0mmodel\u001b[0m\u001b[0;34m=\u001b[0m\u001b[0mmodel\u001b[0m\u001b[0;34m)\u001b[0m\u001b[0;34m\u001b[0m\u001b[0;34m\u001b[0m\u001b[0m\n\u001b[1;32m      3\u001b[0m \u001b[0mstate_dict\u001b[0m \u001b[0;34m=\u001b[0m \u001b[0mpl_load\u001b[0m\u001b[0;34m(\u001b[0m\u001b[0mart_path\u001b[0m\u001b[0;34m+\u001b[0m\u001b[0;34m'/best-val-roc.ckpt'\u001b[0m\u001b[0;34m.\u001b[0m\u001b[0mformat\u001b[0m\u001b[0;34m(\u001b[0m\u001b[0;36m25\u001b[0m\u001b[0;34m)\u001b[0m\u001b[0;34m,\u001b[0m \u001b[0mmap_location\u001b[0m\u001b[0;34m=\u001b[0m\u001b[0;34m'cuda:0'\u001b[0m\u001b[0;34m)\u001b[0m\u001b[0;34m[\u001b[0m\u001b[0;34m'state_dict'\u001b[0m\u001b[0;34m]\u001b[0m\u001b[0;34m\u001b[0m\u001b[0;34m\u001b[0m\u001b[0m\n\u001b[1;32m      4\u001b[0m \u001b[0mnet\u001b[0m\u001b[0;34m.\u001b[0m\u001b[0mload_state_dict\u001b[0m\u001b[0;34m(\u001b[0m\u001b[0mstate_dict\u001b[0m\u001b[0;34m)\u001b[0m\u001b[0;34m\u001b[0m\u001b[0;34m\u001b[0m\u001b[0m\n\u001b[1;32m      5\u001b[0m \u001b[0mnet\u001b[0m\u001b[0;34m.\u001b[0m\u001b[0meval\u001b[0m\u001b[0;34m(\u001b[0m\u001b[0;34m)\u001b[0m\u001b[0;34m.\u001b[0m\u001b[0mcuda\u001b[0m\u001b[0;34m(\u001b[0m\u001b[0;34m)\u001b[0m\u001b[0;34m\u001b[0m\u001b[0;34m\u001b[0m\u001b[0m\n",
      "\u001b[0;32m~/These/src/Fundus/SteeredCNN/3-Git/lib/steered_cnn/models/__init__.py\u001b[0m in \u001b[0;36msetup_model\u001b[0;34m(cfg)\u001b[0m\n\u001b[1;32m     15\u001b[0m             net = SteeredUNet(normalize_steer=cfg.get('normalized', True),\n\u001b[1;32m     16\u001b[0m                               \u001b[0mattention_mode\u001b[0m\u001b[0;34m=\u001b[0m\u001b[0mcfg\u001b[0m\u001b[0;34m.\u001b[0m\u001b[0mget\u001b[0m\u001b[0;34m(\u001b[0m\u001b[0;34m'normalized'\u001b[0m\u001b[0;34m,\u001b[0m \u001b[0;34m'shared'\u001b[0m\u001b[0;34m)\u001b[0m\u001b[0;34m,\u001b[0m\u001b[0;34m\u001b[0m\u001b[0;34m\u001b[0m\u001b[0m\n\u001b[0;32m---> 17\u001b[0;31m                               attention_base=cfg.get('attention_base', False), **args)\n\u001b[0m\u001b[1;32m     18\u001b[0m         \u001b[0;32melse\u001b[0m\u001b[0;34m:\u001b[0m\u001b[0;34m\u001b[0m\u001b[0;34m\u001b[0m\u001b[0m\n\u001b[1;32m     19\u001b[0m             \u001b[0mnet\u001b[0m \u001b[0;34m=\u001b[0m \u001b[0mUNet\u001b[0m\u001b[0;34m(\u001b[0m\u001b[0;34m**\u001b[0m\u001b[0margs\u001b[0m\u001b[0;34m)\u001b[0m\u001b[0;34m\u001b[0m\u001b[0;34m\u001b[0m\u001b[0m\n",
      "\u001b[0;32m~/These/src/Fundus/SteeredCNN/3-Git/lib/steered_cnn/models/steered.py\u001b[0m in \u001b[0;36m__init__\u001b[0;34m(self, n_in, n_out, nfeatures, kernel, depth, nscale, padding, p_dropout, batchnorm, downsampling, upsampling, base, attention_base, attention_mode, normalize_steer)\u001b[0m\n\u001b[1;32m     17\u001b[0m                                           \u001b[0mnscale\u001b[0m\u001b[0;34m=\u001b[0m\u001b[0mnscale\u001b[0m\u001b[0;34m,\u001b[0m \u001b[0mpadding\u001b[0m\u001b[0;34m=\u001b[0m\u001b[0mpadding\u001b[0m\u001b[0;34m,\u001b[0m \u001b[0mp_dropout\u001b[0m\u001b[0;34m=\u001b[0m\u001b[0mp_dropout\u001b[0m\u001b[0;34m,\u001b[0m \u001b[0mbatchnorm\u001b[0m\u001b[0;34m=\u001b[0m\u001b[0mbatchnorm\u001b[0m\u001b[0;34m,\u001b[0m\u001b[0;34m\u001b[0m\u001b[0;34m\u001b[0m\u001b[0m\n\u001b[1;32m     18\u001b[0m                                           \u001b[0mdownsampling\u001b[0m\u001b[0;34m=\u001b[0m\u001b[0mdownsampling\u001b[0m\u001b[0;34m,\u001b[0m \u001b[0mupsampling\u001b[0m\u001b[0;34m=\u001b[0m\u001b[0mupsampling\u001b[0m\u001b[0;34m,\u001b[0m\u001b[0;34m\u001b[0m\u001b[0;34m\u001b[0m\u001b[0m\n\u001b[0;32m---> 19\u001b[0;31m                                           attention_mode=attention_mode, normalize_steer=normalize_steer)\n\u001b[0m\u001b[1;32m     20\u001b[0m \u001b[0;34m\u001b[0m\u001b[0m\n\u001b[1;32m     21\u001b[0m     \u001b[0;32mdef\u001b[0m \u001b[0msetup_convbn\u001b[0m\u001b[0;34m(\u001b[0m\u001b[0mself\u001b[0m\u001b[0;34m,\u001b[0m \u001b[0mn_in\u001b[0m\u001b[0;34m,\u001b[0m \u001b[0mn_out\u001b[0m\u001b[0;34m)\u001b[0m\u001b[0;34m:\u001b[0m\u001b[0;34m\u001b[0m\u001b[0;34m\u001b[0m\u001b[0m\n",
      "\u001b[0;32m~/These/src/Fundus/SteeredCNN/3-Git/lib/steered_cnn/models/backbones/unet.py\u001b[0m in \u001b[0;36m__init__\u001b[0;34m(self, n_in, n_out, nfeatures, kernel, depth, nscale, padding, p_dropout, batchnorm, downsampling, upsampling, **kwargs)\u001b[0m\n\u001b[1;32m     61\u001b[0m             \u001b[0mconv_stack\u001b[0m \u001b[0;34m=\u001b[0m \u001b[0;34m[\u001b[0m\u001b[0mself\u001b[0m\u001b[0;34m.\u001b[0m\u001b[0msetup_convbn\u001b[0m\u001b[0;34m(\u001b[0m\u001b[0mnf_scale\u001b[0m\u001b[0;34m,\u001b[0m \u001b[0mnf_scale\u001b[0m\u001b[0;34m)\u001b[0m \u001b[0;32mfor\u001b[0m \u001b[0m_\u001b[0m \u001b[0;32min\u001b[0m \u001b[0mrange\u001b[0m\u001b[0;34m(\u001b[0m\u001b[0mdepth\u001b[0m\u001b[0;34m-\u001b[0m\u001b[0;36m1\u001b[0m\u001b[0;34m)\u001b[0m\u001b[0;34m]\u001b[0m\u001b[0;34m\u001b[0m\u001b[0;34m\u001b[0m\u001b[0m\n\u001b[1;32m     62\u001b[0m             \u001b[0;32mif\u001b[0m \u001b[0mupsampling\u001b[0m \u001b[0;34m==\u001b[0m \u001b[0;34m'conv'\u001b[0m\u001b[0;34m:\u001b[0m\u001b[0;34m\u001b[0m\u001b[0;34m\u001b[0m\u001b[0m\n\u001b[0;32m---> 63\u001b[0;31m                 \u001b[0mconv_stack\u001b[0m \u001b[0;34m+=\u001b[0m \u001b[0;34m[\u001b[0m\u001b[0mself\u001b[0m\u001b[0;34m.\u001b[0m\u001b[0msetup_convtranspose\u001b[0m\u001b[0;34m(\u001b[0m\u001b[0mnf_scale\u001b[0m\u001b[0;34m,\u001b[0m \u001b[0mnf_next\u001b[0m\u001b[0;34m)\u001b[0m\u001b[0;34m]\u001b[0m\u001b[0;34m\u001b[0m\u001b[0;34m\u001b[0m\u001b[0m\n\u001b[0m\u001b[1;32m     64\u001b[0m             \u001b[0;32melse\u001b[0m\u001b[0;34m:\u001b[0m\u001b[0;34m\u001b[0m\u001b[0;34m\u001b[0m\u001b[0m\n\u001b[1;32m     65\u001b[0m                 \u001b[0mconv_stack\u001b[0m \u001b[0;34m+=\u001b[0m \u001b[0;34m[\u001b[0m\u001b[0mself\u001b[0m\u001b[0;34m.\u001b[0m\u001b[0msetup_convbn\u001b[0m\u001b[0;34m(\u001b[0m\u001b[0mnf_scale\u001b[0m\u001b[0;34m,\u001b[0m \u001b[0mnf_next\u001b[0m\u001b[0;34m)\u001b[0m\u001b[0;34m]\u001b[0m\u001b[0;34m\u001b[0m\u001b[0;34m\u001b[0m\u001b[0m\n",
      "\u001b[0;32m~/These/src/Fundus/SteeredCNN/3-Git/lib/steered_cnn/models/steered.py\u001b[0m in \u001b[0;36msetup_convtranspose\u001b[0;34m(self, n_in, n_out)\u001b[0m\n\u001b[1;32m     25\u001b[0m \u001b[0;34m\u001b[0m\u001b[0m\n\u001b[1;32m     26\u001b[0m     \u001b[0;32mdef\u001b[0m \u001b[0msetup_convtranspose\u001b[0m\u001b[0;34m(\u001b[0m\u001b[0mself\u001b[0m\u001b[0;34m,\u001b[0m \u001b[0mn_in\u001b[0m\u001b[0;34m,\u001b[0m \u001b[0mn_out\u001b[0m\u001b[0;34m)\u001b[0m\u001b[0;34m:\u001b[0m\u001b[0;34m\u001b[0m\u001b[0;34m\u001b[0m\u001b[0m\n\u001b[0;32m---> 27\u001b[0;31m         \u001b[0;32mraise\u001b[0m \u001b[0mNotImplementedError\u001b[0m\u001b[0;34m(\u001b[0m\u001b[0;34m)\u001b[0m\u001b[0;34m\u001b[0m\u001b[0;34m\u001b[0m\u001b[0m\n\u001b[0m\u001b[1;32m     28\u001b[0m \u001b[0;34m\u001b[0m\u001b[0m\n\u001b[1;32m     29\u001b[0m     \u001b[0;32mdef\u001b[0m \u001b[0mforward\u001b[0m\u001b[0;34m(\u001b[0m\u001b[0mself\u001b[0m\u001b[0;34m,\u001b[0m \u001b[0mx\u001b[0m\u001b[0;34m,\u001b[0m \u001b[0malpha\u001b[0m\u001b[0;34m=\u001b[0m\u001b[0;32mNone\u001b[0m\u001b[0;34m,\u001b[0m \u001b[0mrho\u001b[0m\u001b[0;34m=\u001b[0m\u001b[0;32mNone\u001b[0m\u001b[0;34m)\u001b[0m\u001b[0;34m:\u001b[0m\u001b[0;34m\u001b[0m\u001b[0;34m\u001b[0m\u001b[0m\n",
      "\u001b[0;31mNotImplementedError\u001b[0m: "
     ]
    }
   ],
   "source": [
    "model = setup_model(cfg.model)\n",
    "net = Binary2DSegmentation(model=model)\n",
    "state_dict = pl_load(art_path+'/best-val-roc.ckpt'.format(25), map_location='cuda:0')['state_dict']\n",
    "net.load_state_dict(state_dict)\n",
    "net.eval().cuda()\n",
    "None"
   ]
  },
  {
   "cell_type": "markdown",
   "id": "beautiful-assumption",
   "metadata": {},
   "source": [
    "## Weight Value Analysis"
   ]
  },
  {
   "cell_type": "code",
   "execution_count": null,
   "id": "unnecessary-appendix",
   "metadata": {},
   "outputs": [],
   "source": [
    "base = model.base\n",
    "weights = [_ for _ in model.parameters() if (_.ndim==3 and _.shape[-1]==len(base.kernels_label))]"
   ]
  },
  {
   "cell_type": "code",
   "execution_count": null,
   "id": "balanced-hardwood",
   "metadata": {},
   "outputs": [],
   "source": []
  },
  {
   "cell_type": "code",
   "execution_count": null,
   "id": "unique-maintenance",
   "metadata": {},
   "outputs": [],
   "source": [
    "W = [_ for _ in model.parameters() if (_.ndim==3 and _.shape[-1]==len(base.kernels_label))]"
   ]
  },
  {
   "cell_type": "code",
   "execution_count": null,
   "id": "mexican-masters",
   "metadata": {},
   "outputs": [],
   "source": [
    "base.plot_weights_hist(W, binspace='log', wrange=(1e-5,1), bins=1000)"
   ]
  },
  {
   "cell_type": "code",
   "execution_count": null,
   "id": "binding-sympathy",
   "metadata": {},
   "outputs": [],
   "source": [
    "base.plot_weights_dist(weights, scale_type='log', wrange=(1e-4,1))"
   ]
  },
  {
   "cell_type": "code",
   "execution_count": null,
   "id": "regional-courtesy",
   "metadata": {},
   "outputs": [],
   "source": [
    "base.plot_weights_dist(base.create_weights(100,500),  scale_type='log', wrange=(1e-3,1e-1))"
   ]
  },
  {
   "cell_type": "code",
   "execution_count": null,
   "id": "mature-couple",
   "metadata": {},
   "outputs": [],
   "source": []
  },
  {
   "cell_type": "code",
   "execution_count": null,
   "id": "proper-nepal",
   "metadata": {},
   "outputs": [],
   "source": []
  },
  {
   "cell_type": "markdown",
   "id": "certain-circulation",
   "metadata": {},
   "source": [
    "## Gradient Analysis"
   ]
  },
  {
   "cell_type": "code",
   "execution_count": null,
   "id": "amino-consequence",
   "metadata": {},
   "outputs": [],
   "source": [
    "trainD, validD, testD = load_dataset(cfg)"
   ]
  },
  {
   "cell_type": "code",
   "execution_count": null,
   "id": "binary-authentication",
   "metadata": {},
   "outputs": [],
   "source": [
    "net.train()\n",
    "net.zero_grad()\n",
    "for batch in trainD:\n",
    "    batch_cuda = {k: v.cuda() for k, v in batch.items()}\n",
    "    loss = net.training_step(batch_cuda, 0)\n",
    "    loss.backward()\n",
    "    break"
   ]
  },
  {
   "cell_type": "code",
   "execution_count": null,
   "id": "speaking-uncertainty",
   "metadata": {},
   "outputs": [],
   "source": [
    "weights_grad = [w.grad for w in weights]\n",
    "base.plot_weights_dist(weights_grad, scale_type='log', wrange=(1e-10, 1e-4))"
   ]
  },
  {
   "cell_type": "code",
   "execution_count": null,
   "id": "classical-zoning",
   "metadata": {},
   "outputs": [],
   "source": [
    "base.plot_weights_hist(weights_grad, complex='norm', wrange=(1e-11, 1e-2), binspace='log')"
   ]
  }
 ],
 "metadata": {
  "kernelspec": {
   "display_name": "Python 3",
   "language": "python",
   "name": "python3"
  },
  "language_info": {
   "codemirror_mode": {
    "name": "ipython",
    "version": 3
   },
   "file_extension": ".py",
   "mimetype": "text/x-python",
   "name": "python",
   "nbconvert_exporter": "python",
   "pygments_lexer": "ipython3",
   "version": "3.7.11"
  }
 },
 "nbformat": 4,
 "nbformat_minor": 5
}
