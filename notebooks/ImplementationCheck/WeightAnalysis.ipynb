{
 "cells": [
  {
   "cell_type": "markdown",
   "id": "advance-notice",
   "metadata": {},
   "source": [
    "#### Includes"
   ]
  },
  {
   "cell_type": "code",
   "execution_count": 1,
   "id": "finnish-plant",
   "metadata": {},
   "outputs": [],
   "source": [
    "%load_ext autoreload\n",
    "%autoreload 2"
   ]
  },
  {
   "cell_type": "code",
   "execution_count": 2,
   "id": "basic-kitty",
   "metadata": {},
   "outputs": [],
   "source": [
    "import numpy as np\n",
    "import torch\n",
    "import torch.nn.functional as F\n",
    "import altair as alt\n",
    "from altair import datum\n",
    "import pandas as pd\n",
    "import time\n",
    "import os.path as P\n",
    "from pytorch_lightning.utilities.cloud_io import load as pl_load\n",
    "import pandas as pd\n",
    "import altair as alt\n",
    "alt.data_transformers.disable_max_rows()\n",
    "None"
   ]
  },
  {
   "cell_type": "code",
   "execution_count": 3,
   "id": "scientific-barcelona",
   "metadata": {},
   "outputs": [],
   "source": [
    "from sources import load_dataset, default_config, parse_config\n",
    "from run_train import setup_model\n",
    "from src.trainer import Binary2DSegmentation"
   ]
  },
  {
   "cell_type": "code",
   "execution_count": 4,
   "id": "genetic-start",
   "metadata": {},
   "outputs": [],
   "source": [
    "from steered_cnn.utils.rotequivariance_toolbox import *\n",
    "from steered_cnn.steered_conv.steerable_filters import radial_steerable_filter, plot_filter\n",
    "from steered_cnn.steered_conv import SteerableKernelBase, SteeredConv2d"
   ]
  },
  {
   "cell_type": "markdown",
   "id": "nearby-quality",
   "metadata": {},
   "source": [
    "## Initialization"
   ]
  },
  {
   "cell_type": "code",
   "execution_count": 5,
   "id": "active-carpet",
   "metadata": {},
   "outputs": [],
   "source": [
    "RUN_ID = '14/b74caa91aa02442888daff09e95231b5'"
   ]
  },
  {
   "cell_type": "code",
   "execution_count": 6,
   "id": "promising-sector",
   "metadata": {},
   "outputs": [],
   "source": [
    "art_path = P.abspath(P.join('/home/gaby/mlflow/mlruns', RUN_ID, 'artifacts/'))\n",
    "cfg = parse_config(art_path+'/cfg_extended.yaml')\n",
    "cfg['script-arguments']['gpus']='0'"
   ]
  },
  {
   "cell_type": "code",
   "execution_count": 7,
   "id": "knowing-going",
   "metadata": {},
   "outputs": [],
   "source": [
    "model = setup_model(cfg.model, 6, 1)\n",
    "net = Binary2DSegmentation(model=model)\n",
    "state_dict = pl_load(art_path+'/best-val-roc.ckpt'.format(25), map_location='cuda:0')['state_dict']\n",
    "net.load_state_dict(state_dict)\n",
    "net.eval().cuda()\n",
    "None"
   ]
  },
  {
   "cell_type": "code",
   "execution_count": null,
   "id": "presidential-trouble",
   "metadata": {},
   "outputs": [],
   "source": []
  },
  {
   "cell_type": "markdown",
   "id": "popular-merchandise",
   "metadata": {},
   "source": [
    "## Weight Value Analysis"
   ]
  },
  {
   "cell_type": "code",
   "execution_count": 8,
   "id": "invisible-newton",
   "metadata": {},
   "outputs": [
    {
     "data": {
      "text/html": [
       "\n",
       "<div id=\"altair-viz-a2893b6d5e16443c8dcbc40ed9a7b7f7\"></div>\n",
       "<script type=\"text/javascript\">\n",
       "  (function(spec, embedOpt){\n",
       "    let outputDiv = document.currentScript.previousElementSibling;\n",
       "    if (outputDiv.id !== \"altair-viz-a2893b6d5e16443c8dcbc40ed9a7b7f7\") {\n",
       "      outputDiv = document.getElementById(\"altair-viz-a2893b6d5e16443c8dcbc40ed9a7b7f7\");\n",
       "    }\n",
       "    const paths = {\n",
       "      \"vega\": \"https://cdn.jsdelivr.net/npm//vega@5?noext\",\n",
       "      \"vega-lib\": \"https://cdn.jsdelivr.net/npm//vega-lib?noext\",\n",
       "      \"vega-lite\": \"https://cdn.jsdelivr.net/npm//vega-lite@4.8.1?noext\",\n",
       "      \"vega-embed\": \"https://cdn.jsdelivr.net/npm//vega-embed@6?noext\",\n",
       "    };\n",
       "\n",
       "    function loadScript(lib) {\n",
       "      return new Promise(function(resolve, reject) {\n",
       "        var s = document.createElement('script');\n",
       "        s.src = paths[lib];\n",
       "        s.async = true;\n",
       "        s.onload = () => resolve(paths[lib]);\n",
       "        s.onerror = () => reject(`Error loading script: ${paths[lib]}`);\n",
       "        document.getElementsByTagName(\"head\")[0].appendChild(s);\n",
       "      });\n",
       "    }\n",
       "\n",
       "    function showError(err) {\n",
       "      outputDiv.innerHTML = `<div class=\"error\" style=\"color:red;\">${err}</div>`;\n",
       "      throw err;\n",
       "    }\n",
       "\n",
       "    function displayChart(vegaEmbed) {\n",
       "      vegaEmbed(outputDiv, spec, embedOpt)\n",
       "        .catch(err => showError(`Javascript Error: ${err.message}<br>This usually means there's a typo in your chart specification. See the javascript console for the full traceback.`));\n",
       "    }\n",
       "\n",
       "    if(typeof define === \"function\" && define.amd) {\n",
       "      requirejs.config({paths});\n",
       "      require([\"vega-embed\"], displayChart, err => showError(`Error loading script: ${err.message}`));\n",
       "    } else if (typeof vegaEmbed === \"function\") {\n",
       "      displayChart(vegaEmbed);\n",
       "    } else {\n",
       "      loadScript(\"vega\")\n",
       "        .then(() => loadScript(\"vega-lite\"))\n",
       "        .then(() => loadScript(\"vega-embed\"))\n",
       "        .catch(showError)\n",
       "        .then(() => displayChart(vegaEmbed));\n",
       "    }\n",
       "  })({\"config\": {\"view\": {\"continuousWidth\": 400, \"continuousHeight\": 300}}, \"data\": {\"name\": \"data-d16b5126819f95a3c72c7661efe80852\"}, \"facet\": {\"column\": {\"type\": \"quantitative\", \"field\": \"k\"}}, \"spec\": {\"layer\": [{\"mark\": {\"type\": \"tick\", \"thickness\": 2, \"width\": 10, \"xOffset\": 0}, \"encoding\": {\"x\": {\"type\": \"nominal\", \"field\": \"r_name\"}, \"y\": {\"type\": \"quantitative\", \"axis\": {\"format\": \"e\", \"values\": [1e-05, 0.0001, 0.001, 0.01, 0.1]}, \"field\": \"median\", \"scale\": {\"domain\": [1e-05, 1], \"type\": \"log\"}, \"title\": \"Weights norm\"}}, \"selection\": {\"selector001\": {\"type\": \"interval\", \"bind\": \"scales\", \"encodings\": [\"y\"]}}, \"width\": 70}, {\"mark\": {\"type\": \"bar\", \"opacity\": 0.2, \"width\": 10, \"xOffset\": 0}, \"encoding\": {\"x\": {\"type\": \"nominal\", \"field\": \"r_name\"}, \"y\": {\"type\": \"quantitative\", \"field\": \"-q0\", \"title\": \"\"}, \"y2\": {\"field\": \"q0\"}}, \"width\": 70}, {\"mark\": {\"type\": \"bar\", \"opacity\": 0.2, \"width\": 10, \"xOffset\": 0}, \"encoding\": {\"x\": {\"type\": \"nominal\", \"field\": \"r_name\"}, \"y\": {\"type\": \"quantitative\", \"field\": \"-q1\", \"title\": \"\"}, \"y2\": {\"field\": \"q1\"}}, \"width\": 70}, {\"mark\": {\"type\": \"bar\", \"opacity\": 0.2, \"width\": 10, \"xOffset\": 0}, \"encoding\": {\"x\": {\"type\": \"nominal\", \"field\": \"r_name\"}, \"y\": {\"type\": \"quantitative\", \"field\": \"-q2\", \"title\": \"\"}, \"y2\": {\"field\": \"q2\"}}, \"width\": 70}, {\"mark\": {\"type\": \"bar\", \"opacity\": 0.3, \"width\": 10, \"xOffset\": 0}, \"encoding\": {\"x\": {\"type\": \"nominal\", \"field\": \"r_name\"}, \"y\": {\"type\": \"quantitative\", \"field\": \"-q3\", \"title\": \"\"}, \"y2\": {\"field\": \"q3\"}}, \"width\": 70}, {\"mark\": {\"type\": \"bar\", \"opacity\": 0.3, \"width\": 10, \"xOffset\": 0}, \"encoding\": {\"x\": {\"type\": \"nominal\", \"field\": \"r_name\"}, \"y\": {\"type\": \"quantitative\", \"field\": \"-q4\", \"title\": \"\"}, \"y2\": {\"field\": \"q4\"}}, \"width\": 70}]}, \"resolve\": {\"scale\": {\"x\": \"independent\"}}, \"$schema\": \"https://vega.github.io/schema/vega-lite/v4.8.1.json\", \"datasets\": {\"data-d16b5126819f95a3c72c7661efe80852\": [{\"r_name\": 0.0, \"k\": 0, \"r\": 0.0, \"name\": \"k=0 r=0.0\", \"median\": 0.03135315887629986, \"q0\": 0.08093119971454144, \"-q0\": 0.004849180812016122, \"q1\": 0.06362245976924896, \"-q1\": 0.009821178391575813, \"q2\": 0.052926670759916306, \"-q2\": 0.014942653710022569, \"q3\": 0.04455580934882164, \"-q3\": 0.020155047997832302, \"q4\": 0.03757799603044985, \"-q4\": 0.025668240617960695}, {\"r_name\": 1.2071, \"k\": 0, \"r\": 1.2071068286895752, \"name\": \"k=0 r=1.2071068286895752\", \"median\": 0.03114593494683504, \"q0\": 0.08007645234465599, \"-q0\": 0.004898792947642504, \"q1\": 0.06347012519836426, \"-q1\": 0.009743871632963419, \"q2\": 0.05269403196871281, \"-q2\": 0.01476863631978631, \"q3\": 0.044440425932407365, \"-q3\": 0.019905574619770054, \"q4\": 0.03743105102330446, \"-q4\": 0.025322868954390298}, {\"r_name\": 2.3251, \"k\": 0, \"r\": 2.325140953063965, \"name\": \"k=0 r=2.325140953063965\", \"median\": 0.031056235544383526, \"q0\": 0.07987964898347855, \"-q0\": 0.00485109072178602, \"q1\": 0.06309984251856804, \"-q1\": 0.009842961095273498, \"q2\": 0.05255007278174162, \"-q2\": 0.0148904740344733, \"q3\": 0.04433874040842056, \"-q3\": 0.019926371052861214, \"q4\": 0.03726054914295672, \"-q4\": 0.025297534652054317}, {\"r_name\": 1.2071, \"k\": 1, \"r\": 1.2071068286895752, \"name\": \"k=1 r=1.2071068286895752\", \"median\": 0.05888757109642029, \"q0\": 0.14395439997315407, \"-q0\": 0.02177936909720301, \"q1\": 0.11045132949948311, \"-q1\": 0.030526448041200638, \"q2\": 0.09173654951155186, \"-q2\": 0.03749552741646767, \"q3\": 0.07839763164520262, \"-q3\": 0.04413889348506928, \"q4\": 0.06782281398773192, \"-q4\": 0.051047428511083126}, {\"r_name\": 2.3251, \"k\": 1, \"r\": 2.325140953063965, \"name\": \"k=1 r=2.325140953063965\", \"median\": 0.057440780103206635, \"q0\": 0.13565171882510185, \"-q0\": 0.021335133351385586, \"q1\": 0.10545273125171661, \"-q1\": 0.03010224271565676, \"q2\": 0.08799050562083721, \"-q2\": 0.03693427611142397, \"q3\": 0.0756792202591896, \"-q3\": 0.04340947046875955, \"q4\": 0.06586950272321701, \"-q4\": 0.05009244475513697}, {\"r_name\": 1.2071, \"k\": 2, \"r\": 1.2071068286895752, \"name\": \"k=2 r=1.2071068286895752\", \"median\": 0.06381246075034142, \"q0\": 0.16659026965498924, \"-q0\": 0.02263140166178345, \"q1\": 0.12536587566137314, \"-q1\": 0.03193760290741922, \"q2\": 0.10258626379072666, \"-q2\": 0.03949296474456787, \"q3\": 0.08661156892776489, \"-q3\": 0.04690815508365632, \"q4\": 0.07397831231355667, \"-q4\": 0.05490258056670429}, {\"r_name\": 2.3251, \"k\": 2, \"r\": 2.325140953063965, \"name\": \"k=2 r=2.325140953063965\", \"median\": 0.06244902312755585, \"q0\": 0.1589427925646305, \"-q0\": 0.022377024404704543, \"q1\": 0.1210065670311451, \"-q1\": 0.031613327562809, \"q2\": 0.09910759516060352, \"-q2\": 0.03892496973276138, \"q3\": 0.08389873802661892, \"-q3\": 0.046142030507326126, \"q4\": 0.07220696471631526, \"-q4\": 0.053814840503037}, {\"r_name\": 1.2071, \"k\": 3, \"r\": 1.2071068286895752, \"name\": \"k=3 r=1.2071068286895752\", \"median\": 0.06544772908091545, \"q0\": 0.17162186279892921, \"-q0\": 0.022584608290344477, \"q1\": 0.129738949239254, \"-q1\": 0.032083496451377876, \"q2\": 0.10589415393769741, \"-q2\": 0.03994172811508179, \"q3\": 0.08909793198108672, \"-q3\": 0.04780621081590653, \"q4\": 0.07623466663062572, \"-q4\": 0.056261625140905394}, {\"r_name\": 2.3251, \"k\": 3, \"r\": 2.325140953063965, \"name\": \"k=3 r=2.325140953063965\", \"median\": 0.06416589766740799, \"q0\": 0.16470977663993835, \"-q0\": 0.022681023925542828, \"q1\": 0.12537144869565964, \"-q1\": 0.032120922580361366, \"q2\": 0.10288218222558498, \"-q2\": 0.03971915412694216, \"q3\": 0.08701238781213759, \"-q3\": 0.047301582992076874, \"q4\": 0.07449016906321046, \"-q4\": 0.05523582268506289}, {\"r_name\": 1.2071, \"k\": 4, \"r\": 1.2071068286895752, \"name\": \"k=4 r=1.2071068286895752\", \"median\": 0.06425267085433006, \"q0\": 0.17039493843913078, \"-q0\": 0.022026507649570704, \"q1\": 0.1291593387722969, \"-q1\": 0.03134749457240105, \"q2\": 0.10503406636416912, \"-q2\": 0.03920961916446686, \"q3\": 0.08797600120306007, \"-q3\": 0.046912629157304764, \"q4\": 0.07495332136750221, \"-q4\": 0.055042049847543253}, {\"r_name\": 2.3251, \"k\": 4, \"r\": 2.325140953063965, \"name\": \"k=4 r=2.325140953063965\", \"median\": 0.06496936827898026, \"q0\": 0.16974713280797005, \"-q0\": 0.023016555700451132, \"q1\": 0.12843551486730576, \"-q1\": 0.03228732943534851, \"q2\": 0.1048935018479824, \"-q2\": 0.04009945038706064, \"q3\": 0.08838097751140589, \"-q3\": 0.04776794835925103, \"q4\": 0.07545377686619759, \"-q4\": 0.05595481954514981}, {\"r_name\": 2.3251, \"k\": 5, \"r\": 2.325140953063965, \"name\": \"k=5 r=2.325140953063965\", \"median\": 0.06566115096211433, \"q0\": 0.17103968560695648, \"-q0\": 0.022829867899417874, \"q1\": 0.12975472956895828, \"-q1\": 0.03233075328171253, \"q2\": 0.10605908185243607, \"-q2\": 0.04025196470320225, \"q3\": 0.08946916460990906, \"-q3\": 0.04800660908222199, \"q4\": 0.07653176598250866, \"-q4\": 0.056187458336353316}, {\"r_name\": 2.3251, \"k\": 6, \"r\": 2.325140953063965, \"name\": \"k=6 r=2.325140953063965\", \"median\": 0.06568699702620506, \"q0\": 0.17554065212607384, \"-q0\": 0.0225732740946114, \"q1\": 0.13308271765708923, \"-q1\": 0.03194536454975605, \"q2\": 0.1081612017005682, \"-q2\": 0.03987389523535967, \"q3\": 0.09045070409774773, \"-q3\": 0.04782278463244439, \"q4\": 0.07670171745121479, \"-q4\": 0.056224210187792785}, {\"r_name\": 2.3251, \"k\": 7, \"r\": 2.325140953063965, \"name\": \"k=7 r=2.325140953063965\", \"median\": 0.06465407833456993, \"q0\": 0.17373037338256836, \"-q0\": 0.021902533248066895, \"q1\": 0.13174286484718323, \"-q1\": 0.031224532984197147, \"q2\": 0.1070472914725542, \"-q2\": 0.038935692980885506, \"q3\": 0.08931469172239304, \"-q3\": 0.0466967411339283, \"q4\": 0.07588475197553635, \"-q4\": 0.05509856157004833}, {\"r_name\": 2.3251, \"k\": 8, \"r\": 2.325140953063965, \"name\": \"k=8 r=2.325140953063965\", \"median\": 0.06364379450678825, \"q0\": 0.16856537759304047, \"-q0\": 0.022042560856789347, \"q1\": 0.12740442156791687, \"-q1\": 0.031233056448400028, \"q2\": 0.10334118828177452, \"-q2\": 0.03896551113575697, \"q3\": 0.08694007247686383, \"-q3\": 0.04654345288872719, \"q4\": 0.07413839362561703, \"-q4\": 0.054434918798506274}]}}, {\"mode\": \"vega-lite\"});\n",
       "</script>"
      ],
      "text/plain": [
       "alt.FacetChart(...)"
      ]
     },
     "execution_count": 8,
     "metadata": {},
     "output_type": "execute_result"
    }
   ],
   "source": [
    "base = model.base\n",
    "W = [_ for _ in state_dict.values() if (_.ndim==3 and _.shape[-1]==len(base.kernels_label))]\n",
    "base.plot_weights_dist(W, scale_type='log', wrange=(1e-5,1))"
   ]
  },
  {
   "cell_type": "code",
   "execution_count": 9,
   "id": "infectious-banking",
   "metadata": {},
   "outputs": [
    {
     "data": {
      "text/html": [
       "\n",
       "<div id=\"altair-viz-8805d68325a0467c92c271226c484a6f\"></div>\n",
       "<script type=\"text/javascript\">\n",
       "  (function(spec, embedOpt){\n",
       "    let outputDiv = document.currentScript.previousElementSibling;\n",
       "    if (outputDiv.id !== \"altair-viz-8805d68325a0467c92c271226c484a6f\") {\n",
       "      outputDiv = document.getElementById(\"altair-viz-8805d68325a0467c92c271226c484a6f\");\n",
       "    }\n",
       "    const paths = {\n",
       "      \"vega\": \"https://cdn.jsdelivr.net/npm//vega@5?noext\",\n",
       "      \"vega-lib\": \"https://cdn.jsdelivr.net/npm//vega-lib?noext\",\n",
       "      \"vega-lite\": \"https://cdn.jsdelivr.net/npm//vega-lite@4.8.1?noext\",\n",
       "      \"vega-embed\": \"https://cdn.jsdelivr.net/npm//vega-embed@6?noext\",\n",
       "    };\n",
       "\n",
       "    function loadScript(lib) {\n",
       "      return new Promise(function(resolve, reject) {\n",
       "        var s = document.createElement('script');\n",
       "        s.src = paths[lib];\n",
       "        s.async = true;\n",
       "        s.onload = () => resolve(paths[lib]);\n",
       "        s.onerror = () => reject(`Error loading script: ${paths[lib]}`);\n",
       "        document.getElementsByTagName(\"head\")[0].appendChild(s);\n",
       "      });\n",
       "    }\n",
       "\n",
       "    function showError(err) {\n",
       "      outputDiv.innerHTML = `<div class=\"error\" style=\"color:red;\">${err}</div>`;\n",
       "      throw err;\n",
       "    }\n",
       "\n",
       "    function displayChart(vegaEmbed) {\n",
       "      vegaEmbed(outputDiv, spec, embedOpt)\n",
       "        .catch(err => showError(`Javascript Error: ${err.message}<br>This usually means there's a typo in your chart specification. See the javascript console for the full traceback.`));\n",
       "    }\n",
       "\n",
       "    if(typeof define === \"function\" && define.amd) {\n",
       "      requirejs.config({paths});\n",
       "      require([\"vega-embed\"], displayChart, err => showError(`Error loading script: ${err.message}`));\n",
       "    } else if (typeof vegaEmbed === \"function\") {\n",
       "      displayChart(vegaEmbed);\n",
       "    } else {\n",
       "      loadScript(\"vega\")\n",
       "        .then(() => loadScript(\"vega-lite\"))\n",
       "        .then(() => loadScript(\"vega-embed\"))\n",
       "        .catch(showError)\n",
       "        .then(() => displayChart(vegaEmbed));\n",
       "    }\n",
       "  })({\"config\": {\"view\": {\"continuousWidth\": 400, \"continuousHeight\": 300}}, \"data\": {\"name\": \"data-30927b4516f03f683c7b9469e125bec7\"}, \"facet\": {\"column\": {\"type\": \"quantitative\", \"field\": \"k\"}}, \"spec\": {\"layer\": [{\"mark\": {\"type\": \"tick\", \"thickness\": 2, \"width\": 10, \"xOffset\": 0}, \"encoding\": {\"x\": {\"type\": \"nominal\", \"field\": \"r_name\"}, \"y\": {\"type\": \"quantitative\", \"axis\": {\"format\": \"e\", \"values\": [0.001, 0.01]}, \"field\": \"median\", \"scale\": {\"domain\": [0.001, 0.1], \"type\": \"log\"}, \"title\": \"Weights norm\"}}, \"selection\": {\"selector002\": {\"type\": \"interval\", \"bind\": \"scales\", \"encodings\": [\"y\"]}}, \"width\": 70}, {\"mark\": {\"type\": \"bar\", \"opacity\": 0.2, \"width\": 10, \"xOffset\": 0}, \"encoding\": {\"x\": {\"type\": \"nominal\", \"field\": \"r_name\"}, \"y\": {\"type\": \"quantitative\", \"field\": \"-q0\", \"title\": \"\"}, \"y2\": {\"field\": \"q0\"}}, \"width\": 70}, {\"mark\": {\"type\": \"bar\", \"opacity\": 0.2, \"width\": 10, \"xOffset\": 0}, \"encoding\": {\"x\": {\"type\": \"nominal\", \"field\": \"r_name\"}, \"y\": {\"type\": \"quantitative\", \"field\": \"-q1\", \"title\": \"\"}, \"y2\": {\"field\": \"q1\"}}, \"width\": 70}, {\"mark\": {\"type\": \"bar\", \"opacity\": 0.2, \"width\": 10, \"xOffset\": 0}, \"encoding\": {\"x\": {\"type\": \"nominal\", \"field\": \"r_name\"}, \"y\": {\"type\": \"quantitative\", \"field\": \"-q2\", \"title\": \"\"}, \"y2\": {\"field\": \"q2\"}}, \"width\": 70}, {\"mark\": {\"type\": \"bar\", \"opacity\": 0.3, \"width\": 10, \"xOffset\": 0}, \"encoding\": {\"x\": {\"type\": \"nominal\", \"field\": \"r_name\"}, \"y\": {\"type\": \"quantitative\", \"field\": \"-q3\", \"title\": \"\"}, \"y2\": {\"field\": \"q3\"}}, \"width\": 70}, {\"mark\": {\"type\": \"bar\", \"opacity\": 0.3, \"width\": 10, \"xOffset\": 0}, \"encoding\": {\"x\": {\"type\": \"nominal\", \"field\": \"r_name\"}, \"y\": {\"type\": \"quantitative\", \"field\": \"-q4\", \"title\": \"\"}, \"y2\": {\"field\": \"q4\"}}, \"width\": 70}]}, \"resolve\": {\"scale\": {\"x\": \"independent\"}}, \"$schema\": \"https://vega.github.io/schema/vega-lite/v4.8.1.json\", \"datasets\": {\"data-30927b4516f03f683c7b9469e125bec7\": [{\"r_name\": 0.0, \"k\": 0, \"r\": 0.0, \"name\": \"k=0 r=0.0\", \"median\": 0.024409238249063492, \"q0\": 0.06305847565333052, \"-q0\": 0.0038381405368757737, \"q1\": 0.05028256401419636, \"-q1\": 0.007672097456331061, \"q2\": 0.041760239750146866, \"-q2\": 0.01157991518266499, \"q3\": 0.03502219294508298, \"-q3\": 0.0157278993477424, \"q4\": 0.02929366566240787, \"-q4\": 0.019891095037261643}, {\"r_name\": 1.2071, \"k\": 0, \"r\": 1.2071068286895752, \"name\": \"k=0 r=1.2071068286895752\", \"median\": 0.024306139908730984, \"q0\": 0.0629260676602523, \"-q0\": 0.003836323429519931, \"q1\": 0.05015844665467736, \"-q1\": 0.007529554267724361, \"q2\": 0.041764876805245876, \"-q2\": 0.011483741458505392, \"q3\": 0.035060331225395196, \"-q3\": 0.015422778514524305, \"q4\": 0.029277721730371315, \"-q4\": 0.01975093238676588}, {\"r_name\": 2.3251, \"k\": 0, \"r\": 2.325140953063965, \"name\": \"k=0 r=2.325140953063965\", \"median\": 0.024673371575772762, \"q0\": 0.06327077125509582, \"-q0\": 0.0038030540648226916, \"q1\": 0.050585894534985215, \"-q1\": 0.007642791063214343, \"q2\": 0.041996427811682224, \"-q2\": 0.011677681468427181, \"q3\": 0.035242881625890704, \"-q3\": 0.015781738484899204, \"q4\": 0.02965817119305332, \"-q4\": 0.020097839490820966}, {\"r_name\": 1.2071, \"k\": 1, \"r\": 1.2071068286895752, \"name\": \"k=1 r=1.2071068286895752\", \"median\": 0.034859370440244675, \"q0\": 0.08940746883551282, \"-q0\": 0.005440697733623285, \"q1\": 0.07152278969685237, \"-q1\": 0.01077441591769457, \"q2\": 0.059526484459638596, \"-q2\": 0.016396581195294857, \"q3\": 0.04999434947967528, \"-q3\": 0.022306614244977634, \"q4\": 0.04186415672302245, \"-q4\": 0.02840616165970763}, {\"r_name\": 2.3251, \"k\": 1, \"r\": 2.325140953063965, \"name\": \"k=1 r=2.325140953063965\", \"median\": 0.0350116491317749, \"q0\": 0.08988348767161375, \"-q0\": 0.005534233098539208, \"q1\": 0.07161440203587213, \"-q1\": 0.01103889554118118, \"q2\": 0.05946345627307892, \"-q2\": 0.016595042310655117, \"q3\": 0.050078051785628006, \"-q3\": 0.022349123532573387, \"q4\": 0.04200099532802897, \"-q4\": 0.02835171545545261}, {\"r_name\": 1.2071, \"k\": 2, \"r\": 1.2071068286895752, \"name\": \"k=2 r=1.2071068286895752\", \"median\": 0.03496937453746796, \"q0\": 0.08996897004544735, \"-q0\": 0.005449156509712335, \"q1\": 0.07175260161360103, \"-q1\": 0.01097559928894043, \"q2\": 0.059833298437297344, \"-q2\": 0.016649896278977394, \"q3\": 0.050445559124151856, \"-q3\": 0.022375460093220077, \"q4\": 0.042196050286293016, \"-q4\": 0.02841585284719865}, {\"r_name\": 2.3251, \"k\": 2, \"r\": 2.325140953063965, \"name\": \"k=2 r=2.325140953063965\", \"median\": 0.03467207029461861, \"q0\": 0.08927378803491601, \"-q0\": 0.005480970023199909, \"q1\": 0.07115752870837846, \"-q1\": 0.010900300151358058, \"q2\": 0.05912761949002743, \"-q2\": 0.016450393479317427, \"q3\": 0.04989139114816983, \"-q3\": 0.022084762031833332, \"q4\": 0.041792478101948895, \"-q4\": 0.02818663852910202}, {\"r_name\": 1.2071, \"k\": 3, \"r\": 1.2071068286895752, \"name\": \"k=3 r=1.2071068286895752\", \"median\": 0.034934233874082565, \"q0\": 0.08958424317340058, \"-q0\": 0.005412689565370475, \"q1\": 0.07122365633646646, \"-q1\": 0.010799332366635403, \"q2\": 0.05922973342239857, \"-q2\": 0.016331729013472795, \"q3\": 0.05002133796612421, \"-q3\": 0.02218683374424776, \"q4\": 0.04192220512777566, \"-q4\": 0.028401025415708624}, {\"r_name\": 2.3251, \"k\": 3, \"r\": 2.325140953063965, \"name\": \"k=3 r=2.325140953063965\", \"median\": 0.03501478582620621, \"q0\": 0.08975160246094069, \"-q0\": 0.005442416373019414, \"q1\": 0.07160037010908125, \"-q1\": 0.010860043267409008, \"q2\": 0.0595631068572402, \"-q2\": 0.01642443658784032, \"q3\": 0.05020069206754366, \"-q3\": 0.022399886200825378, \"q4\": 0.04213372773180404, \"-q4\": 0.028555105285098154}, {\"r_name\": 1.2071, \"k\": 4, \"r\": 1.2071068286895752, \"name\": \"k=4 r=1.2071068286895752\", \"median\": 0.034944649785757065, \"q0\": 0.08850592374801636, \"-q0\": 0.00529237448548277, \"q1\": 0.07115976264079409, \"-q1\": 0.010810719182093947, \"q2\": 0.0592452734708786, \"-q2\": 0.016304093413054943, \"q3\": 0.05000725885232289, \"-q3\": 0.022275755181908607, \"q4\": 0.04204862999419371, \"-q4\": 0.028416023279229798}, {\"r_name\": 2.3251, \"k\": 4, \"r\": 2.325140953063965, \"name\": \"k=4 r=2.325140953063965\", \"median\": 0.03526425547897816, \"q0\": 0.09001267328858381, \"-q0\": 0.005649450390289227, \"q1\": 0.07197555527091025, \"-q1\": 0.01115426126246651, \"q2\": 0.05993961542844772, \"-q2\": 0.016739676240831614, \"q3\": 0.050559211522340705, \"-q3\": 0.022665161639451984, \"q4\": 0.04253033517549434, \"-q4\": 0.028938118989268943}, {\"r_name\": 2.3251, \"k\": 5, \"r\": 2.325140953063965, \"name\": \"k=5 r=2.325140953063965\", \"median\": 0.034655194729566574, \"q0\": 0.08947467803955078, \"-q0\": 0.005272198507251838, \"q1\": 0.07105515524744987, \"-q1\": 0.010758901635805767, \"q2\": 0.058936039917171, \"-q2\": 0.01632741978392005, \"q3\": 0.0496921402712663, \"-q3\": 0.022169026856621105, \"q4\": 0.041674360632896416, \"-q4\": 0.028287786524742856}, {\"r_name\": 2.3251, \"k\": 6, \"r\": 2.325140953063965, \"name\": \"k=6 r=2.325140953063965\", \"median\": 0.03492365963757038, \"q0\": 0.08952770816783111, \"-q0\": 0.00555949076078832, \"q1\": 0.07179782912135124, \"-q1\": 0.010927737380067512, \"q2\": 0.05980415549129248, \"-q2\": 0.01667271926999092, \"q3\": 0.05035838360587755, \"-q3\": 0.02240234489242236, \"q4\": 0.04217940320571264, \"-q4\": 0.028437516186386357}, {\"r_name\": 2.3251, \"k\": 7, \"r\": 2.325140953063965, \"name\": \"k=7 r=2.325140953063965\", \"median\": 0.034620583057403564, \"q0\": 0.0896811845401923, \"-q0\": 0.005506145108180739, \"q1\": 0.07179867352048554, \"-q1\": 0.01085688980917136, \"q2\": 0.05955441389232874, \"-q2\": 0.016485424246639013, \"q3\": 0.05000031615296998, \"-q3\": 0.02237564325332642, \"q4\": 0.041924730253716305, \"-q4\": 0.02840254269540311}, {\"r_name\": 2.3251, \"k\": 8, \"r\": 2.325140953063965, \"name\": \"k=8 r=2.325140953063965\", \"median\": 0.034653736278414726, \"q0\": 0.09016778816779458, \"-q0\": 0.0054689563888435525, \"q1\": 0.07179738705356914, \"-q1\": 0.01095019715527694, \"q2\": 0.05968556646257639, \"-q2\": 0.0164349558763206, \"q3\": 0.049997662504514054, \"-q3\": 0.02214533897737662, \"q4\": 0.041768219632407004, \"-q4\": 0.028294598838935297}]}}, {\"mode\": \"vega-lite\"});\n",
       "</script>"
      ],
      "text/plain": [
       "alt.FacetChart(...)"
      ]
     },
     "execution_count": 9,
     "metadata": {},
     "output_type": "execute_result"
    }
   ],
   "source": [
    "base.plot_weights_dist(base.init_weights(100,500),  scale_type='log', wrange=(1e-3,1e-1))"
   ]
  },
  {
   "cell_type": "code",
   "execution_count": null,
   "id": "trained-tamil",
   "metadata": {},
   "outputs": [],
   "source": []
  },
  {
   "cell_type": "markdown",
   "id": "younger-guarantee",
   "metadata": {},
   "source": [
    "## Gradient Analysis"
   ]
  },
  {
   "cell_type": "code",
   "execution_count": 10,
   "id": "american-trance",
   "metadata": {},
   "outputs": [],
   "source": [
    "trainD, validD, testD = load_dataset(cfg)"
   ]
  },
  {
   "cell_type": "code",
   "execution_count": 11,
   "id": "atmospheric-implementation",
   "metadata": {},
   "outputs": [
    {
     "name": "stderr",
     "output_type": "stream",
     "text": [
      "/home/gaby/.conda/envs/nnet/lib/python3.7/site-packages/torch/nn/functional.py:3458: UserWarning: Default upsampling behavior when mode=bilinear is changed to align_corners=False since 0.4.0. Please specify align_corners=True if the old behavior is desired. See the documentation of nn.Upsample for details.\n",
      "  \"See the documentation of nn.Upsample for details.\".format(mode)\n",
      "/home/gaby/.conda/envs/nnet/lib/python3.7/site-packages/pytorch_lightning/core/lightning.py:418: UserWarning: You are trying to `self.log()` but the `self.trainer` reference is not registered on the model yet. This is most likely because the model hasn't been passed to the `Trainer`\n",
      "  \"You are trying to `self.log()` but the `self.trainer` reference is not registered on the model yet.\"\n"
     ]
    }
   ],
   "source": [
    "net.train()\n",
    "net.zero_grad()\n",
    "for batch in trainD:\n",
    "    batch_cuda = {k: v.cuda() for k, v in batch.items()}\n",
    "    loss = net.training_step(batch_cuda, 0)\n",
    "    loss.backward()\n",
    "    break"
   ]
  },
  {
   "cell_type": "code",
   "execution_count": 13,
   "id": "suited-shopping",
   "metadata": {},
   "outputs": [
    {
     "data": {
      "text/html": [
       "\n",
       "<div id=\"altair-viz-b6a21df5d4714e40816a735b1bbfc177\"></div>\n",
       "<script type=\"text/javascript\">\n",
       "  (function(spec, embedOpt){\n",
       "    let outputDiv = document.currentScript.previousElementSibling;\n",
       "    if (outputDiv.id !== \"altair-viz-b6a21df5d4714e40816a735b1bbfc177\") {\n",
       "      outputDiv = document.getElementById(\"altair-viz-b6a21df5d4714e40816a735b1bbfc177\");\n",
       "    }\n",
       "    const paths = {\n",
       "      \"vega\": \"https://cdn.jsdelivr.net/npm//vega@5?noext\",\n",
       "      \"vega-lib\": \"https://cdn.jsdelivr.net/npm//vega-lib?noext\",\n",
       "      \"vega-lite\": \"https://cdn.jsdelivr.net/npm//vega-lite@4.8.1?noext\",\n",
       "      \"vega-embed\": \"https://cdn.jsdelivr.net/npm//vega-embed@6?noext\",\n",
       "    };\n",
       "\n",
       "    function loadScript(lib) {\n",
       "      return new Promise(function(resolve, reject) {\n",
       "        var s = document.createElement('script');\n",
       "        s.src = paths[lib];\n",
       "        s.async = true;\n",
       "        s.onload = () => resolve(paths[lib]);\n",
       "        s.onerror = () => reject(`Error loading script: ${paths[lib]}`);\n",
       "        document.getElementsByTagName(\"head\")[0].appendChild(s);\n",
       "      });\n",
       "    }\n",
       "\n",
       "    function showError(err) {\n",
       "      outputDiv.innerHTML = `<div class=\"error\" style=\"color:red;\">${err}</div>`;\n",
       "      throw err;\n",
       "    }\n",
       "\n",
       "    function displayChart(vegaEmbed) {\n",
       "      vegaEmbed(outputDiv, spec, embedOpt)\n",
       "        .catch(err => showError(`Javascript Error: ${err.message}<br>This usually means there's a typo in your chart specification. See the javascript console for the full traceback.`));\n",
       "    }\n",
       "\n",
       "    if(typeof define === \"function\" && define.amd) {\n",
       "      requirejs.config({paths});\n",
       "      require([\"vega-embed\"], displayChart, err => showError(`Error loading script: ${err.message}`));\n",
       "    } else if (typeof vegaEmbed === \"function\") {\n",
       "      displayChart(vegaEmbed);\n",
       "    } else {\n",
       "      loadScript(\"vega\")\n",
       "        .then(() => loadScript(\"vega-lite\"))\n",
       "        .then(() => loadScript(\"vega-embed\"))\n",
       "        .catch(showError)\n",
       "        .then(() => displayChart(vegaEmbed));\n",
       "    }\n",
       "  })({\"config\": {\"view\": {\"continuousWidth\": 400, \"continuousHeight\": 300}}, \"data\": {\"name\": \"data-fd1f62b07672d1f5217d6e61486a301b\"}, \"facet\": {\"column\": {\"type\": \"quantitative\", \"field\": \"k\"}}, \"spec\": {\"layer\": [{\"mark\": {\"type\": \"tick\", \"thickness\": 2, \"width\": 10, \"xOffset\": 0}, \"encoding\": {\"x\": {\"type\": \"nominal\", \"field\": \"r_name\"}, \"y\": {\"type\": \"quantitative\", \"axis\": {}, \"field\": \"median\", \"scale\": {\"domain\": [1e-10, 0.0001], \"type\": \"linear\"}, \"title\": \"Weights norm\"}}, \"selection\": {\"selector004\": {\"type\": \"interval\", \"bind\": \"scales\", \"encodings\": [\"y\"]}}, \"width\": 70}, {\"mark\": {\"type\": \"bar\", \"opacity\": 0.2, \"width\": 10, \"xOffset\": 0}, \"encoding\": {\"x\": {\"type\": \"nominal\", \"field\": \"r_name\"}, \"y\": {\"type\": \"quantitative\", \"field\": \"-q0\", \"title\": \"\"}, \"y2\": {\"field\": \"q0\"}}, \"width\": 70}, {\"mark\": {\"type\": \"bar\", \"opacity\": 0.2, \"width\": 10, \"xOffset\": 0}, \"encoding\": {\"x\": {\"type\": \"nominal\", \"field\": \"r_name\"}, \"y\": {\"type\": \"quantitative\", \"field\": \"-q1\", \"title\": \"\"}, \"y2\": {\"field\": \"q1\"}}, \"width\": 70}, {\"mark\": {\"type\": \"bar\", \"opacity\": 0.2, \"width\": 10, \"xOffset\": 0}, \"encoding\": {\"x\": {\"type\": \"nominal\", \"field\": \"r_name\"}, \"y\": {\"type\": \"quantitative\", \"field\": \"-q2\", \"title\": \"\"}, \"y2\": {\"field\": \"q2\"}}, \"width\": 70}, {\"mark\": {\"type\": \"bar\", \"opacity\": 0.3, \"width\": 10, \"xOffset\": 0}, \"encoding\": {\"x\": {\"type\": \"nominal\", \"field\": \"r_name\"}, \"y\": {\"type\": \"quantitative\", \"field\": \"-q3\", \"title\": \"\"}, \"y2\": {\"field\": \"q3\"}}, \"width\": 70}, {\"mark\": {\"type\": \"bar\", \"opacity\": 0.3, \"width\": 10, \"xOffset\": 0}, \"encoding\": {\"x\": {\"type\": \"nominal\", \"field\": \"r_name\"}, \"y\": {\"type\": \"quantitative\", \"field\": \"-q4\", \"title\": \"\"}, \"y2\": {\"field\": \"q4\"}}, \"width\": 70}]}, \"resolve\": {\"scale\": {\"x\": \"independent\"}}, \"$schema\": \"https://vega.github.io/schema/vega-lite/v4.8.1.json\", \"datasets\": {\"data-fd1f62b07672d1f5217d6e61486a301b\": [{\"r_name\": 0.0, \"k\": 0, \"r\": 0.0, \"name\": \"k=0 r=0.0\", \"median\": 9.752818004926667e-05, \"q0\": 0.0009238611091859639, \"-q0\": 9.332849458587585e-06, \"q1\": 0.00047619841643609107, \"-q1\": 1.9695729861268774e-05, \"q2\": 0.0002967440304928459, \"-q2\": 3.2147781894309446e-05, \"q3\": 0.0001989208976738154, \"-q3\": 4.8016237997217144e-05, \"q4\": 0.00013900269186706274, \"-q4\": 6.923020919202828e-05}, {\"r_name\": 1.2071, \"k\": 0, \"r\": 1.2071068286895752, \"name\": \"k=0 r=1.2071068286895752\", \"median\": 0.00016835501446621493, \"q0\": 0.0015857262478675693, \"-q0\": 1.5859809991525226e-05, \"q1\": 0.0008208116632886231, \"-q1\": 3.394343912077602e-05, \"q2\": 0.0005148260243004188, \"-q2\": 5.559246892516967e-05, \"q3\": 0.0003417602274566886, \"-q3\": 8.302070637000725e-05, \"q4\": 0.0002380701225774828, \"-q4\": 0.00011902426012966319}, {\"r_name\": 2.3251, \"k\": 0, \"r\": 2.325140953063965, \"name\": \"k=0 r=2.325140953063965\", \"median\": 0.00020145939924987033, \"q0\": 0.0019183217082172632, \"-q0\": 1.9129661268379988e-05, \"q1\": 0.0009971686522476375, \"-q1\": 4.073538912052754e-05, \"q2\": 0.0006153996655484661, \"-q2\": 6.693457362416666e-05, \"q3\": 0.0004103627288714036, \"-q3\": 0.00010040363122243434, \"q4\": 0.00028501556516857807, \"-q4\": 0.00014385582471732056}, {\"r_name\": 1.2071, \"k\": 1, \"r\": 1.2071068286895752, \"name\": \"k=1 r=1.2071068286895752\", \"median\": 4.5537490223068744e-05, \"q0\": 0.0005587198247667402, \"-q0\": 4.889976253252821e-06, \"q1\": 0.00026815355522558093, \"-q1\": 9.317503099737227e-06, \"q2\": 0.0001541381461720448, \"-q2\": 1.4859379234621883e-05, \"q3\": 9.869342466117814e-05, \"-q3\": 2.205620512540918e-05, \"q4\": 6.619883424718863e-05, \"-q4\": 3.189193193975372e-05}, {\"r_name\": 2.3251, \"k\": 1, \"r\": 2.325140953063965, \"name\": \"k=1 r=2.325140953063965\", \"median\": 7.007764725130983e-05, \"q0\": 0.0007795331621309742, \"-q0\": 8.230030061895377e-06, \"q1\": 0.0003851227374980226, \"-q1\": 1.5154942502704223e-05, \"q2\": 0.00022648260346613824, \"-q2\": 2.3821017748559825e-05, \"q3\": 0.0001463454100303352, \"-q3\": 3.4858559956774116e-05, \"q4\": 9.989762111217711e-05, \"-q4\": 4.9659810429147924e-05}, {\"r_name\": 1.2071, \"k\": 2, \"r\": 1.2071068286895752, \"name\": \"k=2 r=1.2071068286895752\", \"median\": 2.6342052478867117e-05, \"q0\": 0.00036993516550865024, \"-q0\": 2.4155426672223244e-06, \"q1\": 0.00017583369481144473, \"-q1\": 4.68836515210569e-06, \"q2\": 9.819292063184548e-05, \"-q2\": 7.772964863761445e-06, \"q3\": 5.970745405647903e-05, \"-q3\": 1.1939591786358509e-05, \"q4\": 3.886895228788487e-05, \"-q4\": 1.799464826035546e-05}, {\"r_name\": 2.3251, \"k\": 2, \"r\": 2.325140953063965, \"name\": \"k=2 r=2.325140953063965\", \"median\": 4.272651131032035e-05, \"q0\": 0.0005588226631516591, \"-q0\": 4.441291139301026e-06, \"q1\": 0.0002649254456628114, \"-q1\": 8.241089290095264e-06, \"q2\": 0.00015077686839504167, \"-q2\": 1.3179146208130987e-05, \"q3\": 9.454679820919397e-05, \"-q3\": 1.9941082427976653e-05, \"q4\": 6.279986337176521e-05, \"-q4\": 2.9397575417533527e-05}, {\"r_name\": 1.2071, \"k\": 3, \"r\": 1.2071068286895752, \"name\": \"k=3 r=1.2071068286895752\", \"median\": 1.8855892449209932e-05, \"q0\": 0.0002804213945637457, \"-q0\": 1.5121212584290331e-06, \"q1\": 0.00013580267113866284, \"-q1\": 3.1849676815909334e-06, \"q2\": 7.321472912735771e-05, \"-q2\": 5.463528168547782e-06, \"q3\": 4.38097667938563e-05, \"-q3\": 8.530852028343361e-06, \"q4\": 2.8087041755497904e-05, \"-q4\": 1.2671328477154022e-05}, {\"r_name\": 2.3251, \"k\": 3, \"r\": 2.325140953063965, \"name\": \"k=3 r=2.325140953063965\", \"median\": 2.9157075914554298e-05, \"q0\": 0.0004152009205427021, \"-q0\": 2.6327964519623467e-06, \"q1\": 0.0001973304752027616, \"-q1\": 5.152067387825809e-06, \"q2\": 0.00010758917960629333, \"-q2\": 8.497546559738112e-06, \"q3\": 6.646501424256711e-05, \"-q3\": 1.318886097578798e-05, \"q4\": 4.3303070015099365e-05, \"-q4\": 1.9626554603746643e-05}, {\"r_name\": 1.2071, \"k\": 4, \"r\": 1.2071068286895752, \"name\": \"k=4 r=1.2071068286895752\", \"median\": 1.484704807808157e-05, \"q0\": 0.0002499245310900733, \"-q0\": 1.1293655859390128e-06, \"q1\": 0.00012109769886592403, \"-q1\": 2.446053485982702e-06, \"q2\": 6.503727490780875e-05, \"-q2\": 4.177679443273519e-06, \"q3\": 3.761339030461383e-05, \"-q3\": 6.5424956119386505e-06, \"q4\": 2.2854053895571242e-05, \"-q4\": 9.908992524287898e-06}, {\"r_name\": 2.3251, \"k\": 4, \"r\": 2.325140953063965, \"name\": \"k=4 r=2.325140953063965\", \"median\": 2.219686757598538e-05, \"q0\": 0.00033434325450798497, \"-q0\": 1.8845854015125947e-06, \"q1\": 0.0001577797156642191, \"-q1\": 3.7394760283859796e-06, \"q2\": 8.60376821947284e-05, \"-q2\": 6.334664703899762e-06, \"q3\": 5.155388862476671e-05, \"-q3\": 9.875581781670919e-06, \"q4\": 3.3411213735234924e-05, \"-q4\": 1.499161339779676e-05}, {\"r_name\": 2.3251, \"k\": 5, \"r\": 2.325140953063965, \"name\": \"k=5 r=2.325140953063965\", \"median\": 1.81968889592099e-05, \"q0\": 0.00028170958103146404, \"-q0\": 1.476276850098656e-06, \"q1\": 0.0001359462330583483, \"-q1\": 3.0704638902534502e-06, \"q2\": 7.199323226814158e-05, \"-q2\": 5.223649964136712e-06, \"q3\": 4.280829307390371e-05, \"-q3\": 8.191083907149732e-06, \"q4\": 2.7227710234001255e-05, \"-q4\": 1.2289801588849517e-05}, {\"r_name\": 2.3251, \"k\": 6, \"r\": 2.325140953063965, \"name\": \"k=6 r=2.325140953063965\", \"median\": 1.522546517662704e-05, \"q0\": 0.00025067388196475804, \"-q0\": 1.1648330939806324e-06, \"q1\": 0.00012272650201339275, \"-q1\": 2.551691522967304e-06, \"q2\": 6.489150109700859e-05, \"-q2\": 4.369349312582926e-06, \"q3\": 3.751750409719532e-05, \"-q3\": 6.783374374208507e-06, \"q4\": 2.3283301743504105e-05, \"-q4\": 1.0196486755376101e-05}, {\"r_name\": 2.3251, \"k\": 7, \"r\": 2.325140953063965, \"name\": \"k=7 r=2.325140953063965\", \"median\": 1.4094970083533553e-05, \"q0\": 0.00023891650926088914, \"-q0\": 9.921868695528225e-07, \"q1\": 0.00011506574446684681, \"-q1\": 2.22703329200158e-06, \"q2\": 6.261340968194418e-05, \"-q2\": 3.834353378806554e-06, \"q3\": 3.670599107863376e-05, \"-q3\": 6.009364824421937e-06, \"q4\": 2.233872010037885e-05, \"-q4\": 9.205686637869817e-06}, {\"r_name\": 2.3251, \"k\": 8, \"r\": 2.325140953063965, \"name\": \"k=8 r=2.325140953063965\", \"median\": 1.3879874586564256e-05, \"q0\": 0.00023644947577849962, \"-q0\": 1.0558994745224473e-06, \"q1\": 0.00011495027138153091, \"-q1\": 2.28275689551083e-06, \"q2\": 6.20565169811016e-05, \"-q2\": 3.866346446557145e-06, \"q3\": 3.576184099074452e-05, \"-q3\": 5.9533899730013235e-06, \"q4\": 2.1708490294258795e-05, \"-q4\": 9.024865903484174e-06}]}}, {\"mode\": \"vega-lite\"});\n",
       "</script>"
      ],
      "text/plain": [
       "alt.FacetChart(...)"
      ]
     },
     "execution_count": 13,
     "metadata": {},
     "output_type": "execute_result"
    }
   ],
   "source": [
    "weights_grad = torch.cat([m.weights.grad.flatten(end_dim=1) for m in net.modules() if isinstance(m, SteeredConv2d) and m.weights.shape[-1]==27])\n",
    "base.plot_weights_dist(weights_grad, wrange=(1e-10, 1e-4))"
   ]
  },
  {
   "cell_type": "code",
   "execution_count": null,
   "id": "included-highland",
   "metadata": {},
   "outputs": [],
   "source": []
  }
 ],
 "metadata": {
  "kernelspec": {
   "display_name": "Python 3",
   "language": "python",
   "name": "python3"
  },
  "language_info": {
   "codemirror_mode": {
    "name": "ipython",
    "version": 3
   },
   "file_extension": ".py",
   "mimetype": "text/x-python",
   "name": "python",
   "nbconvert_exporter": "python",
   "pygments_lexer": "ipython3",
   "version": "3.7.11"
  }
 },
 "nbformat": 4,
 "nbformat_minor": 5
}
