{
 "cells": [
  {
   "cell_type": "markdown",
   "id": "advance-notice",
   "metadata": {},
   "source": [
    "#### Includes"
   ]
  },
  {
   "cell_type": "code",
   "execution_count": 1,
   "id": "finnish-plant",
   "metadata": {},
   "outputs": [],
   "source": [
    "%load_ext autoreload\n",
    "%autoreload 2"
   ]
  },
  {
   "cell_type": "code",
   "execution_count": 2,
   "id": "basic-kitty",
   "metadata": {},
   "outputs": [],
   "source": [
    "import numpy as np\n",
    "import torch\n",
    "import torch.nn.functional as F\n",
    "import altair as alt\n",
    "from altair import datum\n",
    "import pandas as pd\n",
    "import time\n",
    "import os.path as P\n",
    "from pytorch_lightning.utilities.cloud_io import load as pl_load\n",
    "import pandas as pd\n",
    "import altair as alt\n",
    "alt.data_transformers.disable_max_rows()\n",
    "None"
   ]
  },
  {
   "cell_type": "code",
   "execution_count": 3,
   "id": "scientific-barcelona",
   "metadata": {},
   "outputs": [
    {
     "name": "stderr",
     "output_type": "stream",
     "text": [
      "/home/gaby/These/src/Fundus/SteeredCNN/3-Git/experimentations/src/config/attribute_dict.py:215: SyntaxWarning: \"is\" with a literal. Did you mean \"==\"?\n",
      "  if default is 'raise':\n"
     ]
    }
   ],
   "source": [
    "from sources import load_dataset, default_config, parse_config\n",
    "from run_train import setup_model\n",
    "from src.trainer import Binary2DSegmentation"
   ]
  },
  {
   "cell_type": "code",
   "execution_count": 4,
   "id": "genetic-start",
   "metadata": {},
   "outputs": [],
   "source": [
    "from steered_cnn.utils.rotequivariance_toolbox import *\n",
    "from steered_cnn.steered_conv.steerable_filters import radial_steerable_filter, plot_filter\n",
    "from steered_cnn.steered_conv import SteerableKernelBase, SteeredConv2d"
   ]
  },
  {
   "cell_type": "markdown",
   "id": "nearby-quality",
   "metadata": {},
   "source": [
    "## Initialization"
   ]
  },
  {
   "cell_type": "code",
   "execution_count": 5,
   "id": "active-carpet",
   "metadata": {},
   "outputs": [],
   "source": [
    "RUN_ID = '14/b74caa91aa02442888daff09e95231b5'"
   ]
  },
  {
   "cell_type": "code",
   "execution_count": 6,
   "id": "promising-sector",
   "metadata": {},
   "outputs": [],
   "source": [
    "art_path = P.abspath(P.join('/home/gaby/mlflow/mlruns', RUN_ID, 'artifacts/'))\n",
    "cfg = parse_config(art_path+'/cfg_extended.yaml')\n",
    "cfg['script-arguments']['gpus']='0'"
   ]
  },
  {
   "cell_type": "code",
   "execution_count": 7,
   "id": "knowing-going",
   "metadata": {},
   "outputs": [],
   "source": [
    "model = setup_model(cfg.model, 6, 1)\n",
    "net = Binary2DSegmentation(model=model)\n",
    "state_dict = pl_load(art_path+'/best-val-roc.ckpt'.format(25), map_location='cuda:0')['state_dict']\n",
    "net.load_state_dict(state_dict)\n",
    "net.eval().cuda()\n",
    "None"
   ]
  },
  {
   "cell_type": "code",
   "execution_count": null,
   "id": "presidential-trouble",
   "metadata": {},
   "outputs": [],
   "source": []
  },
  {
   "cell_type": "markdown",
   "id": "popular-merchandise",
   "metadata": {},
   "source": [
    "## Weight Value Analysis"
   ]
  },
  {
   "cell_type": "code",
   "execution_count": 14,
   "id": "invisible-newton",
   "metadata": {},
   "outputs": [
    {
     "data": {
      "text/html": [
       "\n",
       "<div id=\"altair-viz-0b588b6cf74448f987749fca849ce2c5\"></div>\n",
       "<script type=\"text/javascript\">\n",
       "  var VEGA_DEBUG = (typeof VEGA_DEBUG == \"undefined\") ? {} : VEGA_DEBUG;\n",
       "  (function(spec, embedOpt){\n",
       "    let outputDiv = document.currentScript.previousElementSibling;\n",
       "    if (outputDiv.id !== \"altair-viz-0b588b6cf74448f987749fca849ce2c5\") {\n",
       "      outputDiv = document.getElementById(\"altair-viz-0b588b6cf74448f987749fca849ce2c5\");\n",
       "    }\n",
       "    const paths = {\n",
       "      \"vega\": \"https://cdn.jsdelivr.net/npm//vega@5?noext\",\n",
       "      \"vega-lib\": \"https://cdn.jsdelivr.net/npm//vega-lib?noext\",\n",
       "      \"vega-lite\": \"https://cdn.jsdelivr.net/npm//vega-lite@4.17.0?noext\",\n",
       "      \"vega-embed\": \"https://cdn.jsdelivr.net/npm//vega-embed@6?noext\",\n",
       "    };\n",
       "\n",
       "    function maybeLoadScript(lib, version) {\n",
       "      var key = `${lib.replace(\"-\", \"\")}_version`;\n",
       "      return (VEGA_DEBUG[key] == version) ?\n",
       "        Promise.resolve(paths[lib]) :\n",
       "        new Promise(function(resolve, reject) {\n",
       "          var s = document.createElement('script');\n",
       "          document.getElementsByTagName(\"head\")[0].appendChild(s);\n",
       "          s.async = true;\n",
       "          s.onload = () => {\n",
       "            VEGA_DEBUG[key] = version;\n",
       "            return resolve(paths[lib]);\n",
       "          };\n",
       "          s.onerror = () => reject(`Error loading script: ${paths[lib]}`);\n",
       "          s.src = paths[lib];\n",
       "        });\n",
       "    }\n",
       "\n",
       "    function showError(err) {\n",
       "      outputDiv.innerHTML = `<div class=\"error\" style=\"color:red;\">${err}</div>`;\n",
       "      throw err;\n",
       "    }\n",
       "\n",
       "    function displayChart(vegaEmbed) {\n",
       "      vegaEmbed(outputDiv, spec, embedOpt)\n",
       "        .catch(err => showError(`Javascript Error: ${err.message}<br>This usually means there's a typo in your chart specification. See the javascript console for the full traceback.`));\n",
       "    }\n",
       "\n",
       "    if(typeof define === \"function\" && define.amd) {\n",
       "      requirejs.config({paths});\n",
       "      require([\"vega-embed\"], displayChart, err => showError(`Error loading script: ${err.message}`));\n",
       "    } else {\n",
       "      maybeLoadScript(\"vega\", \"5\")\n",
       "        .then(() => maybeLoadScript(\"vega-lite\", \"4.17.0\"))\n",
       "        .then(() => maybeLoadScript(\"vega-embed\", \"6\"))\n",
       "        .catch(showError)\n",
       "        .then(() => displayChart(vegaEmbed));\n",
       "    }\n",
       "  })({\"config\": {\"view\": {\"continuousWidth\": 400, \"continuousHeight\": 300}}, \"data\": {\"name\": \"data-b5472b885c24debea094312239d35df9\"}, \"facet\": {\"column\": {\"field\": \"k\", \"type\": \"quantitative\"}}, \"spec\": {\"layer\": [{\"mark\": {\"type\": \"tick\", \"thickness\": 2, \"width\": 10, \"xOffset\": 0}, \"encoding\": {\"x\": {\"field\": \"r_name\", \"type\": \"nominal\"}, \"y\": {\"axis\": {\"format\": \"e\", \"values\": [0.001, 0.01]}, \"field\": \"median\", \"scale\": {\"domain\": [0.001, 0.1], \"type\": \"log\"}, \"title\": \"Weights norm\", \"type\": \"quantitative\"}}, \"selection\": {\"selector004\": {\"type\": \"interval\", \"bind\": \"scales\", \"encodings\": [\"y\"]}}, \"width\": 70}, {\"mark\": {\"type\": \"bar\", \"opacity\": 0.2, \"width\": 10, \"xOffset\": 0}, \"encoding\": {\"x\": {\"field\": \"r_name\", \"type\": \"nominal\"}, \"y\": {\"field\": \"-q0\", \"title\": \"\", \"type\": \"quantitative\"}, \"y2\": {\"field\": \"q0\"}}, \"width\": 70}, {\"mark\": {\"type\": \"bar\", \"opacity\": 0.2, \"width\": 10, \"xOffset\": 0}, \"encoding\": {\"x\": {\"field\": \"r_name\", \"type\": \"nominal\"}, \"y\": {\"field\": \"-q1\", \"title\": \"\", \"type\": \"quantitative\"}, \"y2\": {\"field\": \"q1\"}}, \"width\": 70}, {\"mark\": {\"type\": \"bar\", \"opacity\": 0.2, \"width\": 10, \"xOffset\": 0}, \"encoding\": {\"x\": {\"field\": \"r_name\", \"type\": \"nominal\"}, \"y\": {\"field\": \"-q2\", \"title\": \"\", \"type\": \"quantitative\"}, \"y2\": {\"field\": \"q2\"}}, \"width\": 70}, {\"mark\": {\"type\": \"bar\", \"opacity\": 0.3, \"width\": 10, \"xOffset\": 0}, \"encoding\": {\"x\": {\"field\": \"r_name\", \"type\": \"nominal\"}, \"y\": {\"field\": \"-q3\", \"title\": \"\", \"type\": \"quantitative\"}, \"y2\": {\"field\": \"q3\"}}, \"width\": 70}, {\"mark\": {\"type\": \"bar\", \"opacity\": 0.3, \"width\": 10, \"xOffset\": 0}, \"encoding\": {\"x\": {\"field\": \"r_name\", \"type\": \"nominal\"}, \"y\": {\"field\": \"-q4\", \"title\": \"\", \"type\": \"quantitative\"}, \"y2\": {\"field\": \"q4\"}}, \"width\": 70}]}, \"resolve\": {\"scale\": {\"x\": \"independent\"}}, \"$schema\": \"https://vega.github.io/schema/vega-lite/v4.17.0.json\", \"datasets\": {\"data-b5472b885c24debea094312239d35df9\": [{\"r_name\": 0.0, \"k\": 0, \"r\": 0.0, \"name\": \"k=0 r=0.0\", \"median\": 0.03135315887629986, \"q0\": 0.08093119971454144, \"-q0\": 0.004849180812016121, \"q1\": 0.06362245976924896, \"-q1\": 0.009821178391575813, \"q2\": 0.052926670759916306, \"-q2\": 0.014942653710022569, \"q3\": 0.04455580934882163, \"-q3\": 0.020155047997832302, \"q4\": 0.037577996030449846, \"-q4\": 0.025668240617960695}, {\"r_name\": 1.2071, \"k\": 0, \"r\": 1.2071068286895752, \"name\": \"k=0 r=1.2071068286895752\", \"median\": 0.03114593494683504, \"q0\": 0.08007645234465599, \"-q0\": 0.004898792947642505, \"q1\": 0.06347012519836426, \"-q1\": 0.009743871632963419, \"q2\": 0.05269403196871281, \"-q2\": 0.01476863631978631, \"q3\": 0.04444042593240736, \"-q3\": 0.019905574619770054, \"q4\": 0.03743105102330446, \"-q4\": 0.025322868954390298}, {\"r_name\": 2.3251, \"k\": 0, \"r\": 2.325140953063965, \"name\": \"k=0 r=2.325140953063965\", \"median\": 0.031056235544383526, \"q0\": 0.07987964898347855, \"-q0\": 0.004851090721786019, \"q1\": 0.06309984251856804, \"-q1\": 0.009842961095273498, \"q2\": 0.05255007278174162, \"-q2\": 0.0148904740344733, \"q3\": 0.04433874040842056, \"-q3\": 0.019926371052861214, \"q4\": 0.03726054914295671, \"-q4\": 0.025297534652054313}, {\"r_name\": 1.2071, \"k\": 1, \"r\": 1.2071068286895752, \"name\": \"k=1 r=1.2071068286895752\", \"median\": 0.05888757109642029, \"q0\": 0.14395439997315407, \"-q0\": 0.02177936909720301, \"q1\": 0.11045132949948311, \"-q1\": 0.030526448041200638, \"q2\": 0.09173654951155186, \"-q2\": 0.03749552741646767, \"q3\": 0.07839763164520262, \"-q3\": 0.044138893485069275, \"q4\": 0.06782281398773193, \"-q4\": 0.051047428511083126}, {\"r_name\": 2.3251, \"k\": 1, \"r\": 2.325140953063965, \"name\": \"k=1 r=2.325140953063965\", \"median\": 0.057440780103206635, \"q0\": 0.13565171882510185, \"-q0\": 0.02133513335138559, \"q1\": 0.10545273125171661, \"-q1\": 0.03010224271565676, \"q2\": 0.08799050562083721, \"-q2\": 0.03693427611142397, \"q3\": 0.0756792202591896, \"-q3\": 0.04340947046875955, \"q4\": 0.065869502723217, \"-q4\": 0.050092444755136974}, {\"r_name\": 1.2071, \"k\": 2, \"r\": 1.2071068286895752, \"name\": \"k=2 r=1.2071068286895752\", \"median\": 0.06381246075034142, \"q0\": 0.16659026965498924, \"-q0\": 0.02263140166178345, \"q1\": 0.12536587566137314, \"-q1\": 0.03193760290741922, \"q2\": 0.10258626379072666, \"-q2\": 0.03949296474456787, \"q3\": 0.08661156892776489, \"-q3\": 0.04690815508365631, \"q4\": 0.07397831231355666, \"-q4\": 0.05490258056670428}, {\"r_name\": 2.3251, \"k\": 2, \"r\": 2.325140953063965, \"name\": \"k=2 r=2.325140953063965\", \"median\": 0.06244902312755585, \"q0\": 0.1589427925646305, \"-q0\": 0.022377024404704543, \"q1\": 0.1210065670311451, \"-q1\": 0.031613327562809, \"q2\": 0.09910759516060352, \"-q2\": 0.03892496973276138, \"q3\": 0.08389873802661892, \"-q3\": 0.046142030507326126, \"q4\": 0.07220696471631526, \"-q4\": 0.05381484050303699}, {\"r_name\": 1.2071, \"k\": 3, \"r\": 1.2071068286895752, \"name\": \"k=3 r=1.2071068286895752\", \"median\": 0.06544772908091545, \"q0\": 0.17162186279892921, \"-q0\": 0.022584608290344477, \"q1\": 0.129738949239254, \"-q1\": 0.032083496451377876, \"q2\": 0.10589415393769741, \"-q2\": 0.03994172811508179, \"q3\": 0.08909793198108672, \"-q3\": 0.047806210815906525, \"q4\": 0.07623466663062571, \"-q4\": 0.056261625140905394}, {\"r_name\": 2.3251, \"k\": 3, \"r\": 2.325140953063965, \"name\": \"k=3 r=2.325140953063965\", \"median\": 0.06416589766740799, \"q0\": 0.16470977663993835, \"-q0\": 0.02268102392554283, \"q1\": 0.12537144869565964, \"-q1\": 0.032120922580361366, \"q2\": 0.10288218222558498, \"-q2\": 0.03971915412694216, \"q3\": 0.08701238781213759, \"-q3\": 0.04730158299207688, \"q4\": 0.07449016906321046, \"-q4\": 0.0552358226850629}, {\"r_name\": 1.2071, \"k\": 4, \"r\": 1.2071068286895752, \"name\": \"k=4 r=1.2071068286895752\", \"median\": 0.06425267085433006, \"q0\": 0.17039493843913078, \"-q0\": 0.022026507649570704, \"q1\": 0.1291593387722969, \"-q1\": 0.03134749457240105, \"q2\": 0.10503406636416912, \"-q2\": 0.03920961916446686, \"q3\": 0.08797600120306008, \"-q3\": 0.04691262915730477, \"q4\": 0.07495332136750221, \"-q4\": 0.05504204984754325}, {\"r_name\": 2.3251, \"k\": 4, \"r\": 2.325140953063965, \"name\": \"k=4 r=2.325140953063965\", \"median\": 0.06496936827898026, \"q0\": 0.16974713280797005, \"-q0\": 0.023016555700451132, \"q1\": 0.12843551486730576, \"-q1\": 0.03228732943534851, \"q2\": 0.1048935018479824, \"-q2\": 0.04009945038706064, \"q3\": 0.08838097751140589, \"-q3\": 0.04776794835925102, \"q4\": 0.07545377686619759, \"-q4\": 0.05595481954514981}, {\"r_name\": 2.3251, \"k\": 5, \"r\": 2.325140953063965, \"name\": \"k=5 r=2.325140953063965\", \"median\": 0.06566115096211433, \"q0\": 0.17103968560695648, \"-q0\": 0.022829867899417874, \"q1\": 0.12975472956895828, \"-q1\": 0.03233075328171253, \"q2\": 0.10605908185243607, \"-q2\": 0.04025196470320225, \"q3\": 0.08946916460990906, \"-q3\": 0.04800660908222199, \"q4\": 0.07653176598250866, \"-q4\": 0.056187458336353316}, {\"r_name\": 2.3251, \"k\": 6, \"r\": 2.325140953063965, \"name\": \"k=6 r=2.325140953063965\", \"median\": 0.06568699702620506, \"q0\": 0.17554065212607384, \"-q0\": 0.0225732740946114, \"q1\": 0.13308271765708923, \"-q1\": 0.03194536454975605, \"q2\": 0.1081612017005682, \"-q2\": 0.03987389523535967, \"q3\": 0.09045070409774773, \"-q3\": 0.04782278463244439, \"q4\": 0.07670171745121479, \"-q4\": 0.05622421018779278}, {\"r_name\": 2.3251, \"k\": 7, \"r\": 2.325140953063965, \"name\": \"k=7 r=2.325140953063965\", \"median\": 0.06465407833456993, \"q0\": 0.17373037338256836, \"-q0\": 0.021902533248066895, \"q1\": 0.13174286484718323, \"-q1\": 0.031224532984197147, \"q2\": 0.1070472914725542, \"-q2\": 0.038935692980885506, \"q3\": 0.08931469172239302, \"-q3\": 0.046696741133928306, \"q4\": 0.07588475197553635, \"-q4\": 0.05509856157004834}, {\"r_name\": 2.3251, \"k\": 8, \"r\": 2.325140953063965, \"name\": \"k=8 r=2.325140953063965\", \"median\": 0.06364379450678825, \"q0\": 0.16856537759304047, \"-q0\": 0.022042560856789347, \"q1\": 0.12740442156791687, \"-q1\": 0.031233056448400028, \"q2\": 0.10334118828177452, \"-q2\": 0.03896551113575697, \"q3\": 0.08694007247686383, \"-q3\": 0.04654345288872719, \"q4\": 0.07413839362561703, \"-q4\": 0.054434918798506274}]}}, {\"mode\": \"vega-lite\"});\n",
       "</script>"
      ],
      "text/plain": [
       "alt.FacetChart(...)"
      ]
     },
     "execution_count": 14,
     "metadata": {},
     "output_type": "execute_result"
    }
   ],
   "source": [
    "base = model.base\n",
    "W = [_ for _ in state_dict.values() if (_.ndim==3 and _.shape[-1]==len(base.kernels_label))]\n",
    "base.plot_weights_dist(W, scale_type='log', wrange=(1e-3,1e-1))"
   ]
  },
  {
   "cell_type": "code",
   "execution_count": 9,
   "id": "infectious-banking",
   "metadata": {},
   "outputs": [
    {
     "data": {
      "text/html": [
       "\n",
       "<div id=\"altair-viz-e9cc995f56474081a6e1b716ad996f7e\"></div>\n",
       "<script type=\"text/javascript\">\n",
       "  var VEGA_DEBUG = (typeof VEGA_DEBUG == \"undefined\") ? {} : VEGA_DEBUG;\n",
       "  (function(spec, embedOpt){\n",
       "    let outputDiv = document.currentScript.previousElementSibling;\n",
       "    if (outputDiv.id !== \"altair-viz-e9cc995f56474081a6e1b716ad996f7e\") {\n",
       "      outputDiv = document.getElementById(\"altair-viz-e9cc995f56474081a6e1b716ad996f7e\");\n",
       "    }\n",
       "    const paths = {\n",
       "      \"vega\": \"https://cdn.jsdelivr.net/npm//vega@5?noext\",\n",
       "      \"vega-lib\": \"https://cdn.jsdelivr.net/npm//vega-lib?noext\",\n",
       "      \"vega-lite\": \"https://cdn.jsdelivr.net/npm//vega-lite@4.17.0?noext\",\n",
       "      \"vega-embed\": \"https://cdn.jsdelivr.net/npm//vega-embed@6?noext\",\n",
       "    };\n",
       "\n",
       "    function maybeLoadScript(lib, version) {\n",
       "      var key = `${lib.replace(\"-\", \"\")}_version`;\n",
       "      return (VEGA_DEBUG[key] == version) ?\n",
       "        Promise.resolve(paths[lib]) :\n",
       "        new Promise(function(resolve, reject) {\n",
       "          var s = document.createElement('script');\n",
       "          document.getElementsByTagName(\"head\")[0].appendChild(s);\n",
       "          s.async = true;\n",
       "          s.onload = () => {\n",
       "            VEGA_DEBUG[key] = version;\n",
       "            return resolve(paths[lib]);\n",
       "          };\n",
       "          s.onerror = () => reject(`Error loading script: ${paths[lib]}`);\n",
       "          s.src = paths[lib];\n",
       "        });\n",
       "    }\n",
       "\n",
       "    function showError(err) {\n",
       "      outputDiv.innerHTML = `<div class=\"error\" style=\"color:red;\">${err}</div>`;\n",
       "      throw err;\n",
       "    }\n",
       "\n",
       "    function displayChart(vegaEmbed) {\n",
       "      vegaEmbed(outputDiv, spec, embedOpt)\n",
       "        .catch(err => showError(`Javascript Error: ${err.message}<br>This usually means there's a typo in your chart specification. See the javascript console for the full traceback.`));\n",
       "    }\n",
       "\n",
       "    if(typeof define === \"function\" && define.amd) {\n",
       "      requirejs.config({paths});\n",
       "      require([\"vega-embed\"], displayChart, err => showError(`Error loading script: ${err.message}`));\n",
       "    } else {\n",
       "      maybeLoadScript(\"vega\", \"5\")\n",
       "        .then(() => maybeLoadScript(\"vega-lite\", \"4.17.0\"))\n",
       "        .then(() => maybeLoadScript(\"vega-embed\", \"6\"))\n",
       "        .catch(showError)\n",
       "        .then(() => displayChart(vegaEmbed));\n",
       "    }\n",
       "  })({\"config\": {\"view\": {\"continuousWidth\": 400, \"continuousHeight\": 300}}, \"data\": {\"name\": \"data-d28ee9bd56036dda3caf043440ca0b3e\"}, \"facet\": {\"column\": {\"field\": \"k\", \"type\": \"quantitative\"}}, \"spec\": {\"layer\": [{\"mark\": {\"type\": \"tick\", \"thickness\": 2, \"width\": 10, \"xOffset\": 0}, \"encoding\": {\"x\": {\"field\": \"r_name\", \"type\": \"nominal\"}, \"y\": {\"axis\": {\"format\": \"e\", \"values\": [0.001, 0.01]}, \"field\": \"median\", \"scale\": {\"domain\": [0.001, 0.1], \"type\": \"log\"}, \"title\": \"Weights norm\", \"type\": \"quantitative\"}}, \"selection\": {\"selector002\": {\"type\": \"interval\", \"bind\": \"scales\", \"encodings\": [\"y\"]}}, \"width\": 70}, {\"mark\": {\"type\": \"bar\", \"opacity\": 0.2, \"width\": 10, \"xOffset\": 0}, \"encoding\": {\"x\": {\"field\": \"r_name\", \"type\": \"nominal\"}, \"y\": {\"field\": \"-q0\", \"title\": \"\", \"type\": \"quantitative\"}, \"y2\": {\"field\": \"q0\"}}, \"width\": 70}, {\"mark\": {\"type\": \"bar\", \"opacity\": 0.2, \"width\": 10, \"xOffset\": 0}, \"encoding\": {\"x\": {\"field\": \"r_name\", \"type\": \"nominal\"}, \"y\": {\"field\": \"-q1\", \"title\": \"\", \"type\": \"quantitative\"}, \"y2\": {\"field\": \"q1\"}}, \"width\": 70}, {\"mark\": {\"type\": \"bar\", \"opacity\": 0.2, \"width\": 10, \"xOffset\": 0}, \"encoding\": {\"x\": {\"field\": \"r_name\", \"type\": \"nominal\"}, \"y\": {\"field\": \"-q2\", \"title\": \"\", \"type\": \"quantitative\"}, \"y2\": {\"field\": \"q2\"}}, \"width\": 70}, {\"mark\": {\"type\": \"bar\", \"opacity\": 0.3, \"width\": 10, \"xOffset\": 0}, \"encoding\": {\"x\": {\"field\": \"r_name\", \"type\": \"nominal\"}, \"y\": {\"field\": \"-q3\", \"title\": \"\", \"type\": \"quantitative\"}, \"y2\": {\"field\": \"q3\"}}, \"width\": 70}, {\"mark\": {\"type\": \"bar\", \"opacity\": 0.3, \"width\": 10, \"xOffset\": 0}, \"encoding\": {\"x\": {\"field\": \"r_name\", \"type\": \"nominal\"}, \"y\": {\"field\": \"-q4\", \"title\": \"\", \"type\": \"quantitative\"}, \"y2\": {\"field\": \"q4\"}}, \"width\": 70}]}, \"resolve\": {\"scale\": {\"x\": \"independent\"}}, \"$schema\": \"https://vega.github.io/schema/vega-lite/v4.17.0.json\", \"datasets\": {\"data-d28ee9bd56036dda3caf043440ca0b3e\": [{\"r_name\": 0.0, \"k\": 0, \"r\": 0.0, \"name\": \"k=0 r=0.0\", \"median\": 0.02469785325229168, \"q0\": 0.06331202201545243, \"-q0\": 0.003911943058483301, \"q1\": 0.050476567819714546, \"-q1\": 0.007900734587262074, \"q2\": 0.04200872406363487, \"-q2\": 0.011742839589715004, \"q3\": 0.03540483613808949, \"-q3\": 0.015734898547331493, \"q4\": 0.029696269116053966, \"-q4\": 0.020076076189676925}, {\"r_name\": 1.2071, \"k\": 0, \"r\": 1.2071068286895752, \"name\": \"k=0 r=1.2071068286895752\", \"median\": 0.024413605220615864, \"q0\": 0.0625321666399638, \"-q0\": 0.0038568885065615164, \"q1\": 0.04992534716924031, \"-q1\": 0.007634305860847235, \"q2\": 0.04152471758425236, \"-q2\": 0.01158550288528204, \"q3\": 0.034994697819153466, \"-q3\": 0.015581288685401283, \"q4\": 0.029418454195062317, \"-q4\": 0.019803130533546227}, {\"r_name\": 2.3251, \"k\": 0, \"r\": 2.325140953063965, \"name\": \"k=0 r=2.325140953063965\", \"median\": 0.02465615328401327, \"q0\": 0.063286179676652, \"-q0\": 0.0037889116598914066, \"q1\": 0.05061609049638112, \"-q1\": 0.007726702218254416, \"q2\": 0.04214396420866251, \"-q2\": 0.011633713729679585, \"q3\": 0.035454946259657526, \"-q3\": 0.015644333635767303, \"q4\": 0.02964803685123721, \"-q4\": 0.02005913015455008}, {\"r_name\": 1.2071, \"k\": 1, \"r\": 1.2071068286895752, \"name\": \"k=1 r=1.2071068286895752\", \"median\": 0.03500748984515667, \"q0\": 0.08912434739371142, \"-q0\": 0.005573676394609108, \"q1\": 0.07141981398065884, \"-q1\": 0.011111839829633636, \"q2\": 0.05958842393010855, \"-q2\": 0.016613745130598545, \"q3\": 0.050119128078222275, \"-q3\": 0.02237286294500034, \"q4\": 0.0421652498965462, \"-q4\": 0.028533774893730882}, {\"r_name\": 2.3251, \"k\": 1, \"r\": 2.325140953063965, \"name\": \"k=1 r=2.325140953063965\", \"median\": 0.03504800237715244, \"q0\": 0.08945054064194362, \"-q0\": 0.005367195466533298, \"q1\": 0.0716671161353588, \"-q1\": 0.010844735273470492, \"q2\": 0.05971414037048817, \"-q2\": 0.016531244851648808, \"q3\": 0.050290019561847046, \"-q3\": 0.02236501624186834, \"q4\": 0.04233797484387954, \"-q4\": 0.02846636498967808}, {\"r_name\": 1.2071, \"k\": 2, \"r\": 1.2071068286895752, \"name\": \"k=2 r=1.2071068286895752\", \"median\": 0.0345503818243742, \"q0\": 0.08971080618600051, \"-q0\": 0.005441870812016228, \"q1\": 0.07110911856094992, \"-q1\": 0.010743042609343936, \"q2\": 0.05896202102303505, \"-q2\": 0.01636948762461543, \"q3\": 0.049670207003752284, \"-q3\": 0.02203397701183955, \"q4\": 0.041661629763742276, \"-q4\": 0.028075568843632947}, {\"r_name\": 2.3251, \"k\": 2, \"r\": 2.325140953063965, \"name\": \"k=2 r=2.325140953063965\", \"median\": 0.034558942541480064, \"q0\": 0.08900483263035616, \"-q0\": 0.0054411997164910035, \"q1\": 0.07123594482739766, \"-q1\": 0.010922815185040237, \"q2\": 0.05936973821371794, \"-q2\": 0.016486487351357937, \"q3\": 0.049825393905242266, \"-q3\": 0.02223779695729415, \"q4\": 0.04161433782428501, \"-q4\": 0.028185252876331415}, {\"r_name\": 1.2071, \"k\": 3, \"r\": 1.2071068286895752, \"name\": \"k=3 r=1.2071068286895752\", \"median\": 0.034596459940075874, \"q0\": 0.08931570127606396, \"-q0\": 0.005338837625458836, \"q1\": 0.07128060236573219, \"-q1\": 0.010883474412063759, \"q2\": 0.059167178347706795, \"-q2\": 0.016401533503085375, \"q3\": 0.04953997830549876, \"-q3\": 0.02211125195026398, \"q4\": 0.04170906916260719, \"-q4\": 0.028097409134109824}, {\"r_name\": 2.3251, \"k\": 3, \"r\": 2.325140953063965, \"name\": \"k=3 r=2.325140953063965\", \"median\": 0.03471751697361469, \"q0\": 0.0889460686594248, \"-q0\": 0.005423786700703204, \"q1\": 0.07143285498023033, \"-q1\": 0.010886870169391235, \"q2\": 0.05919768288731575, \"-q2\": 0.01656096614897251, \"q3\": 0.04980728899439176, \"-q3\": 0.02221274996797244, \"q4\": 0.04181134266157943, \"-q4\": 0.028305017699797947}, {\"r_name\": 1.2071, \"k\": 4, \"r\": 1.2071068286895752, \"name\": \"k=4 r=1.2071068286895752\", \"median\": 0.03467504680156708, \"q0\": 0.08913726483782136, \"-q0\": 0.0053596046830837905, \"q1\": 0.07078958799441654, \"-q1\": 0.010793292739739021, \"q2\": 0.05896935239434242, \"-q2\": 0.016294730361551046, \"q3\": 0.04976869747042654, \"-q3\": 0.021973994250098865, \"q4\": 0.04158504027873278, \"-q4\": 0.028098013407240316}, {\"r_name\": 2.3251, \"k\": 4, \"r\": 2.325140953063965, \"name\": \"k=4 r=2.325140953063965\", \"median\": 0.034829454496502876, \"q0\": 0.08911082334816457, \"-q0\": 0.005422777069422104, \"q1\": 0.07085928445061045, \"-q1\": 0.010891654063016176, \"q2\": 0.059254503808915615, \"-q2\": 0.01639492204412818, \"q3\": 0.0498964674770832, \"-q3\": 0.02212381425003211, \"q4\": 0.041802478954195976, \"-q4\": 0.02829096140339972}, {\"r_name\": 2.3251, \"k\": 5, \"r\": 2.325140953063965, \"name\": \"k=5 r=2.325140953063965\", \"median\": 0.03490816056728363, \"q0\": 0.08945679850876331, \"-q0\": 0.005415086479236682, \"q1\": 0.0717556575934092, \"-q1\": 0.010748279436180995, \"q2\": 0.05975787714123726, \"-q2\": 0.016307231970131397, \"q3\": 0.0501806773245334, \"-q3\": 0.02208522707223893, \"q4\": 0.042219003662467, \"-q4\": 0.02831457586338123}, {\"r_name\": 2.3251, \"k\": 6, \"r\": 2.325140953063965, \"name\": \"k=6 r=2.325140953063965\", \"median\": 0.03493415378034115, \"q0\": 0.08896301686763763, \"-q0\": 0.005299570659796396, \"q1\": 0.07139029602209727, \"-q1\": 0.010829988246162736, \"q2\": 0.059354634024202824, \"-q2\": 0.01645312551409006, \"q3\": 0.050038291762272515, \"-q3\": 0.022293639679749813, \"q4\": 0.04205497012784082, \"-q4\": 0.028451488818973306}, {\"r_name\": 2.3251, \"k\": 7, \"r\": 2.325140953063965, \"name\": \"k=7 r=2.325140953063965\", \"median\": 0.03504546917974949, \"q0\": 0.08957175972561042, \"-q0\": 0.005459569433393577, \"q1\": 0.07151448105772332, \"-q1\": 0.01110833402102193, \"q2\": 0.05976089835166931, \"-q2\": 0.016688762698322535, \"q3\": 0.05006190886100133, \"-q3\": 0.02248611984153589, \"q4\": 0.042095364071428776, \"-q4\": 0.02859820161635677}, {\"r_name\": 2.3251, \"k\": 8, \"r\": 2.325140953063965, \"name\": \"k=8 r=2.325140953063965\", \"median\": 0.03495117463171482, \"q0\": 0.08971691628297175, \"-q0\": 0.005413838118935625, \"q1\": 0.07189184054732323, \"-q1\": 0.010743762676914537, \"q2\": 0.05954049341380596, \"-q2\": 0.01647755689918995, \"q3\": 0.050049727161725295, \"-q3\": 0.02232045307755471, \"q4\": 0.04220828879624605, \"-q4\": 0.02847303310409189}]}}, {\"mode\": \"vega-lite\"});\n",
       "</script>"
      ],
      "text/plain": [
       "alt.FacetChart(...)"
      ]
     },
     "execution_count": 9,
     "metadata": {},
     "output_type": "execute_result"
    }
   ],
   "source": [
    "base.plot_weights_dist(base.init_weights(100,500),  scale_type='log', wrange=(1e-3,1e-1))"
   ]
  },
  {
   "cell_type": "code",
   "execution_count": null,
   "id": "trained-tamil",
   "metadata": {},
   "outputs": [],
   "source": []
  },
  {
   "cell_type": "markdown",
   "id": "younger-guarantee",
   "metadata": {},
   "source": [
    "## Gradient Analysis"
   ]
  },
  {
   "cell_type": "code",
   "execution_count": 10,
   "id": "american-trance",
   "metadata": {},
   "outputs": [],
   "source": [
    "trainD, validD, testD = load_dataset(cfg)"
   ]
  },
  {
   "cell_type": "code",
   "execution_count": 11,
   "id": "atmospheric-implementation",
   "metadata": {},
   "outputs": [
    {
     "name": "stderr",
     "output_type": "stream",
     "text": [
      "/home/gaby/.conda/envs/nnet10/lib/python3.10/site-packages/pytorch_lightning/core/lightning.py:415: UserWarning: You are trying to `self.log()` but the `self.trainer` reference is not registered on the model yet. This is most likely because the model hasn't been passed to the `Trainer`\n",
      "  rank_zero_warn(\n"
     ]
    }
   ],
   "source": [
    "net.train()\n",
    "net.zero_grad()\n",
    "for batch in trainD:\n",
    "    batch_cuda = {k: v.cuda() for k, v in batch.items()}\n",
    "    loss = net.training_step(batch_cuda, 0)\n",
    "    loss.backward()\n",
    "    break"
   ]
  },
  {
   "cell_type": "code",
   "execution_count": 12,
   "id": "suited-shopping",
   "metadata": {},
   "outputs": [
    {
     "data": {
      "text/html": [
       "\n",
       "<div id=\"altair-viz-bd4685cfae7c4f3c8fba5a8ed5c024d4\"></div>\n",
       "<script type=\"text/javascript\">\n",
       "  var VEGA_DEBUG = (typeof VEGA_DEBUG == \"undefined\") ? {} : VEGA_DEBUG;\n",
       "  (function(spec, embedOpt){\n",
       "    let outputDiv = document.currentScript.previousElementSibling;\n",
       "    if (outputDiv.id !== \"altair-viz-bd4685cfae7c4f3c8fba5a8ed5c024d4\") {\n",
       "      outputDiv = document.getElementById(\"altair-viz-bd4685cfae7c4f3c8fba5a8ed5c024d4\");\n",
       "    }\n",
       "    const paths = {\n",
       "      \"vega\": \"https://cdn.jsdelivr.net/npm//vega@5?noext\",\n",
       "      \"vega-lib\": \"https://cdn.jsdelivr.net/npm//vega-lib?noext\",\n",
       "      \"vega-lite\": \"https://cdn.jsdelivr.net/npm//vega-lite@4.17.0?noext\",\n",
       "      \"vega-embed\": \"https://cdn.jsdelivr.net/npm//vega-embed@6?noext\",\n",
       "    };\n",
       "\n",
       "    function maybeLoadScript(lib, version) {\n",
       "      var key = `${lib.replace(\"-\", \"\")}_version`;\n",
       "      return (VEGA_DEBUG[key] == version) ?\n",
       "        Promise.resolve(paths[lib]) :\n",
       "        new Promise(function(resolve, reject) {\n",
       "          var s = document.createElement('script');\n",
       "          document.getElementsByTagName(\"head\")[0].appendChild(s);\n",
       "          s.async = true;\n",
       "          s.onload = () => {\n",
       "            VEGA_DEBUG[key] = version;\n",
       "            return resolve(paths[lib]);\n",
       "          };\n",
       "          s.onerror = () => reject(`Error loading script: ${paths[lib]}`);\n",
       "          s.src = paths[lib];\n",
       "        });\n",
       "    }\n",
       "\n",
       "    function showError(err) {\n",
       "      outputDiv.innerHTML = `<div class=\"error\" style=\"color:red;\">${err}</div>`;\n",
       "      throw err;\n",
       "    }\n",
       "\n",
       "    function displayChart(vegaEmbed) {\n",
       "      vegaEmbed(outputDiv, spec, embedOpt)\n",
       "        .catch(err => showError(`Javascript Error: ${err.message}<br>This usually means there's a typo in your chart specification. See the javascript console for the full traceback.`));\n",
       "    }\n",
       "\n",
       "    if(typeof define === \"function\" && define.amd) {\n",
       "      requirejs.config({paths});\n",
       "      require([\"vega-embed\"], displayChart, err => showError(`Error loading script: ${err.message}`));\n",
       "    } else {\n",
       "      maybeLoadScript(\"vega\", \"5\")\n",
       "        .then(() => maybeLoadScript(\"vega-lite\", \"4.17.0\"))\n",
       "        .then(() => maybeLoadScript(\"vega-embed\", \"6\"))\n",
       "        .catch(showError)\n",
       "        .then(() => displayChart(vegaEmbed));\n",
       "    }\n",
       "  })({\"config\": {\"view\": {\"continuousWidth\": 400, \"continuousHeight\": 300}}, \"data\": {\"name\": \"data-a8c58a8bca808dba2c8baabd0ab530db\"}, \"facet\": {\"column\": {\"field\": \"k\", \"type\": \"quantitative\"}}, \"spec\": {\"layer\": [{\"mark\": {\"type\": \"tick\", \"thickness\": 2, \"width\": 10, \"xOffset\": 0}, \"encoding\": {\"x\": {\"field\": \"r_name\", \"type\": \"nominal\"}, \"y\": {\"axis\": {}, \"field\": \"median\", \"scale\": {\"domain\": [1e-10, 0.0001], \"type\": \"linear\"}, \"title\": \"Weights norm\", \"type\": \"quantitative\"}}, \"selection\": {\"selector003\": {\"type\": \"interval\", \"bind\": \"scales\", \"encodings\": [\"y\"]}}, \"width\": 70}, {\"mark\": {\"type\": \"bar\", \"opacity\": 0.2, \"width\": 10, \"xOffset\": 0}, \"encoding\": {\"x\": {\"field\": \"r_name\", \"type\": \"nominal\"}, \"y\": {\"field\": \"-q0\", \"title\": \"\", \"type\": \"quantitative\"}, \"y2\": {\"field\": \"q0\"}}, \"width\": 70}, {\"mark\": {\"type\": \"bar\", \"opacity\": 0.2, \"width\": 10, \"xOffset\": 0}, \"encoding\": {\"x\": {\"field\": \"r_name\", \"type\": \"nominal\"}, \"y\": {\"field\": \"-q1\", \"title\": \"\", \"type\": \"quantitative\"}, \"y2\": {\"field\": \"q1\"}}, \"width\": 70}, {\"mark\": {\"type\": \"bar\", \"opacity\": 0.2, \"width\": 10, \"xOffset\": 0}, \"encoding\": {\"x\": {\"field\": \"r_name\", \"type\": \"nominal\"}, \"y\": {\"field\": \"-q2\", \"title\": \"\", \"type\": \"quantitative\"}, \"y2\": {\"field\": \"q2\"}}, \"width\": 70}, {\"mark\": {\"type\": \"bar\", \"opacity\": 0.3, \"width\": 10, \"xOffset\": 0}, \"encoding\": {\"x\": {\"field\": \"r_name\", \"type\": \"nominal\"}, \"y\": {\"field\": \"-q3\", \"title\": \"\", \"type\": \"quantitative\"}, \"y2\": {\"field\": \"q3\"}}, \"width\": 70}, {\"mark\": {\"type\": \"bar\", \"opacity\": 0.3, \"width\": 10, \"xOffset\": 0}, \"encoding\": {\"x\": {\"field\": \"r_name\", \"type\": \"nominal\"}, \"y\": {\"field\": \"-q4\", \"title\": \"\", \"type\": \"quantitative\"}, \"y2\": {\"field\": \"q4\"}}, \"width\": 70}]}, \"resolve\": {\"scale\": {\"x\": \"independent\"}}, \"$schema\": \"https://vega.github.io/schema/vega-lite/v4.17.0.json\", \"datasets\": {\"data-a8c58a8bca808dba2c8baabd0ab530db\": [{\"r_name\": 0.0, \"k\": 0, \"r\": 0.0, \"name\": \"k=0 r=0.0\", \"median\": 2.790038524835836e-05, \"q0\": 0.000267882009211462, \"-q0\": 2.780395220725039e-06, \"q1\": 0.00013949906133348122, \"-q1\": 5.772648819402093e-06, \"q2\": 8.70506282808492e-05, \"-q2\": 9.26331949813175e-06, \"q3\": 5.852835965924895e-05, \"-q3\": 1.3567655514634682e-05, \"q4\": 4.043876924697542e-05, \"-q4\": 1.9364041691005706e-05}, {\"r_name\": 1.2071, \"k\": 0, \"r\": 1.2071068286895752, \"name\": \"k=0 r=1.2071068286895752\", \"median\": 5.017014700570144e-05, \"q0\": 0.0004977208300260827, \"-q0\": 4.724356017504752e-06, \"q1\": 0.00025475981237832457, \"-q1\": 9.875514479062987e-06, \"q2\": 0.00015799574975972064, \"-q2\": 1.586195730851614e-05, \"q3\": 0.00010616877989377812, \"-q3\": 2.3556918677059002e-05, \"q4\": 7.279619057953822e-05, \"-q4\": 3.439935517235426e-05}, {\"r_name\": 2.3251, \"k\": 0, \"r\": 2.325140953063965, \"name\": \"k=0 r=2.325140953063965\", \"median\": 6.225060496944934e-05, \"q0\": 0.0006366413581417874, \"-q0\": 5.568577080339309e-06, \"q1\": 0.00031838972063269466, \"-q1\": 1.1660114523692757e-05, \"q2\": 0.00019762347801588476, \"-q2\": 1.8950365301861893e-05, \"q3\": 0.00013159585068933663, \"-q3\": 2.8639198717428385e-05, \"q4\": 9.025188410305415e-05, \"-q4\": 4.2406596548971734e-05}, {\"r_name\": 1.2071, \"k\": 1, \"r\": 1.2071068286895752, \"name\": \"k=1 r=1.2071068286895752\", \"median\": 7.843020739528583e-06, \"q0\": 9.345927537651733e-05, \"-q0\": 5.189617269252266e-07, \"q1\": 4.7601721234968863e-05, \"-q1\": 1.1928714229725303e-06, \"q2\": 2.7862170554726617e-05, \"-q2\": 2.1230256948001625e-06, \"q3\": 1.765605702530592e-05, \"-q3\": 3.4121478620363632e-06, \"q4\": 1.1681791647788485e-05, \"-q4\": 5.231847239883792e-06}, {\"r_name\": 2.3251, \"k\": 1, \"r\": 2.325140953063965, \"name\": \"k=1 r=2.325140953063965\", \"median\": 1.2766017789545003e-05, \"q0\": 0.00014115668818703853, \"-q0\": 8.460882980898529e-07, \"q1\": 7.584679769934155e-05, \"-q1\": 1.970007929230634e-06, \"q2\": 4.588034153130138e-05, \"-q2\": 3.471330217053037e-06, \"q3\": 2.9258209906401997e-05, \"-q3\": 5.535288892133394e-06, \"q4\": 1.9175181478203726e-05, \"-q4\": 8.471582532365575e-06}, {\"r_name\": 1.2071, \"k\": 2, \"r\": 1.2071068286895752, \"name\": \"k=2 r=1.2071068286895752\", \"median\": 3.794174858740007e-06, \"q0\": 5.141882229509065e-05, \"-q0\": 3.069703566893622e-07, \"q1\": 2.443048288114369e-05, \"-q1\": 6.590256020899688e-07, \"q2\": 1.3733531432080781e-05, \"-q2\": 1.110638805812414e-06, \"q3\": 8.44085843709763e-06, \"-q3\": 1.7262683513763483e-06, \"q4\": 5.589055831478616e-06, \"-q4\": 2.5878483711494486e-06}, {\"r_name\": 2.3251, \"k\": 2, \"r\": 2.325140953063965, \"name\": \"k=2 r=2.325140953063965\", \"median\": 7.06300716046826e-06, \"q0\": 8.629745389043819e-05, \"-q0\": 5.515138354894588e-07, \"q1\": 4.389467721921392e-05, \"-q1\": 1.225474363764079e-06, \"q2\": 2.4917421342252055e-05, \"-q2\": 2.085307812649262e-06, \"q3\": 1.5658582924515933e-05, \"-q3\": 3.253604745623308e-06, \"q4\": 1.0358198323956458e-05, \"-q4\": 4.8446479468111656e-06}, {\"r_name\": 1.2071, \"k\": 3, \"r\": 1.2071068286895752, \"name\": \"k=3 r=1.2071068286895752\", \"median\": 2.030920313700335e-06, \"q0\": 3.082731564063579e-05, \"-q0\": 1.6894693644076137e-07, \"q1\": 1.4290979834186146e-05, \"-q1\": 3.6029864247666415e-07, \"q2\": 7.518603752032504e-06, \"-q2\": 6.14943388654865e-07, \"q3\": 4.559251010505246e-06, \"-q3\": 9.476116815676505e-07, \"q4\": 2.9864806947443863e-06, \"-q4\": 1.3962107630050016e-06}, {\"r_name\": 2.3251, \"k\": 3, \"r\": 2.325140953063965, \"name\": \"k=3 r=2.325140953063965\", \"median\": 3.7267616335157072e-06, \"q0\": 5.2601852075895295e-05, \"-q0\": 3.2686584461316654e-07, \"q1\": 2.4741797460592352e-05, \"-q1\": 6.736314901445441e-07, \"q2\": 1.347585566691123e-05, \"-q2\": 1.1168076810008642e-06, \"q3\": 8.29350483400047e-06, \"-q3\": 1.7275385744142115e-06, \"q4\": 5.439841515908481e-06, \"-q4\": 2.570667334111932e-06}, {\"r_name\": 1.2071, \"k\": 4, \"r\": 1.2071068286895752, \"name\": \"k=4 r=1.2071068286895752\", \"median\": 1.5303663758459152e-06, \"q0\": 2.373062625338207e-05, \"-q0\": 1.1444440772834229e-07, \"q1\": 1.1258729045948712e-05, \"-q1\": 2.5057484265289547e-07, \"q2\": 5.999963832437061e-06, \"-q2\": 4.3768260127308167e-07, \"q3\": 3.5568934890761684e-06, \"-q3\": 6.888759571666015e-07, \"q4\": 2.2887597310727865e-06, \"-q4\": 1.0331348789804915e-06}, {\"r_name\": 2.3251, \"k\": 4, \"r\": 2.325140953063965, \"name\": \"k=4 r=2.325140953063965\", \"median\": 2.666522391336912e-06, \"q0\": 3.890493644576054e-05, \"-q0\": 2.2616739414615934e-07, \"q1\": 1.8274286048836075e-05, \"-q1\": 4.7510513923043634e-07, \"q2\": 9.71143208516878e-06, \"-q2\": 7.992364032816113e-07, \"q3\": 5.882897767151006e-06, \"-q3\": 1.238339564224589e-06, \"q4\": 3.887226057486259e-06, \"-q4\": 1.8309168297037104e-06}, {\"r_name\": 2.3251, \"k\": 5, \"r\": 2.325140953063965, \"name\": \"k=5 r=2.325140953063965\", \"median\": 1.8924220626104216e-06, \"q0\": 2.7712821520253783e-05, \"-q0\": 1.6039126293776454e-07, \"q1\": 1.290691943722777e-05, \"-q1\": 3.4066658827214274e-07, \"q2\": 6.877659529891389e-06, \"-q2\": 5.683561710156937e-07, \"q3\": 4.218108188069887e-06, \"-q3\": 8.799051443020291e-07, \"q4\": 2.7818325634143527e-06, \"-q4\": 1.2975372101209363e-06}, {\"r_name\": 2.3251, \"k\": 6, \"r\": 2.325140953063965, \"name\": \"k=6 r=2.325140953063965\", \"median\": 1.456161101032194e-06, \"q0\": 2.2335509584081592e-05, \"-q0\": 1.1287785639524365e-07, \"q1\": 1.0529725386732025e-05, \"-q1\": 2.4974534085231426e-07, \"q2\": 5.564162393056904e-06, \"-q2\": 4.2913551112633286e-07, \"q3\": 3.351629857206715e-06, \"-q3\": 6.641981258326269e-07, \"q4\": 2.1669767420462445e-06, \"-q4\": 9.842645170010658e-07}, {\"r_name\": 2.3251, \"k\": 7, \"r\": 2.325140953063965, \"name\": \"k=7 r=2.325140953063965\", \"median\": 1.1529487551342754e-06, \"q0\": 1.819465205699089e-05, \"-q0\": 8.354312619474055e-08, \"q1\": 8.763873211137252e-06, \"-q1\": 1.8724009009929432e-07, \"q2\": 4.779412620337098e-06, \"-q2\": 3.2506721225900037e-07, \"q3\": 2.8026724976370996e-06, \"-q3\": 5.07185291098722e-07, \"q4\": 1.7679126642633485e-06, \"-q4\": 7.670257531344763e-07}, {\"r_name\": 2.3251, \"k\": 8, \"r\": 2.325140953063965, \"name\": \"k=8 r=2.325140953063965\", \"median\": 1.192192712551332e-06, \"q0\": 1.7329224647255614e-05, \"-q0\": 1.0069438438620175e-07, \"q1\": 8.459521723125363e-06, \"-q1\": 2.1162420438258794e-07, \"q2\": 4.576398850986152e-06, \"-q2\": 3.5621732763502223e-07, \"q3\": 2.7412322651798553e-06, \"-q3\": 5.440404038381532e-07, \"q4\": 1.773418659922754e-06, \"-q4\": 8.10382744020899e-07}]}}, {\"mode\": \"vega-lite\"});\n",
       "</script>"
      ],
      "text/plain": [
       "alt.FacetChart(...)"
      ]
     },
     "execution_count": 12,
     "metadata": {},
     "output_type": "execute_result"
    }
   ],
   "source": [
    "weights_grad = torch.cat([m.weights.grad.flatten(end_dim=1) for m in net.modules() if isinstance(m, SteeredConv2d) and m.weights.shape[-1]==27])\n",
    "base.plot_weights_dist(weights_grad, wrange=(1e-10, 1e-4))"
   ]
  },
  {
   "cell_type": "code",
   "execution_count": 13,
   "id": "included-highland",
   "metadata": {},
   "outputs": [
    {
     "data": {
      "text/plain": [
       "tensor([[[[0., 0., 0.,  ..., 0., 0., 0.],\n",
       "          [0., 0., 0.,  ..., 0., 0., 0.],\n",
       "          [0., 0., 0.,  ..., 0., 0., 0.],\n",
       "          ...,\n",
       "          [0., 0., 0.,  ..., 0., 0., 0.],\n",
       "          [0., 0., 0.,  ..., 0., 0., 0.],\n",
       "          [0., 0., 0.,  ..., 0., 0., 0.]],\n",
       "\n",
       "         [[0., 0., 0.,  ..., 0., 0., 0.],\n",
       "          [0., 0., 0.,  ..., 0., 0., 0.],\n",
       "          [0., 0., 0.,  ..., 0., 0., 0.],\n",
       "          ...,\n",
       "          [0., 0., 0.,  ..., 0., 0., 0.],\n",
       "          [0., 0., 0.,  ..., 0., 0., 0.],\n",
       "          [0., 0., 0.,  ..., 0., 0., 0.]],\n",
       "\n",
       "         [[0., 0., 0.,  ..., 0., 0., 0.],\n",
       "          [0., 0., 0.,  ..., 0., 0., 0.],\n",
       "          [0., 0., 0.,  ..., 0., 0., 0.],\n",
       "          ...,\n",
       "          [0., 0., 0.,  ..., 0., 0., 0.],\n",
       "          [0., 0., 0.,  ..., 0., 0., 0.],\n",
       "          [0., 0., 0.,  ..., 0., 0., 0.]],\n",
       "\n",
       "         [[0., 0., 0.,  ..., 0., 0., 0.],\n",
       "          [0., 0., 0.,  ..., 0., 0., 0.],\n",
       "          [0., 0., 0.,  ..., 0., 0., 0.],\n",
       "          ...,\n",
       "          [0., 0., 0.,  ..., 0., 0., 0.],\n",
       "          [0., 0., 0.,  ..., 0., 0., 0.],\n",
       "          [0., 0., 0.,  ..., 0., 0., 0.]],\n",
       "\n",
       "         [[0., 0., 0.,  ..., 0., 0., 0.],\n",
       "          [0., 0., 0.,  ..., 0., 0., 0.],\n",
       "          [0., 0., 0.,  ..., 0., 0., 0.],\n",
       "          ...,\n",
       "          [0., 0., 0.,  ..., 0., 0., 0.],\n",
       "          [0., 0., 0.,  ..., 0., 0., 0.],\n",
       "          [0., 0., 0.,  ..., 0., 0., 0.]],\n",
       "\n",
       "         [[0., 0., 0.,  ..., 0., 0., 0.],\n",
       "          [0., 0., 0.,  ..., 0., 0., 0.],\n",
       "          [0., 0., 0.,  ..., 0., 0., 0.],\n",
       "          ...,\n",
       "          [0., 0., 0.,  ..., 0., 0., 0.],\n",
       "          [0., 0., 0.,  ..., 0., 0., 0.],\n",
       "          [0., 0., 0.,  ..., 0., 0., 0.]]],\n",
       "\n",
       "\n",
       "        [[[0., 0., 0.,  ..., 0., 0., 0.],\n",
       "          [0., 0., 0.,  ..., 0., 0., 0.],\n",
       "          [0., 0., 0.,  ..., 0., 0., 0.],\n",
       "          ...,\n",
       "          [0., 0., 0.,  ..., 0., 0., 0.],\n",
       "          [0., 0., 0.,  ..., 0., 0., 0.],\n",
       "          [0., 0., 0.,  ..., 0., 0., 0.]],\n",
       "\n",
       "         [[0., 0., 0.,  ..., 0., 0., 0.],\n",
       "          [0., 0., 0.,  ..., 0., 0., 0.],\n",
       "          [0., 0., 0.,  ..., 0., 0., 0.],\n",
       "          ...,\n",
       "          [0., 0., 0.,  ..., 0., 0., 0.],\n",
       "          [0., 0., 0.,  ..., 0., 0., 0.],\n",
       "          [0., 0., 0.,  ..., 0., 0., 0.]],\n",
       "\n",
       "         [[0., 0., 0.,  ..., 0., 0., 0.],\n",
       "          [0., 0., 0.,  ..., 0., 0., 0.],\n",
       "          [0., 0., 0.,  ..., 0., 0., 0.],\n",
       "          ...,\n",
       "          [0., 0., 0.,  ..., 0., 0., 0.],\n",
       "          [0., 0., 0.,  ..., 0., 0., 0.],\n",
       "          [0., 0., 0.,  ..., 0., 0., 0.]],\n",
       "\n",
       "         [[0., 0., 0.,  ..., 0., 0., 0.],\n",
       "          [0., 0., 0.,  ..., 0., 0., 0.],\n",
       "          [0., 0., 0.,  ..., 0., 0., 0.],\n",
       "          ...,\n",
       "          [0., 0., 0.,  ..., 0., 0., 0.],\n",
       "          [0., 0., 0.,  ..., 0., 0., 0.],\n",
       "          [0., 0., 0.,  ..., 0., 0., 0.]],\n",
       "\n",
       "         [[0., 0., 0.,  ..., 0., 0., 0.],\n",
       "          [0., 0., 0.,  ..., 0., 0., 0.],\n",
       "          [0., 0., 0.,  ..., 0., 0., 0.],\n",
       "          ...,\n",
       "          [0., 0., 0.,  ..., 0., 0., 0.],\n",
       "          [0., 0., 0.,  ..., 0., 0., 0.],\n",
       "          [0., 0., 0.,  ..., 0., 0., 0.]],\n",
       "\n",
       "         [[0., 0., 0.,  ..., 0., 0., 0.],\n",
       "          [0., 0., 0.,  ..., 0., 0., 0.],\n",
       "          [0., 0., 0.,  ..., 0., 0., 0.],\n",
       "          ...,\n",
       "          [0., 0., 0.,  ..., 0., 0., 0.],\n",
       "          [0., 0., 0.,  ..., 0., 0., 0.],\n",
       "          [0., 0., 0.,  ..., 0., 0., 0.]]],\n",
       "\n",
       "\n",
       "        [[[0., 0., 0.,  ..., 0., 0., 0.],\n",
       "          [0., 0., 0.,  ..., 0., 0., 0.],\n",
       "          [0., 0., 0.,  ..., 0., 0., 0.],\n",
       "          ...,\n",
       "          [0., 0., 0.,  ..., 0., 0., 0.],\n",
       "          [0., 0., 0.,  ..., 0., 0., 0.],\n",
       "          [0., 0., 0.,  ..., 0., 0., 0.]],\n",
       "\n",
       "         [[0., 0., 0.,  ..., 0., 0., 0.],\n",
       "          [0., 0., 0.,  ..., 0., 0., 0.],\n",
       "          [0., 0., 0.,  ..., 0., 0., 0.],\n",
       "          ...,\n",
       "          [0., 0., 0.,  ..., 0., 0., 0.],\n",
       "          [0., 0., 0.,  ..., 0., 0., 0.],\n",
       "          [0., 0., 0.,  ..., 0., 0., 0.]],\n",
       "\n",
       "         [[0., 0., 0.,  ..., 0., 0., 0.],\n",
       "          [0., 0., 0.,  ..., 0., 0., 0.],\n",
       "          [0., 0., 0.,  ..., 0., 0., 0.],\n",
       "          ...,\n",
       "          [0., 0., 0.,  ..., 0., 0., 0.],\n",
       "          [0., 0., 0.,  ..., 0., 0., 0.],\n",
       "          [0., 0., 0.,  ..., 0., 0., 0.]],\n",
       "\n",
       "         [[0., 0., 0.,  ..., 0., 0., 0.],\n",
       "          [0., 0., 0.,  ..., 0., 0., 0.],\n",
       "          [0., 0., 0.,  ..., 0., 0., 0.],\n",
       "          ...,\n",
       "          [0., 0., 0.,  ..., 0., 0., 0.],\n",
       "          [0., 0., 0.,  ..., 0., 0., 0.],\n",
       "          [0., 0., 0.,  ..., 0., 0., 0.]],\n",
       "\n",
       "         [[0., 0., 0.,  ..., 0., 0., 0.],\n",
       "          [0., 0., 0.,  ..., 0., 0., 0.],\n",
       "          [0., 0., 0.,  ..., 0., 0., 0.],\n",
       "          ...,\n",
       "          [0., 0., 0.,  ..., 0., 0., 0.],\n",
       "          [0., 0., 0.,  ..., 0., 0., 0.],\n",
       "          [0., 0., 0.,  ..., 0., 0., 0.]],\n",
       "\n",
       "         [[0., 0., 0.,  ..., 0., 0., 0.],\n",
       "          [0., 0., 0.,  ..., 0., 0., 0.],\n",
       "          [0., 0., 0.,  ..., 0., 0., 0.],\n",
       "          ...,\n",
       "          [0., 0., 0.,  ..., 0., 0., 0.],\n",
       "          [0., 0., 0.,  ..., 0., 0., 0.],\n",
       "          [0., 0., 0.,  ..., 0., 0., 0.]]],\n",
       "\n",
       "\n",
       "        [[[0., 0., 0.,  ..., 0., 0., 0.],\n",
       "          [0., 0., 0.,  ..., 0., 0., 0.],\n",
       "          [0., 0., 0.,  ..., 0., 0., 0.],\n",
       "          ...,\n",
       "          [0., 0., 0.,  ..., 0., 0., 0.],\n",
       "          [0., 0., 0.,  ..., 0., 0., 0.],\n",
       "          [0., 0., 0.,  ..., 0., 0., 0.]],\n",
       "\n",
       "         [[0., 0., 0.,  ..., 0., 0., 0.],\n",
       "          [0., 0., 0.,  ..., 0., 0., 0.],\n",
       "          [0., 0., 0.,  ..., 0., 0., 0.],\n",
       "          ...,\n",
       "          [0., 0., 0.,  ..., 0., 0., 0.],\n",
       "          [0., 0., 0.,  ..., 0., 0., 0.],\n",
       "          [0., 0., 0.,  ..., 0., 0., 0.]],\n",
       "\n",
       "         [[0., 0., 0.,  ..., 0., 0., 0.],\n",
       "          [0., 0., 0.,  ..., 0., 0., 0.],\n",
       "          [0., 0., 0.,  ..., 0., 0., 0.],\n",
       "          ...,\n",
       "          [0., 0., 0.,  ..., 0., 0., 0.],\n",
       "          [0., 0., 0.,  ..., 0., 0., 0.],\n",
       "          [0., 0., 0.,  ..., 0., 0., 0.]],\n",
       "\n",
       "         [[0., 0., 0.,  ..., 0., 0., 0.],\n",
       "          [0., 0., 0.,  ..., 0., 0., 0.],\n",
       "          [0., 0., 0.,  ..., 0., 0., 0.],\n",
       "          ...,\n",
       "          [0., 0., 0.,  ..., 0., 0., 0.],\n",
       "          [0., 0., 0.,  ..., 0., 0., 0.],\n",
       "          [0., 0., 0.,  ..., 0., 0., 0.]],\n",
       "\n",
       "         [[0., 0., 0.,  ..., 0., 0., 0.],\n",
       "          [0., 0., 0.,  ..., 0., 0., 0.],\n",
       "          [0., 0., 0.,  ..., 0., 0., 0.],\n",
       "          ...,\n",
       "          [0., 0., 0.,  ..., 0., 0., 0.],\n",
       "          [0., 0., 0.,  ..., 0., 0., 0.],\n",
       "          [0., 0., 0.,  ..., 0., 0., 0.]],\n",
       "\n",
       "         [[0., 0., 0.,  ..., 0., 0., 0.],\n",
       "          [0., 0., 0.,  ..., 0., 0., 0.],\n",
       "          [0., 0., 0.,  ..., 0., 0., 0.],\n",
       "          ...,\n",
       "          [0., 0., 0.,  ..., 0., 0., 0.],\n",
       "          [0., 0., 0.,  ..., 0., 0., 0.],\n",
       "          [0., 0., 0.,  ..., 0., 0., 0.]]]], device='cuda:0')"
      ]
     },
     "execution_count": 13,
     "metadata": {},
     "output_type": "execute_result"
    }
   ],
   "source": []
  }
 ],
 "metadata": {
  "kernelspec": {
   "display_name": "Python 3 (ipykernel)",
   "language": "python",
   "name": "python3"
  },
  "language_info": {
   "codemirror_mode": {
    "name": "ipython",
    "version": 3
   },
   "file_extension": ".py",
   "mimetype": "text/x-python",
   "name": "python",
   "nbconvert_exporter": "python",
   "pygments_lexer": "ipython3",
   "version": "3.10.0"
  }
 },
 "nbformat": 4,
 "nbformat_minor": 5
}
