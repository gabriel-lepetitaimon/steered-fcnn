{
 "cells": [
  {
   "cell_type": "markdown",
   "id": "certain-tracy",
   "metadata": {},
   "source": [
    "#### Includes"
   ]
  },
  {
   "cell_type": "code",
   "execution_count": 1,
   "id": "reflected-conference",
   "metadata": {},
   "outputs": [],
   "source": [
    "%load_ext autoreload\n",
    "%autoreload 2"
   ]
  },
  {
   "cell_type": "code",
   "execution_count": 2,
   "id": "awful-tiger",
   "metadata": {},
   "outputs": [],
   "source": [
    "import numpy as np\n",
    "import torch\n",
    "import torch.nn.functional as F\n",
    "import altair as alt\n",
    "from altair import datum\n",
    "import pandas as pd\n",
    "import time\n",
    "import os.path as P\n",
    "from pytorch_lightning.utilities.cloud_io import load as pl_load\n",
    "import pandas as pd\n",
    "import altair as alt\n",
    "alt.data_transformers.disable_max_rows()\n",
    "None"
   ]
  },
  {
   "cell_type": "code",
   "execution_count": 3,
   "id": "virgin-voltage",
   "metadata": {},
   "outputs": [],
   "source": [
    "from sources import load_dataset, default_config, parse_config\n",
    "from run_train import setup_model\n",
    "from src.trainer import Binary2DSegmentation"
   ]
  },
  {
   "cell_type": "code",
   "execution_count": 4,
   "id": "vietnamese-vertical",
   "metadata": {},
   "outputs": [],
   "source": [
    "from steered_cnn.utils.rotequivariance_toolbox import *\n",
    "from steered_cnn.steered_conv.steerable_filters import radial_steerable_filter, plot_filter\n",
    "from steered_cnn.steered_conv import SteerableKernelBase"
   ]
  },
  {
   "cell_type": "markdown",
   "id": "purple-newspaper",
   "metadata": {},
   "source": [
    "## Initialization"
   ]
  },
  {
   "cell_type": "code",
   "execution_count": 5,
   "id": "secret-photographer",
   "metadata": {},
   "outputs": [],
   "source": [
    "RUN_ID = '8/dd8fc55431b5441e811d33871cd9aca6'\n",
    "OLD = False"
   ]
  },
  {
   "cell_type": "code",
   "execution_count": 6,
   "id": "stainless-empire",
   "metadata": {},
   "outputs": [],
   "source": [
    "art_path = P.abspath(P.join('/home/gaby/mlflow/mlruns', RUN_ID, 'artifacts/'))\n",
    "cfg = parse_config(art_path+'/cfg_extended.yaml')\n",
    "cfg['script-arguments']['gpus']='0'"
   ]
  },
  {
   "cell_type": "code",
   "execution_count": 7,
   "id": "eastern-formation",
   "metadata": {},
   "outputs": [
    {
     "ename": "RuntimeError",
     "evalue": "Error(s) in loading state_dict for Binary2DSegmentation:\n\tMissing key(s) in state_dict: \"model.downconv0-0.conv.weights\", \"model.downconv0-0.bn_relu.0.weight\", \"model.downconv0-0.bn_relu.0.bias\", \"model.downconv0-0.bn_relu.0.running_mean\", \"model.downconv0-0.bn_relu.0.running_var\", \"model.downconv0-1.conv.weights\", \"model.downconv0-1.bn_relu.0.weight\", \"model.downconv0-1.bn_relu.0.bias\", \"model.downconv0-1.bn_relu.0.running_mean\", \"model.downconv0-1.bn_relu.0.running_var\", \"model.downconv1-0.conv.weights\", \"model.downconv1-0.bn_relu.0.weight\", \"model.downconv1-0.bn_relu.0.bias\", \"model.downconv1-0.bn_relu.0.running_mean\", \"model.downconv1-0.bn_relu.0.running_var\", \"model.downconv1-1.conv.weights\", \"model.downconv1-1.bn_relu.0.weight\", \"model.downconv1-1.bn_relu.0.bias\", \"model.downconv1-1.bn_relu.0.running_mean\", \"model.downconv1-1.bn_relu.0.running_var\", \"model.downconv2-0.conv.weights\", \"model.downconv2-0.bn_relu.0.weight\", \"model.downconv2-0.bn_relu.0.bias\", \"model.downconv2-0.bn_relu.0.running_mean\", \"model.downconv2-0.bn_relu.0.running_var\", \"model.downconv2-1.conv.weights\", \"model.downconv2-1.bn_relu.0.weight\", \"model.downconv2-1.bn_relu.0.bias\", \"model.downconv2-1.bn_relu.0.running_mean\", \"model.downconv2-1.bn_relu.0.running_var\", \"model.downconv3-0.conv.weights\", \"model.downconv3-0.bn_relu.0.weight\", \"model.downconv3-0.bn_relu.0.bias\", \"model.downconv3-0.bn_relu.0.running_mean\", \"model.downconv3-0.bn_relu.0.running_var\", \"model.downconv3-1.conv.weights\", \"model.downconv3-1.bn_relu.0.weight\", \"model.downconv3-1.bn_relu.0.bias\", \"model.downconv3-1.bn_relu.0.running_mean\", \"model.downconv3-1.bn_relu.0.running_var\", \"model.downconv4-0.conv.weights\", \"model.downconv4-0.bn_relu.0.weight\", \"model.downconv4-0.bn_relu.0.bias\", \"model.downconv4-0.bn_relu.0.running_mean\", \"model.downconv4-0.bn_relu.0.running_var\", \"model.downconv4-1.conv.weights\", \"model.downconv4-1.bn_relu.0.weight\", \"model.downconv4-1.bn_relu.0.bias\", \"model.downconv4-1.bn_relu.0.running_mean\", \"model.downconv4-1.bn_relu.0.running_var\", \"model.upconv5-0.conv.weights\", \"model.upconv5-0.bn_relu.0.weight\", \"model.upconv5-0.bn_relu.0.bias\", \"model.upconv5-0.bn_relu.0.running_mean\", \"model.upconv5-0.bn_relu.0.running_var\", \"model.upconv5-1.weights\", \"model.upconv5-1.bias\", \"model.upconv6-0.conv.weights\", \"model.upconv6-0.bn_relu.0.weight\", \"model.upconv6-0.bn_relu.0.bias\", \"model.upconv6-0.bn_relu.0.running_mean\", \"model.upconv6-0.bn_relu.0.running_var\", \"model.upconv6-1.weights\", \"model.upconv6-1.bias\", \"model.upconv7-0.conv.weights\", \"model.upconv7-0.bn_relu.0.weight\", \"model.upconv7-0.bn_relu.0.bias\", \"model.upconv7-0.bn_relu.0.running_mean\", \"model.upconv7-0.bn_relu.0.running_var\", \"model.upconv7-1.weights\", \"model.upconv7-1.bias\", \"model.upconv8-0.conv.weights\", \"model.upconv8-0.bn_relu.0.weight\", \"model.upconv8-0.bn_relu.0.bias\", \"model.upconv8-0.bn_relu.0.running_mean\", \"model.upconv8-0.bn_relu.0.running_var\", \"model.upconv8-1.weights\", \"model.upconv8-1.bias\". \n\tUnexpected key(s) in state_dict: \"model.conv1.0.conv.weights\", \"model.conv1.0.bn_relu.0.weight\", \"model.conv1.0.bn_relu.0.bias\", \"model.conv1.0.bn_relu.0.running_mean\", \"model.conv1.0.bn_relu.0.running_var\", \"model.conv1.0.bn_relu.0.num_batches_tracked\", \"model.conv1.1.conv.weights\", \"model.conv1.1.bn_relu.0.weight\", \"model.conv1.1.bn_relu.0.bias\", \"model.conv1.1.bn_relu.0.running_mean\", \"model.conv1.1.bn_relu.0.running_var\", \"model.conv1.1.bn_relu.0.num_batches_tracked\", \"model.conv2.0.conv.weights\", \"model.conv2.0.bn_relu.0.weight\", \"model.conv2.0.bn_relu.0.bias\", \"model.conv2.0.bn_relu.0.running_mean\", \"model.conv2.0.bn_relu.0.running_var\", \"model.conv2.0.bn_relu.0.num_batches_tracked\", \"model.conv2.1.conv.weights\", \"model.conv2.1.bn_relu.0.weight\", \"model.conv2.1.bn_relu.0.bias\", \"model.conv2.1.bn_relu.0.running_mean\", \"model.conv2.1.bn_relu.0.running_var\", \"model.conv2.1.bn_relu.0.num_batches_tracked\", \"model.conv3.0.conv.weights\", \"model.conv3.0.bn_relu.0.weight\", \"model.conv3.0.bn_relu.0.bias\", \"model.conv3.0.bn_relu.0.running_mean\", \"model.conv3.0.bn_relu.0.running_var\", \"model.conv3.0.bn_relu.0.num_batches_tracked\", \"model.conv3.1.conv.weights\", \"model.conv3.1.bn_relu.0.weight\", \"model.conv3.1.bn_relu.0.bias\", \"model.conv3.1.bn_relu.0.running_mean\", \"model.conv3.1.bn_relu.0.running_var\", \"model.conv3.1.bn_relu.0.num_batches_tracked\", \"model.conv4.0.conv.weights\", \"model.conv4.0.bn_relu.0.weight\", \"model.conv4.0.bn_relu.0.bias\", \"model.conv4.0.bn_relu.0.running_mean\", \"model.conv4.0.bn_relu.0.running_var\", \"model.conv4.0.bn_relu.0.num_batches_tracked\", \"model.conv4.1.conv.weights\", \"model.conv4.1.bn_relu.0.weight\", \"model.conv4.1.bn_relu.0.bias\", \"model.conv4.1.bn_relu.0.running_mean\", \"model.conv4.1.bn_relu.0.running_var\", \"model.conv4.1.bn_relu.0.num_batches_tracked\", \"model.conv5.0.conv.weights\", \"model.conv5.0.bn_relu.0.weight\", \"model.conv5.0.bn_relu.0.bias\", \"model.conv5.0.bn_relu.0.running_mean\", \"model.conv5.0.bn_relu.0.running_var\", \"model.conv5.0.bn_relu.0.num_batches_tracked\", \"model.conv5.1.conv.weights\", \"model.conv5.1.bn_relu.0.weight\", \"model.conv5.1.bn_relu.0.bias\", \"model.conv5.1.bn_relu.0.running_mean\", \"model.conv5.1.bn_relu.0.running_var\", \"model.conv5.1.bn_relu.0.num_batches_tracked\", \"model.upsample1.0.weight\", \"model.upsample1.0.bias\", \"model.conv6.0.conv.weights\", \"model.conv6.0.bn_relu.0.weight\", \"model.conv6.0.bn_relu.0.bias\", \"model.conv6.0.bn_relu.0.running_mean\", \"model.conv6.0.bn_relu.0.running_var\", \"model.conv6.0.bn_relu.0.num_batches_tracked\", \"model.conv6.1.conv.weights\", \"model.conv6.1.bn_relu.0.weight\", \"model.conv6.1.bn_relu.0.bias\", \"model.conv6.1.bn_relu.0.running_mean\", \"model.conv6.1.bn_relu.0.running_var\", \"model.conv6.1.bn_relu.0.num_batches_tracked\", \"model.upsample2.0.weight\", \"model.upsample2.0.bias\", \"model.conv7.0.conv.weights\", \"model.conv7.0.bn_relu.0.weight\", \"model.conv7.0.bn_relu.0.bias\", \"model.conv7.0.bn_relu.0.running_mean\", \"model.conv7.0.bn_relu.0.running_var\", \"model.conv7.0.bn_relu.0.num_batches_tracked\", \"model.conv7.1.conv.weights\", \"model.conv7.1.bn_relu.0.weight\", \"model.conv7.1.bn_relu.0.bias\", \"model.conv7.1.bn_relu.0.running_mean\", \"model.conv7.1.bn_relu.0.running_var\", \"model.conv7.1.bn_relu.0.num_batches_tracked\", \"model.upsample3.0.weight\", \"model.upsample3.0.bias\", \"model.conv8.0.conv.weights\", \"model.conv8.0.bn_relu.0.weight\", \"model.conv8.0.bn_relu.0.bias\", \"model.conv8.0.bn_relu.0.running_mean\", \"model.conv8.0.bn_relu.0.running_var\", \"model.conv8.0.bn_relu.0.num_batches_tracked\", \"model.conv8.1.conv.weights\", \"model.conv8.1.bn_relu.0.weight\", \"model.conv8.1.bn_relu.0.bias\", \"model.conv8.1.bn_relu.0.running_mean\", \"model.conv8.1.bn_relu.0.running_var\", \"model.conv8.1.bn_relu.0.num_batches_tracked\", \"model.upsample4.0.weight\", \"model.upsample4.0.bias\", \"model.conv9.0.conv.weights\", \"model.conv9.0.bn_relu.0.weight\", \"model.conv9.0.bn_relu.0.bias\", \"model.conv9.0.bn_relu.0.running_mean\", \"model.conv9.0.bn_relu.0.running_var\", \"model.conv9.0.bn_relu.0.num_batches_tracked\", \"model.conv9.1.conv.weights\", \"model.conv9.1.bn_relu.0.weight\", \"model.conv9.1.bn_relu.0.bias\", \"model.conv9.1.bn_relu.0.running_mean\", \"model.conv9.1.bn_relu.0.running_var\", \"model.conv9.1.bn_relu.0.num_batches_tracked\". \n\tsize mismatch for model.final_conv.weight: copying a param with shape torch.Size([1, 11, 1, 1]) from checkpoint, the shape in current model is torch.Size([1, 16, 1, 1]).",
     "output_type": "error",
     "traceback": [
      "\u001b[0;31m---------------------------------------------------------------------------\u001b[0m",
      "\u001b[0;31mRuntimeError\u001b[0m                              Traceback (most recent call last)",
      "\u001b[0;32m<ipython-input-7-59b78226878d>\u001b[0m in \u001b[0;36m<module>\u001b[0;34m\u001b[0m\n\u001b[1;32m      2\u001b[0m \u001b[0mnet\u001b[0m \u001b[0;34m=\u001b[0m \u001b[0mBinary2DSegmentation\u001b[0m\u001b[0;34m(\u001b[0m\u001b[0mmodel\u001b[0m\u001b[0;34m=\u001b[0m\u001b[0mmodel\u001b[0m\u001b[0;34m)\u001b[0m\u001b[0;34m\u001b[0m\u001b[0;34m\u001b[0m\u001b[0m\n\u001b[1;32m      3\u001b[0m \u001b[0mstate_dict\u001b[0m \u001b[0;34m=\u001b[0m \u001b[0mpl_load\u001b[0m\u001b[0;34m(\u001b[0m\u001b[0mart_path\u001b[0m\u001b[0;34m+\u001b[0m\u001b[0;34m'/best-val-roc.ckpt'\u001b[0m\u001b[0;34m.\u001b[0m\u001b[0mformat\u001b[0m\u001b[0;34m(\u001b[0m\u001b[0;36m25\u001b[0m\u001b[0;34m)\u001b[0m\u001b[0;34m,\u001b[0m \u001b[0mmap_location\u001b[0m\u001b[0;34m=\u001b[0m\u001b[0;34m'cuda:0'\u001b[0m\u001b[0;34m)\u001b[0m\u001b[0;34m[\u001b[0m\u001b[0;34m'state_dict'\u001b[0m\u001b[0;34m]\u001b[0m\u001b[0;34m\u001b[0m\u001b[0;34m\u001b[0m\u001b[0m\n\u001b[0;32m----> 4\u001b[0;31m \u001b[0mnet\u001b[0m\u001b[0;34m.\u001b[0m\u001b[0mload_state_dict\u001b[0m\u001b[0;34m(\u001b[0m\u001b[0mstate_dict\u001b[0m\u001b[0;34m)\u001b[0m\u001b[0;34m\u001b[0m\u001b[0;34m\u001b[0m\u001b[0m\n\u001b[0m\u001b[1;32m      5\u001b[0m \u001b[0mnet\u001b[0m\u001b[0;34m.\u001b[0m\u001b[0meval\u001b[0m\u001b[0;34m(\u001b[0m\u001b[0;34m)\u001b[0m\u001b[0;34m.\u001b[0m\u001b[0mcuda\u001b[0m\u001b[0;34m(\u001b[0m\u001b[0;34m)\u001b[0m\u001b[0;34m\u001b[0m\u001b[0;34m\u001b[0m\u001b[0m\n\u001b[1;32m      6\u001b[0m \u001b[0;32mNone\u001b[0m\u001b[0;34m\u001b[0m\u001b[0;34m\u001b[0m\u001b[0m\n",
      "\u001b[0;32m~/.conda/envs/nnet/lib/python3.7/site-packages/torch/nn/modules/module.py\u001b[0m in \u001b[0;36mload_state_dict\u001b[0;34m(self, state_dict, strict)\u001b[0m\n\u001b[1;32m   1222\u001b[0m         \u001b[0;32mif\u001b[0m \u001b[0mlen\u001b[0m\u001b[0;34m(\u001b[0m\u001b[0merror_msgs\u001b[0m\u001b[0;34m)\u001b[0m \u001b[0;34m>\u001b[0m \u001b[0;36m0\u001b[0m\u001b[0;34m:\u001b[0m\u001b[0;34m\u001b[0m\u001b[0;34m\u001b[0m\u001b[0m\n\u001b[1;32m   1223\u001b[0m             raise RuntimeError('Error(s) in loading state_dict for {}:\\n\\t{}'.format(\n\u001b[0;32m-> 1224\u001b[0;31m                                self.__class__.__name__, \"\\n\\t\".join(error_msgs)))\n\u001b[0m\u001b[1;32m   1225\u001b[0m         \u001b[0;32mreturn\u001b[0m \u001b[0m_IncompatibleKeys\u001b[0m\u001b[0;34m(\u001b[0m\u001b[0mmissing_keys\u001b[0m\u001b[0;34m,\u001b[0m \u001b[0munexpected_keys\u001b[0m\u001b[0;34m)\u001b[0m\u001b[0;34m\u001b[0m\u001b[0;34m\u001b[0m\u001b[0m\n\u001b[1;32m   1226\u001b[0m \u001b[0;34m\u001b[0m\u001b[0m\n",
      "\u001b[0;31mRuntimeError\u001b[0m: Error(s) in loading state_dict for Binary2DSegmentation:\n\tMissing key(s) in state_dict: \"model.downconv0-0.conv.weights\", \"model.downconv0-0.bn_relu.0.weight\", \"model.downconv0-0.bn_relu.0.bias\", \"model.downconv0-0.bn_relu.0.running_mean\", \"model.downconv0-0.bn_relu.0.running_var\", \"model.downconv0-1.conv.weights\", \"model.downconv0-1.bn_relu.0.weight\", \"model.downconv0-1.bn_relu.0.bias\", \"model.downconv0-1.bn_relu.0.running_mean\", \"model.downconv0-1.bn_relu.0.running_var\", \"model.downconv1-0.conv.weights\", \"model.downconv1-0.bn_relu.0.weight\", \"model.downconv1-0.bn_relu.0.bias\", \"model.downconv1-0.bn_relu.0.running_mean\", \"model.downconv1-0.bn_relu.0.running_var\", \"model.downconv1-1.conv.weights\", \"model.downconv1-1.bn_relu.0.weight\", \"model.downconv1-1.bn_relu.0.bias\", \"model.downconv1-1.bn_relu.0.running_mean\", \"model.downconv1-1.bn_relu.0.running_var\", \"model.downconv2-0.conv.weights\", \"model.downconv2-0.bn_relu.0.weight\", \"model.downconv2-0.bn_relu.0.bias\", \"model.downconv2-0.bn_relu.0.running_mean\", \"model.downconv2-0.bn_relu.0.running_var\", \"model.downconv2-1.conv.weights\", \"model.downconv2-1.bn_relu.0.weight\", \"model.downconv2-1.bn_relu.0.bias\", \"model.downconv2-1.bn_relu.0.running_mean\", \"model.downconv2-1.bn_relu.0.running_var\", \"model.downconv3-0.conv.weights\", \"model.downconv3-0.bn_relu.0.weight\", \"model.downconv3-0.bn_relu.0.bias\", \"model.downconv3-0.bn_relu.0.running_mean\", \"model.downconv3-0.bn_relu.0.running_var\", \"model.downconv3-1.conv.weights\", \"model.downconv3-1.bn_relu.0.weight\", \"model.downconv3-1.bn_relu.0.bias\", \"model.downconv3-1.bn_relu.0.running_mean\", \"model.downconv3-1.bn_relu.0.running_var\", \"model.downconv4-0.conv.weights\", \"model.downconv4-0.bn_relu.0.weight\", \"model.downconv4-0.bn_relu.0.bias\", \"model.downconv4-0.bn_relu.0.running_mean\", \"model.downconv4-0.bn_relu.0.running_var\", \"model.downconv4-1.conv.weights\", \"model.downconv4-1.bn_relu.0.weight\", \"model.downconv4-1.bn_relu.0.bias\", \"model.downconv4-1.bn_relu.0.running_mean\", \"model.downconv4-1.bn_relu.0.running_var\", \"model.upconv5-0.conv.weights\", \"model.upconv5-0.bn_relu.0.weight\", \"model.upconv5-0.bn_relu.0.bias\", \"model.upconv5-0.bn_relu.0.running_mean\", \"model.upconv5-0.bn_relu.0.running_var\", \"model.upconv5-1.weights\", \"model.upconv5-1.bias\", \"model.upconv6-0.conv.weights\", \"model.upconv6-0.bn_relu.0.weight\", \"model.upconv6-0.bn_relu.0.bias\", \"model.upconv6-0.bn_relu.0.running_mean\", \"model.upconv6-0.bn_relu.0.running_var\", \"model.upconv6-1.weights\", \"model.upconv6-1.bias\", \"model.upconv7-0.conv.weights\", \"model.upconv7-0.bn_relu.0.weight\", \"model.upconv7-0.bn_relu.0.bias\", \"model.upconv7-0.bn_relu.0.running_mean\", \"model.upconv7-0.bn_relu.0.running_var\", \"model.upconv7-1.weights\", \"model.upconv7-1.bias\", \"model.upconv8-0.conv.weights\", \"model.upconv8-0.bn_relu.0.weight\", \"model.upconv8-0.bn_relu.0.bias\", \"model.upconv8-0.bn_relu.0.running_mean\", \"model.upconv8-0.bn_relu.0.running_var\", \"model.upconv8-1.weights\", \"model.upconv8-1.bias\". \n\tUnexpected key(s) in state_dict: \"model.conv1.0.conv.weights\", \"model.conv1.0.bn_relu.0.weight\", \"model.conv1.0.bn_relu.0.bias\", \"model.conv1.0.bn_relu.0.running_mean\", \"model.conv1.0.bn_relu.0.running_var\", \"model.conv1.0.bn_relu.0.num_batches_tracked\", \"model.conv1.1.conv.weights\", \"model.conv1.1.bn_relu.0.weight\", \"model.conv1.1.bn_relu.0.bias\", \"model.conv1.1.bn_relu.0.running_mean\", \"model.conv1.1.bn_relu.0.running_var\", \"model.conv1.1.bn_relu.0.num_batches_tracked\", \"model.conv2.0.conv.weights\", \"model.conv2.0.bn_relu.0.weight\", \"model.conv2.0.bn_relu.0.bias\", \"model.conv2.0.bn_relu.0.running_mean\", \"model.conv2.0.bn_relu.0.running_var\", \"model.conv2.0.bn_relu.0.num_batches_tracked\", \"model.conv2.1.conv.weights\", \"model.conv2.1.bn_relu.0.weight\", \"model.conv2.1.bn_relu.0.bias\", \"model.conv2.1.bn_relu.0.running_mean\", \"model.conv2.1.bn_relu.0.running_var\", \"model.conv2.1.bn_relu.0.num_batches_tracked\", \"model.conv3.0.conv.weights\", \"model.conv3.0.bn_relu.0.weight\", \"model.conv3.0.bn_relu.0.bias\", \"model.conv3.0.bn_relu.0.running_mean\", \"model.conv3.0.bn_relu.0.running_var\", \"model.conv3.0.bn_relu.0.num_batches_tracked\", \"model.conv3.1.conv.weights\", \"model.conv3.1.bn_relu.0.weight\", \"model.conv3.1.bn_relu.0.bias\", \"model.conv3.1.bn_relu.0.running_mean\", \"model.conv3.1.bn_relu.0.running_var\", \"model.conv3.1.bn_relu.0.num_batches_tracked\", \"model.conv4.0.conv.weights\", \"model.conv4.0.bn_relu.0.weight\", \"model.conv4.0.bn_relu.0.bias\", \"model.conv4.0.bn_relu.0.running_mean\", \"model.conv4.0.bn_relu.0.running_var\", \"model.conv4.0.bn_relu.0.num_batches_tracked\", \"model.conv4.1.conv.weights\", \"model.conv4.1.bn_relu.0.weight\", \"model.conv4.1.bn_relu.0.bias\", \"model.conv4.1.bn_relu.0.running_mean\", \"model.conv4.1.bn_relu.0.running_var\", \"model.conv4.1.bn_relu.0.num_batches_tracked\", \"model.conv5.0.conv.weights\", \"model.conv5.0.bn_relu.0.weight\", \"model.conv5.0.bn_relu.0.bias\", \"model.conv5.0.bn_relu.0.running_mean\", \"model.conv5.0.bn_relu.0.running_var\", \"model.conv5.0.bn_relu.0.num_batches_tracked\", \"model.conv5.1.conv.weights\", \"model.conv5.1.bn_relu.0.weight\", \"model.conv5.1.bn_relu.0.bias\", \"model.conv5.1.bn_relu.0.running_mean\", \"model.conv5.1.bn_relu.0.running_var\", \"model.conv5.1.bn_relu.0.num_batches_tracked\", \"model.upsample1.0.weight\", \"model.upsample1.0.bias\", \"model.conv6.0.conv.weights\", \"model.conv6.0.bn_relu.0.weight\", \"model.conv6.0.bn_relu.0.bias\", \"model.conv6.0.bn_relu.0.running_mean\", \"model.conv6.0.bn_relu.0.running_var\", \"model.conv6.0.bn_relu.0.num_batches_tracked\", \"model.conv6.1.conv.weights\", \"model.conv6.1.bn_relu.0.weight\", \"model.conv6.1.bn_relu.0.bias\", \"model.conv6.1.bn_relu.0.running_mean\", \"model.conv6.1.bn_relu.0.running_var\", \"model.conv6.1.bn_relu.0.num_batches_tracked\", \"model.upsample2.0.weight\", \"model.upsample2.0.bias\", \"model.conv7.0.conv.weights\", \"model.conv7.0.bn_relu.0.weight\", \"model.conv7.0.bn_relu.0.bias\", \"model.conv7.0.bn_relu.0.running_mean\", \"model.conv7.0.bn_relu.0.running_var\", \"model.conv7.0.bn_relu.0.num_batches_tracked\", \"model.conv7.1.conv.weights\", \"model.conv7.1.bn_relu.0.weight\", \"model.conv7.1.bn_relu.0.bias\", \"model.conv7.1.bn_relu.0.running_mean\", \"model.conv7.1.bn_relu.0.running_var\", \"model.conv7.1.bn_relu.0.num_batches_tracked\", \"model.upsample3.0.weight\", \"model.upsample3.0.bias\", \"model.conv8.0.conv.weights\", \"model.conv8.0.bn_relu.0.weight\", \"model.conv8.0.bn_relu.0.bias\", \"model.conv8.0.bn_relu.0.running_mean\", \"model.conv8.0.bn_relu.0.running_var\", \"model.conv8.0.bn_relu.0.num_batches_tracked\", \"model.conv8.1.conv.weights\", \"model.conv8.1.bn_relu.0.weight\", \"model.conv8.1.bn_relu.0.bias\", \"model.conv8.1.bn_relu.0.running_mean\", \"model.conv8.1.bn_relu.0.running_var\", \"model.conv8.1.bn_relu.0.num_batches_tracked\", \"model.upsample4.0.weight\", \"model.upsample4.0.bias\", \"model.conv9.0.conv.weights\", \"model.conv9.0.bn_relu.0.weight\", \"model.conv9.0.bn_relu.0.bias\", \"model.conv9.0.bn_relu.0.running_mean\", \"model.conv9.0.bn_relu.0.running_var\", \"model.conv9.0.bn_relu.0.num_batches_tracked\", \"model.conv9.1.conv.weights\", \"model.conv9.1.bn_relu.0.weight\", \"model.conv9.1.bn_relu.0.bias\", \"model.conv9.1.bn_relu.0.running_mean\", \"model.conv9.1.bn_relu.0.running_var\", \"model.conv9.1.bn_relu.0.num_batches_tracked\". \n\tsize mismatch for model.final_conv.weight: copying a param with shape torch.Size([1, 11, 1, 1]) from checkpoint, the shape in current model is torch.Size([1, 16, 1, 1])."
     ]
    }
   ],
   "source": [
    "model = setup_model(cfg.model, 6, 1)\n",
    "net = Binary2DSegmentation(model=model)\n",
    "state_dict = pl_load(art_path+'/best-val-roc.ckpt'.format(25), map_location='cuda:0')['state_dict']\n",
    "net.load_state_dict(state_dict)\n",
    "net.eval().cuda()\n",
    "None"
   ]
  },
  {
   "cell_type": "markdown",
   "id": "straight-purchase",
   "metadata": {},
   "source": [
    "## Weight Value Analysis"
   ]
  },
  {
   "cell_type": "code",
   "execution_count": 27,
   "id": "casual-switch",
   "metadata": {},
   "outputs": [
    {
     "data": {
      "text/html": [
       "\n",
       "<div id=\"altair-viz-698e4fd72e33402094a741e37f526f95\"></div>\n",
       "<script type=\"text/javascript\">\n",
       "  (function(spec, embedOpt){\n",
       "    let outputDiv = document.currentScript.previousElementSibling;\n",
       "    if (outputDiv.id !== \"altair-viz-698e4fd72e33402094a741e37f526f95\") {\n",
       "      outputDiv = document.getElementById(\"altair-viz-698e4fd72e33402094a741e37f526f95\");\n",
       "    }\n",
       "    const paths = {\n",
       "      \"vega\": \"https://cdn.jsdelivr.net/npm//vega@5?noext\",\n",
       "      \"vega-lib\": \"https://cdn.jsdelivr.net/npm//vega-lib?noext\",\n",
       "      \"vega-lite\": \"https://cdn.jsdelivr.net/npm//vega-lite@4.8.1?noext\",\n",
       "      \"vega-embed\": \"https://cdn.jsdelivr.net/npm//vega-embed@6?noext\",\n",
       "    };\n",
       "\n",
       "    function loadScript(lib) {\n",
       "      return new Promise(function(resolve, reject) {\n",
       "        var s = document.createElement('script');\n",
       "        s.src = paths[lib];\n",
       "        s.async = true;\n",
       "        s.onload = () => resolve(paths[lib]);\n",
       "        s.onerror = () => reject(`Error loading script: ${paths[lib]}`);\n",
       "        document.getElementsByTagName(\"head\")[0].appendChild(s);\n",
       "      });\n",
       "    }\n",
       "\n",
       "    function showError(err) {\n",
       "      outputDiv.innerHTML = `<div class=\"error\" style=\"color:red;\">${err}</div>`;\n",
       "      throw err;\n",
       "    }\n",
       "\n",
       "    function displayChart(vegaEmbed) {\n",
       "      vegaEmbed(outputDiv, spec, embedOpt)\n",
       "        .catch(err => showError(`Javascript Error: ${err.message}<br>This usually means there's a typo in your chart specification. See the javascript console for the full traceback.`));\n",
       "    }\n",
       "\n",
       "    if(typeof define === \"function\" && define.amd) {\n",
       "      requirejs.config({paths});\n",
       "      require([\"vega-embed\"], displayChart, err => showError(`Error loading script: ${err.message}`));\n",
       "    } else if (typeof vegaEmbed === \"function\") {\n",
       "      displayChart(vegaEmbed);\n",
       "    } else {\n",
       "      loadScript(\"vega\")\n",
       "        .then(() => loadScript(\"vega-lite\"))\n",
       "        .then(() => loadScript(\"vega-embed\"))\n",
       "        .catch(showError)\n",
       "        .then(() => displayChart(vegaEmbed));\n",
       "    }\n",
       "  })({\"config\": {\"view\": {\"continuousWidth\": 400, \"continuousHeight\": 300}}, \"data\": {\"name\": \"data-04a9607f32d0835121ce447f04ba1d30\"}, \"facet\": {\"column\": {\"type\": \"quantitative\", \"field\": \"k\"}}, \"spec\": {\"layer\": [{\"mark\": {\"type\": \"tick\", \"thickness\": 2, \"width\": 10, \"xOffset\": 0}, \"encoding\": {\"x\": {\"type\": \"nominal\", \"field\": \"r_name\"}, \"y\": {\"type\": \"quantitative\", \"axis\": {\"format\": \"e\", \"values\": [1e-05, 0.0001, 0.001, 0.01, 0.1]}, \"field\": \"median\", \"scale\": {\"domain\": [1e-05, 1], \"type\": \"log\"}, \"title\": \"Weights norm\"}}, \"selection\": {\"selector003\": {\"type\": \"interval\", \"bind\": \"scales\", \"encodings\": [\"y\"]}}, \"width\": 70}, {\"mark\": {\"type\": \"bar\", \"opacity\": 0.2, \"width\": 10, \"xOffset\": 0}, \"encoding\": {\"x\": {\"type\": \"nominal\", \"field\": \"r_name\"}, \"y\": {\"type\": \"quantitative\", \"field\": \"-q0\", \"title\": \"\"}, \"y2\": {\"field\": \"q0\"}}, \"width\": 70}, {\"mark\": {\"type\": \"bar\", \"opacity\": 0.2, \"width\": 10, \"xOffset\": 0}, \"encoding\": {\"x\": {\"type\": \"nominal\", \"field\": \"r_name\"}, \"y\": {\"type\": \"quantitative\", \"field\": \"-q1\", \"title\": \"\"}, \"y2\": {\"field\": \"q1\"}}, \"width\": 70}, {\"mark\": {\"type\": \"bar\", \"opacity\": 0.2, \"width\": 10, \"xOffset\": 0}, \"encoding\": {\"x\": {\"type\": \"nominal\", \"field\": \"r_name\"}, \"y\": {\"type\": \"quantitative\", \"field\": \"-q2\", \"title\": \"\"}, \"y2\": {\"field\": \"q2\"}}, \"width\": 70}, {\"mark\": {\"type\": \"bar\", \"opacity\": 0.3, \"width\": 10, \"xOffset\": 0}, \"encoding\": {\"x\": {\"type\": \"nominal\", \"field\": \"r_name\"}, \"y\": {\"type\": \"quantitative\", \"field\": \"-q3\", \"title\": \"\"}, \"y2\": {\"field\": \"q3\"}}, \"width\": 70}, {\"mark\": {\"type\": \"bar\", \"opacity\": 0.3, \"width\": 10, \"xOffset\": 0}, \"encoding\": {\"x\": {\"type\": \"nominal\", \"field\": \"r_name\"}, \"y\": {\"type\": \"quantitative\", \"field\": \"-q4\", \"title\": \"\"}, \"y2\": {\"field\": \"q4\"}}, \"width\": 70}]}, \"resolve\": {\"scale\": {\"x\": \"independent\"}}, \"$schema\": \"https://vega.github.io/schema/vega-lite/v4.8.1.json\", \"datasets\": {\"data-04a9607f32d0835121ce447f04ba1d30\": [{\"r_name\": 0, \"k\": 0, \"r\": 0, \"name\": \"k=0 r=0\", \"median\": 0.014725898392498493, \"q0\": 0.11572614498436451, \"-q0\": 0.00016226646766881407, \"q1\": 0.06967489793896675, \"-q1\": 0.0009245593682862829, \"q2\": 0.04682935122400522, \"-q2\": 0.0026596144889481366, \"q3\": 0.03231918811798091, \"-q3\": 0.005445639137178661, \"q4\": 0.022113216109573834, \"-q4\": 0.00936587573960424}, {\"r_name\": 1, \"k\": 0, \"r\": 1, \"name\": \"k=0 r=1\", \"median\": 0.022322259843349457, \"q0\": 0.1304624006152153, \"-q0\": 0.0003770059774979007, \"q1\": 0.0859026126563549, \"-q1\": 0.0019956766627728943, \"q2\": 0.061574019491672516, \"-q2\": 0.004955098731443286, \"q3\": 0.044533953070640564, \"-q3\": 0.009227476082742223, \"q4\": 0.03212648257613182, \"-q4\": 0.014979118481278423}, {\"r_name\": 2, \"k\": 0, \"r\": 2, \"name\": \"k=0 r=2\", \"median\": 0.02844275627285242, \"q0\": 0.13977840170264244, \"-q0\": 0.0006837041146354736, \"q1\": 0.09558017179369926, \"-q1\": 0.003120278241112829, \"q2\": 0.0703955851495266, \"-q2\": 0.007189214928075671, \"q3\": 0.05268733948469155, \"-q3\": 0.012608299031853678, \"q4\": 0.03926888294517993, \"-q4\": 0.019633207470178604}, {\"r_name\": 3, \"k\": 0, \"r\": 3, \"name\": \"k=0 r=3\", \"median\": 0.03391343541443348, \"q0\": 0.16671933978796005, \"-q0\": 0.0009024854225572199, \"q1\": 0.11493566632270813, \"-q1\": 0.00394399161450565, \"q2\": 0.08408357575535774, \"-q2\": 0.008739036740735173, \"q3\": 0.0628453344106674, \"-q3\": 0.015158769674599172, \"q4\": 0.046740470454096794, \"-q4\": 0.023625461384654056}, {\"r_name\": 1, \"k\": 1, \"r\": 1, \"name\": \"k=1 r=1\", \"median\": 0.020963340997695923, \"q0\": 0.2017928585410118, \"-q0\": 0.0001644017793296363, \"q1\": 0.11380834504961967, \"-q1\": 0.0009833627846091986, \"q2\": 0.07193722948431969, \"-q2\": 0.0032045774860307574, \"q3\": 0.04783434048295019, \"-q3\": 0.007148189004510642, \"q4\": 0.03228477854281664, \"-q4\": 0.01286371122114362}, {\"r_name\": 2, \"k\": 1, \"r\": 2, \"name\": \"k=1 r=2\", \"median\": 0.02837223932147026, \"q0\": 0.2412835769355297, \"-q0\": 0.0002490287006366997, \"q1\": 0.14416473358869553, \"-q1\": 0.0015191905549727385, \"q2\": 0.0928504690527916, \"-q2\": 0.004846315481700003, \"q3\": 0.06291752308607096, \"-q3\": 0.010269250720739373, \"q4\": 0.042923648841679096, \"-q4\": 0.01793793123215437}, {\"r_name\": 3, \"k\": 1, \"r\": 3, \"name\": \"k=1 r=3\", \"median\": 0.034831518307328224, \"q0\": 0.2809278517961502, \"-q0\": 0.00032053686300059737, \"q1\": 0.17102503776550293, \"-q1\": 0.002012555254623298, \"q2\": 0.11316165514290333, \"-q2\": 0.006459190044552088, \"q3\": 0.07700178027153012, \"-q3\": 0.013132242485880855, \"q4\": 0.0527591425925493, \"-q4\": 0.022152561694383642}, {\"r_name\": 1, \"k\": 2, \"r\": 1, \"name\": \"k=2 r=1\", \"median\": 0.01591437216848135, \"q0\": 0.17558643221855164, \"-q0\": 0.00010780165575852141, \"q1\": 0.0997684933245182, \"-q1\": 0.0006646310794167225, \"q2\": 0.06164428871124983, \"-q2\": 0.0022690166952088475, \"q3\": 0.03899958357214925, \"-q3\": 0.005124783143401148, \"q4\": 0.025182820390909903, \"-q4\": 0.009468556847423315}, {\"r_name\": 2, \"k\": 2, \"r\": 2, \"name\": \"k=2 r=2\", \"median\": 0.022369769401848316, \"q0\": 0.22056950256228447, \"-q0\": 0.00015969100059010072, \"q1\": 0.12681838870048523, \"-q1\": 0.0010194100905209793, \"q2\": 0.07955863140523434, \"-q2\": 0.0034539044718258083, \"q3\": 0.05201999470591534, \"-q3\": 0.007742338348180057, \"q4\": 0.03432138450443743, \"-q4\": 0.013981900643557312}, {\"r_name\": 3, \"k\": 2, \"r\": 3, \"name\": \"k=2 r=3\", \"median\": 0.02900203224271536, \"q0\": 0.28608687222003937, \"-q0\": 0.00021823766655870686, \"q1\": 0.16100450605154037, \"-q1\": 0.0014037167420610816, \"q2\": 0.10041159577667713, \"-q2\": 0.004706133855506778, \"q3\": 0.06602162122726436, \"-q3\": 0.010416778735816479, \"q4\": 0.04432538524270057, \"-q4\": 0.018155908677727}, {\"r_name\": 2, \"k\": 3, \"r\": 2, \"name\": \"k=3 r=2\", \"median\": 0.015536600723862648, \"q0\": 0.17800908535718918, \"-q0\": 0.00010390918941993725, \"q1\": 0.10114506632089615, \"-q1\": 0.0006679643702227627, \"q2\": 0.061622547917068005, \"-q2\": 0.002258490538224578, \"q3\": 0.039064593613147715, \"-q3\": 0.005053872708231215, \"q4\": 0.024847310502082096, \"-q4\": 0.009246626170352103}, {\"r_name\": 3, \"k\": 3, \"r\": 3, \"name\": \"k=3 r=3\", \"median\": 0.02177058532834053, \"q0\": 0.22643442451953888, \"-q0\": 0.0001382809859933331, \"q1\": 0.12943600118160248, \"-q1\": 0.0008850345329847189, \"q2\": 0.08064358681440353, \"-q2\": 0.0030940055730752647, \"q3\": 0.05254575237631795, \"-q3\": 0.007077587768435479, \"q4\": 0.034213639795780175, \"-q4\": 0.013032873393967755}, {\"r_name\": 2, \"k\": 4, \"r\": 2, \"name\": \"k=4 r=2\", \"median\": 0.013597948476672173, \"q0\": 0.15630610287189484, \"-q0\": 9.4568817075924e-05, \"q1\": 0.08748390898108482, \"-q1\": 0.0005899161624256524, \"q2\": 0.052939887158572674, \"-q2\": 0.0019816674175672233, \"q3\": 0.03347263485193247, \"-q3\": 0.0045188674703240395, \"q4\": 0.02136836154386401, \"-q4\": 0.008270110469311477}, {\"r_name\": 3, \"k\": 4, \"r\": 3, \"name\": \"k=4 r=3\", \"median\": 0.019150378182530403, \"q0\": 0.19606538489460945, \"-q0\": 0.0001326499950664583, \"q1\": 0.11343470960855484, \"-q1\": 0.0007899565098341565, \"q2\": 0.07218415290117264, \"-q2\": 0.0026583580765873194, \"q3\": 0.04695435985922812, \"-q3\": 0.006173814181238415, \"q4\": 0.030255155637860295, \"-q4\": 0.011426908196881413}, {\"r_name\": 2, \"k\": 5, \"r\": 2, \"name\": \"k=5 r=2\", \"median\": 0.010047527961432934, \"q0\": 0.12949709594249725, \"-q0\": 5.617693386739115e-05, \"q1\": 0.06905390322208405, \"-q1\": 0.0004090507572982461, \"q2\": 0.040190611965954304, \"-q2\": 0.0014418921200558543, \"q3\": 0.024889817461371404, \"-q3\": 0.0032831854186952123, \"q4\": 0.01594484737142918, \"-q4\": 0.006021804059855641}, {\"r_name\": 3, \"k\": 5, \"r\": 3, \"name\": \"k=5 r=3\", \"median\": 0.01350057078525424, \"q0\": 0.16128448769450188, \"-q0\": 9.569086978444807e-05, \"q1\": 0.08919389918446541, \"-q1\": 0.0005957199027761832, \"q2\": 0.05424992833286524, \"-q2\": 0.0019254528742749244, \"q3\": 0.03402031213045119, \"-q3\": 0.00438286364078522, \"q4\": 0.021427571773529046, \"-q4\": 0.008018321124836804}]}}, {\"mode\": \"vega-lite\"});\n",
       "</script>"
      ],
      "text/plain": [
       "alt.FacetChart(...)"
      ]
     },
     "execution_count": 27,
     "metadata": {},
     "output_type": "execute_result"
    }
   ],
   "source": [
    "base = base.create_radial({0:[0,1,2,3], 1:[1,2,3], 2:[1,2,3], 3:[2,3], 4:[2,3], 5:[2,3]}, max_k=5)\n",
    "W = [_ for _ in state_dict.values() if (_.ndim==3 and _.shape[-1]==len(base.kernels_label))]\n",
    "base.plot_weights_dist(W, scale_type='log', wrange=(1e-5,1))"
   ]
  },
  {
   "cell_type": "code",
   "execution_count": 24,
   "id": "oriental-ethernet",
   "metadata": {},
   "outputs": [
    {
     "data": {
      "text/html": [
       "\n",
       "<div id=\"altair-viz-634cde1bee8b4634abb52d42e295be4c\"></div>\n",
       "<script type=\"text/javascript\">\n",
       "  (function(spec, embedOpt){\n",
       "    let outputDiv = document.currentScript.previousElementSibling;\n",
       "    if (outputDiv.id !== \"altair-viz-634cde1bee8b4634abb52d42e295be4c\") {\n",
       "      outputDiv = document.getElementById(\"altair-viz-634cde1bee8b4634abb52d42e295be4c\");\n",
       "    }\n",
       "    const paths = {\n",
       "      \"vega\": \"https://cdn.jsdelivr.net/npm//vega@5?noext\",\n",
       "      \"vega-lib\": \"https://cdn.jsdelivr.net/npm//vega-lib?noext\",\n",
       "      \"vega-lite\": \"https://cdn.jsdelivr.net/npm//vega-lite@4.8.1?noext\",\n",
       "      \"vega-embed\": \"https://cdn.jsdelivr.net/npm//vega-embed@6?noext\",\n",
       "    };\n",
       "\n",
       "    function loadScript(lib) {\n",
       "      return new Promise(function(resolve, reject) {\n",
       "        var s = document.createElement('script');\n",
       "        s.src = paths[lib];\n",
       "        s.async = true;\n",
       "        s.onload = () => resolve(paths[lib]);\n",
       "        s.onerror = () => reject(`Error loading script: ${paths[lib]}`);\n",
       "        document.getElementsByTagName(\"head\")[0].appendChild(s);\n",
       "      });\n",
       "    }\n",
       "\n",
       "    function showError(err) {\n",
       "      outputDiv.innerHTML = `<div class=\"error\" style=\"color:red;\">${err}</div>`;\n",
       "      throw err;\n",
       "    }\n",
       "\n",
       "    function displayChart(vegaEmbed) {\n",
       "      vegaEmbed(outputDiv, spec, embedOpt)\n",
       "        .catch(err => showError(`Javascript Error: ${err.message}<br>This usually means there's a typo in your chart specification. See the javascript console for the full traceback.`));\n",
       "    }\n",
       "\n",
       "    if(typeof define === \"function\" && define.amd) {\n",
       "      requirejs.config({paths});\n",
       "      require([\"vega-embed\"], displayChart, err => showError(`Error loading script: ${err.message}`));\n",
       "    } else if (typeof vegaEmbed === \"function\") {\n",
       "      displayChart(vegaEmbed);\n",
       "    } else {\n",
       "      loadScript(\"vega\")\n",
       "        .then(() => loadScript(\"vega-lite\"))\n",
       "        .then(() => loadScript(\"vega-embed\"))\n",
       "        .catch(showError)\n",
       "        .then(() => displayChart(vegaEmbed));\n",
       "    }\n",
       "  })({\"config\": {\"view\": {\"continuousWidth\": 400, \"continuousHeight\": 300}}, \"data\": {\"name\": \"data-7dbed2e87f243a244bff457a9fc45aba\"}, \"facet\": {\"column\": {\"type\": \"quantitative\", \"field\": \"k\"}}, \"spec\": {\"layer\": [{\"mark\": {\"type\": \"tick\", \"thickness\": 2, \"width\": 10, \"xOffset\": 0}, \"encoding\": {\"x\": {\"type\": \"nominal\", \"field\": \"r_name\"}, \"y\": {\"type\": \"quantitative\", \"axis\": {\"format\": \"e\", \"values\": [0.001, 0.01]}, \"field\": \"median\", \"scale\": {\"domain\": [0.001, 0.1], \"type\": \"log\"}, \"title\": \"Weights norm\"}}, \"selection\": {\"selector002\": {\"type\": \"interval\", \"bind\": \"scales\", \"encodings\": [\"y\"]}}, \"width\": 70}, {\"mark\": {\"type\": \"bar\", \"opacity\": 0.2, \"width\": 10, \"xOffset\": 0}, \"encoding\": {\"x\": {\"type\": \"nominal\", \"field\": \"r_name\"}, \"y\": {\"type\": \"quantitative\", \"field\": \"-q0\", \"title\": \"\"}, \"y2\": {\"field\": \"q0\"}}, \"width\": 70}, {\"mark\": {\"type\": \"bar\", \"opacity\": 0.2, \"width\": 10, \"xOffset\": 0}, \"encoding\": {\"x\": {\"type\": \"nominal\", \"field\": \"r_name\"}, \"y\": {\"type\": \"quantitative\", \"field\": \"-q1\", \"title\": \"\"}, \"y2\": {\"field\": \"q1\"}}, \"width\": 70}, {\"mark\": {\"type\": \"bar\", \"opacity\": 0.2, \"width\": 10, \"xOffset\": 0}, \"encoding\": {\"x\": {\"type\": \"nominal\", \"field\": \"r_name\"}, \"y\": {\"type\": \"quantitative\", \"field\": \"-q2\", \"title\": \"\"}, \"y2\": {\"field\": \"q2\"}}, \"width\": 70}, {\"mark\": {\"type\": \"bar\", \"opacity\": 0.3, \"width\": 10, \"xOffset\": 0}, \"encoding\": {\"x\": {\"type\": \"nominal\", \"field\": \"r_name\"}, \"y\": {\"type\": \"quantitative\", \"field\": \"-q3\", \"title\": \"\"}, \"y2\": {\"field\": \"q3\"}}, \"width\": 70}, {\"mark\": {\"type\": \"bar\", \"opacity\": 0.3, \"width\": 10, \"xOffset\": 0}, \"encoding\": {\"x\": {\"type\": \"nominal\", \"field\": \"r_name\"}, \"y\": {\"type\": \"quantitative\", \"field\": \"-q4\", \"title\": \"\"}, \"y2\": {\"field\": \"q4\"}}, \"width\": 70}]}, \"resolve\": {\"scale\": {\"x\": \"independent\"}}, \"$schema\": \"https://vega.github.io/schema/vega-lite/v4.8.1.json\", \"datasets\": {\"data-7dbed2e87f243a244bff457a9fc45aba\": [{\"r_name\": 0, \"k\": 0, \"r\": 0, \"name\": \"k=0 r=0\", \"median\": 0.023890741169452667, \"q0\": 0.06122425695260368, \"-q0\": 0.003678997280076146, \"q1\": 0.04896037839353084, \"-q1\": 0.007307557854801422, \"q2\": 0.04073538817465305, \"-q2\": 0.011037491261959076, \"q3\": 0.03412565588951111, \"-q3\": 0.015163222638269268, \"q4\": 0.028714072114477556, \"-q4\": 0.019337126364310588}, {\"r_name\": 1, \"k\": 0, \"r\": 1, \"name\": \"k=0 r=1\", \"median\": 0.023669413290917873, \"q0\": 0.06151849652330081, \"-q0\": 0.0036326796786549133, \"q1\": 0.048714529722929, \"-q1\": 0.007323880990346275, \"q2\": 0.04050802253186703, \"-q2\": 0.011169474571943283, \"q3\": 0.03402401010195413, \"-q3\": 0.015105069304505989, \"q4\": 0.02860070082048575, \"-q4\": 0.019265592563897375}, {\"r_name\": 2, \"k\": 0, \"r\": 2, \"name\": \"k=0 r=2\", \"median\": 0.023879692889750004, \"q0\": 0.061402801424264915, \"-q0\": 0.0037577343561376124, \"q1\": 0.048741278549035386, \"-q1\": 0.007435735625525323, \"q2\": 0.04068121500313282, \"-q2\": 0.011184122413396835, \"q3\": 0.0342580936849117, \"-q3\": 0.015136260228852432, \"q4\": 0.02872603107243774, \"-q4\": 0.01941798549766343}, {\"r_name\": 3, \"k\": 0, \"r\": 3, \"name\": \"k=0 r=3\", \"median\": 0.02409240324050188, \"q0\": 0.06139489449560645, \"-q0\": 0.003729534063798684, \"q1\": 0.0489364763100942, \"-q1\": 0.007560916865865391, \"q2\": 0.04064639285206795, \"-q2\": 0.011354146059602499, \"q3\": 0.034407404561837496, \"-q3\": 0.015366109088063244, \"q4\": 0.028914137588193015, \"-q4\": 0.019621715880930427}, {\"r_name\": 1, \"k\": 1, \"r\": 1, \"name\": \"k=1 r=1\", \"median\": 0.03381715901196003, \"q0\": 0.08648957870900631, \"-q0\": 0.00522112015945216, \"q1\": 0.06933839494983354, \"-q1\": 0.01050801808014512, \"q2\": 0.05755085591226816, \"-q2\": 0.01598368166014552, \"q3\": 0.04844221969445546, \"-q3\": 0.021496556078394253, \"q4\": 0.04068862398465474, \"-q4\": 0.027401712412635497}, {\"r_name\": 2, \"k\": 1, \"r\": 2, \"name\": \"k=1 r=2\", \"median\": 0.03373817354440689, \"q0\": 0.08679189346730712, \"-q0\": 0.005274792900308967, \"q1\": 0.06905111422141393, \"-q1\": 0.010546394313375156, \"q2\": 0.05764202959835529, \"-q2\": 0.015711865853518248, \"q3\": 0.0485105775296688, \"-q3\": 0.021428383265932407, \"q4\": 0.04053710680454969, \"-q4\": 0.027377362518260884}, {\"r_name\": 3, \"k\": 1, \"r\": 3, \"name\": \"k=1 r=3\", \"median\": 0.03383081778883934, \"q0\": 0.08683946107824647, \"-q0\": 0.00530007966638853, \"q1\": 0.06919927522540091, \"-q1\": 0.010596041722844047, \"q2\": 0.05747964885085821, \"-q2\": 0.015882118605077267, \"q3\": 0.048627740393082264, \"-q3\": 0.021542365352312725, \"q4\": 0.04075553019841512, \"-q4\": 0.027557311890025936}, {\"r_name\": 1, \"k\": 2, \"r\": 1, \"name\": \"k=2 r=1\", \"median\": 0.03361009061336517, \"q0\": 0.08667492059369888, \"-q0\": 0.005207390446836746, \"q1\": 0.06926030541459718, \"-q1\": 0.010501625637213389, \"q2\": 0.057666921988129616, \"-q2\": 0.015773512423038483, \"q3\": 0.04845511913299559, \"-q3\": 0.021325961997111644, \"q4\": 0.04050259416302045, \"-q4\": 0.02726804666842024}, {\"r_name\": 2, \"k\": 2, \"r\": 2, \"name\": \"k=2 r=2\", \"median\": 0.03370666690170765, \"q0\": 0.08621969322363542, \"-q0\": 0.005147839391914506, \"q1\": 0.06891338278849915, \"-q1\": 0.01046793240432938, \"q2\": 0.057151480577886105, \"-q2\": 0.0159197305329144, \"q3\": 0.04808094600836435, \"-q3\": 0.021465831125775978, \"q4\": 0.040421305534740284, \"-q4\": 0.027456877908358983}, {\"r_name\": 3, \"k\": 2, \"r\": 3, \"name\": \"k=2 r=3\", \"median\": 0.03361894004046917, \"q0\": 0.08607865373293559, \"-q0\": 0.005166518036276101, \"q1\": 0.06886028746763864, \"-q1\": 0.010516661684960132, \"q2\": 0.05714286211878061, \"-q2\": 0.016064301133155823, \"q3\": 0.04804372787475583, \"-q3\": 0.02149477911492189, \"q4\": 0.04054714553058147, \"-q4\": 0.027341867331415415}, {\"r_name\": 2, \"k\": 3, \"r\": 2, \"name\": \"k=3 r=2\", \"median\": 0.03368631191551685, \"q0\": 0.0865059283872446, \"-q0\": 0.0052886880779018, \"q1\": 0.06901887059211731, \"-q1\": 0.01056969181324045, \"q2\": 0.05739231966435909, \"-q2\": 0.015991905704140663, \"q3\": 0.0482270109156767, \"-q3\": 0.021617486452062927, \"q4\": 0.04051585588604212, \"-q4\": 0.027385352489848934}, {\"r_name\": 3, \"k\": 3, \"r\": 3, \"name\": \"k=3 r=3\", \"median\": 0.03334997594356537, \"q0\": 0.08626617429157099, \"-q0\": 0.00520118345351268, \"q1\": 0.06893160194158554, \"-q1\": 0.010385178650418918, \"q2\": 0.05702495574951172, \"-q2\": 0.01581995887681842, \"q3\": 0.047924533486366196, \"-q3\": 0.021252224842707314, \"q4\": 0.04025997407734394, \"-q4\": 0.027152356691658525}, {\"r_name\": 2, \"k\": 4, \"r\": 2, \"name\": \"k=4 r=2\", \"median\": 0.03365073725581169, \"q0\": 0.08680103284617266, \"-q0\": 0.005185684228005508, \"q1\": 0.06921803951263426, \"-q1\": 0.010529446415603163, \"q2\": 0.057337419129908085, \"-q2\": 0.015753797721117735, \"q3\": 0.04824280117948848, \"-q3\": 0.021341340616345413, \"q4\": 0.04054997644076744, \"-q4\": 0.027263090480119007}, {\"r_name\": 3, \"k\": 4, \"r\": 3, \"name\": \"k=4 r=3\", \"median\": 0.033704280853271484, \"q0\": 0.08692018873989585, \"-q0\": 0.005250449447582165, \"q1\": 0.06918306648731232, \"-q1\": 0.010633472818881273, \"q2\": 0.05741541739553213, \"-q2\": 0.01604586746543646, \"q3\": 0.048296418040990795, \"-q3\": 0.021590191250046097, \"q4\": 0.04059977270662784, \"-q4\": 0.027516642119735486}, {\"r_name\": 2, \"k\": 5, \"r\": 2, \"name\": \"k=5 r=2\", \"median\": 0.03373976796865463, \"q0\": 0.08685319808622202, \"-q0\": 0.005175871774554246, \"q1\": 0.06935194258888562, \"-q1\": 0.01040306842575471, \"q2\": 0.05769592337310314, \"-q2\": 0.015821270644664764, \"q3\": 0.048544228076934814, \"-q3\": 0.021474129830797516, \"q4\": 0.040720314097901174, \"-q4\": 0.027333518024533994}, {\"r_name\": 3, \"k\": 5, \"r\": 3, \"name\": \"k=5 r=3\", \"median\": 0.03418770059943199, \"q0\": 0.0864330306649208, \"-q0\": 0.005316859460435808, \"q1\": 0.0695772183438142, \"-q1\": 0.010772506706416609, \"q2\": 0.05803288705646992, \"-q2\": 0.016217670869082212, \"q3\": 0.048689446101585994, \"-q3\": 0.021898716688156128, \"q4\": 0.041172126618524395, \"-q4\": 0.02788822709893187}]}}, {\"mode\": \"vega-lite\"});\n",
       "</script>"
      ],
      "text/plain": [
       "alt.FacetChart(...)"
      ]
     },
     "execution_count": 24,
     "metadata": {},
     "output_type": "execute_result"
    }
   ],
   "source": [
    "base.plot_weights_dist(base.init_weights(100,500),  scale_type='log', wrange=(1e-3,1e-1))"
   ]
  },
  {
   "cell_type": "code",
   "execution_count": null,
   "id": "systematic-planet",
   "metadata": {},
   "outputs": [],
   "source": []
  },
  {
   "cell_type": "code",
   "execution_count": 15,
   "id": "developmental-background",
   "metadata": {},
   "outputs": [
    {
     "data": {
      "text/plain": [
       "21"
      ]
     },
     "execution_count": 15,
     "metadata": {},
     "output_type": "execute_result"
    }
   ],
   "source": []
  },
  {
   "cell_type": "code",
   "execution_count": 18,
   "id": "narrow-runner",
   "metadata": {},
   "outputs": [
    {
     "data": {
      "text/plain": [
       "28"
      ]
     },
     "execution_count": 18,
     "metadata": {},
     "output_type": "execute_result"
    }
   ],
   "source": [
    "base = base.create_radial({0:[0,1,2,3], 1:[1,2,3], 2:[1,2,3], 3:[2,3], 4:[2,3], 5:[2,3]}, max_k=5)\n",
    "len(base.kernels_label)"
   ]
  },
  {
   "cell_type": "markdown",
   "id": "together-mustang",
   "metadata": {},
   "source": [
    "## Gradient Analysis"
   ]
  },
  {
   "cell_type": "code",
   "execution_count": null,
   "id": "liked-eugene",
   "metadata": {},
   "outputs": [],
   "source": [
    "trainD, validD, testD = load_dataset(cfg)"
   ]
  },
  {
   "cell_type": "code",
   "execution_count": null,
   "id": "powerful-emperor",
   "metadata": {},
   "outputs": [],
   "source": [
    "net.train()\n",
    "net.zero_grad()\n",
    "for batch in trainD:\n",
    "    batch_cuda = {k: v.cuda() for k, v in batch.items()}\n",
    "    loss = net.training_step(batch_cuda, 0)\n",
    "    loss.backward()\n",
    "    break"
   ]
  },
  {
   "cell_type": "code",
   "execution_count": null,
   "id": "final-letters",
   "metadata": {},
   "outputs": [],
   "source": [
    "weights_grad = [w.grad for w in weights]\n",
    "base.plot_weights_dist(weights_grad, scale_type='log', wrange=(1e-10, 1e-4))"
   ]
  },
  {
   "cell_type": "code",
   "execution_count": null,
   "id": "northern-background",
   "metadata": {},
   "outputs": [],
   "source": [
    "base.plot_weights_hist(weights_grad, complex='norm', wrange=(1e-11, 1e-2), binspace='log')"
   ]
  }
 ],
 "metadata": {
  "kernelspec": {
   "display_name": "Python 3",
   "language": "python",
   "name": "python3"
  },
  "language_info": {
   "codemirror_mode": {
    "name": "ipython",
    "version": 3
   },
   "file_extension": ".py",
   "mimetype": "text/x-python",
   "name": "python",
   "nbconvert_exporter": "python",
   "pygments_lexer": "ipython3",
   "version": "3.7.11"
  }
 },
 "nbformat": 4,
 "nbformat_minor": 5
}
