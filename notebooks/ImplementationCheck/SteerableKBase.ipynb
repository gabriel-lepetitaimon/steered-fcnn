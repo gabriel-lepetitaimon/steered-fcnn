{
 "cells": [
  {
   "cell_type": "markdown",
   "id": "passing-permit",
   "metadata": {},
   "source": [
    "#### includes"
   ]
  },
  {
   "cell_type": "code",
   "execution_count": 1,
   "id": "fifteen-plastic",
   "metadata": {},
   "outputs": [],
   "source": [
    "%load_ext autoreload\n",
    "%autoreload 2"
   ]
  },
  {
   "cell_type": "code",
   "execution_count": 2,
   "id": "brave-scholar",
   "metadata": {},
   "outputs": [],
   "source": [
    "import numpy as np\n",
    "import pandas as pd\n",
    "from matplotlib import pyplot as plt\n",
    "import mlflow\n",
    "import pytorch_lightning as pl\n",
    "from pytorch_lightning.utilities.cloud_io import load as pl_load\n",
    "import torch\n",
    "import sys\n",
    "\n",
    "plt.rcParams[\"figure.figsize\"] = (18, 5)"
   ]
  },
  {
   "cell_type": "code",
   "execution_count": 3,
   "id": "quality-notion",
   "metadata": {},
   "outputs": [],
   "source": [
    "import sources\n",
    "from steered_cnn.utils.rotequivariance_toolbox import *\n",
    "from steered_cnn.steered_conv.steerable_filters import radial_steerable_filter, plot_filter\n",
    "from steered_cnn.utils.clip_pad import clip_pad_center\n",
    "from steered_cnn.steered_conv import SteerableKernelBase\n",
    "from src.trainer import Binary2DSegmentation\n",
    "from sources import load_dataset, parse_config, setup_model"
   ]
  },
  {
   "cell_type": "markdown",
   "id": "going-illinois",
   "metadata": {},
   "source": [
    "### Cos Sin Combination Test"
   ]
  },
  {
   "cell_type": "code",
   "execution_count": 4,
   "id": "british-stream",
   "metadata": {},
   "outputs": [],
   "source": [
    "alpha = torch.linspace(0, 2*np.pi, 4)\n",
    "k_max = 5\n",
    "kalpha = torch.stack([k*alpha for k in range(1,k_max+1)])\n",
    "true_cos_sin_kalpha = torch.stack([torch.cos(kalpha), torch.sin(kalpha)])"
   ]
  },
  {
   "cell_type": "code",
   "execution_count": 5,
   "id": "relevant-cooper",
   "metadata": {},
   "outputs": [
    {
     "name": "stdout",
     "output_type": "stream",
     "text": [
      "Average Diff:\n"
     ]
    },
    {
     "data": {
      "text/html": [
       "<div>\n",
       "<style scoped>\n",
       "    .dataframe tbody tr th:only-of-type {\n",
       "        vertical-align: middle;\n",
       "    }\n",
       "\n",
       "    .dataframe tbody tr th {\n",
       "        vertical-align: top;\n",
       "    }\n",
       "\n",
       "    .dataframe thead th {\n",
       "        text-align: right;\n",
       "    }\n",
       "</style>\n",
       "<table border=\"1\" class=\"dataframe\">\n",
       "  <thead>\n",
       "    <tr style=\"text-align: right;\">\n",
       "      <th></th>\n",
       "      <th>cos fast</th>\n",
       "      <th>cos diff</th>\n",
       "      <th>cos true</th>\n",
       "      <th>sin fast</th>\n",
       "      <th>sin diff</th>\n",
       "      <th>sin true</th>\n",
       "    </tr>\n",
       "  </thead>\n",
       "  <tbody>\n",
       "    <tr>\n",
       "      <th>1</th>\n",
       "      <td>-0.5</td>\n",
       "      <td>0.000000e+00</td>\n",
       "      <td>-0.5</td>\n",
       "      <td>8.660254e-01</td>\n",
       "      <td>0.000000e+00</td>\n",
       "      <td>8.660254e-01</td>\n",
       "    </tr>\n",
       "    <tr>\n",
       "      <th>2</th>\n",
       "      <td>-0.5</td>\n",
       "      <td>2.235174e-08</td>\n",
       "      <td>-0.5</td>\n",
       "      <td>-8.660255e-01</td>\n",
       "      <td>1.490116e-08</td>\n",
       "      <td>-8.660254e-01</td>\n",
       "    </tr>\n",
       "    <tr>\n",
       "      <th>3</th>\n",
       "      <td>1.0</td>\n",
       "      <td>1.490116e-08</td>\n",
       "      <td>1.0</td>\n",
       "      <td>1.788139e-07</td>\n",
       "      <td>1.405689e-07</td>\n",
       "      <td>1.748456e-07</td>\n",
       "    </tr>\n",
       "    <tr>\n",
       "      <th>4</th>\n",
       "      <td>-0.5</td>\n",
       "      <td>2.235174e-08</td>\n",
       "      <td>-0.5</td>\n",
       "      <td>8.660253e-01</td>\n",
       "      <td>2.980232e-08</td>\n",
       "      <td>8.660253e-01</td>\n",
       "    </tr>\n",
       "    <tr>\n",
       "      <th>5</th>\n",
       "      <td>-0.5</td>\n",
       "      <td>2.831221e-07</td>\n",
       "      <td>-0.5</td>\n",
       "      <td>-8.660256e-01</td>\n",
       "      <td>2.980232e-07</td>\n",
       "      <td>-8.660253e-01</td>\n",
       "    </tr>\n",
       "  </tbody>\n",
       "</table>\n",
       "</div>"
      ],
      "text/plain": [
       "   cos fast      cos diff  cos true      sin fast      sin diff      sin true\n",
       "1      -0.5  0.000000e+00      -0.5  8.660254e-01  0.000000e+00  8.660254e-01\n",
       "2      -0.5  2.235174e-08      -0.5 -8.660255e-01  1.490116e-08 -8.660254e-01\n",
       "3       1.0  1.490116e-08       1.0  1.788139e-07  1.405689e-07  1.748456e-07\n",
       "4      -0.5  2.235174e-08      -0.5  8.660253e-01  2.980232e-08  8.660253e-01\n",
       "5      -0.5  2.831221e-07      -0.5 -8.660256e-01  2.980232e-07 -8.660253e-01"
      ]
     },
     "execution_count": 5,
     "metadata": {},
     "output_type": "execute_result"
    }
   ],
   "source": [
    "from steered_cnn.steered_conv.steerable_filters import cos_sin_ka, cos_sin_ka_stack\n",
    "fast_cos_sin_kalpha = cos_sin_ka_stack(torch.cos(alpha), torch.sin(alpha), k_max)\n",
    "diff = true_cos_sin_kalpha-fast_cos_sin_kalpha\n",
    "print('Average Diff:')\n",
    "pd.DataFrame({'cos fast':fast_cos_sin_kalpha[0,:,1], 'cos diff':abs(diff[0]).mean(-1), 'cos true':true_cos_sin_kalpha[0,:,1],\n",
    "              'sin fast': fast_cos_sin_kalpha[1,:,1], 'sin diff': abs(diff[1]).mean(-1), 'sin true':true_cos_sin_kalpha[1,:,1]},\n",
    "             index=list(range(1,k_max+1)))"
   ]
  },
  {
   "cell_type": "markdown",
   "id": "pending-criterion",
   "metadata": {},
   "source": [
    "**Not Unary cos sin**"
   ]
  },
  {
   "cell_type": "code",
   "execution_count": 6,
   "id": "educated-korea",
   "metadata": {},
   "outputs": [
    {
     "name": "stdout",
     "output_type": "stream",
     "text": [
      "Average Diff:\n"
     ]
    },
    {
     "data": {
      "text/html": [
       "<div>\n",
       "<style scoped>\n",
       "    .dataframe tbody tr th:only-of-type {\n",
       "        vertical-align: middle;\n",
       "    }\n",
       "\n",
       "    .dataframe tbody tr th {\n",
       "        vertical-align: top;\n",
       "    }\n",
       "\n",
       "    .dataframe thead th {\n",
       "        text-align: right;\n",
       "    }\n",
       "</style>\n",
       "<table border=\"1\" class=\"dataframe\">\n",
       "  <thead>\n",
       "    <tr style=\"text-align: right;\">\n",
       "      <th></th>\n",
       "      <th>cos fast</th>\n",
       "      <th>cos diff</th>\n",
       "      <th>cos true</th>\n",
       "      <th>sin fast</th>\n",
       "      <th>sin diff</th>\n",
       "      <th>sin true</th>\n",
       "    </tr>\n",
       "  </thead>\n",
       "  <tbody>\n",
       "    <tr>\n",
       "      <th>1</th>\n",
       "      <td>-1.500000</td>\n",
       "      <td>0.0</td>\n",
       "      <td>-1.5</td>\n",
       "      <td>2.598076</td>\n",
       "      <td>0.000000</td>\n",
       "      <td>2.598076e+00</td>\n",
       "    </tr>\n",
       "    <tr>\n",
       "      <th>2</th>\n",
       "      <td>-4.499999</td>\n",
       "      <td>4.5</td>\n",
       "      <td>-1.5</td>\n",
       "      <td>-7.794230</td>\n",
       "      <td>2.598077</td>\n",
       "      <td>-2.598076e+00</td>\n",
       "    </tr>\n",
       "    <tr>\n",
       "      <th>3</th>\n",
       "      <td>27.000002</td>\n",
       "      <td>24.0</td>\n",
       "      <td>3.0</td>\n",
       "      <td>0.000006</td>\n",
       "      <td>0.000006</td>\n",
       "      <td>5.245366e-07</td>\n",
       "    </tr>\n",
       "    <tr>\n",
       "      <th>4</th>\n",
       "      <td>-40.500023</td>\n",
       "      <td>58.5</td>\n",
       "      <td>-1.5</td>\n",
       "      <td>70.148048</td>\n",
       "      <td>33.775005</td>\n",
       "      <td>2.598076e+00</td>\n",
       "    </tr>\n",
       "    <tr>\n",
       "      <th>5</th>\n",
       "      <td>-121.499924</td>\n",
       "      <td>180.0</td>\n",
       "      <td>-1.5</td>\n",
       "      <td>-210.444244</td>\n",
       "      <td>103.923096</td>\n",
       "      <td>-2.598076e+00</td>\n",
       "    </tr>\n",
       "  </tbody>\n",
       "</table>\n",
       "</div>"
      ],
      "text/plain": [
       "     cos fast  cos diff  cos true    sin fast    sin diff      sin true\n",
       "1   -1.500000       0.0      -1.5    2.598076    0.000000  2.598076e+00\n",
       "2   -4.499999       4.5      -1.5   -7.794230    2.598077 -2.598076e+00\n",
       "3   27.000002      24.0       3.0    0.000006    0.000006  5.245366e-07\n",
       "4  -40.500023      58.5      -1.5   70.148048   33.775005  2.598076e+00\n",
       "5 -121.499924     180.0      -1.5 -210.444244  103.923096 -2.598076e+00"
      ]
     },
     "execution_count": 6,
     "metadata": {},
     "output_type": "execute_result"
    }
   ],
   "source": [
    "a = 3\n",
    "\n",
    "fast_cos_sin_kalpha = cos_sin_ka_stack(torch.cos(alpha)*a, torch.sin(alpha)*a, k_max)\n",
    "diff = true_cos_sin_kalpha*a-fast_cos_sin_kalpha\n",
    "print('Average Diff:')\n",
    "pd.DataFrame({'cos fast':fast_cos_sin_kalpha[0,:,1], 'cos diff':abs(diff[0]).mean(-1), 'cos true':true_cos_sin_kalpha[0,:,1]*a,\n",
    "              'sin fast': fast_cos_sin_kalpha[1,:,1], 'sin diff': abs(diff[1]).mean(-1), 'sin true':true_cos_sin_kalpha[1,:,1]*a},\n",
    "             index=list(range(1,k_max+1)))"
   ]
  },
  {
   "cell_type": "markdown",
   "id": "prescribed-thong",
   "metadata": {},
   "source": [
    "### Steerable Test"
   ]
  },
  {
   "cell_type": "code",
   "execution_count": 7,
   "id": "specific-morocco",
   "metadata": {
    "tags": []
   },
   "outputs": [
    {
     "name": "stdout",
     "output_type": "stream",
     "text": [
      "mse:0.009, r2:0.926\n",
      "tensor([[[     0.000,     -0.000,      0.000,      0.596,      1.651,\n",
      "               0.000,      0.000,      0.207,     -0.485,     -0.000,\n",
      "               0.000,     -0.558,      0.000,      0.342,      0.000,\n",
      "               0.596,      1.651,     -0.000,      0.000,     -0.207,\n",
      "               0.485,      0.000,     -0.000,     -0.558,     -0.000,\n",
      "              -0.342,      0.000]]])\n"
     ]
    }
   ],
   "source": [
    "N = 5\n",
    "base = SteerableKernelBase.create_radial(N, std=.5)\n",
    "x = torch.linspace(-2,2,N)\n",
    "x,y = torch.meshgrid(x,x)\n",
    "K = (x+y)/4\n",
    "K = K[None,None]\n",
    "K = clip_pad_center(K, base.base.shape)\n",
    "\n",
    "info = {}\n",
    "\n",
    "W = base.approximate_weights(K, info)\n",
    "print(f'mse:{info[\"mse\"]:.3f}, r2:{info[\"r2\"]:.3f}')\n",
    "\n",
    "torch.set_printoptions(precision=3, sci_mode=False)\n",
    "print(W)"
   ]
  },
  {
   "cell_type": "markdown",
   "id": "plastic-gibraltar",
   "metadata": {},
   "source": [
    "**Checking weight approximation**"
   ]
  },
  {
   "cell_type": "code",
   "execution_count": 8,
   "id": "mature-welcome",
   "metadata": {
    "tags": []
   },
   "outputs": [
    {
     "name": "stdout",
     "output_type": "stream",
     "text": [
      "mse:0.009, r2:0.926\n"
     ]
    },
    {
     "data": {
      "image/png": "[encoded data removed]",
      "text/plain": [
       "<Figure size 1296x360 with 2 Axes>"
      ]
     },
     "metadata": {
      "needs_background": "light"
     },
     "output_type": "display_data"
    },
    {
     "data": {
      "image/png": "[encoded data removed]",
      "text/plain": [
       "<Figure size 1296x360 with 2 Axes>"
      ]
     },
     "metadata": {
      "needs_background": "light"
     },
     "output_type": "display_data"
    }
   ],
   "source": [
    "plot_filter(K[0,0], spd=True)\n",
    "plot_filter(info['y_approx'][0,0], spd=True)\n",
    "print(f'mse:{info[\"mse\"]:.3f}, r2:{info[\"r2\"]:.3f}')\n"
   ]
  },
  {
   "cell_type": "markdown",
   "id": "amazing-token",
   "metadata": {},
   "source": [
    "**Checking filter rotation for different steer angle $\\alpha$**"
   ]
  },
  {
   "cell_type": "code",
   "execution_count": 9,
   "id": "funny-sociology",
   "metadata": {},
   "outputs": [
    {
     "data": {
      "image/png": "[encoded data removed]",
      "text/plain": [
       "<Figure size 1296x360 with 5 Axes>"
      ]
     },
     "metadata": {
      "needs_background": "light"
     },
     "output_type": "display_data"
    }
   ],
   "source": [
    "N = 4\n",
    "\n",
    "I = torch.zeros((1,1,7,7))\n",
    "I[:,:,3,3] = 1\n",
    "fig, axs = plt.subplots(1,N+1)\n",
    "\n",
    "alphas = np.linspace(0, np.pi, N+1, endpoint=True)\n",
    "for i in range(N+1):\n",
    "    plot_filter(base.conv2d(I,W, alpha=alphas[i])[0,0], plot=axs[i], vmax=1)\n",
    "    axs[i].set_title(f'$\\\\alpha = {repr_pi_fraction(i,N)}$')"
   ]
  },
  {
   "cell_type": "markdown",
   "id": "major-barcelona",
   "metadata": {},
   "source": [
    "**Checking filter rotation for not unitary attention vector $\\alpha$**"
   ]
  },
  {
   "cell_type": "code",
   "execution_count": 10,
   "id": "defined-lancaster",
   "metadata": {},
   "outputs": [
    {
     "data": {
      "image/png": "[encoded data removed]",
      "text/plain": [
       "<Figure size 1296x360 with 5 Axes>"
      ]
     },
     "metadata": {
      "needs_background": "light"
     },
     "output_type": "display_data"
    }
   ],
   "source": [
    "N = 4; a=3\n",
    "\n",
    "I = torch.zeros((1,1,7,7))\n",
    "I[:,:,3,3] = 1\n",
    "fig, axs = plt.subplots(1,N+1)\n",
    "alphas = np.linspace(0, np.pi, N+1, endpoint=True)[:, None, None, None, None]\n",
    "alphas = a*torch.from_numpy(np.stack([np.cos(alphas), np.sin(alphas)], axis=1)).float()\n",
    "for i in range(N+1):\n",
    "    plot_filter(base.conv2d(I,W, alpha=alphas[i], rho=None)[0,0], plot=axs[i], vmax=a)\n",
    "    axs[i].set_title(f'$\\\\alpha = {repr_pi_fraction(i,N)}$')"
   ]
  },
  {
   "cell_type": "markdown",
   "id": "brief-boards",
   "metadata": {},
   "source": [
    "**Checking filter rotation for image orientation**"
   ]
  },
  {
   "cell_type": "code",
   "execution_count": 11,
   "id": "dimensional-wyoming",
   "metadata": {},
   "outputs": [
    {
     "data": {
      "image/png": "[encoded data removed]",
      "text/plain": [
       "<Figure size 1296x360 with 8 Axes>"
      ]
     },
     "metadata": {
      "needs_background": "light"
     },
     "output_type": "display_data"
    }
   ],
   "source": [
    "I0 = torch.zeros((1,1,7,7)); I0[:,:,1:4,3] = 1\n",
    "I1 = torch.zeros((1,1,7,7));I1[:,:,3,1:4] = 1\n",
    "I2 = torch.zeros((1,1,7,7));I2[:,:,3:6,3] = 1\n",
    "I3 = torch.zeros((1,1,7,7));I3[:,:,3,3:6] = 1\n",
    "I = [I0, I1, I2, I3]\n",
    "\n",
    "fig, axs = plt.subplots(2,4)\n",
    "alphas = np.linspace(0, 2*np.pi, 5, endpoint=True)[1:]\n",
    "for i in range(4):\n",
    "    plot_filter(I[i][0,0], plot=axs[0][i])\n",
    "    plot_filter(base.conv2d(I[i],W, alpha=alphas[i]-(np.pi/4))[0,0], plot=axs[1][i])\n",
    "    axs[0][i].set_title(f'$\\\\alpha = {repr_pi_fraction(i,2)}$')"
   ]
  },
  {
   "cell_type": "markdown",
   "id": "about-armstrong",
   "metadata": {},
   "source": [
    "**Resampling Artefact on Diamond**"
   ]
  },
  {
   "cell_type": "code",
   "execution_count": 12,
   "id": "outside-taxation",
   "metadata": {},
   "outputs": [
    {
     "data": {
      "image/png": "[encoded data removed]",
      "text/plain": [
       "<Figure size 1296x360 with 1 Axes>"
      ]
     },
     "metadata": {
      "needs_background": "light"
     },
     "output_type": "display_data"
    }
   ],
   "source": [
    "N = 12\n",
    "alphas = -np.linspace(0, 2*np.pi, N, endpoint=False)\n",
    "rotated_I = unrotate(torch.stack([base.conv2d(torch.stack(I)[:,0],W, alpha=alphas[i])[0] for i in range(N)]).detach().numpy())\n",
    "_ = spectral_power(rotated_I,plot=True)"
   ]
  },
  {
   "cell_type": "code",
   "execution_count": null,
   "id": "chief-mississippi",
   "metadata": {},
   "outputs": [],
   "source": []
  },
  {
   "cell_type": "markdown",
   "id": "adapted-delaware",
   "metadata": {},
   "source": [
    "**Resampling Artefact on Noise**"
   ]
  },
  {
   "cell_type": "code",
   "execution_count": 13,
   "id": "french-drunk",
   "metadata": {},
   "outputs": [],
   "source": [
    "THETA = 12\n",
    "thetas = np.linspace(0, 360, THETA, endpoint=False)\n",
    "alphas = -torch.from_numpy(thetas)[:,None,None,None].float()*np.pi/180\n",
    "cos_sin_alphas = torch.stack((torch.cos(alphas), torch.sin(alphas)))\n",
    "\n",
    "I_n = clip_pad_center(torch.from_numpy(rotate(np.random.rand(3,120,120), thetas[1:])).float(), (256,256))"
   ]
  },
  {
   "cell_type": "code",
   "execution_count": null,
   "id": "bearing-advocate",
   "metadata": {},
   "outputs": [],
   "source": [
    "min_spe0 = 10\n",
    "spe0 = []\n",
    "for i in range(50):\n",
    "    W_n = base.init_weights(3,1)\n",
    "    y_n = torch.relu(base.conv2d(I_n,W_n, alpha=cos_sin_alphas, padding='true')).detach().numpy()\n",
    "    rotated_I = unrotate(y_n, thetas[1:])\n",
    "    spe = spectral_power(rotated_I)\n",
    "    _spe0 = spe[0] / spe[:THETA//2].sum()\n",
    "    spe0 += [_spe0]\n",
    "    if min_spe0 > _spe0:\n",
    "        min_spe0 = _spe0\n",
    "        min_rotated_I = rotated_I\n",
    "print(f'Spe0 min={min_spe0}, mean={np.mean(spe0)}, std={np.std(spe0)}')\n",
    "_ = spectral_power(min_rotated_I, plot=True)"
   ]
  },
  {
   "cell_type": "code",
   "execution_count": null,
   "id": "sweet-prescription",
   "metadata": {},
   "outputs": [],
   "source": []
  },
  {
   "cell_type": "markdown",
   "id": "downtown-percentage",
   "metadata": {},
   "source": [
    "## Steerable Filters"
   ]
  },
  {
   "cell_type": "code",
   "execution_count": null,
   "id": "transparent-island",
   "metadata": {
    "tags": []
   },
   "outputs": [],
   "source": [
    "base = SteerableKernelBase.create_radial(5)\n",
    "for i, k_label in enumerate(base.kernels_label):\n",
    "    plot_filter(base.base[i], spd=16, colorbar=True)\n",
    "    plt.title(k_label)"
   ]
  },
  {
   "cell_type": "code",
   "execution_count": null,
   "id": "indonesian-circus",
   "metadata": {},
   "outputs": [],
   "source": [
    "I = torch.zeros((1,1,7,7))\n",
    "I[:,:,3,3] = 1\n",
    "fig, axs = plt.subplots(4,5)\n",
    "for i in range(len(axs)):\n",
    "    for j in range(len(axs[i])):\n",
    "        plot_filter(base.base[i*5+j], plot=axs[i][j], axis=False)"
   ]
  },
  {
   "cell_type": "code",
   "execution_count": null,
   "id": "endangered-saudi",
   "metadata": {},
   "outputs": [],
   "source": [
    "x, y = np.meshgrid(np.linspace(-3,3,7), np.linspace(-3,3,7)) \n",
    "\n",
    "F = abs(x)\n",
    "plot_filter(F, spd=4)"
   ]
  },
  {
   "cell_type": "code",
   "execution_count": null,
   "id": "enclosed-marshall",
   "metadata": {},
   "outputs": [],
   "source": [
    "F = abs(x)-abs(x).mean()\n",
    "plot_filter(F, spd=4)"
   ]
  },
  {
   "cell_type": "markdown",
   "id": "novel-snake",
   "metadata": {},
   "source": [
    "### Deconv"
   ]
  },
  {
   "cell_type": "code",
   "execution_count": null,
   "id": "engaging-scale",
   "metadata": {},
   "outputs": [],
   "source": [
    "N = 3\n",
    "\n",
    "I = torch.zeros((1,1,3,3))\n",
    "I[..., 1,1] = 1\n",
    "fig, axs = plt.subplots(1,N+1)\n",
    "\n",
    "alphas = np.linspace(0, np.pi, N+1, endpoint=True)\n",
    "for i in range(N+1):\n",
    "    plot_filter(base.conv_transpose2d(I,W, alpha=alphas[i], stride=5)[0,0], plot=axs[i], vmax=1)\n",
    "    axs[i].set_title(f'$\\\\alpha = {repr_pi_fraction(i,N)}$')"
   ]
  },
  {
   "cell_type": "code",
   "execution_count": null,
   "id": "skilled-delta",
   "metadata": {},
   "outputs": [],
   "source": [
    "base2 = SteerableKernelBase.create_radial(2, phase=np.pi/4, oversample=2)\n",
    "print(len(base2.kernels_label))\n",
    "base2.kernels_info"
   ]
  },
  {
   "cell_type": "code",
   "execution_count": null,
   "id": "overhead-original",
   "metadata": {},
   "outputs": [],
   "source": [
    "I = torch.zeros((1,1,3,3))\n",
    "I[..., 1,1] = 1\n",
    "\n",
    "fig, axs = plt.subplots(3,2)\n",
    "\n",
    "W = base2.init_weights(1,1)\n",
    "\n",
    "W[:,:] = torch.Tensor([1,0,0,0,0])\n",
    "plot_filter(base2.conv_transpose2d(I, W, stride=2)[0,0], plot=axs[0,0], vmax=1)\n",
    "plot_filter(np.zeros((4,4)), plot=axs[0,1], vmax=1)\n",
    "\n",
    "W[:,:] = torch.Tensor((0,1,0,0,0))\n",
    "plot_filter(base2.conv_transpose2d(I, W, stride=2)[0,0], plot=axs[1,0], vmax=1)\n",
    "W[:,:] = torch.Tensor([0,0,0,1,0])\n",
    "plot_filter(base2.conv_transpose2d(I, W, stride=2)[0,0], plot=axs[1,1], vmax=1)\n",
    "\n",
    "W[:,:] = torch.Tensor([0,0,1,0,0])\n",
    "plot_filter(base2.conv_transpose2d(I, W, stride=2)[0,0], plot=axs[2,0], vmax=1)\n",
    "W[:,:] = torch.Tensor([0,0,0,0,1])\n",
    "plot_filter(base2.conv_transpose2d(I, W, stride=2)[0,0], plot=axs[2,1], vmax=1)"
   ]
  },
  {
   "cell_type": "code",
   "execution_count": null,
   "id": "devoted-doubt",
   "metadata": {},
   "outputs": [],
   "source": [
    "W = base2.approximate_weights(torch.Tensor([[[[1,0],[0,0]]]]))\n",
    "plot_filter(base2.conv_transpose2d(I, W, alpha=np.pi/2, stride=2)[0,0], vmax=1)"
   ]
  },
  {
   "cell_type": "code",
   "execution_count": null,
   "id": "civilian-photography",
   "metadata": {},
   "outputs": [],
   "source": [
    "import plotly.express as px\n",
    "\n",
    "N = 6\n",
    "r, _ = polar_space(N*2)\n",
    "r = r[N:, N:]\n",
    "R = []\n",
    "for i in range(N):\n",
    "    R += [list(r[:i+1,i]) + list(r[i,:i])]\n",
    "df = pd.DataFrame(R).transpose()\n",
    "px.histogram(df, nbins=200)"
   ]
  }
 ],
 "metadata": {
  "kernelspec": {
   "display_name": "Python 3",
   "language": "python",
   "name": "python3"
  },
  "language_info": {
   "codemirror_mode": {
    "name": "ipython",
    "version": 3
   },
   "file_extension": ".py",
   "mimetype": "text/x-python",
   "name": "python",
   "nbconvert_exporter": "python",
   "pygments_lexer": "ipython3",
   "version": "3.7.11"
  },
  "latex_envs": {
   "LaTeX_envs_menu_present": true,
   "autoclose": false,
   "autocomplete": true,
   "bibliofile": "biblio.bib",
   "cite_by": "apalike",
   "current_citInitial": 1,
   "eqLabelWithNumbers": true,
   "eqNumInitial": 1,
   "hotkeys": {
    "equation": "Ctrl-E",
    "itemize": "Ctrl-I"
   },
   "labels_anchors": false,
   "latex_user_defs": false,
   "report_style_numbering": false,
   "user_envs_cfg": false
  },
  "varInspector": {
   "cols": {
    "lenName": 16,
    "lenType": 16,
    "lenVar": 40
   },
   "kernels_config": {
    "python": {
     "delete_cmd_postfix": "",
     "delete_cmd_prefix": "del ",
     "library": "var_list.py",
     "varRefreshCmd": "print(var_dic_list())"
    },
    "r": {
     "delete_cmd_postfix": ") ",
     "delete_cmd_prefix": "rm(",
     "library": "var_list.r",
     "varRefreshCmd": "cat(var_dic_list()) "
    }
   },
   "types_to_exclude": [
    "module",
    "function",
    "builtin_function_or_method",
    "instance",
    "_Feature"
   ],
   "window_display": false
  }
 },
 "nbformat": 4,
 "nbformat_minor": 5
}
